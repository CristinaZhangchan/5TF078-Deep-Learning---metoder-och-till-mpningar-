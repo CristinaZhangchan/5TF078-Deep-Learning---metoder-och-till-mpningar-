{
  "cells": [
    {
      "cell_type": "markdown",
      "metadata": {
        "id": "dR_j4aATMDnm"
      },
      "source": [
        "# 5TF078 Deep Learning Course\n",
        "## Excercise 4 Sentiment analysis on IMDB\n",
        "Created by Tomas Nordström, Umeå University\n",
        "\n",
        "Revisions:\n",
        "* 2023-11-24 Initial version based on earlier versions of this Excercise /ToNo\n",
        "* 2023-12-03 Prepare for release /ToNo\n",
        "* 2023-12-04 Work around a bug that made installing KerasNLP force a non-GPU version of tensorflow /ToNo\n",
        "* 2023-12-07 Since two days there is is a bug in keras-nlp.git \"No module named 'keras_nlp.models.electra'\", so an updated installation method is implemented. /ToNo\n",
        "* 2024-01-31 A new way of installing keras_nlp, as the previous one began to crash in the last weeks.\n",
        "* 2024-03-24 Updated tests for Kaggle. /Tomas\n",
        "* 2024-05-05 Added missing \"import time\" & \"import os\"; Forced a loading of dev versions of Keras/TF as current version do not handle LSTM well. /Tomas\n",
        "* 2024-11-29 Updated the VG part (removed LSTM with a pretrained word2vec). /Tomas"
      ]
    },
    {
      "cell_type": "markdown",
      "metadata": {
        "id": "PxscrwgJjlCJ"
      },
      "source": [
        "Much of this is based on the KerasNLP getting started documentation:\n",
        "https://keras.io/guides/keras_nlp/getting_started/\n",
        "\n",
        "Other code examples used:\n",
        "* https://github.com/fchollet/deep-learning-with-python-notebooks/blob/master/first_edition/6.2-understanding-recurrent-neural-networks.ipynb\n",
        "* https://keras.io/examples/nlp/fnet_classification_with_keras_nlp/\n",
        "* https://www.tensorflow.org/text/tutorials/text_classification_rnn\n",
        "* https://keras.io/examples/nlp/text_classification_from_scratch/\n"
      ]
    },
    {
      "cell_type": "markdown",
      "metadata": {
        "id": "G5ukHWI3M_NE"
      },
      "source": [
        "# First we initilize our Python environment"
      ]
    },
    {
      "cell_type": "code",
      "execution_count": null,
      "metadata": {
        "id": "uxbkzDfCJfIB"
      },
      "outputs": [],
      "source": [
        "import sys\n",
        "import os\n",
        "import time\n",
        "\n",
        "### Is this notebook running on Colab?\n",
        "IS_COLAB = \"google.colab\" in sys.modules\n",
        "\n",
        "### Is this notebook running on Kaggle?\n",
        "# Fool Kaggle into making kaggle_secrets avaiable\n",
        "try:\n",
        "    import kaggle_secrets\n",
        "except ImportError as e:\n",
        "    pass\n",
        "# Now we can test for Kaggle\n",
        "IS_KAGGLE = \"kaggle_secrets\" in sys.modules"
      ]
    },
    {
      "cell_type": "code",
      "execution_count": null,
      "metadata": {
        "colab": {
          "base_uri": "https://localhost:8080/"
        },
        "id": "QVqLmHeDfcSE",
        "outputId": "fd38a542-c29a-4e1f-de98-3eec32917a6d"
      },
      "outputs": [
        {
          "name": "stdout",
          "output_type": "stream",
          "text": [
            "Requirement already satisfied: keras-nlp==0.12.1 in /usr/local/lib/python3.10/dist-packages (0.12.1)\n",
            "Requirement already satisfied: tensorflow==2.18.0 in /usr/local/lib/python3.10/dist-packages (2.18.0)\n",
            "Requirement already satisfied: tf-keras==2.18.0 in /usr/local/lib/python3.10/dist-packages (2.18.0)\n",
            "Requirement already satisfied: keras-core in /usr/local/lib/python3.10/dist-packages (from keras-nlp==0.12.1) (0.1.7)\n",
            "Requirement already satisfied: absl-py in /usr/local/lib/python3.10/dist-packages (from keras-nlp==0.12.1) (1.4.0)\n",
            "Requirement already satisfied: numpy in /usr/local/lib/python3.10/dist-packages (from keras-nlp==0.12.1) (1.26.4)\n",
            "Requirement already satisfied: packaging in /usr/local/lib/python3.10/dist-packages (from keras-nlp==0.12.1) (24.2)\n",
            "Requirement already satisfied: regex in /usr/local/lib/python3.10/dist-packages (from keras-nlp==0.12.1) (2024.9.11)\n",
            "Requirement already satisfied: rich in /usr/local/lib/python3.10/dist-packages (from keras-nlp==0.12.1) (13.9.4)\n",
            "Requirement already satisfied: dm-tree in /usr/local/lib/python3.10/dist-packages (from keras-nlp==0.12.1) (0.1.8)\n",
            "Requirement already satisfied: kagglehub in /usr/local/lib/python3.10/dist-packages (from keras-nlp==0.12.1) (0.3.4)\n",
            "Requirement already satisfied: tensorflow-text in /usr/local/lib/python3.10/dist-packages (from keras-nlp==0.12.1) (2.18.0)\n",
            "Requirement already satisfied: astunparse>=1.6.0 in /usr/local/lib/python3.10/dist-packages (from tensorflow==2.18.0) (1.6.3)\n",
            "Requirement already satisfied: flatbuffers>=24.3.25 in /usr/local/lib/python3.10/dist-packages (from tensorflow==2.18.0) (24.3.25)\n",
            "Requirement already satisfied: gast!=0.5.0,!=0.5.1,!=0.5.2,>=0.2.1 in /usr/local/lib/python3.10/dist-packages (from tensorflow==2.18.0) (0.6.0)\n",
            "Requirement already satisfied: google-pasta>=0.1.1 in /usr/local/lib/python3.10/dist-packages (from tensorflow==2.18.0) (0.2.0)\n",
            "Requirement already satisfied: libclang>=13.0.0 in /usr/local/lib/python3.10/dist-packages (from tensorflow==2.18.0) (18.1.1)\n",
            "Requirement already satisfied: opt-einsum>=2.3.2 in /usr/local/lib/python3.10/dist-packages (from tensorflow==2.18.0) (3.4.0)\n",
            "Requirement already satisfied: protobuf!=4.21.0,!=4.21.1,!=4.21.2,!=4.21.3,!=4.21.4,!=4.21.5,<6.0.0dev,>=3.20.3 in /usr/local/lib/python3.10/dist-packages (from tensorflow==2.18.0) (4.25.5)\n",
            "Requirement already satisfied: requests<3,>=2.21.0 in /usr/local/lib/python3.10/dist-packages (from tensorflow==2.18.0) (2.32.3)\n",
            "Requirement already satisfied: setuptools in /usr/local/lib/python3.10/dist-packages (from tensorflow==2.18.0) (75.1.0)\n",
            "Requirement already satisfied: six>=1.12.0 in /usr/local/lib/python3.10/dist-packages (from tensorflow==2.18.0) (1.16.0)\n",
            "Requirement already satisfied: termcolor>=1.1.0 in /usr/local/lib/python3.10/dist-packages (from tensorflow==2.18.0) (2.5.0)\n",
            "Requirement already satisfied: typing-extensions>=3.6.6 in /usr/local/lib/python3.10/dist-packages (from tensorflow==2.18.0) (4.12.2)\n",
            "Requirement already satisfied: wrapt>=1.11.0 in /usr/local/lib/python3.10/dist-packages (from tensorflow==2.18.0) (1.17.0)\n",
            "Requirement already satisfied: grpcio<2.0,>=1.24.3 in /usr/local/lib/python3.10/dist-packages (from tensorflow==2.18.0) (1.68.1)\n",
            "Requirement already satisfied: tensorboard<2.19,>=2.18 in /usr/local/lib/python3.10/dist-packages (from tensorflow==2.18.0) (2.18.0)\n",
            "Requirement already satisfied: keras>=3.5.0 in /usr/local/lib/python3.10/dist-packages (from tensorflow==2.18.0) (3.5.0)\n",
            "Requirement already satisfied: h5py>=3.11.0 in /usr/local/lib/python3.10/dist-packages (from tensorflow==2.18.0) (3.12.1)\n",
            "Requirement already satisfied: ml-dtypes<0.5.0,>=0.4.0 in /usr/local/lib/python3.10/dist-packages (from tensorflow==2.18.0) (0.4.1)\n",
            "Requirement already satisfied: tensorflow-io-gcs-filesystem>=0.23.1 in /usr/local/lib/python3.10/dist-packages (from tensorflow==2.18.0) (0.37.1)\n",
            "Requirement already satisfied: wheel<1.0,>=0.23.0 in /usr/local/lib/python3.10/dist-packages (from astunparse>=1.6.0->tensorflow==2.18.0) (0.45.1)\n",
            "Requirement already satisfied: namex in /usr/local/lib/python3.10/dist-packages (from keras>=3.5.0->tensorflow==2.18.0) (0.0.8)\n",
            "Requirement already satisfied: optree in /usr/local/lib/python3.10/dist-packages (from keras>=3.5.0->tensorflow==2.18.0) (0.13.1)\n",
            "Requirement already satisfied: charset-normalizer<4,>=2 in /usr/local/lib/python3.10/dist-packages (from requests<3,>=2.21.0->tensorflow==2.18.0) (3.4.0)\n",
            "Requirement already satisfied: idna<4,>=2.5 in /usr/local/lib/python3.10/dist-packages (from requests<3,>=2.21.0->tensorflow==2.18.0) (3.10)\n",
            "Requirement already satisfied: urllib3<3,>=1.21.1 in /usr/local/lib/python3.10/dist-packages (from requests<3,>=2.21.0->tensorflow==2.18.0) (2.2.3)\n",
            "Requirement already satisfied: certifi>=2017.4.17 in /usr/local/lib/python3.10/dist-packages (from requests<3,>=2.21.0->tensorflow==2.18.0) (2024.8.30)\n",
            "Requirement already satisfied: markdown>=2.6.8 in /usr/local/lib/python3.10/dist-packages (from tensorboard<2.19,>=2.18->tensorflow==2.18.0) (3.7)\n",
            "Requirement already satisfied: tensorboard-data-server<0.8.0,>=0.7.0 in /usr/local/lib/python3.10/dist-packages (from tensorboard<2.19,>=2.18->tensorflow==2.18.0) (0.7.2)\n",
            "Requirement already satisfied: werkzeug>=1.0.1 in /usr/local/lib/python3.10/dist-packages (from tensorboard<2.19,>=2.18->tensorflow==2.18.0) (3.1.3)\n",
            "Requirement already satisfied: tqdm in /usr/local/lib/python3.10/dist-packages (from kagglehub->keras-nlp==0.12.1) (4.66.6)\n",
            "Requirement already satisfied: markdown-it-py>=2.2.0 in /usr/local/lib/python3.10/dist-packages (from rich->keras-nlp==0.12.1) (3.0.0)\n",
            "Requirement already satisfied: pygments<3.0.0,>=2.13.0 in /usr/local/lib/python3.10/dist-packages (from rich->keras-nlp==0.12.1) (2.18.0)\n",
            "Requirement already satisfied: mdurl~=0.1 in /usr/local/lib/python3.10/dist-packages (from markdown-it-py>=2.2.0->rich->keras-nlp==0.12.1) (0.1.2)\n",
            "Requirement already satisfied: MarkupSafe>=2.1.1 in /usr/local/lib/python3.10/dist-packages (from werkzeug>=1.0.1->tensorboard<2.19,>=2.18->tensorflow==2.18.0) (3.0.2)\n",
            "Time to install everything: 9.5\n",
            "You (most likely) need to restart the runtime now!\n"
          ]
        }
      ],
      "source": [
        "# As of 2024-05-05 older Keras versions is having problem with our LSTM code, and we need to install the dev version of Keras and TF\n",
        "# This is true for both Colab (Keras 2.15) and Kaggle (Keras 3.0.5)\n",
        "if IS_COLAB or IS_KAGGLE:\n",
        "    # Colab already has Keras 3.5 and Tensorflow 2.17, only need Keras-NLP\n",
        "    # Version 0.12.1 was chosen based on what keras-nlp-nightly probably was\n",
        "    # when this block was introduced.\n",
        "    # However, installing keras-nlp==0.12.1 causes Tensorflow 2.18 to be\n",
        "    # pulled in, so lets be explicit about it.\n",
        "    # Also, tf-keras does not automatically update from 2.17 to 2.18, so we\n",
        "    # need to manually specify that too.\n",
        "    start = time.time()\n",
        "    !pip3 install keras-nlp==0.12.1 tensorflow==2.18.0 tf-keras==2.18.0\n",
        "    end = time.time()\n",
        "    print(f\"Time to install everything: {end - start:.1f}\",)\n",
        "    print(\"You (most likely) need to restart the runtime now!\")"
      ]
    },
    {
      "cell_type": "code",
      "execution_count": null,
      "metadata": {
        "colab": {
          "base_uri": "https://localhost:8080/"
        },
        "id": "OI1UZFS4JgSc",
        "outputId": "94b5e112-0795-4c35-c32f-ed9338f23e4c"
      },
      "outputs": [
        {
          "name": "stdout",
          "output_type": "stream",
          "text": [
            "Keras version: 3.5.0\n",
            "TensorFlow version: 2.18.0\n"
          ]
        }
      ],
      "source": [
        "# Set up Keras backend\n",
        "os.environ[\"KERAS_BACKEND\"] = \"jax\" # Also tensorflow,jax,pytorch for Keras 3.0\n",
        "\n",
        "# Make TF less noisy\n",
        "os.environ['TF_CPP_MIN_LOG_LEVEL'] = '3'  # or any {'0', '1', '2'}\n",
        "\n",
        "# Import Keras/TF libraries\n",
        "import keras\n",
        "print('Keras version:', keras.__version__)\n",
        "\n",
        "import tensorflow as tf\n",
        "print('TensorFlow version:', tf.__version__)"
      ]
    },
    {
      "cell_type": "code",
      "execution_count": null,
      "metadata": {
        "colab": {
          "base_uri": "https://localhost:8080/"
        },
        "id": "_UOuCIOV6Hta",
        "outputId": "d495278d-4356-4256-bd0f-e106aeeea9c5"
      },
      "outputs": [
        {
          "name": "stdout",
          "output_type": "stream",
          "text": [
            "TF-device: Only CPU!\n",
            "As long as we are using Keras and Jax, this will not affect us in this notebook!\n"
          ]
        },
        {
          "name": "stderr",
          "output_type": "stream",
          "text": [
            "<ipython-input-12-85f8acb7f854>:26: DeprecationWarning: jax.lib.xla_bridge.get_backend is deprecated; use jax.extend.backend.get_backend.\n",
            "  print(f'Jax backend: {xla_bridge.get_backend().platform}')\n"
          ]
        },
        {
          "name": "stdout",
          "output_type": "stream",
          "text": [
            "Jax backend: cpu\n"
          ]
        }
      ],
      "source": [
        "# Test for GPU and determine what GPU we have\n",
        "import os\n",
        "import platform\n",
        "import subprocess\n",
        "gpu_name = tf.test.gpu_device_name()\n",
        "if gpu_name != '':\n",
        "    print('TF-GPU-devname:',tf.test.gpu_device_name())\n",
        "    sys_details = tf.sysconfig.get_build_info()\n",
        "    physical_devices = tf.config.list_physical_devices('GPU')\n",
        "    print(\"Num GPUs:\", len(physical_devices))\n",
        "    if platform.system() == \"Darwin\":\n",
        "        print('GPU on Mac!')\n",
        "    else:\n",
        "        cuda_version = sys_details[\"cuda_version\"]\n",
        "        print('TF-cuda version:',cuda_version)\n",
        "        if len(physical_devices)>0:\n",
        "            process = subprocess.Popen(['nvidia-smi','-L'], stdout=subprocess.PIPE, stderr=subprocess.PIPE)\n",
        "            print(process.communicate())\n",
        "else:\n",
        "    print('TF-device: Only CPU!')\n",
        "    print('As long as we are using Keras and Jax, this will not affect us in this notebook!')\n",
        "\n",
        "# Test for Jax backend\n",
        "# https://github.com/google/jax/issues/971\n",
        "from jax.lib import xla_bridge\n",
        "print(f'Jax backend: {xla_bridge.get_backend().platform}')"
      ]
    },
    {
      "cell_type": "code",
      "execution_count": null,
      "metadata": {
        "id": "D06IYSsfJagA"
      },
      "outputs": [],
      "source": [
        "# Helper libraries\n",
        "import numpy as np\n",
        "import pandas as pd\n",
        "\n",
        "# Matlab plotting\n",
        "import matplotlib\n",
        "import matplotlib.pyplot as plt"
      ]
    },
    {
      "cell_type": "markdown",
      "metadata": {
        "id": "G12v5kdSPCbe"
      },
      "source": [
        "# Read in the data\n",
        "\n",
        "The IMDb dataset consists of 50,000 movie reviews in English\n",
        "(25,000 for training, 25,000 for testing) extracted from the famous Internet Movie Database, along with a simple binary target for each review indicating whether it is negative (0) or positive (1).\n",
        "\n",
        "There are many alternatives to get the data:\n",
        "* Use the Keras built in [IMDB database](https://keras.io/api/datasets/imdb/) from keras.\n",
        "* Use the TensorFlow Datasets library for [IMDB reviews](https://www.tensorflow.org/datasets/catalog/imdb_reviews)\n",
        "* Or as we are going to do, read the [orginal dataset](http://ai.stanford.edu/~amaas/data/sentiment/)\n",
        "\n",
        "We use to orginal data to see how one can read data (text) files from directories directly. How one can do preprocessing on datasets. The raw data is also preferred when we later want to work with BERT as a transfer learning model. (The Keras data have already preprocessed words into integers.)"
      ]
    },
    {
      "cell_type": "code",
      "execution_count": null,
      "metadata": {
        "colab": {
          "base_uri": "https://localhost:8080/"
        },
        "id": "ZnyQdCdVj7nJ",
        "outputId": "97d7f86d-f99a-4a60-ce80-c8388ddd2244"
      },
      "outputs": [
        {
          "name": "stdout",
          "output_type": "stream",
          "text": [
            "['test', 'imdb.vocab', 'imdbEr.txt', 'README', 'train']\n",
            "['pos', 'neg', 'labeledBow.feat', 'urls_unsup.txt', 'urls_pos.txt', 'unsupBow.feat', 'urls_neg.txt']\n",
            "['pos', 'neg', 'labeledBow.feat', 'urls_pos.txt', 'urls_neg.txt']\n",
            "Example of a postive review: I read the book and saw the movie. Both excellent. The movie is diamond among coals during this era. Liebman and Selby dominate the screen and communicate the intensity of their characters without flaw. This film should have made them stars. Shame on the studio for not putting everything they had behind this film. It could have easily been a franchise. Release on DVD is a must and a worthy remake would revive this film. Look for it in your TV guide and if you see it listed, no matter how late, watch it. You won't be disappointed. Do yourself another favor - read the book (same title). It'll blow you away. Times have changed dramatically since those days, or at least we like to think they have.\n"
          ]
        }
      ],
      "source": [
        "# Reading the database from the source\n",
        "# following https://keras.io/guides/keras_nlp/getting_started/\n",
        "if not os.path.exists('./aclImdb_v1.tar.gz'):\n",
        "  !curl -O https://ai.stanford.edu/~amaas/data/sentiment/aclImdb_v1.tar.gz\n",
        "  !tar -xf aclImdb_v1.tar.gz\n",
        "  !# Remove unsupervised examples\n",
        "  !rm -r aclImdb/train/unsup\n",
        "\n",
        "print(os.listdir(\"./aclImdb\"))\n",
        "print(os.listdir(\"./aclImdb/train\"))\n",
        "print(os.listdir(\"./aclImdb/test\"))\n",
        "\n",
        "with open(\"./aclImdb/train/pos/4242_9.txt\") as f:\n",
        "  print (f'Example of a postive review: {f.read()}')"
      ]
    },
    {
      "cell_type": "code",
      "execution_count": null,
      "metadata": {
        "colab": {
          "base_uri": "https://localhost:8080/"
        },
        "id": "WoQo5ZO1c1nl",
        "outputId": "2cee862f-c477-4729-b09a-7fb511f2b5ce"
      },
      "outputs": [
        {
          "name": "stdout",
          "output_type": "stream",
          "text": [
            "Found 25000 files belonging to 2 classes.\n",
            "Using 20000 files for training.\n",
            "Found 25000 files belonging to 2 classes.\n",
            "Using 5000 files for validation.\n",
            "Found 25000 files belonging to 2 classes.\n",
            "Number of batches in raw_imdb_train_ds: 625\n",
            "Number of batches in raw_imdb_val_ds: 157\n",
            "Number of batches in raw_imdb_test_ds: 782\n"
          ]
        }
      ],
      "source": [
        "batch_size = 32\n",
        "\n",
        "# Load directories of text into our datasets using https://keras.io/api/data_loading/text/\n",
        "raw_imdb_train_ds = keras.utils.text_dataset_from_directory(\n",
        "    \"aclImdb/train\",\n",
        "    batch_size=batch_size,\n",
        "    validation_split=0.2,\n",
        "    subset=\"training\",\n",
        "    seed=1337,\n",
        ")\n",
        "raw_imdb_val_ds = keras.utils.text_dataset_from_directory(\n",
        "    \"aclImdb/train\",\n",
        "    batch_size=batch_size,\n",
        "    validation_split=0.2,\n",
        "    subset=\"validation\",\n",
        "    seed=1337,\n",
        ")\n",
        "raw_imdb_test_ds = keras.utils.text_dataset_from_directory(\n",
        "    \"aclImdb/test\", batch_size=batch_size\n",
        ")\n",
        "\n",
        "print(f\"Number of batches in raw_imdb_train_ds: {raw_imdb_train_ds.cardinality()}\")\n",
        "print(f\"Number of batches in raw_imdb_val_ds: {raw_imdb_val_ds.cardinality()}\")\n",
        "print(f\"Number of batches in raw_imdb_test_ds: {raw_imdb_test_ds.cardinality()}\")"
      ]
    },
    {
      "cell_type": "code",
      "execution_count": null,
      "metadata": {
        "colab": {
          "base_uri": "https://localhost:8080/"
        },
        "id": "n07fN7RleHas",
        "outputId": "a2d8cb34-8829-4da4-a6e1-955c521346ed"
      },
      "outputs": [
        {
          "name": "stdout",
          "output_type": "stream",
          "text": [
            "b'I\\'ve seen tons of science fiction from the 70s; some horrendously bad, and others thought provoking and truly frightening. Soylent Green fits into the latter category. Yes, at times it\\'s a little campy, and yes, the furniture is good for a giggle or two, but some of the film seems awfully prescient. Here we have a film, 9 years before Blade Runner, that dares to imagine the future as somthing dark, scary, and nihilistic. Both Charlton Heston and Edward G. Robinson fare far better in this than The Ten Commandments, and Robinson\\'s assisted-suicide scene is creepily prescient of Kevorkian and his ilk. Some of the attitudes are dated (can you imagine a filmmaker getting away with the \"women as furniture\" concept in our oh-so-politically-correct-90s?), but it\\'s rare to find a film from the Me Decade that actually can make you think. This is one I\\'d love to see on the big screen, because even in a widescreen presentation, I don\\'t think the overall scope of this film would receive its due. Check it out.'\n",
            "1\n",
            "b'First than anything, I\\'m not going to praise I\\xc3\\xb1arritu\\'s short film, even I\\'m Mexican and proud of his success in mainstream Hollywood.<br /><br />In another hand, I see most of the reviews focuses on their favorite (and not so) short films; but we are forgetting that there is a subtle bottom line that circles the whole compilation, and maybe it will not be so pleasant for American people. (Even if that was not the main purpose of the producers) <br /><br />What i\\'m talking about is that most of the short films does not show the suffering that WASP people went through because the terrorist attack on September 11th, but the suffering of the Other people.<br /><br />Do you need proofs about what i\\'m saying? Look, in the Bosnia short film, the message is: \"You cry because of the people who died in the Towers, but we (The Others = East Europeans) are crying long ago for the crimes committed against our women and nobody pay attention to us like the whole world has done to you\".<br /><br />Even though the Burkina Fasso story is more in comedy, there is a the same thought: \"You are angry because Osama Bin Laden punched you in an evil way, but we (The Others = Africans) should be more angry, because our people is dying of hunger, poverty and AIDS long time ago, and nobody pay attention to us like the whole world has done to you\".<br /><br />Look now at the Sean Penn short: The fall of the Twin Towers makes happy to a lonely (and alienated) man. So the message is that the Power and the Greed (symbolized by the Towers) must fall for letting the people see the sun rise and the flowers blossom? It is remarkable that this terrible bottom line has been proposed by an American. There is so much irony in this short film that it is close to be subversive.<br /><br />Well, the Ken Loach (very know because his anti-capitalism ideology) is much more clearly and shameless in going straight to the point: \"You are angry because your country has been attacked by evil forces, but we (The Others = Latin Americans) suffered at a similar date something worst, and nobody remembers our grief as the whole world has done to you\".<br /><br />It is like if the creative of this project wanted to say to Americans: \"You see now, America? You are not the only that have become victim of the world violence, you are not alone in your pain and by the way, we (the Others = the Non Americans) have been suffering a lot more than you from long time ago; so, we are in solidarity with you in your pain... and by the way, we are sorry because you have had some taste of your own medicine\" Only the Mexican and the French short films showed some compassion and sympathy for American people; the others are like a slap on the face for the American State, that is not equal to American People.'\n",
            "1\n",
            "b'Blood Castle (aka Scream of the Demon Lover, Altar of Blood, Ivanna--the best, but least exploitation cinema-sounding title, and so on) is a very traditional Gothic Romance film. That means that it has big, creepy castles, a headstrong young woman, a mysterious older man, hints of horror and the supernatural, and romance elements in the contemporary sense of that genre term. It also means that it is very deliberately paced, and that the film will work best for horror mavens who are big fans of understatement. If you love films like Robert Wise\\'s The Haunting (1963), but you also have a taste for late 1960s/early 1970s Spanish and Italian horror, you may love Blood Castle, as well.<br /><br />Baron Janos Dalmar (Carlos Quiney) lives in a large castle on the outskirts of a traditional, unspecified European village. The locals fear him because legend has it that whenever he beds a woman, she soon after ends up dead--the consensus is that he sets his ferocious dogs on them. This is quite a problem because the Baron has a very healthy appetite for women. At the beginning of the film, yet another woman has turned up dead and mutilated.<br /><br />Meanwhile, Dr. Ivanna Rakowsky (Erna Sch\\xc3\\xbcrer) has appeared in the center of the village, asking to be taken to Baron Dalmar\\'s castle. She\\'s an out-of-towner who has been hired by the Baron for her expertise in chemistry. Of course, no one wants to go near the castle. Finally, Ivanna finds a shady individual (who becomes even shadier) to take her. Once there, an odd woman who lives in the castle, Olga (Cristiana Galloni), rejects Ivanna and says that she shouldn\\'t be there since she\\'s a woman. Baron Dalmar vacillates over whether she should stay. She ends up staying, but somewhat reluctantly. The Baron has hired her to try to reverse the effects of severe burns, which the Baron\\'s brother, Igor, is suffering from.<br /><br />Unfortunately, the Baron\\'s brother appears to be just a lump of decomposing flesh in a vat of bizarre, blackish liquid. And furthermore, Ivanna is having bizarre, hallucinatory dreams. Just what is going on at the castle? Is the Baron responsible for the crimes? Is he insane? <br /><br />I wanted to like Blood Castle more than I did. As I mentioned, the film is very deliberate in its pacing, and most of it is very understated. I can go either way on material like that. I don\\'t care for The Haunting (yes, I\\'m in a very small minority there), but I\\'m a big fan of 1960s and 1970s European horror. One of my favorite directors is Mario Bava. I also love Dario Argento\\'s work from that period. But occasionally, Blood Castle moved a bit too slow for me at times. There are large chunks that amount to scenes of not very exciting talking alternated with scenes of Ivanna slowly walking the corridors of the castle.<br /><br />But the atmosphere of the film is decent. Director Jos\\xc3\\xa9 Luis Merino managed more than passable sets and locations, and they\\'re shot fairly well by Emanuele Di Cola. However, Blood Castle feels relatively low budget, and this is a Roger Corman-produced film, after all (which usually means a low-budget, though often surprisingly high quality \"quickie\"). So while there is a hint of the lushness of Bava\\'s colors and complex set decoration, everything is much more minimalist. Of course, it doesn\\'t help that the Retromedia print I watched looks like a 30-year old photograph that\\'s been left out in the sun too long. It appears \"washed out\", with compromised contrast.<br /><br />Still, Merino and Di Cola occasionally set up fantastic visuals. For example, a scene of Ivanna walking in a darkened hallway that\\'s shot from an exaggerated angle, and where an important plot element is revealed through shadows on a wall only. There are also a couple Ingmar Bergmanesque shots, where actors are exquisitely blocked to imply complex relationships, besides just being visually attractive and pulling your eye deep into the frame.<br /><br />The performances are fairly good, and the women--especially Sch\\xc3\\xbcrer--are very attractive. Merino exploits this fact by incorporating a decent amount of nudity. Sch\\xc3\\xbcrer went on to do a number of films that were as much soft corn porn as they were other genres, with English titles such as Sex Life in a Woman\\'s Prison (1974), Naked and Lustful (1974), Strip Nude for Your Killer (1975) and Erotic Exploits of a Sexy Seducer (1977). Blood Castle is much tamer, but in addition to the nudity, there are still mild scenes suggesting rape and bondage, and of course the scenes mixing sex and death.<br /><br />The primary attraction here, though, is probably the story, which is much a slow-burning romance as anything else. The horror elements, the mystery elements, and a somewhat unexpected twist near the end are bonuses, but in the end, Blood Castle is a love story, about a couple overcoming various difficulties and antagonisms (often with physical threats or harms) to be together.'\n",
            "1\n"
          ]
        }
      ],
      "source": [
        "# Let's print a few samples.\n",
        "for text_batch, label_batch in raw_imdb_train_ds.take(1):\n",
        "    for i in range(3):\n",
        "        print(text_batch.numpy()[i])\n",
        "        print(label_batch.numpy()[i])"
      ]
    },
    {
      "cell_type": "markdown",
      "metadata": {
        "id": "Kude46XBIivd"
      },
      "source": [
        "Note that the raw text contains HTML break tags of the form \"\\<br /\\>\"!\n",
        "\n",
        "We want to remove them later on."
      ]
    },
    {
      "cell_type": "code",
      "execution_count": null,
      "metadata": {
        "id": "sm3L_ruAXNL2"
      },
      "outputs": [],
      "source": [
        "# The test sentences in this exercise\n",
        "test_sentences = [\n",
        "  \"That movie was absolutely awful\",\n",
        "  \"The acting was a bit lacking\",\n",
        "  \"The film was creative and surprising\",\n",
        "  \"Absolutely fantastic!\",\n",
        "  \"This movie is not worth the money\",\n",
        "  \"The only positive thing with this movie is the music\"\n",
        "]"
      ]
    },
    {
      "cell_type": "markdown",
      "metadata": {
        "id": "R829x6GaA6Ih"
      },
      "source": [
        "# Do Data Preprocessing"
      ]
    },
    {
      "cell_type": "code",
      "execution_count": null,
      "metadata": {
        "id": "ZYKzXd2_Xk8-"
      },
      "outputs": [],
      "source": [
        "# Model constants\n",
        "vocab_size = 10000\n",
        "sequence_length = 100"
      ]
    },
    {
      "cell_type": "markdown",
      "metadata": {
        "id": "Zk03gyEQfwwT"
      },
      "source": [
        "## Set it up"
      ]
    },
    {
      "cell_type": "code",
      "execution_count": null,
      "metadata": {
        "id": "QN0oiV7Yd05R"
      },
      "outputs": [],
      "source": [
        "# We will now convert the text to lowercase and remove html stuff\n",
        "# Based on https://keras.io/examples/nlp/text_classification_from_scratch/\n",
        "\n",
        "import string\n",
        "import re\n",
        "\n",
        "# Having looked at our data above, we see that the raw text contains HTML break\n",
        "# tags of the form '<br />'. These tags will not be removed by the default\n",
        "# standardizer (which doesn't strip HTML). Because of this, we will need to\n",
        "# create a custom standardization function.\n",
        "def custom_standardization(input_data):\n",
        "    lowercase = tf.strings.lower(input_data)\n",
        "    stripped_html = tf.strings.regex_replace(lowercase, \"<br />\", \" \")\n",
        "    return tf.strings.regex_replace(\n",
        "        stripped_html, f\"[{re.escape(string.punctuation)}]\", \"\"\n",
        "    )\n",
        "\n",
        "# Now that we have our custom standardization, we can instantiate our text\n",
        "# vectorization layer. We are using this layer to normalize, split, and map\n",
        "# strings to integers, so we set our 'output_mode' to 'int'.\n",
        "# Note that we're using the default split function,\n",
        "# and the custom standardization defined above.\n",
        "# We also set an explicit maximum sequence length, since the CNNs later in our\n",
        "# model won't support ragged sequences.\n",
        "preprocessing_layer = keras.layers.TextVectorization(\n",
        "    standardize=custom_standardization,\n",
        "    max_tokens=vocab_size,\n",
        "    output_mode=\"int\",\n",
        "    output_sequence_length=sequence_length,\n",
        ")\n",
        "\n",
        "# Now that the vocab layer has been created, call `adapt` on a text-only\n",
        "# dataset to create the vocabulary. You don't have to batch, but for very large\n",
        "# datasets this means you're not keeping spare copies of the dataset in memory.\n",
        "\n",
        "# Let's make a text-only dataset (no labels):\n",
        "text_ds = raw_imdb_train_ds.map(lambda x, y: x)\n",
        "# Let's call `adapt` (to initialise the vocabulary on the text from the training set)\n",
        "preprocessing_layer.adapt(text_ds)\n",
        "\n",
        "# Define a function to prepare the text in a dataset (batch)\n",
        "def preprocessing_text(text, label):\n",
        "    text = tf.expand_dims(text, -1)\n",
        "    return preprocessing_layer(text), label"
      ]
    },
    {
      "cell_type": "code",
      "execution_count": null,
      "metadata": {
        "colab": {
          "base_uri": "https://localhost:8080/"
        },
        "id": "_-HkfQyueqCl",
        "outputId": "ec5b23c8-0db3-431f-cb0b-6d9c034297ce"
      },
      "outputs": [
        {
          "name": "stdout",
          "output_type": "stream",
          "text": [
            "['', '[UNK]', 'the', 'and', 'a', 'of', 'to', 'is']\n"
          ]
        }
      ],
      "source": [
        "# Get the vocabulary\n",
        "voc = preprocessing_layer.get_vocabulary()\n",
        "print(voc[:8])\n",
        "word_index = dict(zip(voc, range(len(voc))))"
      ]
    },
    {
      "cell_type": "code",
      "execution_count": null,
      "metadata": {
        "id": "lMI2RU3xvU1u"
      },
      "outputs": [],
      "source": [
        "# preprocessing the data.\n",
        "train_ds = raw_imdb_train_ds.map(preprocessing_text)\n",
        "val_ds = raw_imdb_val_ds.map(preprocessing_text)\n",
        "test_ds = raw_imdb_test_ds.map(preprocessing_text)\n",
        "\n",
        "# Do async prefetching / buffering of the data for best performance on GPU.\n",
        "train_ds = train_ds.cache().prefetch(buffer_size=10)\n",
        "val_ds = val_ds.cache().prefetch(buffer_size=10)\n",
        "test_ds = test_ds.cache().prefetch(buffer_size=10)"
      ]
    },
    {
      "cell_type": "markdown",
      "metadata": {
        "id": "fh0PVsLs7LUv"
      },
      "source": [
        "# Using recurrent neural networks (RNN) for text\n",
        "\n",
        "This corresponds to Geron's Chapter 16 - Natural Language Processing with RNNs and Attention, and [the corresponding code](https://github.com/ageron/handson-ml3/blob/main/16_nlp_with_rnns_and_attention.ipynb).\n",
        "\n",
        "We are here only working on word level (not character level as in the beginning of Chapter 16)"
      ]
    },
    {
      "cell_type": "markdown",
      "metadata": {
        "id": "DJQvSzgbOkFH"
      },
      "source": [
        "## The Embedding Layer\n",
        "\n",
        "The [Embedding](https://keras.io/api/layers/core_layers/embedding/) Layer turns positive integers (indexes) into dense vectors of fixed size.\n",
        "\n",
        "Here each input integer corresponds to a word in our vocabulary (typical size between 1000 and 30000), and is mapped into a short and dense vector (typical size 32-512). In a similar way as the word2vec mapping in the first part of this exercise. However, this mapping is initialized as a random mapping for each model, that then is adjusted during training."
      ]
    },
    {
      "cell_type": "code",
      "execution_count": null,
      "metadata": {
        "id": "IcN9gepk-rHU"
      },
      "outputs": [],
      "source": [
        "embedding_dim = 32\n",
        "\n",
        "from keras.layers import Embedding"
      ]
    },
    {
      "cell_type": "markdown",
      "metadata": {
        "id": "Vhj7nyPEQjK4"
      },
      "source": [
        "## The SimpleRNN Layer.\n",
        "\n",
        "The [SimpleRNN](https://keras.io/api/layers/recurrent_layers/simple_rnn/) is a fully-connected RNN where the output is to be fed back as the new input. It processes batches of sequences, that is, it takes inputs of shape `(batch_size, timesteps, input_features)`.\n",
        "\n",
        "Like all recurrent layers in Keras, `SimpleRNN` can be run in two different modes: it can return either the full sequences of successive\n",
        "outputs for each timestep (a 3D tensor of shape `(batch_size, timesteps, output_features)`), or it can return only the last output for each\n",
        "input sequence (a 2D tensor of shape `(batch_size, output_features)`). These two modes are controlled by the `return_sequences` constructor\n",
        "argument. Let's take a look at some examples:"
      ]
    },
    {
      "cell_type": "code",
      "execution_count": null,
      "metadata": {
        "collapsed": true,
        "id": "zE6E0q6T7LUw"
      },
      "outputs": [],
      "source": [
        "from keras.layers import SimpleRNN"
      ]
    },
    {
      "cell_type": "code",
      "execution_count": null,
      "metadata": {
        "id": "dtjurptzUF3-"
      },
      "outputs": [],
      "source": [
        "input_shape = (sequence_length,) # input_tokens_ex.shape #"
      ]
    },
    {
      "cell_type": "code",
      "execution_count": null,
      "metadata": {
        "colab": {
          "base_uri": "https://localhost:8080/",
          "height": 225
        },
        "id": "ub_wovNw7LUw",
        "outputId": "e16d011a-55af-4a34-c61d-977bb0f4377a"
      },
      "outputs": [
        {
          "data": {
            "text/html": [
              "<pre style=\"white-space:pre;overflow-x:auto;line-height:normal;font-family:Menlo,'DejaVu Sans Mono',consolas,'Courier New',monospace\"><span style=\"font-weight: bold\">Model: \"sequential\"</span>\n",
              "</pre>\n"
            ],
            "text/plain": [
              "\u001b[1mModel: \"sequential\"\u001b[0m\n"
            ]
          },
          "metadata": {},
          "output_type": "display_data"
        },
        {
          "data": {
            "text/html": [
              "<pre style=\"white-space:pre;overflow-x:auto;line-height:normal;font-family:Menlo,'DejaVu Sans Mono',consolas,'Courier New',monospace\">┏━━━━━━━━━━━━━━━━━━━━━━━━━━━━━━━━━━━━━━┳━━━━━━━━━━━━━━━━━━━━━━━━━━━━━┳━━━━━━━━━━━━━━━━━┓\n",
              "┃<span style=\"font-weight: bold\"> Layer (type)                         </span>┃<span style=\"font-weight: bold\"> Output Shape                </span>┃<span style=\"font-weight: bold\">         Param # </span>┃\n",
              "┡━━━━━━━━━━━━━━━━━━━━━━━━━━━━━━━━━━━━━━╇━━━━━━━━━━━━━━━━━━━━━━━━━━━━━╇━━━━━━━━━━━━━━━━━┩\n",
              "│ embedding (<span style=\"color: #0087ff; text-decoration-color: #0087ff\">Embedding</span>)                │ (<span style=\"color: #00d7ff; text-decoration-color: #00d7ff\">None</span>, <span style=\"color: #00af00; text-decoration-color: #00af00\">100</span>, <span style=\"color: #00af00; text-decoration-color: #00af00\">32</span>)             │         <span style=\"color: #00af00; text-decoration-color: #00af00\">320,000</span> │\n",
              "├──────────────────────────────────────┼─────────────────────────────┼─────────────────┤\n",
              "│ simple_rnn (<span style=\"color: #0087ff; text-decoration-color: #0087ff\">SimpleRNN</span>)               │ (<span style=\"color: #00d7ff; text-decoration-color: #00d7ff\">None</span>, <span style=\"color: #00af00; text-decoration-color: #00af00\">32</span>)                  │           <span style=\"color: #00af00; text-decoration-color: #00af00\">2,080</span> │\n",
              "├──────────────────────────────────────┼─────────────────────────────┼─────────────────┤\n",
              "│ dense (<span style=\"color: #0087ff; text-decoration-color: #0087ff\">Dense</span>)                        │ (<span style=\"color: #00d7ff; text-decoration-color: #00d7ff\">None</span>, <span style=\"color: #00af00; text-decoration-color: #00af00\">1</span>)                   │              <span style=\"color: #00af00; text-decoration-color: #00af00\">33</span> │\n",
              "└──────────────────────────────────────┴─────────────────────────────┴─────────────────┘\n",
              "</pre>\n"
            ],
            "text/plain": [
              "┏━━━━━━━━━━━━━━━━━━━━━━━━━━━━━━━━━━━━━━┳━━━━━━━━━━━━━━━━━━━━━━━━━━━━━┳━━━━━━━━━━━━━━━━━┓\n",
              "┃\u001b[1m \u001b[0m\u001b[1mLayer (type)                        \u001b[0m\u001b[1m \u001b[0m┃\u001b[1m \u001b[0m\u001b[1mOutput Shape               \u001b[0m\u001b[1m \u001b[0m┃\u001b[1m \u001b[0m\u001b[1m        Param #\u001b[0m\u001b[1m \u001b[0m┃\n",
              "┡━━━━━━━━━━━━━━━━━━━━━━━━━━━━━━━━━━━━━━╇━━━━━━━━━━━━━━━━━━━━━━━━━━━━━╇━━━━━━━━━━━━━━━━━┩\n",
              "│ embedding (\u001b[38;5;33mEmbedding\u001b[0m)                │ (\u001b[38;5;45mNone\u001b[0m, \u001b[38;5;34m100\u001b[0m, \u001b[38;5;34m32\u001b[0m)             │         \u001b[38;5;34m320,000\u001b[0m │\n",
              "├──────────────────────────────────────┼─────────────────────────────┼─────────────────┤\n",
              "│ simple_rnn (\u001b[38;5;33mSimpleRNN\u001b[0m)               │ (\u001b[38;5;45mNone\u001b[0m, \u001b[38;5;34m32\u001b[0m)                  │           \u001b[38;5;34m2,080\u001b[0m │\n",
              "├──────────────────────────────────────┼─────────────────────────────┼─────────────────┤\n",
              "│ dense (\u001b[38;5;33mDense\u001b[0m)                        │ (\u001b[38;5;45mNone\u001b[0m, \u001b[38;5;34m1\u001b[0m)                   │              \u001b[38;5;34m33\u001b[0m │\n",
              "└──────────────────────────────────────┴─────────────────────────────┴─────────────────┘\n"
            ]
          },
          "metadata": {},
          "output_type": "display_data"
        },
        {
          "data": {
            "text/html": [
              "<pre style=\"white-space:pre;overflow-x:auto;line-height:normal;font-family:Menlo,'DejaVu Sans Mono',consolas,'Courier New',monospace\"><span style=\"font-weight: bold\"> Total params: </span><span style=\"color: #00af00; text-decoration-color: #00af00\">322,113</span> (1.23 MB)\n",
              "</pre>\n"
            ],
            "text/plain": [
              "\u001b[1m Total params: \u001b[0m\u001b[38;5;34m322,113\u001b[0m (1.23 MB)\n"
            ]
          },
          "metadata": {},
          "output_type": "display_data"
        },
        {
          "data": {
            "text/html": [
              "<pre style=\"white-space:pre;overflow-x:auto;line-height:normal;font-family:Menlo,'DejaVu Sans Mono',consolas,'Courier New',monospace\"><span style=\"font-weight: bold\"> Trainable params: </span><span style=\"color: #00af00; text-decoration-color: #00af00\">322,113</span> (1.23 MB)\n",
              "</pre>\n"
            ],
            "text/plain": [
              "\u001b[1m Trainable params: \u001b[0m\u001b[38;5;34m322,113\u001b[0m (1.23 MB)\n"
            ]
          },
          "metadata": {},
          "output_type": "display_data"
        },
        {
          "data": {
            "text/html": [
              "<pre style=\"white-space:pre;overflow-x:auto;line-height:normal;font-family:Menlo,'DejaVu Sans Mono',consolas,'Courier New',monospace\"><span style=\"font-weight: bold\"> Non-trainable params: </span><span style=\"color: #00af00; text-decoration-color: #00af00\">0</span> (0.00 B)\n",
              "</pre>\n"
            ],
            "text/plain": [
              "\u001b[1m Non-trainable params: \u001b[0m\u001b[38;5;34m0\u001b[0m (0.00 B)\n"
            ]
          },
          "metadata": {},
          "output_type": "display_data"
        }
      ],
      "source": [
        "model = keras.models.Sequential()\n",
        "model.add(keras.Input(shape=input_shape))\n",
        "model.add(keras.layers.Embedding(vocab_size, embedding_dim, mask_zero=True))\n",
        "model.add(keras.layers.SimpleRNN(32)) ## return_sequences=False (is default)\n",
        "model.add(keras.layers.Dense(1,activation='sigmoid'))\n",
        "model.summary()"
      ]
    },
    {
      "cell_type": "code",
      "execution_count": null,
      "metadata": {
        "colab": {
          "base_uri": "https://localhost:8080/",
          "height": 225
        },
        "id": "ozKC4c807LUx",
        "outputId": "66d3302e-a8d5-4bf3-a433-d0af6f77124b"
      },
      "outputs": [
        {
          "data": {
            "text/html": [
              "<pre style=\"white-space:pre;overflow-x:auto;line-height:normal;font-family:Menlo,'DejaVu Sans Mono',consolas,'Courier New',monospace\"><span style=\"font-weight: bold\">Model: \"sequential_1\"</span>\n",
              "</pre>\n"
            ],
            "text/plain": [
              "\u001b[1mModel: \"sequential_1\"\u001b[0m\n"
            ]
          },
          "metadata": {},
          "output_type": "display_data"
        },
        {
          "data": {
            "text/html": [
              "<pre style=\"white-space:pre;overflow-x:auto;line-height:normal;font-family:Menlo,'DejaVu Sans Mono',consolas,'Courier New',monospace\">┏━━━━━━━━━━━━━━━━━━━━━━━━━━━━━━━━━━━━━━┳━━━━━━━━━━━━━━━━━━━━━━━━━━━━━┳━━━━━━━━━━━━━━━━━┓\n",
              "┃<span style=\"font-weight: bold\"> Layer (type)                         </span>┃<span style=\"font-weight: bold\"> Output Shape                </span>┃<span style=\"font-weight: bold\">         Param # </span>┃\n",
              "┡━━━━━━━━━━━━━━━━━━━━━━━━━━━━━━━━━━━━━━╇━━━━━━━━━━━━━━━━━━━━━━━━━━━━━╇━━━━━━━━━━━━━━━━━┩\n",
              "│ embedding_1 (<span style=\"color: #0087ff; text-decoration-color: #0087ff\">Embedding</span>)              │ (<span style=\"color: #00d7ff; text-decoration-color: #00d7ff\">None</span>, <span style=\"color: #00af00; text-decoration-color: #00af00\">100</span>, <span style=\"color: #00af00; text-decoration-color: #00af00\">32</span>)             │         <span style=\"color: #00af00; text-decoration-color: #00af00\">320,000</span> │\n",
              "├──────────────────────────────────────┼─────────────────────────────┼─────────────────┤\n",
              "│ simple_rnn_1 (<span style=\"color: #0087ff; text-decoration-color: #0087ff\">SimpleRNN</span>)             │ (<span style=\"color: #00d7ff; text-decoration-color: #00d7ff\">None</span>, <span style=\"color: #00af00; text-decoration-color: #00af00\">100</span>, <span style=\"color: #00af00; text-decoration-color: #00af00\">32</span>)             │           <span style=\"color: #00af00; text-decoration-color: #00af00\">2,080</span> │\n",
              "├──────────────────────────────────────┼─────────────────────────────┼─────────────────┤\n",
              "│ dense_1 (<span style=\"color: #0087ff; text-decoration-color: #0087ff\">Dense</span>)                      │ (<span style=\"color: #00d7ff; text-decoration-color: #00d7ff\">None</span>, <span style=\"color: #00af00; text-decoration-color: #00af00\">100</span>, <span style=\"color: #00af00; text-decoration-color: #00af00\">1</span>)              │              <span style=\"color: #00af00; text-decoration-color: #00af00\">33</span> │\n",
              "└──────────────────────────────────────┴─────────────────────────────┴─────────────────┘\n",
              "</pre>\n"
            ],
            "text/plain": [
              "┏━━━━━━━━━━━━━━━━━━━━━━━━━━━━━━━━━━━━━━┳━━━━━━━━━━━━━━━━━━━━━━━━━━━━━┳━━━━━━━━━━━━━━━━━┓\n",
              "┃\u001b[1m \u001b[0m\u001b[1mLayer (type)                        \u001b[0m\u001b[1m \u001b[0m┃\u001b[1m \u001b[0m\u001b[1mOutput Shape               \u001b[0m\u001b[1m \u001b[0m┃\u001b[1m \u001b[0m\u001b[1m        Param #\u001b[0m\u001b[1m \u001b[0m┃\n",
              "┡━━━━━━━━━━━━━━━━━━━━━━━━━━━━━━━━━━━━━━╇━━━━━━━━━━━━━━━━━━━━━━━━━━━━━╇━━━━━━━━━━━━━━━━━┩\n",
              "│ embedding_1 (\u001b[38;5;33mEmbedding\u001b[0m)              │ (\u001b[38;5;45mNone\u001b[0m, \u001b[38;5;34m100\u001b[0m, \u001b[38;5;34m32\u001b[0m)             │         \u001b[38;5;34m320,000\u001b[0m │\n",
              "├──────────────────────────────────────┼─────────────────────────────┼─────────────────┤\n",
              "│ simple_rnn_1 (\u001b[38;5;33mSimpleRNN\u001b[0m)             │ (\u001b[38;5;45mNone\u001b[0m, \u001b[38;5;34m100\u001b[0m, \u001b[38;5;34m32\u001b[0m)             │           \u001b[38;5;34m2,080\u001b[0m │\n",
              "├──────────────────────────────────────┼─────────────────────────────┼─────────────────┤\n",
              "│ dense_1 (\u001b[38;5;33mDense\u001b[0m)                      │ (\u001b[38;5;45mNone\u001b[0m, \u001b[38;5;34m100\u001b[0m, \u001b[38;5;34m1\u001b[0m)              │              \u001b[38;5;34m33\u001b[0m │\n",
              "└──────────────────────────────────────┴─────────────────────────────┴─────────────────┘\n"
            ]
          },
          "metadata": {},
          "output_type": "display_data"
        },
        {
          "data": {
            "text/html": [
              "<pre style=\"white-space:pre;overflow-x:auto;line-height:normal;font-family:Menlo,'DejaVu Sans Mono',consolas,'Courier New',monospace\"><span style=\"font-weight: bold\"> Total params: </span><span style=\"color: #00af00; text-decoration-color: #00af00\">322,113</span> (1.23 MB)\n",
              "</pre>\n"
            ],
            "text/plain": [
              "\u001b[1m Total params: \u001b[0m\u001b[38;5;34m322,113\u001b[0m (1.23 MB)\n"
            ]
          },
          "metadata": {},
          "output_type": "display_data"
        },
        {
          "data": {
            "text/html": [
              "<pre style=\"white-space:pre;overflow-x:auto;line-height:normal;font-family:Menlo,'DejaVu Sans Mono',consolas,'Courier New',monospace\"><span style=\"font-weight: bold\"> Trainable params: </span><span style=\"color: #00af00; text-decoration-color: #00af00\">322,113</span> (1.23 MB)\n",
              "</pre>\n"
            ],
            "text/plain": [
              "\u001b[1m Trainable params: \u001b[0m\u001b[38;5;34m322,113\u001b[0m (1.23 MB)\n"
            ]
          },
          "metadata": {},
          "output_type": "display_data"
        },
        {
          "data": {
            "text/html": [
              "<pre style=\"white-space:pre;overflow-x:auto;line-height:normal;font-family:Menlo,'DejaVu Sans Mono',consolas,'Courier New',monospace\"><span style=\"font-weight: bold\"> Non-trainable params: </span><span style=\"color: #00af00; text-decoration-color: #00af00\">0</span> (0.00 B)\n",
              "</pre>\n"
            ],
            "text/plain": [
              "\u001b[1m Non-trainable params: \u001b[0m\u001b[38;5;34m0\u001b[0m (0.00 B)\n"
            ]
          },
          "metadata": {},
          "output_type": "display_data"
        }
      ],
      "source": [
        "model = keras.models.Sequential()\n",
        "model.add(keras.Input(shape=input_shape))\n",
        "model.add(keras.layers.Embedding(vocab_size, embedding_dim, mask_zero=True))\n",
        "model.add(keras.layers.SimpleRNN(32, return_sequences=True))\n",
        "model.add(keras.layers.Dense(1,activation='sigmoid'))\n",
        "model.summary()"
      ]
    },
    {
      "cell_type": "markdown",
      "metadata": {
        "id": "0N3WF0az7LUx"
      },
      "source": [
        "It is sometimes useful to stack several recurrent layers one after the other in order to increase the representational power of a network.\n",
        "In such a setup, you have to get all intermediate layers to return full sequences:"
      ]
    },
    {
      "cell_type": "code",
      "execution_count": null,
      "metadata": {
        "colab": {
          "base_uri": "https://localhost:8080/",
          "height": 321
        },
        "id": "qZAMcwmp7LUx",
        "outputId": "3568d0b3-ca65-458f-a577-194eebc053a5"
      },
      "outputs": [
        {
          "data": {
            "text/html": [
              "<pre style=\"white-space:pre;overflow-x:auto;line-height:normal;font-family:Menlo,'DejaVu Sans Mono',consolas,'Courier New',monospace\"><span style=\"font-weight: bold\">Model: \"sequential_2\"</span>\n",
              "</pre>\n"
            ],
            "text/plain": [
              "\u001b[1mModel: \"sequential_2\"\u001b[0m\n"
            ]
          },
          "metadata": {},
          "output_type": "display_data"
        },
        {
          "data": {
            "text/html": [
              "<pre style=\"white-space:pre;overflow-x:auto;line-height:normal;font-family:Menlo,'DejaVu Sans Mono',consolas,'Courier New',monospace\">┏━━━━━━━━━━━━━━━━━━━━━━━━━━━━━━━━━━━━━━┳━━━━━━━━━━━━━━━━━━━━━━━━━━━━━┳━━━━━━━━━━━━━━━━━┓\n",
              "┃<span style=\"font-weight: bold\"> Layer (type)                         </span>┃<span style=\"font-weight: bold\"> Output Shape                </span>┃<span style=\"font-weight: bold\">         Param # </span>┃\n",
              "┡━━━━━━━━━━━━━━━━━━━━━━━━━━━━━━━━━━━━━━╇━━━━━━━━━━━━━━━━━━━━━━━━━━━━━╇━━━━━━━━━━━━━━━━━┩\n",
              "│ embedding_2 (<span style=\"color: #0087ff; text-decoration-color: #0087ff\">Embedding</span>)              │ (<span style=\"color: #00d7ff; text-decoration-color: #00d7ff\">None</span>, <span style=\"color: #00af00; text-decoration-color: #00af00\">100</span>, <span style=\"color: #00af00; text-decoration-color: #00af00\">32</span>)             │         <span style=\"color: #00af00; text-decoration-color: #00af00\">320,000</span> │\n",
              "├──────────────────────────────────────┼─────────────────────────────┼─────────────────┤\n",
              "│ simple_rnn_2 (<span style=\"color: #0087ff; text-decoration-color: #0087ff\">SimpleRNN</span>)             │ (<span style=\"color: #00d7ff; text-decoration-color: #00d7ff\">None</span>, <span style=\"color: #00af00; text-decoration-color: #00af00\">100</span>, <span style=\"color: #00af00; text-decoration-color: #00af00\">32</span>)             │           <span style=\"color: #00af00; text-decoration-color: #00af00\">2,080</span> │\n",
              "├──────────────────────────────────────┼─────────────────────────────┼─────────────────┤\n",
              "│ simple_rnn_3 (<span style=\"color: #0087ff; text-decoration-color: #0087ff\">SimpleRNN</span>)             │ (<span style=\"color: #00d7ff; text-decoration-color: #00d7ff\">None</span>, <span style=\"color: #00af00; text-decoration-color: #00af00\">100</span>, <span style=\"color: #00af00; text-decoration-color: #00af00\">32</span>)             │           <span style=\"color: #00af00; text-decoration-color: #00af00\">2,080</span> │\n",
              "├──────────────────────────────────────┼─────────────────────────────┼─────────────────┤\n",
              "│ simple_rnn_4 (<span style=\"color: #0087ff; text-decoration-color: #0087ff\">SimpleRNN</span>)             │ (<span style=\"color: #00d7ff; text-decoration-color: #00d7ff\">None</span>, <span style=\"color: #00af00; text-decoration-color: #00af00\">100</span>, <span style=\"color: #00af00; text-decoration-color: #00af00\">32</span>)             │           <span style=\"color: #00af00; text-decoration-color: #00af00\">2,080</span> │\n",
              "├──────────────────────────────────────┼─────────────────────────────┼─────────────────┤\n",
              "│ simple_rnn_5 (<span style=\"color: #0087ff; text-decoration-color: #0087ff\">SimpleRNN</span>)             │ (<span style=\"color: #00d7ff; text-decoration-color: #00d7ff\">None</span>, <span style=\"color: #00af00; text-decoration-color: #00af00\">32</span>)                  │           <span style=\"color: #00af00; text-decoration-color: #00af00\">2,080</span> │\n",
              "├──────────────────────────────────────┼─────────────────────────────┼─────────────────┤\n",
              "│ dense_2 (<span style=\"color: #0087ff; text-decoration-color: #0087ff\">Dense</span>)                      │ (<span style=\"color: #00d7ff; text-decoration-color: #00d7ff\">None</span>, <span style=\"color: #00af00; text-decoration-color: #00af00\">1</span>)                   │              <span style=\"color: #00af00; text-decoration-color: #00af00\">33</span> │\n",
              "└──────────────────────────────────────┴─────────────────────────────┴─────────────────┘\n",
              "</pre>\n"
            ],
            "text/plain": [
              "┏━━━━━━━━━━━━━━━━━━━━━━━━━━━━━━━━━━━━━━┳━━━━━━━━━━━━━━━━━━━━━━━━━━━━━┳━━━━━━━━━━━━━━━━━┓\n",
              "┃\u001b[1m \u001b[0m\u001b[1mLayer (type)                        \u001b[0m\u001b[1m \u001b[0m┃\u001b[1m \u001b[0m\u001b[1mOutput Shape               \u001b[0m\u001b[1m \u001b[0m┃\u001b[1m \u001b[0m\u001b[1m        Param #\u001b[0m\u001b[1m \u001b[0m┃\n",
              "┡━━━━━━━━━━━━━━━━━━━━━━━━━━━━━━━━━━━━━━╇━━━━━━━━━━━━━━━━━━━━━━━━━━━━━╇━━━━━━━━━━━━━━━━━┩\n",
              "│ embedding_2 (\u001b[38;5;33mEmbedding\u001b[0m)              │ (\u001b[38;5;45mNone\u001b[0m, \u001b[38;5;34m100\u001b[0m, \u001b[38;5;34m32\u001b[0m)             │         \u001b[38;5;34m320,000\u001b[0m │\n",
              "├──────────────────────────────────────┼─────────────────────────────┼─────────────────┤\n",
              "│ simple_rnn_2 (\u001b[38;5;33mSimpleRNN\u001b[0m)             │ (\u001b[38;5;45mNone\u001b[0m, \u001b[38;5;34m100\u001b[0m, \u001b[38;5;34m32\u001b[0m)             │           \u001b[38;5;34m2,080\u001b[0m │\n",
              "├──────────────────────────────────────┼─────────────────────────────┼─────────────────┤\n",
              "│ simple_rnn_3 (\u001b[38;5;33mSimpleRNN\u001b[0m)             │ (\u001b[38;5;45mNone\u001b[0m, \u001b[38;5;34m100\u001b[0m, \u001b[38;5;34m32\u001b[0m)             │           \u001b[38;5;34m2,080\u001b[0m │\n",
              "├──────────────────────────────────────┼─────────────────────────────┼─────────────────┤\n",
              "│ simple_rnn_4 (\u001b[38;5;33mSimpleRNN\u001b[0m)             │ (\u001b[38;5;45mNone\u001b[0m, \u001b[38;5;34m100\u001b[0m, \u001b[38;5;34m32\u001b[0m)             │           \u001b[38;5;34m2,080\u001b[0m │\n",
              "├──────────────────────────────────────┼─────────────────────────────┼─────────────────┤\n",
              "│ simple_rnn_5 (\u001b[38;5;33mSimpleRNN\u001b[0m)             │ (\u001b[38;5;45mNone\u001b[0m, \u001b[38;5;34m32\u001b[0m)                  │           \u001b[38;5;34m2,080\u001b[0m │\n",
              "├──────────────────────────────────────┼─────────────────────────────┼─────────────────┤\n",
              "│ dense_2 (\u001b[38;5;33mDense\u001b[0m)                      │ (\u001b[38;5;45mNone\u001b[0m, \u001b[38;5;34m1\u001b[0m)                   │              \u001b[38;5;34m33\u001b[0m │\n",
              "└──────────────────────────────────────┴─────────────────────────────┴─────────────────┘\n"
            ]
          },
          "metadata": {},
          "output_type": "display_data"
        },
        {
          "data": {
            "text/html": [
              "<pre style=\"white-space:pre;overflow-x:auto;line-height:normal;font-family:Menlo,'DejaVu Sans Mono',consolas,'Courier New',monospace\"><span style=\"font-weight: bold\"> Total params: </span><span style=\"color: #00af00; text-decoration-color: #00af00\">328,353</span> (1.25 MB)\n",
              "</pre>\n"
            ],
            "text/plain": [
              "\u001b[1m Total params: \u001b[0m\u001b[38;5;34m328,353\u001b[0m (1.25 MB)\n"
            ]
          },
          "metadata": {},
          "output_type": "display_data"
        },
        {
          "data": {
            "text/html": [
              "<pre style=\"white-space:pre;overflow-x:auto;line-height:normal;font-family:Menlo,'DejaVu Sans Mono',consolas,'Courier New',monospace\"><span style=\"font-weight: bold\"> Trainable params: </span><span style=\"color: #00af00; text-decoration-color: #00af00\">328,353</span> (1.25 MB)\n",
              "</pre>\n"
            ],
            "text/plain": [
              "\u001b[1m Trainable params: \u001b[0m\u001b[38;5;34m328,353\u001b[0m (1.25 MB)\n"
            ]
          },
          "metadata": {},
          "output_type": "display_data"
        },
        {
          "data": {
            "text/html": [
              "<pre style=\"white-space:pre;overflow-x:auto;line-height:normal;font-family:Menlo,'DejaVu Sans Mono',consolas,'Courier New',monospace\"><span style=\"font-weight: bold\"> Non-trainable params: </span><span style=\"color: #00af00; text-decoration-color: #00af00\">0</span> (0.00 B)\n",
              "</pre>\n"
            ],
            "text/plain": [
              "\u001b[1m Non-trainable params: \u001b[0m\u001b[38;5;34m0\u001b[0m (0.00 B)\n"
            ]
          },
          "metadata": {},
          "output_type": "display_data"
        }
      ],
      "source": [
        "model = keras.models.Sequential()\n",
        "model.add(keras.Input(shape=input_shape))\n",
        "model.add(keras.layers.Embedding(vocab_size, embedding_dim, mask_zero=True))\n",
        "model.add(keras.layers.SimpleRNN(32, return_sequences=True))\n",
        "model.add(keras.layers.SimpleRNN(32, return_sequences=True))\n",
        "model.add(keras.layers.SimpleRNN(32, return_sequences=True))\n",
        "model.add(keras.layers.SimpleRNN(32))  # This last layer only returns the last outputs.\n",
        "model.add(keras.layers.Dense(1,activation='sigmoid'))\n",
        "model.summary()"
      ]
    },
    {
      "cell_type": "markdown",
      "metadata": {
        "id": "NmaMQGzoUEBA"
      },
      "source": [
        "# Test of SimpleRNN\n",
        "Here we want to understand the influence of sequence_length and masking"
      ]
    },
    {
      "cell_type": "markdown",
      "metadata": {
        "id": "2-uIidEcHDlq"
      },
      "source": [
        "## Helper function to compile and train a model"
      ]
    },
    {
      "cell_type": "code",
      "execution_count": null,
      "metadata": {
        "id": "bkZTRQLhHNRc"
      },
      "outputs": [],
      "source": [
        "def compile_and_fit(model, epochs=10, patience=3, verbose=1):\n",
        "  print(f'Training {model.name}')\n",
        "  model.compile(optimizer=keras.optimizers.RMSprop(learning_rate=5e-4),\n",
        "                loss='binary_crossentropy',\n",
        "                metrics=['acc'],\n",
        "                jit_compile=True,)\n",
        "\n",
        "  early_stopping = keras.callbacks.EarlyStopping(monitor='val_loss', mode='min', verbose=1, patience=patience,restore_best_weights = True)\n",
        "\n",
        "  start = time.time()\n",
        "  history = model.fit(train_ds,\n",
        "                      epochs=epochs,\n",
        "                      validation_data=val_ds,\n",
        "                      verbose = verbose,\n",
        "                      callbacks=[early_stopping])\n",
        "  end = time.time()\n",
        "  print(f\"Time to run: {end - start:.1f}\",)\n",
        "  return model, history"
      ]
    },
    {
      "cell_type": "markdown",
      "metadata": {
        "id": "AmIFNa-BQrjA"
      },
      "source": [
        "## Now train your first RNN model for sentiment analysis"
      ]
    },
    {
      "cell_type": "markdown",
      "metadata": {
        "id": "erzCXCbT7LUy"
      },
      "source": [
        "Let's train a simple recurrent network using an `Embedding` layer and a single `SimpleRNN` layer:"
      ]
    },
    {
      "cell_type": "code",
      "execution_count": null,
      "metadata": {
        "id": "Ob3HVj38yi1Z"
      },
      "outputs": [],
      "source": [
        "model = keras.Sequential([\n",
        "    # Set up input shape\n",
        "    keras.Input(shape=(None,), dtype=\"int32\"),\n",
        "    # Next, we add a layer to map those vocab indices into a space of dimensionality 'embedding_dim'.\n",
        "    keras.layers.Embedding(vocab_size, embedding_dim,mask_zero=True),\n",
        "    # Our RNN model\n",
        "    keras.layers.SimpleRNN(32),\n",
        "    # End part for classification\n",
        "    keras.layers.Dense(1,activation='sigmoid')\n",
        "],name='SimpleRNN32')"
      ]
    },
    {
      "cell_type": "code",
      "execution_count": null,
      "metadata": {
        "colab": {
          "base_uri": "https://localhost:8080/"
        },
        "id": "dO-X6mjL7LUy",
        "outputId": "cd9a7d23-02cf-4975-e8bc-566c990c858a"
      },
      "outputs": [
        {
          "name": "stdout",
          "output_type": "stream",
          "text": [
            "Training SimpleRNN32\n",
            "Epoch 1/10\n",
            "\u001b[1m625/625\u001b[0m \u001b[32m━━━━━━━━━━━━━━━━━━━━\u001b[0m\u001b[37m\u001b[0m \u001b[1m14s\u001b[0m 19ms/step - acc: 0.5153 - loss: 0.6945 - val_acc: 0.5188 - val_loss: 0.6921\n",
            "Epoch 2/10\n",
            "\u001b[1m625/625\u001b[0m \u001b[32m━━━━━━━━━━━━━━━━━━━━\u001b[0m\u001b[37m\u001b[0m \u001b[1m8s\u001b[0m 11ms/step - acc: 0.6744 - loss: 0.6273 - val_acc: 0.7888 - val_loss: 0.4751\n",
            "Epoch 3/10\n",
            "\u001b[1m625/625\u001b[0m \u001b[32m━━━━━━━━━━━━━━━━━━━━\u001b[0m\u001b[37m\u001b[0m \u001b[1m8s\u001b[0m 13ms/step - acc: 0.8430 - loss: 0.3879 - val_acc: 0.8156 - val_loss: 0.4367\n",
            "Epoch 4/10\n",
            "\u001b[1m625/625\u001b[0m \u001b[32m━━━━━━━━━━━━━━━━━━━━\u001b[0m\u001b[37m\u001b[0m \u001b[1m7s\u001b[0m 11ms/step - acc: 0.9021 - loss: 0.2627 - val_acc: 0.8126 - val_loss: 0.4449\n",
            "Epoch 5/10\n",
            "\u001b[1m625/625\u001b[0m \u001b[32m━━━━━━━━━━━━━━━━━━━━\u001b[0m\u001b[37m\u001b[0m \u001b[1m8s\u001b[0m 13ms/step - acc: 0.9422 - loss: 0.1734 - val_acc: 0.7834 - val_loss: 0.5117\n",
            "Epoch 5: early stopping\n",
            "Restoring model weights from the end of the best epoch: 3.\n",
            "Time to run: 44.8\n"
          ]
        }
      ],
      "source": [
        "model,history = compile_and_fit(model, patience=2)"
      ]
    },
    {
      "cell_type": "code",
      "execution_count": null,
      "metadata": {
        "colab": {
          "base_uri": "https://localhost:8080/"
        },
        "id": "J_EhApkEHEWs",
        "outputId": "fb323785-69d2-4b80-ee99-31ec6413fb59"
      },
      "outputs": [
        {
          "name": "stdout",
          "output_type": "stream",
          "text": [
            "Model SimpleRNN32, len=100, test accuracy: 0.806\n"
          ]
        }
      ],
      "source": [
        "test_loss, test_acc =  model.evaluate(test_ds, verbose=0)\n",
        "print(f'Model {model.name}, len={sequence_length}, test accuracy: {test_acc:.3f}')"
      ]
    },
    {
      "cell_type": "markdown",
      "metadata": {
        "id": "KWjDWLe67LUz"
      },
      "source": [
        "Unfortunately, our small SimpleRNN network does not perform very well. Part of the problem is that our inputs only consider the first 100/500 words rather the full sequences. The rest of the problem is simply that SimpleRNN is not very good at processing long sequences, like text. Other types of RNNs perform much better. Let's take a look at some more advanced layers."
      ]
    },
    {
      "cell_type": "code",
      "execution_count": null,
      "metadata": {
        "colab": {
          "base_uri": "https://localhost:8080/",
          "height": 241
        },
        "id": "N8hsalbfwGDo",
        "outputId": "492fceb6-15ad-4886-f9bb-c3aa3e6e29ad"
      },
      "outputs": [
        {
          "data": {
            "text/html": [
              "<pre style=\"white-space:pre;overflow-x:auto;line-height:normal;font-family:Menlo,'DejaVu Sans Mono',consolas,'Courier New',monospace\"><span style=\"font-weight: bold\">Model: \"SimpleRNN32\"</span>\n",
              "</pre>\n"
            ],
            "text/plain": [
              "\u001b[1mModel: \"SimpleRNN32\"\u001b[0m\n"
            ]
          },
          "metadata": {},
          "output_type": "display_data"
        },
        {
          "data": {
            "text/html": [
              "<pre style=\"white-space:pre;overflow-x:auto;line-height:normal;font-family:Menlo,'DejaVu Sans Mono',consolas,'Courier New',monospace\">┏━━━━━━━━━━━━━━━━━━━━━━━━━━━━━━━━━━━━━━┳━━━━━━━━━━━━━━━━━━━━━━━━━━━━━┳━━━━━━━━━━━━━━━━━┓\n",
              "┃<span style=\"font-weight: bold\"> Layer (type)                         </span>┃<span style=\"font-weight: bold\"> Output Shape                </span>┃<span style=\"font-weight: bold\">         Param # </span>┃\n",
              "┡━━━━━━━━━━━━━━━━━━━━━━━━━━━━━━━━━━━━━━╇━━━━━━━━━━━━━━━━━━━━━━━━━━━━━╇━━━━━━━━━━━━━━━━━┩\n",
              "│ embedding_3 (<span style=\"color: #0087ff; text-decoration-color: #0087ff\">Embedding</span>)              │ (<span style=\"color: #00d7ff; text-decoration-color: #00d7ff\">None</span>, <span style=\"color: #00d7ff; text-decoration-color: #00d7ff\">None</span>, <span style=\"color: #00af00; text-decoration-color: #00af00\">32</span>)            │         <span style=\"color: #00af00; text-decoration-color: #00af00\">320,000</span> │\n",
              "├──────────────────────────────────────┼─────────────────────────────┼─────────────────┤\n",
              "│ simple_rnn_6 (<span style=\"color: #0087ff; text-decoration-color: #0087ff\">SimpleRNN</span>)             │ (<span style=\"color: #00d7ff; text-decoration-color: #00d7ff\">None</span>, <span style=\"color: #00af00; text-decoration-color: #00af00\">32</span>)                  │           <span style=\"color: #00af00; text-decoration-color: #00af00\">2,080</span> │\n",
              "├──────────────────────────────────────┼─────────────────────────────┼─────────────────┤\n",
              "│ dense_3 (<span style=\"color: #0087ff; text-decoration-color: #0087ff\">Dense</span>)                      │ (<span style=\"color: #00d7ff; text-decoration-color: #00d7ff\">None</span>, <span style=\"color: #00af00; text-decoration-color: #00af00\">1</span>)                   │              <span style=\"color: #00af00; text-decoration-color: #00af00\">33</span> │\n",
              "└──────────────────────────────────────┴─────────────────────────────┴─────────────────┘\n",
              "</pre>\n"
            ],
            "text/plain": [
              "┏━━━━━━━━━━━━━━━━━━━━━━━━━━━━━━━━━━━━━━┳━━━━━━━━━━━━━━━━━━━━━━━━━━━━━┳━━━━━━━━━━━━━━━━━┓\n",
              "┃\u001b[1m \u001b[0m\u001b[1mLayer (type)                        \u001b[0m\u001b[1m \u001b[0m┃\u001b[1m \u001b[0m\u001b[1mOutput Shape               \u001b[0m\u001b[1m \u001b[0m┃\u001b[1m \u001b[0m\u001b[1m        Param #\u001b[0m\u001b[1m \u001b[0m┃\n",
              "┡━━━━━━━━━━━━━━━━━━━━━━━━━━━━━━━━━━━━━━╇━━━━━━━━━━━━━━━━━━━━━━━━━━━━━╇━━━━━━━━━━━━━━━━━┩\n",
              "│ embedding_3 (\u001b[38;5;33mEmbedding\u001b[0m)              │ (\u001b[38;5;45mNone\u001b[0m, \u001b[38;5;45mNone\u001b[0m, \u001b[38;5;34m32\u001b[0m)            │         \u001b[38;5;34m320,000\u001b[0m │\n",
              "├──────────────────────────────────────┼─────────────────────────────┼─────────────────┤\n",
              "│ simple_rnn_6 (\u001b[38;5;33mSimpleRNN\u001b[0m)             │ (\u001b[38;5;45mNone\u001b[0m, \u001b[38;5;34m32\u001b[0m)                  │           \u001b[38;5;34m2,080\u001b[0m │\n",
              "├──────────────────────────────────────┼─────────────────────────────┼─────────────────┤\n",
              "│ dense_3 (\u001b[38;5;33mDense\u001b[0m)                      │ (\u001b[38;5;45mNone\u001b[0m, \u001b[38;5;34m1\u001b[0m)                   │              \u001b[38;5;34m33\u001b[0m │\n",
              "└──────────────────────────────────────┴─────────────────────────────┴─────────────────┘\n"
            ]
          },
          "metadata": {},
          "output_type": "display_data"
        },
        {
          "data": {
            "text/html": [
              "<pre style=\"white-space:pre;overflow-x:auto;line-height:normal;font-family:Menlo,'DejaVu Sans Mono',consolas,'Courier New',monospace\"><span style=\"font-weight: bold\"> Total params: </span><span style=\"color: #00af00; text-decoration-color: #00af00\">644,228</span> (2.46 MB)\n",
              "</pre>\n"
            ],
            "text/plain": [
              "\u001b[1m Total params: \u001b[0m\u001b[38;5;34m644,228\u001b[0m (2.46 MB)\n"
            ]
          },
          "metadata": {},
          "output_type": "display_data"
        },
        {
          "data": {
            "text/html": [
              "<pre style=\"white-space:pre;overflow-x:auto;line-height:normal;font-family:Menlo,'DejaVu Sans Mono',consolas,'Courier New',monospace\"><span style=\"font-weight: bold\"> Trainable params: </span><span style=\"color: #00af00; text-decoration-color: #00af00\">322,113</span> (1.23 MB)\n",
              "</pre>\n"
            ],
            "text/plain": [
              "\u001b[1m Trainable params: \u001b[0m\u001b[38;5;34m322,113\u001b[0m (1.23 MB)\n"
            ]
          },
          "metadata": {},
          "output_type": "display_data"
        },
        {
          "data": {
            "text/html": [
              "<pre style=\"white-space:pre;overflow-x:auto;line-height:normal;font-family:Menlo,'DejaVu Sans Mono',consolas,'Courier New',monospace\"><span style=\"font-weight: bold\"> Non-trainable params: </span><span style=\"color: #00af00; text-decoration-color: #00af00\">0</span> (0.00 B)\n",
              "</pre>\n"
            ],
            "text/plain": [
              "\u001b[1m Non-trainable params: \u001b[0m\u001b[38;5;34m0\u001b[0m (0.00 B)\n"
            ]
          },
          "metadata": {},
          "output_type": "display_data"
        },
        {
          "data": {
            "text/html": [
              "<pre style=\"white-space:pre;overflow-x:auto;line-height:normal;font-family:Menlo,'DejaVu Sans Mono',consolas,'Courier New',monospace\"><span style=\"font-weight: bold\"> Optimizer params: </span><span style=\"color: #00af00; text-decoration-color: #00af00\">322,115</span> (1.23 MB)\n",
              "</pre>\n"
            ],
            "text/plain": [
              "\u001b[1m Optimizer params: \u001b[0m\u001b[38;5;34m322,115\u001b[0m (1.23 MB)\n"
            ]
          },
          "metadata": {},
          "output_type": "display_data"
        }
      ],
      "source": [
        "model.summary()"
      ]
    },
    {
      "cell_type": "markdown",
      "metadata": {
        "id": "kycNQUmo7LUy"
      },
      "source": [
        "Let's display the training and validation loss and accuracy:"
      ]
    },
    {
      "cell_type": "code",
      "execution_count": null,
      "metadata": {
        "colab": {
          "base_uri": "https://localhost:8080/",
          "height": 451
        },
        "id": "TX-3Mjmn7LUy",
        "outputId": "7d1195bd-3a3a-4644-a02f-8b199eb9fad8"
      },
      "outputs": [
        {
          "data": {
            "image/png": "[encoded data removed]",
            "text/plain": [
              "<Figure size 800x500 with 1 Axes>"
            ]
          },
          "metadata": {},
          "output_type": "display_data"
        }
      ],
      "source": [
        "# Plot training history\n",
        "pd.DataFrame(history.history).plot(figsize=(8, 5))\n",
        "plt.grid(True)\n",
        "plt.gca().set_ylim(0, 1) # set the vertical range to [0-1]\n",
        "plt.show()"
      ]
    },
    {
      "cell_type": "markdown",
      "metadata": {
        "id": "pk1ElMEnU9Tn"
      },
      "source": [
        "# ‽ Uppgift\n",
        "Sekvenslängd och mask\n",
        "* Notera vilken testnoggrannhet du får för detta fall\n",
        "* Gå nu upp och ändra sequence_length till 500, vilken testnoggrannhet får du då? Vad kan vara skälet till detta beteende?\n",
        "* Pröva sedan med att sätta 'mask_zero=True' i Embedding-lagret\n",
        "* Kompletera sedan bilden med att köra med 'mask_zero=True' och sequence_length=100\n",
        "\n",
        "Titta även på träningskurvorna, går det fort för modellen att överträna? Vad händer om du halverar learning_rate (med träningstid, testnoggrannhet, träningskurvorna)?"
      ]
    },
    {
      "cell_type": "markdown",
      "metadata": {
        "id": "9n9MU0z34QZP"
      },
      "source": [
        "1. For `sequence_length=100`, the model converges faster but lose some long-term context information. For this short sequence lengths, the validation loss and accuracy improve since the model focuses more on short-term dependencies.\n",
        "\n",
        "2. For `sequence_length=500`, the `val_loss` (validation loss) remains relatively stable, and `val_acc` (validation accuracy) does not show significant improvement. The improvement in test accuracy is minimal, and the training seems to converge slowly.\n",
        "The reason for this happened becasue the model captures more contextual information, but this also increases the computational complexity and training time. If the data contains noise or irrelevant information, longer sequences can introduce more noise, leading to stagnant or even reduced performance. The stable validation loss and accuracy indicate that the additional context information does not significantly enhance the model’s ability to generalize on the test data.\n",
        "\n",
        "3. Done with  `mask_zero =True ` adding, `keras.layers.Embedding(vocab_size, embedding_dim,mask_zero=True) `\n",
        "\n",
        "4. After adding `mask_zero=True` significantly improved the model's performance on the validation set, demonstrating the following points:\n",
        "- Impact of Padding Values: Without ignoring padding values, the model learns meaningless features from these filler tokens, leading to lower validation accuracy.\n",
        "- Enhanced Generalization: By incorporating mask_zero=True, the model focuses on meaningful input sequences, resulting in smoother validation loss curves and higher validation accuracy.\n",
        "\n",
        "5. In `sequence_length =100`, `mask_zero=True`, From the training curves, it is evident that the model starts to overfit relatively early, as the validation loss (val_loss) begins to increase after a few epochs (around epoch 4), even though the training loss (loss) continues to decrease. This indicates that the model has limited capacity to generalize and overfits the training data after just a few epochs. After learning rate is halved:\n",
        "- Training Time: Halving the learning rate slightly reduced the total training time (from 52.9 seconds to 48.2 seconds). This is because the early stopping mechanism restored the model to the same best epoch (epoch 4), so the total number of training epochs did not increase significantly.\n",
        "- Test Accuracy: The test accuracy improved marginally, from 0.807 (default learning rate) to 0.809 (halved learning rate). This suggests that a smaller learning rate can provide a more stable optimization path, resulting in slightly better generalization.\n",
        "- Training Curves: With the halved learning rate, the training loss decreased more smoothly, and the validation loss curve was slightly more stable compared to the default learning rate. This indicates that halving the learning rate helped to delay overfitting, though the impact was not substantial in this specific case."
      ]
    },
    {
      "cell_type": "markdown",
      "metadata": {
        "id": "QPfLHjE_7LUz"
      },
      "source": [
        "\n",
        "\n",
        "## A concrete LSTM example in Keras\n",
        "\n",
        "Now let's switch to more practical concerns: we will set up a model using a LSTM layer and train it on the IMDB data. Here's the network,\n",
        "similar to the one with `SimpleRNN` that we just presented. We only specify the output dimensionality of the LSTM layer, and leave every\n",
        "other argument (there are lots) to the Keras defaults. Keras has good defaults, and things will almost always \"just work\" without you\n",
        "having to spend time tuning parameters by hand."
      ]
    },
    {
      "cell_type": "code",
      "execution_count": null,
      "metadata": {
        "id": "1cZL7x0ASq2B"
      },
      "outputs": [],
      "source": [
        "#from keras.regularizers import L2\n",
        "model = keras.Sequential([\n",
        "    keras.Input(shape=(None,), dtype=\"int32\"),\n",
        "    keras.layers.Embedding(input_dim=vocab_size, output_dim=embedding_dim, mask_zero=True),\n",
        "    keras.layers.LSTM(32),\n",
        "    keras.layers.Dense(1,activation='sigmoid')\n",
        "],name='LSTM32')"
      ]
    },
    {
      "cell_type": "code",
      "execution_count": null,
      "metadata": {
        "colab": {
          "base_uri": "https://localhost:8080/",
          "height": 225
        },
        "id": "rvkmjUep1rhC",
        "outputId": "5da18a11-b8d0-4fc5-8f8c-ed83f81d2faf"
      },
      "outputs": [
        {
          "data": {
            "text/html": [
              "<pre style=\"white-space:pre;overflow-x:auto;line-height:normal;font-family:Menlo,'DejaVu Sans Mono',consolas,'Courier New',monospace\"><span style=\"font-weight: bold\">Model: \"LSTM32\"</span>\n",
              "</pre>\n"
            ],
            "text/plain": [
              "\u001b[1mModel: \"LSTM32\"\u001b[0m\n"
            ]
          },
          "metadata": {},
          "output_type": "display_data"
        },
        {
          "data": {
            "text/html": [
              "<pre style=\"white-space:pre;overflow-x:auto;line-height:normal;font-family:Menlo,'DejaVu Sans Mono',consolas,'Courier New',monospace\">┏━━━━━━━━━━━━━━━━━━━━━━━━━━━━━━━━━━━━━━┳━━━━━━━━━━━━━━━━━━━━━━━━━━━━━┳━━━━━━━━━━━━━━━━━┓\n",
              "┃<span style=\"font-weight: bold\"> Layer (type)                         </span>┃<span style=\"font-weight: bold\"> Output Shape                </span>┃<span style=\"font-weight: bold\">         Param # </span>┃\n",
              "┡━━━━━━━━━━━━━━━━━━━━━━━━━━━━━━━━━━━━━━╇━━━━━━━━━━━━━━━━━━━━━━━━━━━━━╇━━━━━━━━━━━━━━━━━┩\n",
              "│ embedding_4 (<span style=\"color: #0087ff; text-decoration-color: #0087ff\">Embedding</span>)              │ (<span style=\"color: #00d7ff; text-decoration-color: #00d7ff\">None</span>, <span style=\"color: #00d7ff; text-decoration-color: #00d7ff\">None</span>, <span style=\"color: #00af00; text-decoration-color: #00af00\">32</span>)            │         <span style=\"color: #00af00; text-decoration-color: #00af00\">320,000</span> │\n",
              "├──────────────────────────────────────┼─────────────────────────────┼─────────────────┤\n",
              "│ lstm (<span style=\"color: #0087ff; text-decoration-color: #0087ff\">LSTM</span>)                          │ (<span style=\"color: #00d7ff; text-decoration-color: #00d7ff\">None</span>, <span style=\"color: #00af00; text-decoration-color: #00af00\">32</span>)                  │           <span style=\"color: #00af00; text-decoration-color: #00af00\">8,320</span> │\n",
              "├──────────────────────────────────────┼─────────────────────────────┼─────────────────┤\n",
              "│ dense_4 (<span style=\"color: #0087ff; text-decoration-color: #0087ff\">Dense</span>)                      │ (<span style=\"color: #00d7ff; text-decoration-color: #00d7ff\">None</span>, <span style=\"color: #00af00; text-decoration-color: #00af00\">1</span>)                   │              <span style=\"color: #00af00; text-decoration-color: #00af00\">33</span> │\n",
              "└──────────────────────────────────────┴─────────────────────────────┴─────────────────┘\n",
              "</pre>\n"
            ],
            "text/plain": [
              "┏━━━━━━━━━━━━━━━━━━━━━━━━━━━━━━━━━━━━━━┳━━━━━━━━━━━━━━━━━━━━━━━━━━━━━┳━━━━━━━━━━━━━━━━━┓\n",
              "┃\u001b[1m \u001b[0m\u001b[1mLayer (type)                        \u001b[0m\u001b[1m \u001b[0m┃\u001b[1m \u001b[0m\u001b[1mOutput Shape               \u001b[0m\u001b[1m \u001b[0m┃\u001b[1m \u001b[0m\u001b[1m        Param #\u001b[0m\u001b[1m \u001b[0m┃\n",
              "┡━━━━━━━━━━━━━━━━━━━━━━━━━━━━━━━━━━━━━━╇━━━━━━━━━━━━━━━━━━━━━━━━━━━━━╇━━━━━━━━━━━━━━━━━┩\n",
              "│ embedding_4 (\u001b[38;5;33mEmbedding\u001b[0m)              │ (\u001b[38;5;45mNone\u001b[0m, \u001b[38;5;45mNone\u001b[0m, \u001b[38;5;34m32\u001b[0m)            │         \u001b[38;5;34m320,000\u001b[0m │\n",
              "├──────────────────────────────────────┼─────────────────────────────┼─────────────────┤\n",
              "│ lstm (\u001b[38;5;33mLSTM\u001b[0m)                          │ (\u001b[38;5;45mNone\u001b[0m, \u001b[38;5;34m32\u001b[0m)                  │           \u001b[38;5;34m8,320\u001b[0m │\n",
              "├──────────────────────────────────────┼─────────────────────────────┼─────────────────┤\n",
              "│ dense_4 (\u001b[38;5;33mDense\u001b[0m)                      │ (\u001b[38;5;45mNone\u001b[0m, \u001b[38;5;34m1\u001b[0m)                   │              \u001b[38;5;34m33\u001b[0m │\n",
              "└──────────────────────────────────────┴─────────────────────────────┴─────────────────┘\n"
            ]
          },
          "metadata": {},
          "output_type": "display_data"
        },
        {
          "data": {
            "text/html": [
              "<pre style=\"white-space:pre;overflow-x:auto;line-height:normal;font-family:Menlo,'DejaVu Sans Mono',consolas,'Courier New',monospace\"><span style=\"font-weight: bold\"> Total params: </span><span style=\"color: #00af00; text-decoration-color: #00af00\">328,353</span> (1.25 MB)\n",
              "</pre>\n"
            ],
            "text/plain": [
              "\u001b[1m Total params: \u001b[0m\u001b[38;5;34m328,353\u001b[0m (1.25 MB)\n"
            ]
          },
          "metadata": {},
          "output_type": "display_data"
        },
        {
          "data": {
            "text/html": [
              "<pre style=\"white-space:pre;overflow-x:auto;line-height:normal;font-family:Menlo,'DejaVu Sans Mono',consolas,'Courier New',monospace\"><span style=\"font-weight: bold\"> Trainable params: </span><span style=\"color: #00af00; text-decoration-color: #00af00\">328,353</span> (1.25 MB)\n",
              "</pre>\n"
            ],
            "text/plain": [
              "\u001b[1m Trainable params: \u001b[0m\u001b[38;5;34m328,353\u001b[0m (1.25 MB)\n"
            ]
          },
          "metadata": {},
          "output_type": "display_data"
        },
        {
          "data": {
            "text/html": [
              "<pre style=\"white-space:pre;overflow-x:auto;line-height:normal;font-family:Menlo,'DejaVu Sans Mono',consolas,'Courier New',monospace\"><span style=\"font-weight: bold\"> Non-trainable params: </span><span style=\"color: #00af00; text-decoration-color: #00af00\">0</span> (0.00 B)\n",
              "</pre>\n"
            ],
            "text/plain": [
              "\u001b[1m Non-trainable params: \u001b[0m\u001b[38;5;34m0\u001b[0m (0.00 B)\n"
            ]
          },
          "metadata": {},
          "output_type": "display_data"
        }
      ],
      "source": [
        "model.summary()"
      ]
    },
    {
      "cell_type": "code",
      "execution_count": null,
      "metadata": {
        "colab": {
          "base_uri": "https://localhost:8080/"
        },
        "id": "kLRS-mWf7LUz",
        "outputId": "10583da8-feef-4537-c7fe-ce7c7aab9987"
      },
      "outputs": [
        {
          "name": "stdout",
          "output_type": "stream",
          "text": [
            "Training LSTM32\n",
            "Epoch 1/10\n",
            "\u001b[1m625/625\u001b[0m \u001b[32m━━━━━━━━━━━━━━━━━━━━\u001b[0m\u001b[37m\u001b[0m \u001b[1m19s\u001b[0m 29ms/step - acc: 0.5562 - loss: 0.6652 - val_acc: 0.8054 - val_loss: 0.4337\n",
            "Epoch 2/10\n",
            "\u001b[1m625/625\u001b[0m \u001b[32m━━━━━━━━━━━━━━━━━━━━\u001b[0m\u001b[37m\u001b[0m \u001b[1m21s\u001b[0m 32ms/step - acc: 0.8187 - loss: 0.4070 - val_acc: 0.8144 - val_loss: 0.4252\n",
            "Epoch 3/10\n",
            "\u001b[1m625/625\u001b[0m \u001b[32m━━━━━━━━━━━━━━━━━━━━\u001b[0m\u001b[37m\u001b[0m \u001b[1m21s\u001b[0m 34ms/step - acc: 0.8617 - loss: 0.3290 - val_acc: 0.8206 - val_loss: 0.4224\n",
            "Epoch 4/10\n",
            "\u001b[1m625/625\u001b[0m \u001b[32m━━━━━━━━━━━━━━━━━━━━\u001b[0m\u001b[37m\u001b[0m \u001b[1m14s\u001b[0m 23ms/step - acc: 0.8801 - loss: 0.2937 - val_acc: 0.8236 - val_loss: 0.4242\n",
            "Epoch 5/10\n",
            "\u001b[1m625/625\u001b[0m \u001b[32m━━━━━━━━━━━━━━━━━━━━\u001b[0m\u001b[37m\u001b[0m \u001b[1m21s\u001b[0m 34ms/step - acc: 0.8936 - loss: 0.2703 - val_acc: 0.8240 - val_loss: 0.4316\n",
            "Epoch 5: early stopping\n",
            "Restoring model weights from the end of the best epoch: 3.\n",
            "Time to run: 96.8\n"
          ]
        }
      ],
      "source": [
        "model,history = compile_and_fit(model,patience=2)"
      ]
    },
    {
      "cell_type": "code",
      "execution_count": null,
      "metadata": {
        "colab": {
          "base_uri": "https://localhost:8080/",
          "height": 451
        },
        "id": "3V1B1_hF7LUz",
        "outputId": "3913add0-9fc7-474a-9a37-b34e7d5cbfb2"
      },
      "outputs": [
        {
          "data": {
            "image/png": "[encoded data removed]",
            "text/plain": [
              "<Figure size 800x500 with 1 Axes>"
            ]
          },
          "metadata": {},
          "output_type": "display_data"
        }
      ],
      "source": [
        "# Plot training history\n",
        "pd.DataFrame(history.history).plot(figsize=(8, 5))\n",
        "plt.grid(True)\n",
        "plt.gca().set_ylim(0, 1) # set the vertical range to [0-1]\n",
        "plt.show()"
      ]
    },
    {
      "cell_type": "code",
      "execution_count": null,
      "metadata": {
        "colab": {
          "base_uri": "https://localhost:8080/"
        },
        "id": "tTFWvfTdINQ0",
        "outputId": "863a8127-5f65-49e7-a18d-620cfc16e3dd"
      },
      "outputs": [
        {
          "name": "stdout",
          "output_type": "stream",
          "text": [
            "Model LSTM32, len=100, test accuracy: 0.814\n"
          ]
        }
      ],
      "source": [
        "test_loss, test_acc =  model.evaluate(test_ds, verbose=0)\n",
        "print(f'Model {model.name}, len={sequence_length}, test accuracy: {test_acc:.3f}')"
      ]
    },
    {
      "cell_type": "markdown",
      "metadata": {
        "id": "nKQIAMGSS9HF"
      },
      "source": [
        "## Testing with Test sentences"
      ]
    },
    {
      "cell_type": "code",
      "execution_count": null,
      "metadata": {
        "colab": {
          "base_uri": "https://localhost:8080/"
        },
        "id": "vXHk7OpL5lth",
        "outputId": "18c925b5-ae66-4d67-e63f-828b03aff7e4"
      },
      "outputs": [
        {
          "name": "stdout",
          "output_type": "stream",
          "text": [
            "\u001b[1m1/1\u001b[0m \u001b[32m━━━━━━━━━━━━━━━━━━━━\u001b[0m\u001b[37m\u001b[0m \u001b[1m0s\u001b[0m 268ms/step\n",
            "0.17 -- That movie was absolutely awful\n",
            "0.45 -- The acting was a bit lacking\n",
            "0.65 -- The film was creative and surprising\n",
            "0.67 -- Absolutely fantastic!\n",
            "0.48 -- This movie is not worth the money\n",
            "0.40 -- The only positive thing with this movie is the music\n"
          ]
        }
      ],
      "source": [
        "# See what the model say about the test sentences\n",
        "tspred = model.predict(preprocessing_layer(test_sentences))\n",
        "for ix in range(len(tspred)):\n",
        "  print(f'{tspred[ix,0]:.2f} -- {test_sentences[ix]}')"
      ]
    },
    {
      "cell_type": "markdown",
      "metadata": {
        "id": "JYG2JXXParxb"
      },
      "source": [
        "# ‽ Uppgift\n",
        "Utforska fler LSTM modeller (Om du får problem med körtiderna så kan du för denna del använda sekvenslängd 100 och bara för den absolut bästa modellen köra en gång med längd 500 så vi får något att jämföra med i följande delar).\n",
        "* LSTM(128) med 128 noder, Två lager av LSTM(2L32), en en bidirektionell LSTM BiLSTM(32) och analysera dessa resultat.\n",
        "* Hitta en \"bästa\" modell att gå vidare med.\n",
        "* Undersök ifall det finns någon regularisering som förbättrar testnoggrannheten (notera att det finns speciella regulariseringar för LSTM modeller som du också kan pröva).\n",
        "\n",
        "* Testa din bästa RNN-modell på våra testmeningar, finns det några meningar som modellen är osäker på, och i så fall, är det förståeligt?\n"
      ]
    },
    {
      "cell_type": "markdown",
      "metadata": {
        "id": "WE0uH4U_NKeg"
      },
      "source": [
        "1. **LSTM(32)**\n",
        "   - Configuration: Single LSTM layer with 32 nodes.\n",
        "   - Results:\n",
        "     - Test accuracy: **0.816**\n",
        "     - Training time: **85.5 seconds**\n",
        "     - Early stopping: Epoch **5**, best epoch: **3**.\n",
        "   - Notes: Good accuracy and moderate training time.\n",
        "\n",
        "2. **LSTM(128)**\n",
        "   - Configuration: Single LSTM layer with 128 nodes.\n",
        "   - Results:\n",
        "     - Test accuracy: **0.812**\n",
        "     - Training time: **619.8 seconds**\n",
        "     - Early stopping: Epoch **6**, best epoch: **4**.\n",
        "   - Notes: Comparable accuracy to LSTM(32) but much higher training time.\n",
        "\n",
        "3. **LSTM (2L32)**\n",
        "   - Configuration: Two LSTM layers with 32 nodes each (second layer without `return_sequences`).\n",
        "   - Results:\n",
        "     - Test accuracy: **0.805**\n",
        "     - Training time: **111.3 seconds**\n",
        "     - Early stopping: Epoch **3**, best epoch: **1**.\n",
        "   - Notes: Slightly lower accuracy than LSTM(32) but slower training time compared to LSTM(32).\n",
        "\n",
        "4. **Bidirectional LSTM (BiLSTM)**\n",
        "   - Configuration: Bidirectional LSTM layer with 32 nodes.\n",
        "   - Results:\n",
        "     - Test accuracy: **0.797**\n",
        "     - Training time: **83.0 seconds**\n",
        "     - Early stopping: Epoch **3**, best epoch: **1**.\n",
        "   - Notes: Fastest training but lowest accuracy among the models.\n",
        "\n",
        "---\n",
        "\n",
        "### Best Model Selection\n",
        "The **LSTM(32)** model is the best choice based on the following:\n",
        "- It achieved the **highest test accuracy** (0.816).\n",
        "- The training time is moderate (85.5 seconds), much lower than LSTM(128) and only slightly higher than BiLSTM.\n",
        "- Simpler configuration compared to  2LSTM and BiLSTM, making it less prone to overfitting and easier to tune.\n",
        "\n",
        "---\n",
        "### sequence_length =500 with LTSM(32)\n",
        "With the sequence length = 500, the **LSTM(32)** model yielded the following results:\n",
        "- Test accuracy: 0.878 (significant improvement from 0.816 with len=100).\n",
        "- Training time: 413.8 seconds.\n",
        "- Early stopping: Epoch 5, best epoch: 3.\n",
        "\n",
        "### Observation:\n",
        "- Increasing the sequence length to 500 allowed the model to capture more context, improving its generalization ability and yielding a much higher test accuracy (from 0.816 to 0.878).\n",
        "The model's performance indicates that longer sequences help the LSTM better understand patterns, especially for tasks requiring detailed context.\n",
        "- Training time increased significantly (from 85.5 seconds to 413.8 seconds), as expected with longer sequences. However, the improved accuracy may justify this increase in computational cost for applications requiring higher precision.\n",
        "- The validation accuracy (val_acc) is stable, steadily improving alongside training accuracy (acc) without signs of overfitting.\n",
        "Validation loss (val_loss) decreases and stabilizes, indicating robust model generalization.\n",
        "---\n",
        "\n",
        "### Regularization Techniques**\n",
        "     ```\n",
        "     keras.layers.LSTM(32, dropout=0.2, recurrent_dropout=0.2, keras.regularizers.L2(l2=1e-4))\n",
        "     ```\n",
        "Results:\n",
        "- Epochs: Early stopping at epoch 5, restoring weights from epoch 3.\n",
        "- Time to Run: 92.8 seconds.\n",
        "- Test Accuracy: 0.809.\n",
        "\n",
        "Regularization slightly reduced test accuracy (from 0.816 to 0.809) but stabilized validation loss, suggesting better generalization. While L2 regularization improved robustness, further tuning of regularization strength (e.g., reducing l2) and exploring other techniques could enhance results.\n",
        "\n",
        "---\n",
        "\n",
        "### **Testing the Best Model**\n",
        "The **LSTM(32)** model was tested on the provided sentences:\n",
        "- Results showed some uncertainty (e.g., confidence around 0.24-0.40) for sentences like:\n",
        "  - \"That movie was absolutely awful.\"\n",
        "  - \"The only positive thing with this movie is the music.\"\n",
        "\n",
        "These results indicate that the model struggles with nuanced or mixed sentiments, which is understandable given the  complexity of such sentences. For instance:\n",
        "- Sentences with mixed positive and negative phrases are ambiguous.\n",
        "- Further improvement might require more training data or fine-tuning using domain-specific knowledge."
      ]
    },
    {
      "cell_type": "markdown",
      "metadata": {
        "id": "8Kzae_6CAqSk"
      },
      "source": [
        "# Test a CNN Model\n",
        "How good would a CNN model be on this problem?"
      ]
    },
    {
      "cell_type": "markdown",
      "metadata": {
        "id": "aQk9RJExBAZZ"
      },
      "source": [
        "## Set up a CNN model and train"
      ]
    },
    {
      "cell_type": "code",
      "execution_count": null,
      "metadata": {
        "id": "VNOeLaFR-jD6"
      },
      "outputs": [],
      "source": [
        "embedding_dim = 32"
      ]
    },
    {
      "cell_type": "code",
      "execution_count": null,
      "metadata": {
        "id": "oeBuDPdOvulO"
      },
      "outputs": [],
      "source": [
        "# A integer input for vocab indices.\n",
        "inputs = keras.Input(shape=(None,), dtype=\"int32\")\n",
        "\n",
        "# Next, we add a layer to map those vocab indices into a space of dimensionality\n",
        "# 'embedding_dim'.\n",
        "x = keras.layers.Embedding(vocab_size, embedding_dim)(inputs)\n",
        "x = keras.layers.Dropout(0.5)(x)\n",
        "\n",
        "# Conv1D + global max pooling\n",
        "x = keras.layers.Conv1D(128, 7, padding=\"valid\", activation=\"relu\", strides=3)(x)\n",
        "x = keras.layers.Conv1D(128, 7, padding=\"valid\", activation=\"relu\", strides=3)(x)\n",
        "x = keras.layers.GlobalMaxPooling1D()(x)\n",
        "\n",
        "# We add a vanilla hidden layer:\n",
        "x = keras.layers.Dense(128, activation=\"relu\")(x)\n",
        "x = keras.layers.Dropout(0.5)(x)\n",
        "\n",
        "# We project onto a single unit output layer, and squash it with a sigmoid:\n",
        "predictions = keras.layers.Dense(1, activation=\"sigmoid\", name=\"predictions\")(x)\n",
        "\n",
        "model = keras.Model(inputs, predictions,name='CNN')\n",
        "\n",
        "# Compile the model with binary crossentropy loss and an adam optimizer.\n",
        "model.compile(loss=\"binary_crossentropy\", optimizer=\"adam\", metrics=[\"accuracy\"])"
      ]
    },
    {
      "cell_type": "code",
      "execution_count": null,
      "metadata": {
        "colab": {
          "base_uri": "https://localhost:8080/"
        },
        "id": "waxOU9XRv7hH",
        "outputId": "3341cdd4-aee8-4d0b-8827-cf310ccfbc7d"
      },
      "outputs": [
        {
          "name": "stdout",
          "output_type": "stream",
          "text": [
            "Epoch 1/3\n",
            "\u001b[1m625/625\u001b[0m \u001b[32m━━━━━━━━━━━━━━━━━━━━\u001b[0m\u001b[37m\u001b[0m \u001b[1m23s\u001b[0m 34ms/step - accuracy: 0.6160 - loss: 0.6178 - val_accuracy: 0.7960 - val_loss: 0.4333\n",
            "Epoch 2/3\n",
            "\u001b[1m625/625\u001b[0m \u001b[32m━━━━━━━━━━━━━━━━━━━━\u001b[0m\u001b[37m\u001b[0m \u001b[1m20s\u001b[0m 29ms/step - accuracy: 0.8339 - loss: 0.3752 - val_accuracy: 0.8074 - val_loss: 0.4263\n",
            "Epoch 3/3\n",
            "\u001b[1m625/625\u001b[0m \u001b[32m━━━━━━━━━━━━━━━━━━━━\u001b[0m\u001b[37m\u001b[0m \u001b[1m19s\u001b[0m 30ms/step - accuracy: 0.8822 - loss: 0.2918 - val_accuracy: 0.8006 - val_loss: 0.4839\n"
          ]
        },
        {
          "data": {
            "text/plain": [
              "<keras.src.callbacks.history.History at 0x78e5626ff010>"
            ]
          },
          "execution_count": 42,
          "metadata": {},
          "output_type": "execute_result"
        }
      ],
      "source": [
        "epochs = 3\n",
        "\n",
        "# Fit the model using the train and test datasets.\n",
        "model.fit(train_ds, validation_data=val_ds, epochs=epochs)"
      ]
    },
    {
      "cell_type": "code",
      "execution_count": null,
      "metadata": {
        "colab": {
          "base_uri": "https://localhost:8080/"
        },
        "id": "tP1FpcDPwBzv",
        "outputId": "e4acbde0-fa1d-4860-e534-cdd1130f3e71"
      },
      "outputs": [
        {
          "name": "stdout",
          "output_type": "stream",
          "text": [
            "Model CNN, len=100, test accuracy: 0.785\n"
          ]
        }
      ],
      "source": [
        "test_loss, test_acc =  model.evaluate(test_ds, verbose=0)\n",
        "print(f'Model {model.name}, len={sequence_length}, test accuracy: {test_acc:.3f}')"
      ]
    },
    {
      "cell_type": "code",
      "execution_count": null,
      "metadata": {
        "colab": {
          "base_uri": "https://localhost:8080/"
        },
        "id": "T4EPUpwG7DGA",
        "outputId": "c954898d-6248-461b-ed3d-fad1d7dc7dab"
      },
      "outputs": [
        {
          "name": "stdout",
          "output_type": "stream",
          "text": [
            "\u001b[1m1/1\u001b[0m \u001b[32m━━━━━━━━━━━━━━━━━━━━\u001b[0m\u001b[37m\u001b[0m \u001b[1m0s\u001b[0m 163ms/step\n",
            "0.08 -- That movie was absolutely awful\n",
            "0.36 -- The acting was a bit lacking\n",
            "0.88 -- The film was creative and surprising\n",
            "0.90 -- Absolutely fantastic!\n",
            "0.45 -- This movie is not worth the money\n",
            "0.43 -- The only positive thing with this movie is the music\n"
          ]
        }
      ],
      "source": [
        "# See what the model say about the test sentences\n",
        "tspred = model.predict(preprocessing_layer(test_sentences))\n",
        "for ix in range(len(tspred)):\n",
        "  print(f'{tspred[ix,0]:.2f} -- {test_sentences[ix]}')"
      ]
    },
    {
      "cell_type": "markdown",
      "metadata": {
        "id": "Rk-9wayjd_hl"
      },
      "source": [
        "# ‽ Uppgift\n",
        "* Jämför din (bästa) LSTM-modell med denna CNN-modell, vilka slutsatser drar du?"
      ]
    },
    {
      "cell_type": "markdown",
      "metadata": {
        "id": "oamqDgHabwUH"
      },
      "source": [
        "### Comparison Between LSTM(32) and CNN Models\n",
        "1. **LSTM(32) Model (Best):**\n",
        "   - **Test Accuracy:** 0.816 (Sequence length = 100).\n",
        "   - **Training Time:** 85.5 seconds (for sequence length 100).\n",
        "   - **Performance on Test Sentences:**\n",
        "   - Less confident on certain sentences, particularly those with ambiguous sentiment:\n",
        "    - 0.47 -- The acting was a bit lacking\n",
        "    - 0.38 -- The only positive thing with this movie is the music\n",
        "\n",
        "2. **CNN Model:**\n",
        "   - **Test Accuracy:** 0.792 (Sequence length = 100).\n",
        "   - **Training Time:** Faster than LSTM for the same sequence length.\n",
        "   - **Performance on Test Sentences:**\n",
        "     - Less confident on certain sentences, particularly those with ambiguous sentiment:\n",
        "       - E.g., \"The acting was a bit lacking\" (0.37).\n",
        "       - E.g., \"The only positive thing with this movie is the music\" (0.45).\n",
        "\n",
        "### **Conclusions:**\n",
        "   - If accuracy and the ability to handle sequential dependencies are critical (e.g., in nuanced sentiment analysis), the LSTM model is the better choice.\n",
        "   - If computational efficiency and faster training are prioritized, CNN could be considered, but it may need additional techniques (e.g., combining with attention mechanisms) to bridge the accuracy gap."
      ]
    },
    {
      "cell_type": "markdown",
      "metadata": {
        "id": "bi9LWJmgKs7C"
      },
      "source": [
        "# Now testing with BERT using Keras NLP\n",
        "https://keras.io/guides/keras_nlp/getting_started/"
      ]
    },
    {
      "cell_type": "code",
      "execution_count": null,
      "metadata": {
        "colab": {
          "base_uri": "https://localhost:8080/"
        },
        "id": "iGuJc43Tyw9n",
        "outputId": "13b0a0a8-ed92-4d2c-e69f-4c6d77034588"
      },
      "outputs": [
        {
          "name": "stdout",
          "output_type": "stream",
          "text": [
            "KerasNLP version: 0.12.1\n",
            "Using bert_small_en_uncased\n"
          ]
        }
      ],
      "source": [
        "import keras_nlp\n",
        "print('KerasNLP version:', keras_nlp.__version__)\n",
        "\n",
        "# Read all the possible parts for a pretrained model\n",
        "# https://keras.io/api/keras_nlp/models/\n",
        "\n",
        "model_name = \"bert_small_en_uncased\"\n",
        "#model_name = \"bert_tiny_en_uncased\"\n",
        "\n",
        "print(f'Using {model_name}')\n",
        "classifier   = keras_nlp.models.BertClassifier.from_preset(model_name, num_classes=2)\n",
        "backbone     = keras_nlp.models.BertBackbone.from_preset(model_name)\n",
        "tokenizer    = keras_nlp.models.BertTokenizer.from_preset(model_name)\n",
        "preprocessor = keras_nlp.models.BertPreprocessor.from_preset(model_name)"
      ]
    },
    {
      "cell_type": "markdown",
      "metadata": {
        "id": "FBTz9pUXBfHZ"
      },
      "source": [
        "## Read data into datasets"
      ]
    },
    {
      "cell_type": "code",
      "execution_count": null,
      "metadata": {
        "id": "lFhyNFZ_KsGh"
      },
      "outputs": [],
      "source": [
        "AUTOTUNE = tf.data.AUTOTUNE\n",
        "BATCH_SIZE = 32\n",
        "\n",
        "# Use the raw datasets as BERT has its own preprocessing and tokenizer\n",
        "imdb_train = raw_imdb_train_ds.cache().prefetch(buffer_size=AUTOTUNE)\n",
        "imdb_val   = raw_imdb_val_ds.cache().prefetch(buffer_size=AUTOTUNE)\n",
        "imdb_test  = raw_imdb_test_ds.cache().prefetch(buffer_size=AUTOTUNE)"
      ]
    },
    {
      "cell_type": "code",
      "execution_count": null,
      "metadata": {
        "colab": {
          "base_uri": "https://localhost:8080/"
        },
        "id": "c8tsX_-gET6P",
        "outputId": "74dcb3af-a761-4dbc-abf2-2b2ac7067426"
      },
      "outputs": [
        {
          "name": "stdout",
          "output_type": "stream",
          "text": [
            "(<tf.Tensor: shape=(), dtype=string, numpy=b\"What is interesting is that the acting; was not bad, just not enough. It was rather lame., special effects nor the lines were the single culprit for this failure. Standing alone they weren't horribly bad, but put together was a tragic move. The show seemed long winded and slow with special effects apparently designed to speed the movie along, but it failed totally.<br /><br />Much of the blame for this disaster was put on special effects.Don't believe it, they were kinda cool. Appleby was not the best choice for this endeavor. Though she may have been all they had to chose from with a bit of fan recogniton. An experienced actress would have brought something to the part, like Appleby never did. Scfi puts out some really good original movies, it's just too bad that this failed so drastically.\">, <tf.Tensor: shape=(), dtype=int32, numpy=0>)\n"
          ]
        }
      ],
      "source": [
        "# Inspect first review\n",
        "# Format is (review text tensor, label tensor)\n",
        "print(imdb_train.unbatch().take(1).get_single_element())"
      ]
    },
    {
      "cell_type": "markdown",
      "metadata": {
        "id": "-cT2kl-hBqnl"
      },
      "source": [
        "## Use the BERT classifier  (contains both preprocessor and backbone)\n",
        "\n",
        "https://keras.io/api/keras_nlp/models/bert/bert_classifier/"
      ]
    },
    {
      "cell_type": "code",
      "execution_count": null,
      "metadata": {
        "colab": {
          "background_save": true,
          "base_uri": "https://localhost:8080/"
        },
        "id": "nXqsV-SFMD4X",
        "outputId": "f9daeea2-9f49-4fec-cb1c-f0f7ab8cbcab"
      },
      "outputs": [
        {
          "name": "stdout",
          "output_type": "stream",
          "text": [
            "Epoch 1/2\n",
            "\u001b[1m111/625\u001b[0m \u001b[32m━━━\u001b[0m\u001b[37m━━━━━━━━━━━━━━━━━\u001b[0m \u001b[1m6:51:03\u001b[0m 48s/step - loss: 0.5768 - sparse_categorical_accuracy: 0.6885"
          ]
        }
      ],
      "source": [
        "classifier   = keras_nlp.models.BertClassifier.from_preset(model_name, num_classes=2)\n",
        "\n",
        "start = time.time()\n",
        "classifier.fit(\n",
        "    imdb_train,\n",
        "    validation_data=imdb_val,\n",
        "    epochs=2,\n",
        ")\n",
        "end = time.time()\n",
        "print(f\"Time to run: {end - start:.1f}\",)\n",
        "# Take approximately 780s on a T4"
      ]
    },
    {
      "cell_type": "code",
      "execution_count": null,
      "metadata": {
        "id": "9Lh2UeQFMulz"
      },
      "outputs": [],
      "source": [
        "test_loss, test_acc =  classifier.evaluate(imdb_test, verbose=0)\n",
        "print(f'Model {classifier.name} test accuracy: {test_acc:.3f}')"
      ]
    },
    {
      "cell_type": "code",
      "execution_count": null,
      "metadata": {
        "id": "E22g-OcvV5Fb"
      },
      "outputs": [],
      "source": [
        "tspred = classifier.predict(test_sentences, verbose=0)\n",
        "for ix in range(len(tspred)):\n",
        "  sm =keras.activations.softmax(tspred[ix])\n",
        "  print(f'{sm[1]:.2f} -- {test_sentences[ix]}')"
      ]
    },
    {
      "cell_type": "code",
      "execution_count": null,
      "metadata": {
        "id": "w4m5cb5orUlo"
      },
      "outputs": [],
      "source": [
        "classifier.summary()"
      ]
    },
    {
      "cell_type": "markdown",
      "metadata": {
        "id": "Z-qm62nVkghv"
      },
      "source": [
        "# ‽ Uppgift\n",
        "* Jämför dina tidigare modeller mot denna BERT vilka slutsatser drar du?"
      ]
    },
    {
      "cell_type": "markdown",
      "metadata": {
        "id": "rAwKZG2RsUdK"
      },
      "source": [
        "##### **Performance (Accuracy):**\n",
        "- **BERT** achieved a test accuracy of **0.897**, outperforming both the LSTM models (best LSTM, sequence length = 500: **0.878**) and CNN model (**0.792**).\n",
        "- **Conclusion**: BERT demonstrates superior ability to capture complex linguistic patterns due to its transformer-based architecture, making it more effective for text classification.\n",
        "\n",
        "##### **Training Time:**\n",
        "- **BERT** took approximately **145 seconds** for 2 epochs on a powerful GPU (T4).\n",
        "- **LSTM** (best-performing) took **413 seconds** with `sequence_length=500`.\n",
        "- **CNN** trained much faster, completing under a minute for 3 epochs.\n",
        "- **Conclusion**: BERT demands more computational resources and time for training compared to simpler models like LSTM and CNN, attributed to its large parameter size and transformer architecture.\n",
        "\n",
        "##### **Model Complexity:**\n",
        "- **BERT**: Over **86 million parameters**, leveraging pre-trained knowledge to generalize linguistic patterns.\n",
        "- **LSTM/CNN**: Much smaller parameter counts, requiring more training to learn patterns from scratch.\n",
        "- **Conclusion**: BERT's complexity allows better generalization, while LSTM and CNN are faster and more efficient but more prone to overfitting on small datasets.\n",
        "\n",
        "##### **Sequence Data Handling:**\n",
        "- **BERT**: Optimized to handle sequences up to **512 tokens**, making it superior for longer texts.\n",
        "- **LSTM**: Handles sequences well but struggles with longer texts due to vanishing gradient issues.\n",
        "- **CNN**: Works well with fixed-size input but lacks the ability to capture context over long distances.\n",
        "- **Conclusion**: BERT excels in handling long sequences and contextual relationships.\n",
        "\n",
        "##### **Uncertainty in Test Sentences:**\n",
        "- **BERT**: Confident in most predictions but slightly less so for negative phrases like \"The acting was a bit lacking\" (**0.03** probability). This shows BERT's understanding of subtle context but indicates room for improvement through fine-tuning.\n",
        "- **LSTM/CNN**: Show less confidence for similar sentences due to limited contextual understanding.\n",
        "\n",
        "Finally,\n",
        "1. **Performance**: BERT is superior in accuracy and generalization compared to LSTM and CNN.\n",
        "2. **Efficiency**: LSTM and CNN are faster and simpler, making them suitable for smaller datasets or resource-constrained tasks.\n",
        "3. **Recommendation**: Use **BERT** when resources and data are sufficient for tasks requiring deep linguistic understanding. For simpler tasks, **LSTM** offers a balanced alternative.\n",
        "\n"
      ]
    },
    {
      "cell_type": "markdown",
      "metadata": {
        "id": "Nd5ouH9plfk1"
      },
      "source": [
        "# VG uppgifter\n",
        "\n",
        "### För BERT\n",
        "Istället för att använda den färdiga BertClassfier så ska du här använda BERTBackbone med överförd inlärning. Nedan ger jag ett exempel. Om det blir för långa körtider kan du byta modell till \"bert_tiny_en_uncased\"\n",
        "* Din uppgift är att undersök om du kan hitta några egna \"top\" lager som förbättrar denna BERT-modell."
      ]
    },
    {
      "cell_type": "markdown",
      "metadata": {
        "id": "ZGJ1SKe_CyIN"
      },
      "source": [
        "# Now work with BERT model backbone more directly\n",
        "Based on\n",
        "https://keras.io/guides/keras_nlp/getting_started/"
      ]
    },
    {
      "cell_type": "code",
      "execution_count": null,
      "metadata": {
        "id": "kPNdf5glXzCs"
      },
      "outputs": [],
      "source": [
        "import keras_nlp\n",
        "print('KerasNLP version:', keras_nlp.__version__)\n",
        "\n",
        "# Read all the possible parts for a pretrained model\n",
        "# https://keras.io/api/keras_nlp/models/\n",
        "\n",
        "#model_name = \"bert_small_en_uncased\"\n",
        "model_name = \"bert_tiny_en_uncased\"\n",
        "\n",
        "print(f'Using {model_name}')\n",
        "classifier   = keras_nlp.models.BertClassifier.from_preset(model_name, num_classes=2)\n",
        "backbone     = keras_nlp.models.BertBackbone.from_preset(model_name)\n",
        "tokenizer    = keras_nlp.models.BertTokenizer.from_preset(model_name)\n",
        "preprocessor = keras_nlp.models.BertPreprocessor.from_preset(model_name)"
      ]
    },
    {
      "cell_type": "code",
      "execution_count": null,
      "metadata": {
        "id": "09E5P5klDdaj"
      },
      "outputs": [],
      "source": [
        "# If we only use the backbone, we need to preprocess our data\n",
        "imdb_train_preprocessed = (\n",
        "    imdb_train.map(preprocessor, tf.data.AUTOTUNE).cache().prefetch(tf.data.AUTOTUNE)\n",
        ")\n",
        "imdb_val_preprocessed = (\n",
        "    imdb_val.map(preprocessor, tf.data.AUTOTUNE).cache().prefetch(tf.data.AUTOTUNE)\n",
        ")\n",
        "imdb_test_preprocessed = (\n",
        "    imdb_test.map(preprocessor, tf.data.AUTOTUNE).cache().prefetch(tf.data.AUTOTUNE)\n",
        ")"
      ]
    },
    {
      "cell_type": "code",
      "execution_count": null,
      "metadata": {
        "id": "ty4iDuOzWIPc"
      },
      "outputs": [],
      "source": [
        "def bert_compile_and_fit(model, epochs=15, patience=2):\n",
        "  model.compile(\n",
        "      loss=keras.losses.SparseCategoricalCrossentropy(from_logits=True),\n",
        "      optimizer=keras.optimizers.AdamW(5e-5),\n",
        "      metrics=[keras.metrics.SparseCategoricalAccuracy()],\n",
        "      jit_compile=True,\n",
        "  )\n",
        "\n",
        "  early_stopping = keras.callbacks.EarlyStopping(monitor='val_loss', mode='min',\n",
        "                                                verbose=1, patience=patience,\n",
        "                                                restore_best_weights = True)\n",
        "\n",
        "  start = time.time()\n",
        "  history = model.fit(\n",
        "      imdb_train_preprocessed,\n",
        "      validation_data=imdb_val_preprocessed,\n",
        "      epochs=epochs,\n",
        "      callbacks=[early_stopping]\n",
        "  )\n",
        "  end = time.time()\n",
        "  print(f\"Time to run: {end - start:.1f}\",)\n",
        "  return model,history"
      ]
    },
    {
      "cell_type": "markdown",
      "metadata": {
        "id": "2LVm9s2FN9d3"
      },
      "source": [
        "## Only train top (everything after backbone)"
      ]
    },
    {
      "cell_type": "code",
      "execution_count": null,
      "metadata": {
        "id": "xoK6T7tMIuD7"
      },
      "outputs": [],
      "source": [
        "# Now Do Not train backbone\n",
        "backbone.trainable = False\n",
        "\n",
        "# Set up model using transfer learning of backbone\n",
        "inputs = backbone.input\n",
        "# There are multiple parts as output from backbone, but this was difficult to figure out before\n",
        "# the example in https://keras.io/guides/keras_nlp/getting_started/\n",
        "sequence = backbone(inputs)[\"sequence_output\"]\n",
        "for _ in range(2):\n",
        "    sequence = keras_nlp.layers.TransformerEncoder(\n",
        "        num_heads=2,\n",
        "        intermediate_dim=512,\n",
        "        dropout=0.1,\n",
        "    )(sequence)\n",
        "\n",
        "# Note that if you want your own layers here then its input should be (sequence[:, backbone.cls_token_index, :])\n",
        "x = keras.layers.Dense(2)(sequence[:, backbone.cls_token_index, :])\n",
        "\n",
        "model = keras.Model(inputs=inputs, outputs=x, name = f'{model_name}-basic_backbone-only_top_train')\n",
        "model.summary()"
      ]
    },
    {
      "cell_type": "code",
      "execution_count": null,
      "metadata": {
        "id": "PzJLORHo1Prd"
      },
      "outputs": [],
      "source": [
        "inputs = backbone.input\n",
        "sequence = backbone(inputs)[\"sequence_output\"]\n",
        "x = keras.layers.Dense(128, activation=\"relu\")(sequence[:, backbone.cls_token_index, :])\n",
        "x = keras.layers.Dropout(0.1)(x)\n",
        "outputs = keras.layers.Dense(2)(x)\n",
        "model = keras.Model(inputs=inputs, outputs=outputs, name=\"bert_dense\")\n"
      ]
    },
    {
      "cell_type": "code",
      "execution_count": null,
      "metadata": {
        "id": "jdEKgMz2oKSW"
      },
      "outputs": [],
      "source": [
        "backbone.trainable = False\n",
        "sequence = backbone(inputs)[\"sequence_output\"]\n",
        "for _ in range(3):  #\n",
        "    sequence = keras_nlp.layers.TransformerEncoder(\n",
        "        num_heads=4,\n",
        "        intermediate_dim=256,\n",
        "        dropout=0.1,\n",
        "    )(sequence)\n",
        "\n",
        "x = keras.layers.Dense(128, activation=\"relu\")(sequence[:, backbone.cls_token_index, :])\n",
        "outputs = keras.layers.Dense(2)(x)\n",
        "model = keras.Model(inputs=inputs, outputs=outputs, name=\"bert_transformer\")\n",
        "\n",
        "model.summary()"
      ]
    },
    {
      "cell_type": "code",
      "execution_count": null,
      "metadata": {
        "id": "JlKn50KH28np"
      },
      "outputs": [],
      "source": [
        "model,history = bert_compile_and_fit(model)\n",
        "# Takes approximately 1560s (ES on epoch 6) on a T4"
      ]
    },
    {
      "cell_type": "code",
      "execution_count": null,
      "metadata": {
        "id": "KG_6SGbUD3QJ"
      },
      "outputs": [],
      "source": [
        "test_loss, test_acc =  model.evaluate(imdb_test_preprocessed, verbose=0)\n",
        "print(f'Model {model.name} test accuracy: {test_acc:.3f}')"
      ]
    },
    {
      "cell_type": "code",
      "execution_count": null,
      "metadata": {
        "id": "N5cYPJ4CDyPs"
      },
      "outputs": [],
      "source": [
        "# See what the model say about the test sentences\n",
        "tspred = model.predict(preprocessor(test_sentences), verbose=0)\n",
        "for ix in range(len(tspred)):\n",
        "  sm =keras.activations.softmax(tspred[ix])\n",
        "  print(f'{sm[1]:.2f} -- {test_sentences[ix]}')"
      ]
    },
    {
      "cell_type": "markdown",
      "metadata": {
        "id": "_fz9OaBa0Acu"
      },
      "source": [
        "Due to limited computational resources, I was unable to test all experimental designs, especially models with more complex structures that require extended training time on GPUs. However, I conducted experiments on a multi-layer TransformerEncoder structure and a simple Dense structure. These models showed lower accuracy compared to the pre-trained BERT classifier, likely due to limited tuning of hyperparameters and fewer computational resources for extensive training.\n",
        "\n",
        "Based on my experiments, I could not identify a top layer that outperformed the pre-trained BERT classifier. While adding multiple TransformerEncoder layers improved upon the simple Dense structure, the performance was still significantly lower. The pre-trained model remains the best choice for this task.\n",
        "\n",
        "| **Model**                     | **Test Accuracy** | **Notes**                                                                                                                                      |\n",
        "|-------------------------------|-------------------|------------------------------------------------------------------------------------------------------------------------------------------------|\n",
        "| Pre-trained BERT Classifier   | **0.897**         | Achieved the best performance due to transfer learning and optimized layers.                                                                  |\n",
        "| Multi-layer TransformerEncoder| 0.735             | Lower performance, likely due to insufficient fine-tuning and simpler architecture compared to pre-trained BERT.                              |\n",
        "| Simple Dense Structure         | ~0.70             | Struggled with capturing complex relationships in the data. Demonstrated that pre-trained embeddings are critical for better performance.      |\n",
        "\n",
        "---\n",
        "\n",
        "\n",
        "1. **Best Performance**: The pre-trained BERT model with `bert_small_en_uncased` achieved the highest accuracy of **0.894** on the test set. Its success is attributed to transfer learning, leveraging rich contextual embeddings and fine-tuning on a large corpus. This model is highly effective and reliable for sentiment classification.\n",
        "\n",
        "2. **Comparison with `bert_tiny_en_uncased`**: The `bert_tiny_en_uncased` model achieved a test accuracy of **0.843**, showing a trade-off between model size and performance. While it is computationally lighter, it lacks the depth and capacity of the `bert_small_en_uncased` model.\n",
        "\n",
        "3. **Custom Top Layers**: Experiments with additional custom layers (e.g., multi-layer TransformerEncoder, Dense structures) on `bert_tiny_en_uncased` yielded lower accuracy (~0.735). These layers struggled to match the performance of the pre-trained classifier due to insufficient complexity and contextual understanding.\n",
        "\n",
        "4. **Conclusion**: The `bert_small_en_uncased` model is the optimal choice for this task, demonstrating superior accuracy and robustness. Simpler architectures or smaller models, while faster, lack the same level of effectiveness. Further improvements could involve fine-tuning the last few layers of the pre-trained models or experimenting with hybrid architectures, but the pre-trained BERT remains the most reliable solution."
      ]
    }
  ],
  "metadata": {
    "accelerator": "GPU",
    "colab": {
      "gpuType": "T4",
      "provenance": []
    },
    "kernelspec": {
      "display_name": "Python 3",
      "name": "python3"
    },
    "language_info": {
      "codemirror_mode": {
        "name": "ipython",
        "version": 3
      },
      "file_extension": ".py",
      "mimetype": "text/x-python",
      "name": "python",
      "nbconvert_exporter": "python",
      "pygments_lexer": "ipython3",
      "version": "3.5.2"
    }
  },
  "nbformat": 4,
  "nbformat_minor": 0
}