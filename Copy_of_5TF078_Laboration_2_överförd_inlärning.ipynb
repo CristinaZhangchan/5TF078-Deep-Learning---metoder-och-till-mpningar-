{
  "nbformat": 4,
  "nbformat_minor": 0,
  "metadata": {
    "colab": {
      "provenance": []
    },
    "kernelspec": {
      "name": "python3",
      "display_name": "Python 3"
    },
    "accelerator": "GPU"
  },
  "cells": [
    {
      "cell_type": "markdown",
      "metadata": {
        "id": "nAUA6cvb_CNY"
      },
      "source": [
        "# 5TF078 Deep Learning Course\n",
        "## Excercise 2 Transfer Learning on Fashion-MNIST\n",
        "Created by Tomas Nordström, Umeå University\n",
        "\n",
        "Revisions:\n",
        "* 2022-04-01 First revision based on earlier excercises /ToNo"
      ]
    },
    {
      "cell_type": "markdown",
      "source": [
        "#Cristina Zhang\n",
        "#zhangjinting118@gmail.com\n"
      ],
      "metadata": {
        "id": "IAWshxTD0Sd8"
      }
    },
    {
      "cell_type": "markdown",
      "metadata": {
        "id": "r-tp9iDDCpsz"
      },
      "source": [
        "# First we initilize our Python environment"
      ]
    },
    {
      "cell_type": "code",
      "source": [
        "#### Set up tests to know if we are running Colab or Kaggle\n",
        "import sys\n",
        "\n",
        "### Is this notebook running on Colab?\n",
        "IS_COLAB = \"google.colab\" in sys.modules\n",
        "\n",
        "### Is this notebook running on Kaggle?\n",
        "# Fool Kaggle into making kaggle_secrets avaiable\n",
        "try:\n",
        "    import kaggle_secrets\n",
        "except ImportError as e:\n",
        "    pass\n",
        "# Now we can test for Kaggle\n",
        "IS_KAGGLE = \"kaggle_secrets\" in sys.modules"
      ],
      "metadata": {
        "id": "lVYuWJAls8hZ"
      },
      "execution_count": null,
      "outputs": []
    },
    {
      "cell_type": "code",
      "metadata": {
        "id": "F1pcr2Em_Lzo",
        "colab": {
          "base_uri": "https://localhost:8080/"
        },
        "outputId": "df1d1272-e598-47a3-98de-7ae10f43a540"
      },
      "source": [
        "# Set up Keras/Tensorflow framework\n",
        "import os\n",
        "os.environ[\"KERAS_BACKEND\"] = \"tensorflow\" # Also tensorflow, jax,pytorch for Keras 3.0\n",
        "\n",
        "import keras\n",
        "print('Keras version:', keras.__version__)\n",
        "\n",
        "# Import needed libraries\n",
        "import tensorflow as tf\n",
        "print('TensorFlow version:', tf.__version__)"
      ],
      "execution_count": null,
      "outputs": [
        {
          "output_type": "stream",
          "name": "stdout",
          "text": [
            "Keras version: 3.5.0\n",
            "TensorFlow version: 2.17.1\n"
          ]
        }
      ]
    },
    {
      "cell_type": "code",
      "source": [
        "#### Additional helper libraries\n",
        "import pandas as pd\n",
        "import numpy as np\n",
        "import time\n",
        "import sklearn\n",
        "import tensorflow_datasets as tfds\n",
        "\n",
        "# Matlab plotting\n",
        "import matplotlib\n",
        "import matplotlib.pyplot as plt"
      ],
      "metadata": {
        "id": "m1D_t9sZpzag"
      },
      "execution_count": null,
      "outputs": []
    },
    {
      "cell_type": "code",
      "metadata": {
        "id": "Uf0ZWo9JyEhS",
        "colab": {
          "base_uri": "https://localhost:8080/"
        },
        "outputId": "0e90fdee-c0ab-4342-a491-391f84a904c3"
      },
      "source": [
        "#### Test for GPU and determine what GPU we have\n",
        "import sys\n",
        "if not tf.config.list_physical_devices('GPU'):\n",
        "     print(\"No GPU was detected. CNNs can be very slow without a GPU.\")\n",
        "     if IS_COLAB or IS_KAGGLE:\n",
        "         print(\"Change runtime and select a GPU hardware accelerator.\")\n",
        "else:\n",
        "     !nvidia-smi -L"
      ],
      "execution_count": null,
      "outputs": [
        {
          "output_type": "stream",
          "name": "stdout",
          "text": [
            "GPU 0: Tesla T4 (UUID: GPU-ea31e3a2-2975-4f6a-5472-dd2f847badab)\n"
          ]
        }
      ]
    },
    {
      "cell_type": "markdown",
      "metadata": {
        "id": "AhWTXQfXBiN6"
      },
      "source": [
        "# Set up the needed data sets, its preprocessing, and making it into a stream."
      ]
    },
    {
      "cell_type": "markdown",
      "source": [
        "## Get hold of a data-set\n",
        "In this exercise we will use Fashion MNIST dataset, which an alternative to MNIST (it is a little harder, but the image size is the same). This is available directly as a [Keras dataset](https://keras.io/datasets/). This is a dataset of 60,000 28x28 grayscale images of 10 fashion categories, along with a test set of 10,000 images.\n",
        "\n",
        "Note that we split our data into **three** data sets: training, validation, testing; each with its own purpose."
      ],
      "metadata": {
        "id": "kmtboE3kolMi"
      }
    },
    {
      "cell_type": "code",
      "metadata": {
        "id": "0ViGcOSI-_t6"
      },
      "source": [
        "#### Get Fashion-MNIST training and test data from Keras database (https://keras.io/datasets/)\n",
        "(train_images0, train_labels0), (test_images, test_labels) = keras.datasets.fashion_mnist.load_data()\n",
        "\n",
        "# Define labels\n",
        "class_names = ['T-shirt/top', 'Trouser', 'Pullover', 'Dress', 'Coat',\n",
        "               'Sandal', 'Shirt', 'Sneaker', 'Bag', 'Ankle boot']\n",
        "num_classes = len(class_names)\n",
        "\n",
        "# Normalise images to a float between 0 and 1\n",
        "train_images0 = train_images0.astype('float32') / 255\n",
        "test_images = test_images.astype('float32') / 255\n",
        "\n",
        "# Add empty color dimensions to images\n",
        "train_images0 = np.expand_dims(train_images0, -1)\n",
        "test_images = np.expand_dims(test_images, -1)"
      ],
      "execution_count": null,
      "outputs": []
    },
    {
      "cell_type": "markdown",
      "source": [
        "Note that the training labels are an integer between 0 and 9, which is not very good as outputs (or inputs) for DL models. A better approach will be to use a one-hot encoding. We can convert our label vectors to one-hot encoded matrices by using [to_categorical](https://www.tensorflow.org/api_docs/python/tf/keras/utils/to_categorical) `keras.utils.to_categorical(train_labels)`. This was used in Excercise 1.\n",
        "\n",
        "In this Excercise we will achieve the same thing by using [SparseCategoricalCrossentropy](https://keras.io/api/losses/probabilistic_losses/#sparsecategoricalcrossentropy-class) as a loss function instead of the [CategoricalCrossentropy](https://keras.io/api/losses/probabilistic_losses/#categoricalcrossentropy-class). But note that for both cases we need our model to have as many output nodes as we have classes!"
      ],
      "metadata": {
        "id": "Cg4WF2gMzfpm"
      }
    },
    {
      "cell_type": "markdown",
      "source": [
        "SparseCategoricalCrossentropy -- Computes the crossentropy loss between the labels and predictions. expect labels to be provided as ##integers##\n",
        "\n",
        "CategoricalCrossentropy -- Computes the crossentropy loss between the labels and predictions. expect labels to be provided in a one_hot representation\n",
        "\n"
      ],
      "metadata": {
        "id": "35u8Pp1A2cxf"
      }
    },
    {
      "cell_type": "markdown",
      "source": [
        "## Set up the streaming of data"
      ],
      "metadata": {
        "id": "FykTXoC1sJMq"
      }
    },
    {
      "cell_type": "code",
      "source": [
        "#### Function to reformat data so that we can use a predefined network\n",
        "\n",
        "# Later you will find out what is the minumum size\n",
        "##################### TODO: MIGHT NEED AN UPDATE #####################\n",
        "NEWIMG_WIDTH = 28*2\n",
        "NEWIMG_HEIGHT = 28*2\n",
        "\n",
        "# Define an in-stream transform function (normalize, add color-dim, gray2color, resize)\n",
        "def ds_img_transform(images,labels):\n",
        "    ##################### TODO: YOUR CODE STARTS HERE #####################\n",
        "    images = tf.image.grayscale_to_rgb(images) #28*28*1--> 28*28*3\n",
        "    images = tf.image.resize(images, [NEWIMG_HEIGHT, NEWIMG_WIDTH]) #56*56*3\n",
        "    ##################### TODO: YOUR CODE ENDS HERE #######################\n",
        "    return images,labels"
      ],
      "metadata": {
        "id": "gUzQiBlQsHT4"
      },
      "execution_count": null,
      "outputs": []
    },
    {
      "cell_type": "code",
      "source": [
        "#### Get the three datasets (train, validation and test) from our data\n",
        "##################### TODO: CAN BE CHANGED #####################\n",
        "batch_size = 128\n",
        "\n",
        "# split training into training and validation\n",
        "train_ds,val_ds = keras.utils.split_dataset((train_images0, train_labels0), right_size=0.2)\n",
        "test_ds = tf.data.Dataset.from_tensor_slices((test_images, test_labels))\n",
        "\n",
        "# https://www.tensorflow.org/guide/data_performance\n",
        "# Apply image mapping and set up batching of our datasets\n",
        "train_ds = train_ds.map(ds_img_transform, num_parallel_calls=tf.data.AUTOTUNE).batch(batch_size=batch_size, drop_remainder=True).prefetch(tf.data.AUTOTUNE)\n",
        "val_ds   =   val_ds.map(ds_img_transform, num_parallel_calls=tf.data.AUTOTUNE).batch(batch_size=batch_size, drop_remainder=True).prefetch(tf.data.AUTOTUNE)\n",
        "test_ds  =  test_ds.map(ds_img_transform, num_parallel_calls=tf.data.AUTOTUNE).batch(batch_size=batch_size, drop_remainder=True)\n",
        "print(train_ds)\n",
        "print(val_ds)\n",
        "print(test_ds)"
      ],
      "metadata": {
        "id": "3XzCplzt6VjL",
        "colab": {
          "base_uri": "https://localhost:8080/"
        },
        "outputId": "ee5af913-ca0e-450c-f06e-3c5b326954cf"
      },
      "execution_count": null,
      "outputs": [
        {
          "output_type": "stream",
          "name": "stdout",
          "text": [
            "<_PrefetchDataset element_spec=(TensorSpec(shape=(128, 56, 56, 3), dtype=tf.float32, name=None), TensorSpec(shape=(128,), dtype=tf.uint8, name=None))>\n",
            "<_PrefetchDataset element_spec=(TensorSpec(shape=(128, 56, 56, 3), dtype=tf.float32, name=None), TensorSpec(shape=(128,), dtype=tf.uint8, name=None))>\n",
            "<_BatchDataset element_spec=(TensorSpec(shape=(128, 56, 56, 3), dtype=tf.float32, name=None), TensorSpec(shape=(128,), dtype=tf.uint8, name=None))>\n"
          ]
        }
      ]
    },
    {
      "cell_type": "markdown",
      "metadata": {
        "id": "P9F4zkQQDnAz"
      },
      "source": [
        "## Explore the data\n",
        "It is always advised to take a look at the data, especially after applying various modifications like in ds_img_transform above. But now the data is in datasets and we need to grab a batch by using `dataset.take()`"
      ]
    },
    {
      "cell_type": "code",
      "source": [
        "for ex_images, ex_labels in test_ds.take(1):  # Take just one batch\n",
        "    break  # We've extracted what we need"
      ],
      "metadata": {
        "id": "6oq1aeJQGLTf"
      },
      "execution_count": null,
      "outputs": []
    },
    {
      "cell_type": "code",
      "source": [
        "#### Print a few of the test data images\n",
        "\n",
        "# Index of the images to plot (within the batch)\n",
        "iix = [0,2,4,7,9]\n",
        "\n",
        "plt.figure(figsize=(8, 8))  # Set a larger figure size\n",
        "\n",
        "for i,ix in enumerate(iix):\n",
        "    # Plot images\n",
        "    plt.subplot(1,len(iix), i+1)\n",
        "    plt.imshow(ex_images[ix])\n",
        "    plt.title(f\"Label: {class_names[ex_labels[ix]]}\")\n",
        "\n",
        "plt.tight_layout()\n",
        "plt.show()"
      ],
      "metadata": {
        "colab": {
          "base_uri": "https://localhost:8080/",
          "height": 197
        },
        "id": "30cWZWVaGNPx",
        "outputId": "0e7f9790-d1cc-4c73-f6bf-cc6a066f3252"
      },
      "execution_count": null,
      "outputs": [
        {
          "output_type": "display_data",
          "data": {
            "text/plain": [
              "<Figure size 800x800 with 5 Axes>"
            ],
            "image/png": "[encoded data removed]"
          },
          "metadata": {}
        }
      ]
    },
    {
      "cell_type": "markdown",
      "source": [
        "# Transfer learning\n",
        "Now follows the main topic of this exercise."
      ],
      "metadata": {
        "id": "7GAzAJ1hb5WR"
      }
    },
    {
      "cell_type": "markdown",
      "source": [
        "## Read in the model to transfer\n",
        "You can find the available models at [Keras Applications](https://keras.io/api/applications/)\n",
        "\n",
        "For this excersize you will use [VGG16](https://keras.io/api/applications/vgg/#vgg16-function).\n",
        "\n",
        "When loading VGG, you must choose the correct values of some of the input parameters:\n",
        "* weights='imagenet' --- Since we want to use the weights pretrained on the imagenet\n",
        "* include_top=False --- This is False, we anyway will replace the \"top\" with our own layers. Note that they call the layers closest to the output the top layers.\n",
        "* input_shape= **???** --- Set it to the same shape as the pictures have!"
      ],
      "metadata": {
        "id": "iRXbb6Eab8xB"
      }
    },
    {
      "cell_type": "markdown",
      "source": [
        "### Uppgift\n",
        "Om du tittar på sidan för [VGG16](https://keras.io/api/applications/vgg/#vgg16-function), vilken är den minsta möjliga bildstorlek?\n",
        "\n",
        "**Svar:**\n",
        "\n",
        "It should have exactly 3 input channels, and width and height should be no smaller than 32.\n",
        " (32, 32, 3)"
      ],
      "metadata": {
        "id": "KdUx8POggKiM"
      }
    },
    {
      "cell_type": "code",
      "source": [
        "\n",
        "##################### TODO: YOUR CODE STARTS HERE #####################\n",
        "input_shape = (56,56,3)\n",
        "\n",
        "#### Read in the model to transfer\n",
        "tl_model = keras.applications.vgg16.VGG16(weights='imagenet',include_top=False, input_shape=input_shape)\n",
        "\n",
        "# For now we are not training the parameters in the transfered model\n",
        "tl_model.trainable = False\n",
        "##################### TODO: YOUR CODE ENDS HERE #######################\n",
        "tl_model.summary(show_trainable=True, line_length=100)"
      ],
      "metadata": {
        "id": "DVIuSQ6IcAoh",
        "outputId": "c3052134-6872-48bd-b7eb-03cbac98e559",
        "colab": {
          "base_uri": "https://localhost:8080/",
          "height": 737
        }
      },
      "execution_count": null,
      "outputs": [
        {
          "output_type": "display_data",
          "data": {
            "text/plain": [
              "\u001b[1mModel: \"vgg16\"\u001b[0m\n"
            ],
            "text/html": [
              "<pre style=\"white-space:pre;overflow-x:auto;line-height:normal;font-family:Menlo,'DejaVu Sans Mono',consolas,'Courier New',monospace\"><span style=\"font-weight: bold\">Model: \"vgg16\"</span>\n",
              "</pre>\n"
            ]
          },
          "metadata": {}
        },
        {
          "output_type": "display_data",
          "data": {
            "text/plain": [
              "┏━━━━━━━━━━━━━━━━━━━━━━━━━━━━━━━━━━━━━━━┳━━━━━━━━━━━━━━━━━━━━━━━━━━━━━━━┳━━━━━━━━━━━━━━━━┳━━━━━━━━━┓\n",
              "┃\u001b[1m \u001b[0m\u001b[1mLayer (type)                         \u001b[0m\u001b[1m \u001b[0m┃\u001b[1m \u001b[0m\u001b[1mOutput Shape                 \u001b[0m\u001b[1m \u001b[0m┃\u001b[1m \u001b[0m\u001b[1m       Param #\u001b[0m\u001b[1m \u001b[0m┃\u001b[1m \u001b[0m\u001b[1mTraina…\u001b[0m\u001b[1m \u001b[0m┃\n",
              "┡━━━━━━━━━━━━━━━━━━━━━━━━━━━━━━━━━━━━━━━╇━━━━━━━━━━━━━━━━━━━━━━━━━━━━━━━╇━━━━━━━━━━━━━━━━╇━━━━━━━━━┩\n",
              "│ input_layer_17 (\u001b[38;5;33mInputLayer\u001b[0m)           │ (\u001b[38;5;45mNone\u001b[0m, \u001b[38;5;34m56\u001b[0m, \u001b[38;5;34m56\u001b[0m, \u001b[38;5;34m3\u001b[0m)             │              \u001b[38;5;34m0\u001b[0m │    \u001b[1m-\u001b[0m    │\n",
              "├───────────────────────────────────────┼───────────────────────────────┼────────────────┼─────────┤\n",
              "│ block1_conv1 (\u001b[38;5;33mConv2D\u001b[0m)                 │ (\u001b[38;5;45mNone\u001b[0m, \u001b[38;5;34m56\u001b[0m, \u001b[38;5;34m56\u001b[0m, \u001b[38;5;34m64\u001b[0m)            │          \u001b[38;5;34m1,792\u001b[0m │    \u001b[1;91mN\u001b[0m    │\n",
              "├───────────────────────────────────────┼───────────────────────────────┼────────────────┼─────────┤\n",
              "│ block1_conv2 (\u001b[38;5;33mConv2D\u001b[0m)                 │ (\u001b[38;5;45mNone\u001b[0m, \u001b[38;5;34m56\u001b[0m, \u001b[38;5;34m56\u001b[0m, \u001b[38;5;34m64\u001b[0m)            │         \u001b[38;5;34m36,928\u001b[0m │    \u001b[1;91mN\u001b[0m    │\n",
              "├───────────────────────────────────────┼───────────────────────────────┼────────────────┼─────────┤\n",
              "│ block1_pool (\u001b[38;5;33mMaxPooling2D\u001b[0m)            │ (\u001b[38;5;45mNone\u001b[0m, \u001b[38;5;34m28\u001b[0m, \u001b[38;5;34m28\u001b[0m, \u001b[38;5;34m64\u001b[0m)            │              \u001b[38;5;34m0\u001b[0m │    \u001b[1m-\u001b[0m    │\n",
              "├───────────────────────────────────────┼───────────────────────────────┼────────────────┼─────────┤\n",
              "│ block2_conv1 (\u001b[38;5;33mConv2D\u001b[0m)                 │ (\u001b[38;5;45mNone\u001b[0m, \u001b[38;5;34m28\u001b[0m, \u001b[38;5;34m28\u001b[0m, \u001b[38;5;34m128\u001b[0m)           │         \u001b[38;5;34m73,856\u001b[0m │    \u001b[1;91mN\u001b[0m    │\n",
              "├───────────────────────────────────────┼───────────────────────────────┼────────────────┼─────────┤\n",
              "│ block2_conv2 (\u001b[38;5;33mConv2D\u001b[0m)                 │ (\u001b[38;5;45mNone\u001b[0m, \u001b[38;5;34m28\u001b[0m, \u001b[38;5;34m28\u001b[0m, \u001b[38;5;34m128\u001b[0m)           │        \u001b[38;5;34m147,584\u001b[0m │    \u001b[1;91mN\u001b[0m    │\n",
              "├───────────────────────────────────────┼───────────────────────────────┼────────────────┼─────────┤\n",
              "│ block2_pool (\u001b[38;5;33mMaxPooling2D\u001b[0m)            │ (\u001b[38;5;45mNone\u001b[0m, \u001b[38;5;34m14\u001b[0m, \u001b[38;5;34m14\u001b[0m, \u001b[38;5;34m128\u001b[0m)           │              \u001b[38;5;34m0\u001b[0m │    \u001b[1m-\u001b[0m    │\n",
              "├───────────────────────────────────────┼───────────────────────────────┼────────────────┼─────────┤\n",
              "│ block3_conv1 (\u001b[38;5;33mConv2D\u001b[0m)                 │ (\u001b[38;5;45mNone\u001b[0m, \u001b[38;5;34m14\u001b[0m, \u001b[38;5;34m14\u001b[0m, \u001b[38;5;34m256\u001b[0m)           │        \u001b[38;5;34m295,168\u001b[0m │    \u001b[1;91mN\u001b[0m    │\n",
              "├───────────────────────────────────────┼───────────────────────────────┼────────────────┼─────────┤\n",
              "│ block3_conv2 (\u001b[38;5;33mConv2D\u001b[0m)                 │ (\u001b[38;5;45mNone\u001b[0m, \u001b[38;5;34m14\u001b[0m, \u001b[38;5;34m14\u001b[0m, \u001b[38;5;34m256\u001b[0m)           │        \u001b[38;5;34m590,080\u001b[0m │    \u001b[1;91mN\u001b[0m    │\n",
              "├───────────────────────────────────────┼───────────────────────────────┼────────────────┼─────────┤\n",
              "│ block3_conv3 (\u001b[38;5;33mConv2D\u001b[0m)                 │ (\u001b[38;5;45mNone\u001b[0m, \u001b[38;5;34m14\u001b[0m, \u001b[38;5;34m14\u001b[0m, \u001b[38;5;34m256\u001b[0m)           │        \u001b[38;5;34m590,080\u001b[0m │    \u001b[1;91mN\u001b[0m    │\n",
              "├───────────────────────────────────────┼───────────────────────────────┼────────────────┼─────────┤\n",
              "│ block3_pool (\u001b[38;5;33mMaxPooling2D\u001b[0m)            │ (\u001b[38;5;45mNone\u001b[0m, \u001b[38;5;34m7\u001b[0m, \u001b[38;5;34m7\u001b[0m, \u001b[38;5;34m256\u001b[0m)             │              \u001b[38;5;34m0\u001b[0m │    \u001b[1m-\u001b[0m    │\n",
              "├───────────────────────────────────────┼───────────────────────────────┼────────────────┼─────────┤\n",
              "│ block4_conv1 (\u001b[38;5;33mConv2D\u001b[0m)                 │ (\u001b[38;5;45mNone\u001b[0m, \u001b[38;5;34m7\u001b[0m, \u001b[38;5;34m7\u001b[0m, \u001b[38;5;34m512\u001b[0m)             │      \u001b[38;5;34m1,180,160\u001b[0m │    \u001b[1;91mN\u001b[0m    │\n",
              "├───────────────────────────────────────┼───────────────────────────────┼────────────────┼─────────┤\n",
              "│ block4_conv2 (\u001b[38;5;33mConv2D\u001b[0m)                 │ (\u001b[38;5;45mNone\u001b[0m, \u001b[38;5;34m7\u001b[0m, \u001b[38;5;34m7\u001b[0m, \u001b[38;5;34m512\u001b[0m)             │      \u001b[38;5;34m2,359,808\u001b[0m │    \u001b[1;91mN\u001b[0m    │\n",
              "├───────────────────────────────────────┼───────────────────────────────┼────────────────┼─────────┤\n",
              "│ block4_conv3 (\u001b[38;5;33mConv2D\u001b[0m)                 │ (\u001b[38;5;45mNone\u001b[0m, \u001b[38;5;34m7\u001b[0m, \u001b[38;5;34m7\u001b[0m, \u001b[38;5;34m512\u001b[0m)             │      \u001b[38;5;34m2,359,808\u001b[0m │    \u001b[1;91mN\u001b[0m    │\n",
              "├───────────────────────────────────────┼───────────────────────────────┼────────────────┼─────────┤\n",
              "│ block4_pool (\u001b[38;5;33mMaxPooling2D\u001b[0m)            │ (\u001b[38;5;45mNone\u001b[0m, \u001b[38;5;34m3\u001b[0m, \u001b[38;5;34m3\u001b[0m, \u001b[38;5;34m512\u001b[0m)             │              \u001b[38;5;34m0\u001b[0m │    \u001b[1m-\u001b[0m    │\n",
              "├───────────────────────────────────────┼───────────────────────────────┼────────────────┼─────────┤\n",
              "│ block5_conv1 (\u001b[38;5;33mConv2D\u001b[0m)                 │ (\u001b[38;5;45mNone\u001b[0m, \u001b[38;5;34m3\u001b[0m, \u001b[38;5;34m3\u001b[0m, \u001b[38;5;34m512\u001b[0m)             │      \u001b[38;5;34m2,359,808\u001b[0m │    \u001b[1;91mN\u001b[0m    │\n",
              "├───────────────────────────────────────┼───────────────────────────────┼────────────────┼─────────┤\n",
              "│ block5_conv2 (\u001b[38;5;33mConv2D\u001b[0m)                 │ (\u001b[38;5;45mNone\u001b[0m, \u001b[38;5;34m3\u001b[0m, \u001b[38;5;34m3\u001b[0m, \u001b[38;5;34m512\u001b[0m)             │      \u001b[38;5;34m2,359,808\u001b[0m │    \u001b[1;91mN\u001b[0m    │\n",
              "├───────────────────────────────────────┼───────────────────────────────┼────────────────┼─────────┤\n",
              "│ block5_conv3 (\u001b[38;5;33mConv2D\u001b[0m)                 │ (\u001b[38;5;45mNone\u001b[0m, \u001b[38;5;34m3\u001b[0m, \u001b[38;5;34m3\u001b[0m, \u001b[38;5;34m512\u001b[0m)             │      \u001b[38;5;34m2,359,808\u001b[0m │    \u001b[1;91mN\u001b[0m    │\n",
              "├───────────────────────────────────────┼───────────────────────────────┼────────────────┼─────────┤\n",
              "│ block5_pool (\u001b[38;5;33mMaxPooling2D\u001b[0m)            │ (\u001b[38;5;45mNone\u001b[0m, \u001b[38;5;34m1\u001b[0m, \u001b[38;5;34m1\u001b[0m, \u001b[38;5;34m512\u001b[0m)             │              \u001b[38;5;34m0\u001b[0m │    \u001b[1m-\u001b[0m    │\n",
              "└───────────────────────────────────────┴───────────────────────────────┴────────────────┴─────────┘\n"
            ],
            "text/html": [
              "<pre style=\"white-space:pre;overflow-x:auto;line-height:normal;font-family:Menlo,'DejaVu Sans Mono',consolas,'Courier New',monospace\">┏━━━━━━━━━━━━━━━━━━━━━━━━━━━━━━━━━━━━━━━┳━━━━━━━━━━━━━━━━━━━━━━━━━━━━━━━┳━━━━━━━━━━━━━━━━┳━━━━━━━━━┓\n",
              "┃<span style=\"font-weight: bold\"> Layer (type)                          </span>┃<span style=\"font-weight: bold\"> Output Shape                  </span>┃<span style=\"font-weight: bold\">        Param # </span>┃<span style=\"font-weight: bold\"> Traina… </span>┃\n",
              "┡━━━━━━━━━━━━━━━━━━━━━━━━━━━━━━━━━━━━━━━╇━━━━━━━━━━━━━━━━━━━━━━━━━━━━━━━╇━━━━━━━━━━━━━━━━╇━━━━━━━━━┩\n",
              "│ input_layer_17 (<span style=\"color: #0087ff; text-decoration-color: #0087ff\">InputLayer</span>)           │ (<span style=\"color: #00d7ff; text-decoration-color: #00d7ff\">None</span>, <span style=\"color: #00af00; text-decoration-color: #00af00\">56</span>, <span style=\"color: #00af00; text-decoration-color: #00af00\">56</span>, <span style=\"color: #00af00; text-decoration-color: #00af00\">3</span>)             │              <span style=\"color: #00af00; text-decoration-color: #00af00\">0</span> │    <span style=\"font-weight: bold\">-</span>    │\n",
              "├───────────────────────────────────────┼───────────────────────────────┼────────────────┼─────────┤\n",
              "│ block1_conv1 (<span style=\"color: #0087ff; text-decoration-color: #0087ff\">Conv2D</span>)                 │ (<span style=\"color: #00d7ff; text-decoration-color: #00d7ff\">None</span>, <span style=\"color: #00af00; text-decoration-color: #00af00\">56</span>, <span style=\"color: #00af00; text-decoration-color: #00af00\">56</span>, <span style=\"color: #00af00; text-decoration-color: #00af00\">64</span>)            │          <span style=\"color: #00af00; text-decoration-color: #00af00\">1,792</span> │    <span style=\"color: #ff0000; text-decoration-color: #ff0000; font-weight: bold\">N</span>    │\n",
              "├───────────────────────────────────────┼───────────────────────────────┼────────────────┼─────────┤\n",
              "│ block1_conv2 (<span style=\"color: #0087ff; text-decoration-color: #0087ff\">Conv2D</span>)                 │ (<span style=\"color: #00d7ff; text-decoration-color: #00d7ff\">None</span>, <span style=\"color: #00af00; text-decoration-color: #00af00\">56</span>, <span style=\"color: #00af00; text-decoration-color: #00af00\">56</span>, <span style=\"color: #00af00; text-decoration-color: #00af00\">64</span>)            │         <span style=\"color: #00af00; text-decoration-color: #00af00\">36,928</span> │    <span style=\"color: #ff0000; text-decoration-color: #ff0000; font-weight: bold\">N</span>    │\n",
              "├───────────────────────────────────────┼───────────────────────────────┼────────────────┼─────────┤\n",
              "│ block1_pool (<span style=\"color: #0087ff; text-decoration-color: #0087ff\">MaxPooling2D</span>)            │ (<span style=\"color: #00d7ff; text-decoration-color: #00d7ff\">None</span>, <span style=\"color: #00af00; text-decoration-color: #00af00\">28</span>, <span style=\"color: #00af00; text-decoration-color: #00af00\">28</span>, <span style=\"color: #00af00; text-decoration-color: #00af00\">64</span>)            │              <span style=\"color: #00af00; text-decoration-color: #00af00\">0</span> │    <span style=\"font-weight: bold\">-</span>    │\n",
              "├───────────────────────────────────────┼───────────────────────────────┼────────────────┼─────────┤\n",
              "│ block2_conv1 (<span style=\"color: #0087ff; text-decoration-color: #0087ff\">Conv2D</span>)                 │ (<span style=\"color: #00d7ff; text-decoration-color: #00d7ff\">None</span>, <span style=\"color: #00af00; text-decoration-color: #00af00\">28</span>, <span style=\"color: #00af00; text-decoration-color: #00af00\">28</span>, <span style=\"color: #00af00; text-decoration-color: #00af00\">128</span>)           │         <span style=\"color: #00af00; text-decoration-color: #00af00\">73,856</span> │    <span style=\"color: #ff0000; text-decoration-color: #ff0000; font-weight: bold\">N</span>    │\n",
              "├───────────────────────────────────────┼───────────────────────────────┼────────────────┼─────────┤\n",
              "│ block2_conv2 (<span style=\"color: #0087ff; text-decoration-color: #0087ff\">Conv2D</span>)                 │ (<span style=\"color: #00d7ff; text-decoration-color: #00d7ff\">None</span>, <span style=\"color: #00af00; text-decoration-color: #00af00\">28</span>, <span style=\"color: #00af00; text-decoration-color: #00af00\">28</span>, <span style=\"color: #00af00; text-decoration-color: #00af00\">128</span>)           │        <span style=\"color: #00af00; text-decoration-color: #00af00\">147,584</span> │    <span style=\"color: #ff0000; text-decoration-color: #ff0000; font-weight: bold\">N</span>    │\n",
              "├───────────────────────────────────────┼───────────────────────────────┼────────────────┼─────────┤\n",
              "│ block2_pool (<span style=\"color: #0087ff; text-decoration-color: #0087ff\">MaxPooling2D</span>)            │ (<span style=\"color: #00d7ff; text-decoration-color: #00d7ff\">None</span>, <span style=\"color: #00af00; text-decoration-color: #00af00\">14</span>, <span style=\"color: #00af00; text-decoration-color: #00af00\">14</span>, <span style=\"color: #00af00; text-decoration-color: #00af00\">128</span>)           │              <span style=\"color: #00af00; text-decoration-color: #00af00\">0</span> │    <span style=\"font-weight: bold\">-</span>    │\n",
              "├───────────────────────────────────────┼───────────────────────────────┼────────────────┼─────────┤\n",
              "│ block3_conv1 (<span style=\"color: #0087ff; text-decoration-color: #0087ff\">Conv2D</span>)                 │ (<span style=\"color: #00d7ff; text-decoration-color: #00d7ff\">None</span>, <span style=\"color: #00af00; text-decoration-color: #00af00\">14</span>, <span style=\"color: #00af00; text-decoration-color: #00af00\">14</span>, <span style=\"color: #00af00; text-decoration-color: #00af00\">256</span>)           │        <span style=\"color: #00af00; text-decoration-color: #00af00\">295,168</span> │    <span style=\"color: #ff0000; text-decoration-color: #ff0000; font-weight: bold\">N</span>    │\n",
              "├───────────────────────────────────────┼───────────────────────────────┼────────────────┼─────────┤\n",
              "│ block3_conv2 (<span style=\"color: #0087ff; text-decoration-color: #0087ff\">Conv2D</span>)                 │ (<span style=\"color: #00d7ff; text-decoration-color: #00d7ff\">None</span>, <span style=\"color: #00af00; text-decoration-color: #00af00\">14</span>, <span style=\"color: #00af00; text-decoration-color: #00af00\">14</span>, <span style=\"color: #00af00; text-decoration-color: #00af00\">256</span>)           │        <span style=\"color: #00af00; text-decoration-color: #00af00\">590,080</span> │    <span style=\"color: #ff0000; text-decoration-color: #ff0000; font-weight: bold\">N</span>    │\n",
              "├───────────────────────────────────────┼───────────────────────────────┼────────────────┼─────────┤\n",
              "│ block3_conv3 (<span style=\"color: #0087ff; text-decoration-color: #0087ff\">Conv2D</span>)                 │ (<span style=\"color: #00d7ff; text-decoration-color: #00d7ff\">None</span>, <span style=\"color: #00af00; text-decoration-color: #00af00\">14</span>, <span style=\"color: #00af00; text-decoration-color: #00af00\">14</span>, <span style=\"color: #00af00; text-decoration-color: #00af00\">256</span>)           │        <span style=\"color: #00af00; text-decoration-color: #00af00\">590,080</span> │    <span style=\"color: #ff0000; text-decoration-color: #ff0000; font-weight: bold\">N</span>    │\n",
              "├───────────────────────────────────────┼───────────────────────────────┼────────────────┼─────────┤\n",
              "│ block3_pool (<span style=\"color: #0087ff; text-decoration-color: #0087ff\">MaxPooling2D</span>)            │ (<span style=\"color: #00d7ff; text-decoration-color: #00d7ff\">None</span>, <span style=\"color: #00af00; text-decoration-color: #00af00\">7</span>, <span style=\"color: #00af00; text-decoration-color: #00af00\">7</span>, <span style=\"color: #00af00; text-decoration-color: #00af00\">256</span>)             │              <span style=\"color: #00af00; text-decoration-color: #00af00\">0</span> │    <span style=\"font-weight: bold\">-</span>    │\n",
              "├───────────────────────────────────────┼───────────────────────────────┼────────────────┼─────────┤\n",
              "│ block4_conv1 (<span style=\"color: #0087ff; text-decoration-color: #0087ff\">Conv2D</span>)                 │ (<span style=\"color: #00d7ff; text-decoration-color: #00d7ff\">None</span>, <span style=\"color: #00af00; text-decoration-color: #00af00\">7</span>, <span style=\"color: #00af00; text-decoration-color: #00af00\">7</span>, <span style=\"color: #00af00; text-decoration-color: #00af00\">512</span>)             │      <span style=\"color: #00af00; text-decoration-color: #00af00\">1,180,160</span> │    <span style=\"color: #ff0000; text-decoration-color: #ff0000; font-weight: bold\">N</span>    │\n",
              "├───────────────────────────────────────┼───────────────────────────────┼────────────────┼─────────┤\n",
              "│ block4_conv2 (<span style=\"color: #0087ff; text-decoration-color: #0087ff\">Conv2D</span>)                 │ (<span style=\"color: #00d7ff; text-decoration-color: #00d7ff\">None</span>, <span style=\"color: #00af00; text-decoration-color: #00af00\">7</span>, <span style=\"color: #00af00; text-decoration-color: #00af00\">7</span>, <span style=\"color: #00af00; text-decoration-color: #00af00\">512</span>)             │      <span style=\"color: #00af00; text-decoration-color: #00af00\">2,359,808</span> │    <span style=\"color: #ff0000; text-decoration-color: #ff0000; font-weight: bold\">N</span>    │\n",
              "├───────────────────────────────────────┼───────────────────────────────┼────────────────┼─────────┤\n",
              "│ block4_conv3 (<span style=\"color: #0087ff; text-decoration-color: #0087ff\">Conv2D</span>)                 │ (<span style=\"color: #00d7ff; text-decoration-color: #00d7ff\">None</span>, <span style=\"color: #00af00; text-decoration-color: #00af00\">7</span>, <span style=\"color: #00af00; text-decoration-color: #00af00\">7</span>, <span style=\"color: #00af00; text-decoration-color: #00af00\">512</span>)             │      <span style=\"color: #00af00; text-decoration-color: #00af00\">2,359,808</span> │    <span style=\"color: #ff0000; text-decoration-color: #ff0000; font-weight: bold\">N</span>    │\n",
              "├───────────────────────────────────────┼───────────────────────────────┼────────────────┼─────────┤\n",
              "│ block4_pool (<span style=\"color: #0087ff; text-decoration-color: #0087ff\">MaxPooling2D</span>)            │ (<span style=\"color: #00d7ff; text-decoration-color: #00d7ff\">None</span>, <span style=\"color: #00af00; text-decoration-color: #00af00\">3</span>, <span style=\"color: #00af00; text-decoration-color: #00af00\">3</span>, <span style=\"color: #00af00; text-decoration-color: #00af00\">512</span>)             │              <span style=\"color: #00af00; text-decoration-color: #00af00\">0</span> │    <span style=\"font-weight: bold\">-</span>    │\n",
              "├───────────────────────────────────────┼───────────────────────────────┼────────────────┼─────────┤\n",
              "│ block5_conv1 (<span style=\"color: #0087ff; text-decoration-color: #0087ff\">Conv2D</span>)                 │ (<span style=\"color: #00d7ff; text-decoration-color: #00d7ff\">None</span>, <span style=\"color: #00af00; text-decoration-color: #00af00\">3</span>, <span style=\"color: #00af00; text-decoration-color: #00af00\">3</span>, <span style=\"color: #00af00; text-decoration-color: #00af00\">512</span>)             │      <span style=\"color: #00af00; text-decoration-color: #00af00\">2,359,808</span> │    <span style=\"color: #ff0000; text-decoration-color: #ff0000; font-weight: bold\">N</span>    │\n",
              "├───────────────────────────────────────┼───────────────────────────────┼────────────────┼─────────┤\n",
              "│ block5_conv2 (<span style=\"color: #0087ff; text-decoration-color: #0087ff\">Conv2D</span>)                 │ (<span style=\"color: #00d7ff; text-decoration-color: #00d7ff\">None</span>, <span style=\"color: #00af00; text-decoration-color: #00af00\">3</span>, <span style=\"color: #00af00; text-decoration-color: #00af00\">3</span>, <span style=\"color: #00af00; text-decoration-color: #00af00\">512</span>)             │      <span style=\"color: #00af00; text-decoration-color: #00af00\">2,359,808</span> │    <span style=\"color: #ff0000; text-decoration-color: #ff0000; font-weight: bold\">N</span>    │\n",
              "├───────────────────────────────────────┼───────────────────────────────┼────────────────┼─────────┤\n",
              "│ block5_conv3 (<span style=\"color: #0087ff; text-decoration-color: #0087ff\">Conv2D</span>)                 │ (<span style=\"color: #00d7ff; text-decoration-color: #00d7ff\">None</span>, <span style=\"color: #00af00; text-decoration-color: #00af00\">3</span>, <span style=\"color: #00af00; text-decoration-color: #00af00\">3</span>, <span style=\"color: #00af00; text-decoration-color: #00af00\">512</span>)             │      <span style=\"color: #00af00; text-decoration-color: #00af00\">2,359,808</span> │    <span style=\"color: #ff0000; text-decoration-color: #ff0000; font-weight: bold\">N</span>    │\n",
              "├───────────────────────────────────────┼───────────────────────────────┼────────────────┼─────────┤\n",
              "│ block5_pool (<span style=\"color: #0087ff; text-decoration-color: #0087ff\">MaxPooling2D</span>)            │ (<span style=\"color: #00d7ff; text-decoration-color: #00d7ff\">None</span>, <span style=\"color: #00af00; text-decoration-color: #00af00\">1</span>, <span style=\"color: #00af00; text-decoration-color: #00af00\">1</span>, <span style=\"color: #00af00; text-decoration-color: #00af00\">512</span>)             │              <span style=\"color: #00af00; text-decoration-color: #00af00\">0</span> │    <span style=\"font-weight: bold\">-</span>    │\n",
              "└───────────────────────────────────────┴───────────────────────────────┴────────────────┴─────────┘\n",
              "</pre>\n"
            ]
          },
          "metadata": {}
        },
        {
          "output_type": "display_data",
          "data": {
            "text/plain": [
              "\u001b[1m Total params: \u001b[0m\u001b[38;5;34m14,714,688\u001b[0m (56.13 MB)\n"
            ],
            "text/html": [
              "<pre style=\"white-space:pre;overflow-x:auto;line-height:normal;font-family:Menlo,'DejaVu Sans Mono',consolas,'Courier New',monospace\"><span style=\"font-weight: bold\"> Total params: </span><span style=\"color: #00af00; text-decoration-color: #00af00\">14,714,688</span> (56.13 MB)\n",
              "</pre>\n"
            ]
          },
          "metadata": {}
        },
        {
          "output_type": "display_data",
          "data": {
            "text/plain": [
              "\u001b[1m Trainable params: \u001b[0m\u001b[38;5;34m0\u001b[0m (0.00 B)\n"
            ],
            "text/html": [
              "<pre style=\"white-space:pre;overflow-x:auto;line-height:normal;font-family:Menlo,'DejaVu Sans Mono',consolas,'Courier New',monospace\"><span style=\"font-weight: bold\"> Trainable params: </span><span style=\"color: #00af00; text-decoration-color: #00af00\">0</span> (0.00 B)\n",
              "</pre>\n"
            ]
          },
          "metadata": {}
        },
        {
          "output_type": "display_data",
          "data": {
            "text/plain": [
              "\u001b[1m Non-trainable params: \u001b[0m\u001b[38;5;34m14,714,688\u001b[0m (56.13 MB)\n"
            ],
            "text/html": [
              "<pre style=\"white-space:pre;overflow-x:auto;line-height:normal;font-family:Menlo,'DejaVu Sans Mono',consolas,'Courier New',monospace\"><span style=\"font-weight: bold\"> Non-trainable params: </span><span style=\"color: #00af00; text-decoration-color: #00af00\">14,714,688</span> (56.13 MB)\n",
              "</pre>\n"
            ]
          },
          "metadata": {}
        }
      ]
    },
    {
      "cell_type": "markdown",
      "source": [
        "### Uppgift\n",
        "Hur många parametrar finns i VGG16?\n",
        "\n",
        "**Svar:**\n",
        "\n",
        " Total params: 14,714,688\n",
        "\n",
        "\n"
      ],
      "metadata": {
        "id": "HkjV5Lhb9VuU"
      }
    },
    {
      "cell_type": "markdown",
      "source": [
        "**Analysera VGG-modellens lager**\n",
        "\n",
        "Eftersom Fashion MNIST-bilderna är mycket små (28x28 original men inte mycket större efter skalning) kan vi inte effektivt använda hela modellen, eftersom den innehåller så många lager att de senare faltningslagren degenererar. Detta kan observeras i kolumnen Output Shape i model.summary. Där vi ser att lager på slutet får en \"bildstorlek\" som är av samma storlek som faltningskärnorna."
      ],
      "metadata": {
        "id": "Cupo6kdied61"
      }
    },
    {
      "cell_type": "markdown",
      "source": [
        "### Uppgift\n",
        "Om du tittar på VGGs `model.summary` ovan, vid vilket lager kan det vara lämpligt att stanna? Notera detta kommer att bero på hur mycket du skalat upp inbilden. Det kommer också delvis bero på hur dina egna lager ser ut, som om du t.ex. vill ha ett eget faltningslager eller om du kanske direkt vill platta till modellen och bara köra kompakta lager.)\n",
        "\n",
        "**Svar:**\n",
        "\n",
        "Our input Size: (56, 56, 3) after scaling.\n",
        "Stop at block3_pool and the output Shape: (7, 7, 256) for a balanced approach that retains meaningful features without excessive downsampling."
      ],
      "metadata": {
        "id": "Pv8kTp5hkv9i"
      }
    },
    {
      "cell_type": "code",
      "source": [
        "##################### TODO: CHANGE!\n",
        "name_of_last_TL_layer = 'block3_pool'"
      ],
      "metadata": {
        "id": "2NS34Fd78aiR"
      },
      "execution_count": null,
      "outputs": []
    },
    {
      "cell_type": "markdown",
      "source": [
        "## Build a transfered model"
      ],
      "metadata": {
        "id": "Hd_kOCH84WBL"
      }
    },
    {
      "cell_type": "code",
      "source": [
        "#### Build our own layers on top of the transfered model (use a functional definition as this is easier)\n",
        "\n",
        "# Step 1. Get an output tensor of the last transfer-model layer that we want to include\n",
        "x = tl_model.get_layer(name_of_last_TL_layer).output\n",
        "\n",
        "##################### TODO: YOUR CODE STARTS HERE #####################\n",
        "# Step 2. Stack our own layers on top\n",
        "x = keras.layers.BatchNormalization(axis=-1)(x)\n",
        "##### more layers\n",
        "x = keras.layers.Flatten()(x)\n",
        "##### more layers\n",
        "##################### TODO: YOUR CODE ENDS HERE #######################\n",
        "x = keras.layers.Dense(10, activation='softmax')(x)\n",
        "\n",
        "# Creating new combined model. Note that this is NOT a Sequential() model.\n",
        "model = keras.models.Model(inputs=tl_model.input, outputs=x)\n",
        "\n",
        "print(model.summary(show_trainable=True, line_length=100))"
      ],
      "metadata": {
        "id": "Ro07gFZ7cR4j",
        "colab": {
          "base_uri": "https://localhost:8080/",
          "height": 610
        },
        "outputId": "89a1584b-cc23-44f2-f891-56f2023c43f3"
      },
      "execution_count": null,
      "outputs": [
        {
          "output_type": "display_data",
          "data": {
            "text/plain": [
              "\u001b[1mModel: \"functional_8\"\u001b[0m\n"
            ],
            "text/html": [
              "<pre style=\"white-space:pre;overflow-x:auto;line-height:normal;font-family:Menlo,'DejaVu Sans Mono',consolas,'Courier New',monospace\"><span style=\"font-weight: bold\">Model: \"functional_8\"</span>\n",
              "</pre>\n"
            ]
          },
          "metadata": {}
        },
        {
          "output_type": "display_data",
          "data": {
            "text/plain": [
              "┏━━━━━━━━━━━━━━━━━━━━━━━━━━━━━━━━━━━━━━━┳━━━━━━━━━━━━━━━━━━━━━━━━━━━━━━━┳━━━━━━━━━━━━━━━━┳━━━━━━━━━┓\n",
              "┃\u001b[1m \u001b[0m\u001b[1mLayer (type)                         \u001b[0m\u001b[1m \u001b[0m┃\u001b[1m \u001b[0m\u001b[1mOutput Shape                 \u001b[0m\u001b[1m \u001b[0m┃\u001b[1m \u001b[0m\u001b[1m       Param #\u001b[0m\u001b[1m \u001b[0m┃\u001b[1m \u001b[0m\u001b[1mTraina…\u001b[0m\u001b[1m \u001b[0m┃\n",
              "┡━━━━━━━━━━━━━━━━━━━━━━━━━━━━━━━━━━━━━━━╇━━━━━━━━━━━━━━━━━━━━━━━━━━━━━━━╇━━━━━━━━━━━━━━━━╇━━━━━━━━━┩\n",
              "│ input_layer_17 (\u001b[38;5;33mInputLayer\u001b[0m)           │ (\u001b[38;5;45mNone\u001b[0m, \u001b[38;5;34m56\u001b[0m, \u001b[38;5;34m56\u001b[0m, \u001b[38;5;34m3\u001b[0m)             │              \u001b[38;5;34m0\u001b[0m │    \u001b[1m-\u001b[0m    │\n",
              "├───────────────────────────────────────┼───────────────────────────────┼────────────────┼─────────┤\n",
              "│ block1_conv1 (\u001b[38;5;33mConv2D\u001b[0m)                 │ (\u001b[38;5;45mNone\u001b[0m, \u001b[38;5;34m56\u001b[0m, \u001b[38;5;34m56\u001b[0m, \u001b[38;5;34m64\u001b[0m)            │          \u001b[38;5;34m1,792\u001b[0m │    \u001b[1;91mN\u001b[0m    │\n",
              "├───────────────────────────────────────┼───────────────────────────────┼────────────────┼─────────┤\n",
              "│ block1_conv2 (\u001b[38;5;33mConv2D\u001b[0m)                 │ (\u001b[38;5;45mNone\u001b[0m, \u001b[38;5;34m56\u001b[0m, \u001b[38;5;34m56\u001b[0m, \u001b[38;5;34m64\u001b[0m)            │         \u001b[38;5;34m36,928\u001b[0m │    \u001b[1;91mN\u001b[0m    │\n",
              "├───────────────────────────────────────┼───────────────────────────────┼────────────────┼─────────┤\n",
              "│ block1_pool (\u001b[38;5;33mMaxPooling2D\u001b[0m)            │ (\u001b[38;5;45mNone\u001b[0m, \u001b[38;5;34m28\u001b[0m, \u001b[38;5;34m28\u001b[0m, \u001b[38;5;34m64\u001b[0m)            │              \u001b[38;5;34m0\u001b[0m │    \u001b[1m-\u001b[0m    │\n",
              "├───────────────────────────────────────┼───────────────────────────────┼────────────────┼─────────┤\n",
              "│ block2_conv1 (\u001b[38;5;33mConv2D\u001b[0m)                 │ (\u001b[38;5;45mNone\u001b[0m, \u001b[38;5;34m28\u001b[0m, \u001b[38;5;34m28\u001b[0m, \u001b[38;5;34m128\u001b[0m)           │         \u001b[38;5;34m73,856\u001b[0m │    \u001b[1;91mN\u001b[0m    │\n",
              "├───────────────────────────────────────┼───────────────────────────────┼────────────────┼─────────┤\n",
              "│ block2_conv2 (\u001b[38;5;33mConv2D\u001b[0m)                 │ (\u001b[38;5;45mNone\u001b[0m, \u001b[38;5;34m28\u001b[0m, \u001b[38;5;34m28\u001b[0m, \u001b[38;5;34m128\u001b[0m)           │        \u001b[38;5;34m147,584\u001b[0m │    \u001b[1;91mN\u001b[0m    │\n",
              "├───────────────────────────────────────┼───────────────────────────────┼────────────────┼─────────┤\n",
              "│ block2_pool (\u001b[38;5;33mMaxPooling2D\u001b[0m)            │ (\u001b[38;5;45mNone\u001b[0m, \u001b[38;5;34m14\u001b[0m, \u001b[38;5;34m14\u001b[0m, \u001b[38;5;34m128\u001b[0m)           │              \u001b[38;5;34m0\u001b[0m │    \u001b[1m-\u001b[0m    │\n",
              "├───────────────────────────────────────┼───────────────────────────────┼────────────────┼─────────┤\n",
              "│ block3_conv1 (\u001b[38;5;33mConv2D\u001b[0m)                 │ (\u001b[38;5;45mNone\u001b[0m, \u001b[38;5;34m14\u001b[0m, \u001b[38;5;34m14\u001b[0m, \u001b[38;5;34m256\u001b[0m)           │        \u001b[38;5;34m295,168\u001b[0m │    \u001b[1;91mN\u001b[0m    │\n",
              "├───────────────────────────────────────┼───────────────────────────────┼────────────────┼─────────┤\n",
              "│ block3_conv2 (\u001b[38;5;33mConv2D\u001b[0m)                 │ (\u001b[38;5;45mNone\u001b[0m, \u001b[38;5;34m14\u001b[0m, \u001b[38;5;34m14\u001b[0m, \u001b[38;5;34m256\u001b[0m)           │        \u001b[38;5;34m590,080\u001b[0m │    \u001b[1;91mN\u001b[0m    │\n",
              "├───────────────────────────────────────┼───────────────────────────────┼────────────────┼─────────┤\n",
              "│ block3_conv3 (\u001b[38;5;33mConv2D\u001b[0m)                 │ (\u001b[38;5;45mNone\u001b[0m, \u001b[38;5;34m14\u001b[0m, \u001b[38;5;34m14\u001b[0m, \u001b[38;5;34m256\u001b[0m)           │        \u001b[38;5;34m590,080\u001b[0m │    \u001b[1;91mN\u001b[0m    │\n",
              "├───────────────────────────────────────┼───────────────────────────────┼────────────────┼─────────┤\n",
              "│ block3_pool (\u001b[38;5;33mMaxPooling2D\u001b[0m)            │ (\u001b[38;5;45mNone\u001b[0m, \u001b[38;5;34m7\u001b[0m, \u001b[38;5;34m7\u001b[0m, \u001b[38;5;34m256\u001b[0m)             │              \u001b[38;5;34m0\u001b[0m │    \u001b[1m-\u001b[0m    │\n",
              "├───────────────────────────────────────┼───────────────────────────────┼────────────────┼─────────┤\n",
              "│ batch_normalization_52                │ (\u001b[38;5;45mNone\u001b[0m, \u001b[38;5;34m7\u001b[0m, \u001b[38;5;34m7\u001b[0m, \u001b[38;5;34m256\u001b[0m)             │          \u001b[38;5;34m1,024\u001b[0m │    \u001b[1;38;5;34mY\u001b[0m    │\n",
              "│ (\u001b[38;5;33mBatchNormalization\u001b[0m)                  │                               │                │         │\n",
              "├───────────────────────────────────────┼───────────────────────────────┼────────────────┼─────────┤\n",
              "│ flatten_8 (\u001b[38;5;33mFlatten\u001b[0m)                   │ (\u001b[38;5;45mNone\u001b[0m, \u001b[38;5;34m12544\u001b[0m)                 │              \u001b[38;5;34m0\u001b[0m │    \u001b[1m-\u001b[0m    │\n",
              "├───────────────────────────────────────┼───────────────────────────────┼────────────────┼─────────┤\n",
              "│ dense_14 (\u001b[38;5;33mDense\u001b[0m)                      │ (\u001b[38;5;45mNone\u001b[0m, \u001b[38;5;34m10\u001b[0m)                    │        \u001b[38;5;34m125,450\u001b[0m │    \u001b[1;38;5;34mY\u001b[0m    │\n",
              "└───────────────────────────────────────┴───────────────────────────────┴────────────────┴─────────┘\n"
            ],
            "text/html": [
              "<pre style=\"white-space:pre;overflow-x:auto;line-height:normal;font-family:Menlo,'DejaVu Sans Mono',consolas,'Courier New',monospace\">┏━━━━━━━━━━━━━━━━━━━━━━━━━━━━━━━━━━━━━━━┳━━━━━━━━━━━━━━━━━━━━━━━━━━━━━━━┳━━━━━━━━━━━━━━━━┳━━━━━━━━━┓\n",
              "┃<span style=\"font-weight: bold\"> Layer (type)                          </span>┃<span style=\"font-weight: bold\"> Output Shape                  </span>┃<span style=\"font-weight: bold\">        Param # </span>┃<span style=\"font-weight: bold\"> Traina… </span>┃\n",
              "┡━━━━━━━━━━━━━━━━━━━━━━━━━━━━━━━━━━━━━━━╇━━━━━━━━━━━━━━━━━━━━━━━━━━━━━━━╇━━━━━━━━━━━━━━━━╇━━━━━━━━━┩\n",
              "│ input_layer_17 (<span style=\"color: #0087ff; text-decoration-color: #0087ff\">InputLayer</span>)           │ (<span style=\"color: #00d7ff; text-decoration-color: #00d7ff\">None</span>, <span style=\"color: #00af00; text-decoration-color: #00af00\">56</span>, <span style=\"color: #00af00; text-decoration-color: #00af00\">56</span>, <span style=\"color: #00af00; text-decoration-color: #00af00\">3</span>)             │              <span style=\"color: #00af00; text-decoration-color: #00af00\">0</span> │    <span style=\"font-weight: bold\">-</span>    │\n",
              "├───────────────────────────────────────┼───────────────────────────────┼────────────────┼─────────┤\n",
              "│ block1_conv1 (<span style=\"color: #0087ff; text-decoration-color: #0087ff\">Conv2D</span>)                 │ (<span style=\"color: #00d7ff; text-decoration-color: #00d7ff\">None</span>, <span style=\"color: #00af00; text-decoration-color: #00af00\">56</span>, <span style=\"color: #00af00; text-decoration-color: #00af00\">56</span>, <span style=\"color: #00af00; text-decoration-color: #00af00\">64</span>)            │          <span style=\"color: #00af00; text-decoration-color: #00af00\">1,792</span> │    <span style=\"color: #ff0000; text-decoration-color: #ff0000; font-weight: bold\">N</span>    │\n",
              "├───────────────────────────────────────┼───────────────────────────────┼────────────────┼─────────┤\n",
              "│ block1_conv2 (<span style=\"color: #0087ff; text-decoration-color: #0087ff\">Conv2D</span>)                 │ (<span style=\"color: #00d7ff; text-decoration-color: #00d7ff\">None</span>, <span style=\"color: #00af00; text-decoration-color: #00af00\">56</span>, <span style=\"color: #00af00; text-decoration-color: #00af00\">56</span>, <span style=\"color: #00af00; text-decoration-color: #00af00\">64</span>)            │         <span style=\"color: #00af00; text-decoration-color: #00af00\">36,928</span> │    <span style=\"color: #ff0000; text-decoration-color: #ff0000; font-weight: bold\">N</span>    │\n",
              "├───────────────────────────────────────┼───────────────────────────────┼────────────────┼─────────┤\n",
              "│ block1_pool (<span style=\"color: #0087ff; text-decoration-color: #0087ff\">MaxPooling2D</span>)            │ (<span style=\"color: #00d7ff; text-decoration-color: #00d7ff\">None</span>, <span style=\"color: #00af00; text-decoration-color: #00af00\">28</span>, <span style=\"color: #00af00; text-decoration-color: #00af00\">28</span>, <span style=\"color: #00af00; text-decoration-color: #00af00\">64</span>)            │              <span style=\"color: #00af00; text-decoration-color: #00af00\">0</span> │    <span style=\"font-weight: bold\">-</span>    │\n",
              "├───────────────────────────────────────┼───────────────────────────────┼────────────────┼─────────┤\n",
              "│ block2_conv1 (<span style=\"color: #0087ff; text-decoration-color: #0087ff\">Conv2D</span>)                 │ (<span style=\"color: #00d7ff; text-decoration-color: #00d7ff\">None</span>, <span style=\"color: #00af00; text-decoration-color: #00af00\">28</span>, <span style=\"color: #00af00; text-decoration-color: #00af00\">28</span>, <span style=\"color: #00af00; text-decoration-color: #00af00\">128</span>)           │         <span style=\"color: #00af00; text-decoration-color: #00af00\">73,856</span> │    <span style=\"color: #ff0000; text-decoration-color: #ff0000; font-weight: bold\">N</span>    │\n",
              "├───────────────────────────────────────┼───────────────────────────────┼────────────────┼─────────┤\n",
              "│ block2_conv2 (<span style=\"color: #0087ff; text-decoration-color: #0087ff\">Conv2D</span>)                 │ (<span style=\"color: #00d7ff; text-decoration-color: #00d7ff\">None</span>, <span style=\"color: #00af00; text-decoration-color: #00af00\">28</span>, <span style=\"color: #00af00; text-decoration-color: #00af00\">28</span>, <span style=\"color: #00af00; text-decoration-color: #00af00\">128</span>)           │        <span style=\"color: #00af00; text-decoration-color: #00af00\">147,584</span> │    <span style=\"color: #ff0000; text-decoration-color: #ff0000; font-weight: bold\">N</span>    │\n",
              "├───────────────────────────────────────┼───────────────────────────────┼────────────────┼─────────┤\n",
              "│ block2_pool (<span style=\"color: #0087ff; text-decoration-color: #0087ff\">MaxPooling2D</span>)            │ (<span style=\"color: #00d7ff; text-decoration-color: #00d7ff\">None</span>, <span style=\"color: #00af00; text-decoration-color: #00af00\">14</span>, <span style=\"color: #00af00; text-decoration-color: #00af00\">14</span>, <span style=\"color: #00af00; text-decoration-color: #00af00\">128</span>)           │              <span style=\"color: #00af00; text-decoration-color: #00af00\">0</span> │    <span style=\"font-weight: bold\">-</span>    │\n",
              "├───────────────────────────────────────┼───────────────────────────────┼────────────────┼─────────┤\n",
              "│ block3_conv1 (<span style=\"color: #0087ff; text-decoration-color: #0087ff\">Conv2D</span>)                 │ (<span style=\"color: #00d7ff; text-decoration-color: #00d7ff\">None</span>, <span style=\"color: #00af00; text-decoration-color: #00af00\">14</span>, <span style=\"color: #00af00; text-decoration-color: #00af00\">14</span>, <span style=\"color: #00af00; text-decoration-color: #00af00\">256</span>)           │        <span style=\"color: #00af00; text-decoration-color: #00af00\">295,168</span> │    <span style=\"color: #ff0000; text-decoration-color: #ff0000; font-weight: bold\">N</span>    │\n",
              "├───────────────────────────────────────┼───────────────────────────────┼────────────────┼─────────┤\n",
              "│ block3_conv2 (<span style=\"color: #0087ff; text-decoration-color: #0087ff\">Conv2D</span>)                 │ (<span style=\"color: #00d7ff; text-decoration-color: #00d7ff\">None</span>, <span style=\"color: #00af00; text-decoration-color: #00af00\">14</span>, <span style=\"color: #00af00; text-decoration-color: #00af00\">14</span>, <span style=\"color: #00af00; text-decoration-color: #00af00\">256</span>)           │        <span style=\"color: #00af00; text-decoration-color: #00af00\">590,080</span> │    <span style=\"color: #ff0000; text-decoration-color: #ff0000; font-weight: bold\">N</span>    │\n",
              "├───────────────────────────────────────┼───────────────────────────────┼────────────────┼─────────┤\n",
              "│ block3_conv3 (<span style=\"color: #0087ff; text-decoration-color: #0087ff\">Conv2D</span>)                 │ (<span style=\"color: #00d7ff; text-decoration-color: #00d7ff\">None</span>, <span style=\"color: #00af00; text-decoration-color: #00af00\">14</span>, <span style=\"color: #00af00; text-decoration-color: #00af00\">14</span>, <span style=\"color: #00af00; text-decoration-color: #00af00\">256</span>)           │        <span style=\"color: #00af00; text-decoration-color: #00af00\">590,080</span> │    <span style=\"color: #ff0000; text-decoration-color: #ff0000; font-weight: bold\">N</span>    │\n",
              "├───────────────────────────────────────┼───────────────────────────────┼────────────────┼─────────┤\n",
              "│ block3_pool (<span style=\"color: #0087ff; text-decoration-color: #0087ff\">MaxPooling2D</span>)            │ (<span style=\"color: #00d7ff; text-decoration-color: #00d7ff\">None</span>, <span style=\"color: #00af00; text-decoration-color: #00af00\">7</span>, <span style=\"color: #00af00; text-decoration-color: #00af00\">7</span>, <span style=\"color: #00af00; text-decoration-color: #00af00\">256</span>)             │              <span style=\"color: #00af00; text-decoration-color: #00af00\">0</span> │    <span style=\"font-weight: bold\">-</span>    │\n",
              "├───────────────────────────────────────┼───────────────────────────────┼────────────────┼─────────┤\n",
              "│ batch_normalization_52                │ (<span style=\"color: #00d7ff; text-decoration-color: #00d7ff\">None</span>, <span style=\"color: #00af00; text-decoration-color: #00af00\">7</span>, <span style=\"color: #00af00; text-decoration-color: #00af00\">7</span>, <span style=\"color: #00af00; text-decoration-color: #00af00\">256</span>)             │          <span style=\"color: #00af00; text-decoration-color: #00af00\">1,024</span> │    <span style=\"color: #00af00; text-decoration-color: #00af00; font-weight: bold\">Y</span>    │\n",
              "│ (<span style=\"color: #0087ff; text-decoration-color: #0087ff\">BatchNormalization</span>)                  │                               │                │         │\n",
              "├───────────────────────────────────────┼───────────────────────────────┼────────────────┼─────────┤\n",
              "│ flatten_8 (<span style=\"color: #0087ff; text-decoration-color: #0087ff\">Flatten</span>)                   │ (<span style=\"color: #00d7ff; text-decoration-color: #00d7ff\">None</span>, <span style=\"color: #00af00; text-decoration-color: #00af00\">12544</span>)                 │              <span style=\"color: #00af00; text-decoration-color: #00af00\">0</span> │    <span style=\"font-weight: bold\">-</span>    │\n",
              "├───────────────────────────────────────┼───────────────────────────────┼────────────────┼─────────┤\n",
              "│ dense_14 (<span style=\"color: #0087ff; text-decoration-color: #0087ff\">Dense</span>)                      │ (<span style=\"color: #00d7ff; text-decoration-color: #00d7ff\">None</span>, <span style=\"color: #00af00; text-decoration-color: #00af00\">10</span>)                    │        <span style=\"color: #00af00; text-decoration-color: #00af00\">125,450</span> │    <span style=\"color: #00af00; text-decoration-color: #00af00; font-weight: bold\">Y</span>    │\n",
              "└───────────────────────────────────────┴───────────────────────────────┴────────────────┴─────────┘\n",
              "</pre>\n"
            ]
          },
          "metadata": {}
        },
        {
          "output_type": "display_data",
          "data": {
            "text/plain": [
              "\u001b[1m Total params: \u001b[0m\u001b[38;5;34m1,861,962\u001b[0m (7.10 MB)\n"
            ],
            "text/html": [
              "<pre style=\"white-space:pre;overflow-x:auto;line-height:normal;font-family:Menlo,'DejaVu Sans Mono',consolas,'Courier New',monospace\"><span style=\"font-weight: bold\"> Total params: </span><span style=\"color: #00af00; text-decoration-color: #00af00\">1,861,962</span> (7.10 MB)\n",
              "</pre>\n"
            ]
          },
          "metadata": {}
        },
        {
          "output_type": "display_data",
          "data": {
            "text/plain": [
              "\u001b[1m Trainable params: \u001b[0m\u001b[38;5;34m125,962\u001b[0m (492.04 KB)\n"
            ],
            "text/html": [
              "<pre style=\"white-space:pre;overflow-x:auto;line-height:normal;font-family:Menlo,'DejaVu Sans Mono',consolas,'Courier New',monospace\"><span style=\"font-weight: bold\"> Trainable params: </span><span style=\"color: #00af00; text-decoration-color: #00af00\">125,962</span> (492.04 KB)\n",
              "</pre>\n"
            ]
          },
          "metadata": {}
        },
        {
          "output_type": "display_data",
          "data": {
            "text/plain": [
              "\u001b[1m Non-trainable params: \u001b[0m\u001b[38;5;34m1,736,000\u001b[0m (6.62 MB)\n"
            ],
            "text/html": [
              "<pre style=\"white-space:pre;overflow-x:auto;line-height:normal;font-family:Menlo,'DejaVu Sans Mono',consolas,'Courier New',monospace\"><span style=\"font-weight: bold\"> Non-trainable params: </span><span style=\"color: #00af00; text-decoration-color: #00af00\">1,736,000</span> (6.62 MB)\n",
              "</pre>\n"
            ]
          },
          "metadata": {}
        },
        {
          "output_type": "stream",
          "name": "stdout",
          "text": [
            "None\n"
          ]
        }
      ]
    },
    {
      "cell_type": "markdown",
      "source": [
        "### Uppgift\n",
        "Hur många träningsbara parametrar finns i din överförda modell?\n",
        "\n",
        "**Svar:**\n",
        "\n",
        "Trainable params: 125,962\n",
        "\n"
      ],
      "metadata": {
        "id": "JMHFE0_B9pRB"
      }
    },
    {
      "cell_type": "code",
      "source": [
        "#### Compile the model (note SparseCategoricalCrossentropy as we have not converted labels)\n",
        "model.compile(\n",
        "    optimizer=keras.optimizers.Adam(learning_rate=0.3e-3),\n",
        "    loss=keras.losses.SparseCategoricalCrossentropy(),\n",
        "    metrics=[keras.metrics.SparseCategoricalAccuracy(name=\"acc\")]\n",
        ")"
      ],
      "metadata": {
        "id": "suuR4U97cWL3"
      },
      "execution_count": null,
      "outputs": []
    },
    {
      "cell_type": "code",
      "source": [
        "#### Training the model\n",
        "# batch_size = 32 # Now set in datastream\n",
        "epochs = 30\n",
        "\n",
        "# Set callback functions to early stop training and save the best model so far\n",
        "callbacks = [keras.callbacks.EarlyStopping(monitor='val_loss', mode='min', verbose=1, patience=3,restore_best_weights = True)]\n",
        "\n",
        "start = time.perf_counter()\n",
        "history = model.fit(train_ds,\n",
        "                    epochs=epochs,\n",
        "                    shuffle=True,\n",
        "                    verbose=1,\n",
        "                    validation_data=val_ds,\n",
        "                    callbacks=callbacks)\n",
        "end = time.perf_counter()\n",
        "print(f\"Time to run: {end - start:.2f}s\",)"
      ],
      "metadata": {
        "id": "UcoGDiFocbDn",
        "colab": {
          "base_uri": "https://localhost:8080/"
        },
        "outputId": "9e2281c9-190e-433e-b01d-1958c42f91b1"
      },
      "execution_count": null,
      "outputs": [
        {
          "output_type": "stream",
          "name": "stdout",
          "text": [
            "Epoch 1/30\n",
            "\u001b[1m375/375\u001b[0m \u001b[32m━━━━━━━━━━━━━━━━━━━━\u001b[0m\u001b[37m\u001b[0m \u001b[1m16s\u001b[0m 37ms/step - acc: 0.8415 - loss: 0.4535 - val_acc: 0.9131 - val_loss: 0.2469\n",
            "Epoch 2/30\n",
            "\u001b[1m375/375\u001b[0m \u001b[32m━━━━━━━━━━━━━━━━━━━━\u001b[0m\u001b[37m\u001b[0m \u001b[1m12s\u001b[0m 32ms/step - acc: 0.9268 - loss: 0.2114 - val_acc: 0.9241 - val_loss: 0.2218\n",
            "Epoch 3/30\n",
            "\u001b[1m375/375\u001b[0m \u001b[32m━━━━━━━━━━━━━━━━━━━━\u001b[0m\u001b[37m\u001b[0m \u001b[1m12s\u001b[0m 32ms/step - acc: 0.9382 - loss: 0.1759 - val_acc: 0.9273 - val_loss: 0.2116\n",
            "Epoch 4/30\n",
            "\u001b[1m375/375\u001b[0m \u001b[32m━━━━━━━━━━━━━━━━━━━━\u001b[0m\u001b[37m\u001b[0m \u001b[1m21s\u001b[0m 33ms/step - acc: 0.9451 - loss: 0.1546 - val_acc: 0.9278 - val_loss: 0.2122\n",
            "Epoch 5/30\n",
            "\u001b[1m375/375\u001b[0m \u001b[32m━━━━━━━━━━━━━━━━━━━━\u001b[0m\u001b[37m\u001b[0m \u001b[1m20s\u001b[0m 32ms/step - acc: 0.9514 - loss: 0.1394 - val_acc: 0.9290 - val_loss: 0.2141\n",
            "Epoch 6/30\n",
            "\u001b[1m375/375\u001b[0m \u001b[32m━━━━━━━━━━━━━━━━━━━━\u001b[0m\u001b[37m\u001b[0m \u001b[1m21s\u001b[0m 33ms/step - acc: 0.9557 - loss: 0.1281 - val_acc: 0.9294 - val_loss: 0.2187\n",
            "Epoch 6: early stopping\n",
            "Restoring model weights from the end of the best epoch: 3.\n",
            "Time to run: 102.39s\n"
          ]
        }
      ]
    },
    {
      "cell_type": "code",
      "source": [
        "# Evaluate\n",
        "test_loss, test_acc = model.evaluate(test_ds)\n",
        "print(f'Test accuracy: {test_acc:.3f}')"
      ],
      "metadata": {
        "id": "JWzHz9r5ct9r",
        "colab": {
          "base_uri": "https://localhost:8080/"
        },
        "outputId": "e6a446e4-b779-45d4-deae-130f5a63989a"
      },
      "execution_count": null,
      "outputs": [
        {
          "output_type": "stream",
          "name": "stdout",
          "text": [
            "\u001b[1m78/78\u001b[0m \u001b[32m━━━━━━━━━━━━━━━━━━━━\u001b[0m\u001b[37m\u001b[0m \u001b[1m2s\u001b[0m 26ms/step - acc: 0.9238 - loss: 0.2269\n",
            "Test accuracy: 0.925\n"
          ]
        }
      ]
    },
    {
      "cell_type": "markdown",
      "source": [
        "## Uppgift\n",
        "Notera antal parametrar som tränats, testnoggrannhet, körtid\n",
        "(Notera att en noggrannhet på 91.5% är minimum för denna laboration!)\n",
        "\n",
        "Vad kan man dra för slutsatser av dina körningar i denna del?\n",
        "#ANSER:\n",
        "\n",
        "| **Stopping Layer** | **Output Shape** | **Test Accuracy** | **Observation**                                |\n",
        "|---------------------|------------------|-------------------|-----------------------------------------------|\n",
        "| `block3_pool`       | (7, 7, 256)     | **92.4%**         | Optimal balance of feature extraction and spatial information. |\n",
        "| `block4_pool`       | (3, 3, 512)     | **92.3%**         | Slightly reduced performance due to smaller feature map.       |\n",
        "| `block5_pool`       | (1, 1, 512)     | **86.0%**         | Significant drop due to loss of spatial resolution.            |\n",
        "\n",
        "These results demonstrate that selecting the appropriate transfer learning stopping layer is crucial for maximizing performance on datasets."
      ],
      "metadata": {
        "id": "J2TQjsUMI5hP"
      }
    },
    {
      "cell_type": "markdown",
      "source": [
        "## Uppgift\n",
        "När du nu funnit de bästa \"topplagren\" du kan finna, utvärdera din överförda model även med följande variationer:\n",
        "* bildstorlek: utvärdera med följande bildstorlekar: minimistorlek, 28\\*2x28\\*2,  28\\*3x28\\*3.\n",
        "\n",
        "Notera antal parametrar som tränats, testnoggrannhet, körtid\n",
        "\n",
        "Vad kan man dra för slutsatser av detta?\n",
        "\n",
        "Here I set up the stooping layer: block3_pool\n",
        "### **Results Table**\n",
        "\n",
        "| **Image Size**  | **Trainable Parameters** | **Test Accuracy** | **Runtime per Epoch** | **Observations**                             |\n",
        "|-|---------|-------|-----------------|---------------------------------------------|\n",
        "| **32x32x3**| 41,482                     | **91.5%**         | ~4-8s                   | Smallest size, less spatial detail retained. |\n",
        "| **56x56x3**      | 125,962                     | **92.4%**         | ~12-18s                  | Best trade-off between accuracy and runtime. |\n",
        "| **84x84x3**      | 256,522                     | **92.2%**         | ~33-39s                  | Higher runtime.  Epoch 6: early stopping\n",
        "Restoring model weights from the end of the best epoch: 3.   |\n",
        "\n",
        "---\n",
        "Conclusion is that 56x56 is the most efficient size for Fashion MNIST, achieving excellent accuracy (92.4%) with reasonable runtime.\n",
        "Larger Sizes: While increasing image size to 84x84 has almost same accuracy as 56x56, the computational cost increases significantly, making it less practical. But early stopping helps a bit in total time consuming which we seted up this regularization.\n",
        "When to Use Smaller Sizes:\n",
        "For faster experiments or limited computational resources, 32x32 provides reasonable accuracy (91.5%) with much lower runtime."
      ],
      "metadata": {
        "id": "Rj9m-WOzGdjN"
      }
    },
    {
      "cell_type": "markdown",
      "source": [
        "# Del B"
      ],
      "metadata": {
        "id": "AkV1ZNZ9DuD9"
      }
    },
    {
      "cell_type": "markdown",
      "source": [
        "För överförd inlärning med VGG enligt ovan så ska du här slå på träning även för några av de importerade lagren och utvärdera hur det påverkar modellens prestanda. Lämpligen slår du först på alla lager för träning: \"model.trainable = True\". Om du sedan inte vill träna alla lager så kan du loopa över alla lager och göra \"layer.trainable = False\" där/om så behövs.\n",
        "Notera att du kan lätt se vilka lager som är träningsbara mha `model.summary(show_trainable=True)`\n",
        "\n",
        "Notera att du nog bör minska inlärningstakten (till typ 1e-4 -- 1e-5 för Adam) när du även tränar den överförda modellens parametrar, för annars kan den \"glömma\" för mycket av den förtränade modellen och modellen kan rent av bli sämre."
      ],
      "metadata": {
        "id": "hQzfV8yODzlk"
      }
    },
    {
      "cell_type": "code",
      "source": [
        "# Enable training for all layers\n",
        "model.trainable = True\n",
        "\n",
        "# Display the model summary with trainable status\n",
        "model.summary(show_trainable=True, line_length=100)\n",
        "\n",
        "model.compile(\n",
        "    optimizer=keras.optimizers.Adam(learning_rate=1e-4),  # Reduced learning rate\n",
        "    loss=keras.losses.SparseCategoricalCrossentropy(),\n",
        "    metrics=[keras.metrics.SparseCategoricalAccuracy(name=\"acc\")]\n",
        ")\n",
        "\n",
        "# Set callback functions to early stop training and save the best model so far\n",
        "callbacks = [keras.callbacks.EarlyStopping(monitor='val_loss', patience=3, restore_best_weights=True)]\n",
        "history = model.fit(\n",
        "    train_ds,\n",
        "    epochs=30,\n",
        "    validation_data=val_ds,\n",
        "    callbacks=callbacks\n",
        ")\n",
        "\n",
        "# Evaluate the model\n",
        "test_loss, test_acc = model.evaluate(test_ds)\n",
        "print(f\"Test accuracy after fine-tuning all layers: {test_acc:.3f}\")\n"
      ],
      "metadata": {
        "id": "vEPGkTbCMUGo",
        "colab": {
          "base_uri": "https://localhost:8080/",
          "height": 949
        },
        "outputId": "3fb1efbe-27b2-4729-bd5d-233685eb23e9"
      },
      "execution_count": null,
      "outputs": [
        {
          "output_type": "display_data",
          "data": {
            "text/plain": [
              "\u001b[1mModel: \"functional_8\"\u001b[0m\n"
            ],
            "text/html": [
              "<pre style=\"white-space:pre;overflow-x:auto;line-height:normal;font-family:Menlo,'DejaVu Sans Mono',consolas,'Courier New',monospace\"><span style=\"font-weight: bold\">Model: \"functional_8\"</span>\n",
              "</pre>\n"
            ]
          },
          "metadata": {}
        },
        {
          "output_type": "display_data",
          "data": {
            "text/plain": [
              "┏━━━━━━━━━━━━━━━━━━━━━━━━━━━━━━━━━━━━━━━┳━━━━━━━━━━━━━━━━━━━━━━━━━━━━━━━┳━━━━━━━━━━━━━━━━┳━━━━━━━━━┓\n",
              "┃\u001b[1m \u001b[0m\u001b[1mLayer (type)                         \u001b[0m\u001b[1m \u001b[0m┃\u001b[1m \u001b[0m\u001b[1mOutput Shape                 \u001b[0m\u001b[1m \u001b[0m┃\u001b[1m \u001b[0m\u001b[1m       Param #\u001b[0m\u001b[1m \u001b[0m┃\u001b[1m \u001b[0m\u001b[1mTraina…\u001b[0m\u001b[1m \u001b[0m┃\n",
              "┡━━━━━━━━━━━━━━━━━━━━━━━━━━━━━━━━━━━━━━━╇━━━━━━━━━━━━━━━━━━━━━━━━━━━━━━━╇━━━━━━━━━━━━━━━━╇━━━━━━━━━┩\n",
              "│ input_layer_17 (\u001b[38;5;33mInputLayer\u001b[0m)           │ (\u001b[38;5;45mNone\u001b[0m, \u001b[38;5;34m56\u001b[0m, \u001b[38;5;34m56\u001b[0m, \u001b[38;5;34m3\u001b[0m)             │              \u001b[38;5;34m0\u001b[0m │    \u001b[1m-\u001b[0m    │\n",
              "├───────────────────────────────────────┼───────────────────────────────┼────────────────┼─────────┤\n",
              "│ block1_conv1 (\u001b[38;5;33mConv2D\u001b[0m)                 │ (\u001b[38;5;45mNone\u001b[0m, \u001b[38;5;34m56\u001b[0m, \u001b[38;5;34m56\u001b[0m, \u001b[38;5;34m64\u001b[0m)            │          \u001b[38;5;34m1,792\u001b[0m │    \u001b[1;91mN\u001b[0m    │\n",
              "├───────────────────────────────────────┼───────────────────────────────┼────────────────┼─────────┤\n",
              "│ block1_conv2 (\u001b[38;5;33mConv2D\u001b[0m)                 │ (\u001b[38;5;45mNone\u001b[0m, \u001b[38;5;34m56\u001b[0m, \u001b[38;5;34m56\u001b[0m, \u001b[38;5;34m64\u001b[0m)            │         \u001b[38;5;34m36,928\u001b[0m │    \u001b[1;91mN\u001b[0m    │\n",
              "├───────────────────────────────────────┼───────────────────────────────┼────────────────┼─────────┤\n",
              "│ block1_pool (\u001b[38;5;33mMaxPooling2D\u001b[0m)            │ (\u001b[38;5;45mNone\u001b[0m, \u001b[38;5;34m28\u001b[0m, \u001b[38;5;34m28\u001b[0m, \u001b[38;5;34m64\u001b[0m)            │              \u001b[38;5;34m0\u001b[0m │    \u001b[1m-\u001b[0m    │\n",
              "├───────────────────────────────────────┼───────────────────────────────┼────────────────┼─────────┤\n",
              "│ block2_conv1 (\u001b[38;5;33mConv2D\u001b[0m)                 │ (\u001b[38;5;45mNone\u001b[0m, \u001b[38;5;34m28\u001b[0m, \u001b[38;5;34m28\u001b[0m, \u001b[38;5;34m128\u001b[0m)           │         \u001b[38;5;34m73,856\u001b[0m │    \u001b[1;91mN\u001b[0m    │\n",
              "├───────────────────────────────────────┼───────────────────────────────┼────────────────┼─────────┤\n",
              "│ block2_conv2 (\u001b[38;5;33mConv2D\u001b[0m)                 │ (\u001b[38;5;45mNone\u001b[0m, \u001b[38;5;34m28\u001b[0m, \u001b[38;5;34m28\u001b[0m, \u001b[38;5;34m128\u001b[0m)           │        \u001b[38;5;34m147,584\u001b[0m │    \u001b[1;91mN\u001b[0m    │\n",
              "├───────────────────────────────────────┼───────────────────────────────┼────────────────┼─────────┤\n",
              "│ block2_pool (\u001b[38;5;33mMaxPooling2D\u001b[0m)            │ (\u001b[38;5;45mNone\u001b[0m, \u001b[38;5;34m14\u001b[0m, \u001b[38;5;34m14\u001b[0m, \u001b[38;5;34m128\u001b[0m)           │              \u001b[38;5;34m0\u001b[0m │    \u001b[1m-\u001b[0m    │\n",
              "├───────────────────────────────────────┼───────────────────────────────┼────────────────┼─────────┤\n",
              "│ block3_conv1 (\u001b[38;5;33mConv2D\u001b[0m)                 │ (\u001b[38;5;45mNone\u001b[0m, \u001b[38;5;34m14\u001b[0m, \u001b[38;5;34m14\u001b[0m, \u001b[38;5;34m256\u001b[0m)           │        \u001b[38;5;34m295,168\u001b[0m │    \u001b[1;91mN\u001b[0m    │\n",
              "├───────────────────────────────────────┼───────────────────────────────┼────────────────┼─────────┤\n",
              "│ block3_conv2 (\u001b[38;5;33mConv2D\u001b[0m)                 │ (\u001b[38;5;45mNone\u001b[0m, \u001b[38;5;34m14\u001b[0m, \u001b[38;5;34m14\u001b[0m, \u001b[38;5;34m256\u001b[0m)           │        \u001b[38;5;34m590,080\u001b[0m │    \u001b[1;91mN\u001b[0m    │\n",
              "├───────────────────────────────────────┼───────────────────────────────┼────────────────┼─────────┤\n",
              "│ block3_conv3 (\u001b[38;5;33mConv2D\u001b[0m)                 │ (\u001b[38;5;45mNone\u001b[0m, \u001b[38;5;34m14\u001b[0m, \u001b[38;5;34m14\u001b[0m, \u001b[38;5;34m256\u001b[0m)           │        \u001b[38;5;34m590,080\u001b[0m │    \u001b[1;91mN\u001b[0m    │\n",
              "├───────────────────────────────────────┼───────────────────────────────┼────────────────┼─────────┤\n",
              "│ block3_pool (\u001b[38;5;33mMaxPooling2D\u001b[0m)            │ (\u001b[38;5;45mNone\u001b[0m, \u001b[38;5;34m7\u001b[0m, \u001b[38;5;34m7\u001b[0m, \u001b[38;5;34m256\u001b[0m)             │              \u001b[38;5;34m0\u001b[0m │    \u001b[1m-\u001b[0m    │\n",
              "├───────────────────────────────────────┼───────────────────────────────┼────────────────┼─────────┤\n",
              "│ batch_normalization_52                │ (\u001b[38;5;45mNone\u001b[0m, \u001b[38;5;34m7\u001b[0m, \u001b[38;5;34m7\u001b[0m, \u001b[38;5;34m256\u001b[0m)             │          \u001b[38;5;34m1,024\u001b[0m │    \u001b[1;38;5;34mY\u001b[0m    │\n",
              "│ (\u001b[38;5;33mBatchNormalization\u001b[0m)                  │                               │                │         │\n",
              "├───────────────────────────────────────┼───────────────────────────────┼────────────────┼─────────┤\n",
              "│ flatten_8 (\u001b[38;5;33mFlatten\u001b[0m)                   │ (\u001b[38;5;45mNone\u001b[0m, \u001b[38;5;34m12544\u001b[0m)                 │              \u001b[38;5;34m0\u001b[0m │    \u001b[1m-\u001b[0m    │\n",
              "├───────────────────────────────────────┼───────────────────────────────┼────────────────┼─────────┤\n",
              "│ dense_14 (\u001b[38;5;33mDense\u001b[0m)                      │ (\u001b[38;5;45mNone\u001b[0m, \u001b[38;5;34m10\u001b[0m)                    │        \u001b[38;5;34m125,450\u001b[0m │    \u001b[1;38;5;34mY\u001b[0m    │\n",
              "└───────────────────────────────────────┴───────────────────────────────┴────────────────┴─────────┘\n"
            ],
            "text/html": [
              "<pre style=\"white-space:pre;overflow-x:auto;line-height:normal;font-family:Menlo,'DejaVu Sans Mono',consolas,'Courier New',monospace\">┏━━━━━━━━━━━━━━━━━━━━━━━━━━━━━━━━━━━━━━━┳━━━━━━━━━━━━━━━━━━━━━━━━━━━━━━━┳━━━━━━━━━━━━━━━━┳━━━━━━━━━┓\n",
              "┃<span style=\"font-weight: bold\"> Layer (type)                          </span>┃<span style=\"font-weight: bold\"> Output Shape                  </span>┃<span style=\"font-weight: bold\">        Param # </span>┃<span style=\"font-weight: bold\"> Traina… </span>┃\n",
              "┡━━━━━━━━━━━━━━━━━━━━━━━━━━━━━━━━━━━━━━━╇━━━━━━━━━━━━━━━━━━━━━━━━━━━━━━━╇━━━━━━━━━━━━━━━━╇━━━━━━━━━┩\n",
              "│ input_layer_17 (<span style=\"color: #0087ff; text-decoration-color: #0087ff\">InputLayer</span>)           │ (<span style=\"color: #00d7ff; text-decoration-color: #00d7ff\">None</span>, <span style=\"color: #00af00; text-decoration-color: #00af00\">56</span>, <span style=\"color: #00af00; text-decoration-color: #00af00\">56</span>, <span style=\"color: #00af00; text-decoration-color: #00af00\">3</span>)             │              <span style=\"color: #00af00; text-decoration-color: #00af00\">0</span> │    <span style=\"font-weight: bold\">-</span>    │\n",
              "├───────────────────────────────────────┼───────────────────────────────┼────────────────┼─────────┤\n",
              "│ block1_conv1 (<span style=\"color: #0087ff; text-decoration-color: #0087ff\">Conv2D</span>)                 │ (<span style=\"color: #00d7ff; text-decoration-color: #00d7ff\">None</span>, <span style=\"color: #00af00; text-decoration-color: #00af00\">56</span>, <span style=\"color: #00af00; text-decoration-color: #00af00\">56</span>, <span style=\"color: #00af00; text-decoration-color: #00af00\">64</span>)            │          <span style=\"color: #00af00; text-decoration-color: #00af00\">1,792</span> │    <span style=\"color: #ff0000; text-decoration-color: #ff0000; font-weight: bold\">N</span>    │\n",
              "├───────────────────────────────────────┼───────────────────────────────┼────────────────┼─────────┤\n",
              "│ block1_conv2 (<span style=\"color: #0087ff; text-decoration-color: #0087ff\">Conv2D</span>)                 │ (<span style=\"color: #00d7ff; text-decoration-color: #00d7ff\">None</span>, <span style=\"color: #00af00; text-decoration-color: #00af00\">56</span>, <span style=\"color: #00af00; text-decoration-color: #00af00\">56</span>, <span style=\"color: #00af00; text-decoration-color: #00af00\">64</span>)            │         <span style=\"color: #00af00; text-decoration-color: #00af00\">36,928</span> │    <span style=\"color: #ff0000; text-decoration-color: #ff0000; font-weight: bold\">N</span>    │\n",
              "├───────────────────────────────────────┼───────────────────────────────┼────────────────┼─────────┤\n",
              "│ block1_pool (<span style=\"color: #0087ff; text-decoration-color: #0087ff\">MaxPooling2D</span>)            │ (<span style=\"color: #00d7ff; text-decoration-color: #00d7ff\">None</span>, <span style=\"color: #00af00; text-decoration-color: #00af00\">28</span>, <span style=\"color: #00af00; text-decoration-color: #00af00\">28</span>, <span style=\"color: #00af00; text-decoration-color: #00af00\">64</span>)            │              <span style=\"color: #00af00; text-decoration-color: #00af00\">0</span> │    <span style=\"font-weight: bold\">-</span>    │\n",
              "├───────────────────────────────────────┼───────────────────────────────┼────────────────┼─────────┤\n",
              "│ block2_conv1 (<span style=\"color: #0087ff; text-decoration-color: #0087ff\">Conv2D</span>)                 │ (<span style=\"color: #00d7ff; text-decoration-color: #00d7ff\">None</span>, <span style=\"color: #00af00; text-decoration-color: #00af00\">28</span>, <span style=\"color: #00af00; text-decoration-color: #00af00\">28</span>, <span style=\"color: #00af00; text-decoration-color: #00af00\">128</span>)           │         <span style=\"color: #00af00; text-decoration-color: #00af00\">73,856</span> │    <span style=\"color: #ff0000; text-decoration-color: #ff0000; font-weight: bold\">N</span>    │\n",
              "├───────────────────────────────────────┼───────────────────────────────┼────────────────┼─────────┤\n",
              "│ block2_conv2 (<span style=\"color: #0087ff; text-decoration-color: #0087ff\">Conv2D</span>)                 │ (<span style=\"color: #00d7ff; text-decoration-color: #00d7ff\">None</span>, <span style=\"color: #00af00; text-decoration-color: #00af00\">28</span>, <span style=\"color: #00af00; text-decoration-color: #00af00\">28</span>, <span style=\"color: #00af00; text-decoration-color: #00af00\">128</span>)           │        <span style=\"color: #00af00; text-decoration-color: #00af00\">147,584</span> │    <span style=\"color: #ff0000; text-decoration-color: #ff0000; font-weight: bold\">N</span>    │\n",
              "├───────────────────────────────────────┼───────────────────────────────┼────────────────┼─────────┤\n",
              "│ block2_pool (<span style=\"color: #0087ff; text-decoration-color: #0087ff\">MaxPooling2D</span>)            │ (<span style=\"color: #00d7ff; text-decoration-color: #00d7ff\">None</span>, <span style=\"color: #00af00; text-decoration-color: #00af00\">14</span>, <span style=\"color: #00af00; text-decoration-color: #00af00\">14</span>, <span style=\"color: #00af00; text-decoration-color: #00af00\">128</span>)           │              <span style=\"color: #00af00; text-decoration-color: #00af00\">0</span> │    <span style=\"font-weight: bold\">-</span>    │\n",
              "├───────────────────────────────────────┼───────────────────────────────┼────────────────┼─────────┤\n",
              "│ block3_conv1 (<span style=\"color: #0087ff; text-decoration-color: #0087ff\">Conv2D</span>)                 │ (<span style=\"color: #00d7ff; text-decoration-color: #00d7ff\">None</span>, <span style=\"color: #00af00; text-decoration-color: #00af00\">14</span>, <span style=\"color: #00af00; text-decoration-color: #00af00\">14</span>, <span style=\"color: #00af00; text-decoration-color: #00af00\">256</span>)           │        <span style=\"color: #00af00; text-decoration-color: #00af00\">295,168</span> │    <span style=\"color: #ff0000; text-decoration-color: #ff0000; font-weight: bold\">N</span>    │\n",
              "├───────────────────────────────────────┼───────────────────────────────┼────────────────┼─────────┤\n",
              "│ block3_conv2 (<span style=\"color: #0087ff; text-decoration-color: #0087ff\">Conv2D</span>)                 │ (<span style=\"color: #00d7ff; text-decoration-color: #00d7ff\">None</span>, <span style=\"color: #00af00; text-decoration-color: #00af00\">14</span>, <span style=\"color: #00af00; text-decoration-color: #00af00\">14</span>, <span style=\"color: #00af00; text-decoration-color: #00af00\">256</span>)           │        <span style=\"color: #00af00; text-decoration-color: #00af00\">590,080</span> │    <span style=\"color: #ff0000; text-decoration-color: #ff0000; font-weight: bold\">N</span>    │\n",
              "├───────────────────────────────────────┼───────────────────────────────┼────────────────┼─────────┤\n",
              "│ block3_conv3 (<span style=\"color: #0087ff; text-decoration-color: #0087ff\">Conv2D</span>)                 │ (<span style=\"color: #00d7ff; text-decoration-color: #00d7ff\">None</span>, <span style=\"color: #00af00; text-decoration-color: #00af00\">14</span>, <span style=\"color: #00af00; text-decoration-color: #00af00\">14</span>, <span style=\"color: #00af00; text-decoration-color: #00af00\">256</span>)           │        <span style=\"color: #00af00; text-decoration-color: #00af00\">590,080</span> │    <span style=\"color: #ff0000; text-decoration-color: #ff0000; font-weight: bold\">N</span>    │\n",
              "├───────────────────────────────────────┼───────────────────────────────┼────────────────┼─────────┤\n",
              "│ block3_pool (<span style=\"color: #0087ff; text-decoration-color: #0087ff\">MaxPooling2D</span>)            │ (<span style=\"color: #00d7ff; text-decoration-color: #00d7ff\">None</span>, <span style=\"color: #00af00; text-decoration-color: #00af00\">7</span>, <span style=\"color: #00af00; text-decoration-color: #00af00\">7</span>, <span style=\"color: #00af00; text-decoration-color: #00af00\">256</span>)             │              <span style=\"color: #00af00; text-decoration-color: #00af00\">0</span> │    <span style=\"font-weight: bold\">-</span>    │\n",
              "├───────────────────────────────────────┼───────────────────────────────┼────────────────┼─────────┤\n",
              "│ batch_normalization_52                │ (<span style=\"color: #00d7ff; text-decoration-color: #00d7ff\">None</span>, <span style=\"color: #00af00; text-decoration-color: #00af00\">7</span>, <span style=\"color: #00af00; text-decoration-color: #00af00\">7</span>, <span style=\"color: #00af00; text-decoration-color: #00af00\">256</span>)             │          <span style=\"color: #00af00; text-decoration-color: #00af00\">1,024</span> │    <span style=\"color: #00af00; text-decoration-color: #00af00; font-weight: bold\">Y</span>    │\n",
              "│ (<span style=\"color: #0087ff; text-decoration-color: #0087ff\">BatchNormalization</span>)                  │                               │                │         │\n",
              "├───────────────────────────────────────┼───────────────────────────────┼────────────────┼─────────┤\n",
              "│ flatten_8 (<span style=\"color: #0087ff; text-decoration-color: #0087ff\">Flatten</span>)                   │ (<span style=\"color: #00d7ff; text-decoration-color: #00d7ff\">None</span>, <span style=\"color: #00af00; text-decoration-color: #00af00\">12544</span>)                 │              <span style=\"color: #00af00; text-decoration-color: #00af00\">0</span> │    <span style=\"font-weight: bold\">-</span>    │\n",
              "├───────────────────────────────────────┼───────────────────────────────┼────────────────┼─────────┤\n",
              "│ dense_14 (<span style=\"color: #0087ff; text-decoration-color: #0087ff\">Dense</span>)                      │ (<span style=\"color: #00d7ff; text-decoration-color: #00d7ff\">None</span>, <span style=\"color: #00af00; text-decoration-color: #00af00\">10</span>)                    │        <span style=\"color: #00af00; text-decoration-color: #00af00\">125,450</span> │    <span style=\"color: #00af00; text-decoration-color: #00af00; font-weight: bold\">Y</span>    │\n",
              "└───────────────────────────────────────┴───────────────────────────────┴────────────────┴─────────┘\n",
              "</pre>\n"
            ]
          },
          "metadata": {}
        },
        {
          "output_type": "display_data",
          "data": {
            "text/plain": [
              "\u001b[1m Total params: \u001b[0m\u001b[38;5;34m2,113,888\u001b[0m (8.06 MB)\n"
            ],
            "text/html": [
              "<pre style=\"white-space:pre;overflow-x:auto;line-height:normal;font-family:Menlo,'DejaVu Sans Mono',consolas,'Courier New',monospace\"><span style=\"font-weight: bold\"> Total params: </span><span style=\"color: #00af00; text-decoration-color: #00af00\">2,113,888</span> (8.06 MB)\n",
              "</pre>\n"
            ]
          },
          "metadata": {}
        },
        {
          "output_type": "display_data",
          "data": {
            "text/plain": [
              "\u001b[1m Trainable params: \u001b[0m\u001b[38;5;34m125,962\u001b[0m (492.04 KB)\n"
            ],
            "text/html": [
              "<pre style=\"white-space:pre;overflow-x:auto;line-height:normal;font-family:Menlo,'DejaVu Sans Mono',consolas,'Courier New',monospace\"><span style=\"font-weight: bold\"> Trainable params: </span><span style=\"color: #00af00; text-decoration-color: #00af00\">125,962</span> (492.04 KB)\n",
              "</pre>\n"
            ]
          },
          "metadata": {}
        },
        {
          "output_type": "display_data",
          "data": {
            "text/plain": [
              "\u001b[1m Non-trainable params: \u001b[0m\u001b[38;5;34m1,736,000\u001b[0m (6.62 MB)\n"
            ],
            "text/html": [
              "<pre style=\"white-space:pre;overflow-x:auto;line-height:normal;font-family:Menlo,'DejaVu Sans Mono',consolas,'Courier New',monospace\"><span style=\"font-weight: bold\"> Non-trainable params: </span><span style=\"color: #00af00; text-decoration-color: #00af00\">1,736,000</span> (6.62 MB)\n",
              "</pre>\n"
            ]
          },
          "metadata": {}
        },
        {
          "output_type": "display_data",
          "data": {
            "text/plain": [
              "\u001b[1m Optimizer params: \u001b[0m\u001b[38;5;34m251,926\u001b[0m (984.09 KB)\n"
            ],
            "text/html": [
              "<pre style=\"white-space:pre;overflow-x:auto;line-height:normal;font-family:Menlo,'DejaVu Sans Mono',consolas,'Courier New',monospace\"><span style=\"font-weight: bold\"> Optimizer params: </span><span style=\"color: #00af00; text-decoration-color: #00af00\">251,926</span> (984.09 KB)\n",
              "</pre>\n"
            ]
          },
          "metadata": {}
        },
        {
          "output_type": "stream",
          "name": "stdout",
          "text": [
            "Epoch 1/30\n",
            "\u001b[1m375/375\u001b[0m \u001b[32m━━━━━━━━━━━━━━━━━━━━\u001b[0m\u001b[37m\u001b[0m \u001b[1m15s\u001b[0m 36ms/step - acc: 0.9485 - loss: 0.1434 - val_acc: 0.9273 - val_loss: 0.2047\n",
            "Epoch 2/30\n",
            "\u001b[1m375/375\u001b[0m \u001b[32m━━━━━━━━━━━━━━━━━━━━\u001b[0m\u001b[37m\u001b[0m \u001b[1m18s\u001b[0m 33ms/step - acc: 0.9543 - loss: 0.1296 - val_acc: 0.9285 - val_loss: 0.2021\n",
            "Epoch 3/30\n",
            "\u001b[1m375/375\u001b[0m \u001b[32m━━━━━━━━━━━━━━━━━━━━\u001b[0m\u001b[37m\u001b[0m \u001b[1m20s\u001b[0m 32ms/step - acc: 0.9570 - loss: 0.1222 - val_acc: 0.9293 - val_loss: 0.2006\n",
            "Epoch 4/30\n",
            "\u001b[1m375/375\u001b[0m \u001b[32m━━━━━━━━━━━━━━━━━━━━\u001b[0m\u001b[37m\u001b[0m \u001b[1m21s\u001b[0m 34ms/step - acc: 0.9599 - loss: 0.1162 - val_acc: 0.9300 - val_loss: 0.1998\n",
            "Epoch 5/30\n",
            "\u001b[1m375/375\u001b[0m \u001b[32m━━━━━━━━━━━━━━━━━━━━\u001b[0m\u001b[37m\u001b[0m \u001b[1m20s\u001b[0m 33ms/step - acc: 0.9619 - loss: 0.1111 - val_acc: 0.9307 - val_loss: 0.1995\n",
            "Epoch 6/30\n",
            "\u001b[1m375/375\u001b[0m \u001b[32m━━━━━━━━━━━━━━━━━━━━\u001b[0m\u001b[37m\u001b[0m \u001b[1m12s\u001b[0m 33ms/step - acc: 0.9636 - loss: 0.1065 - val_acc: 0.9305 - val_loss: 0.1994\n",
            "Epoch 7/30\n",
            "\u001b[1m375/375\u001b[0m \u001b[32m━━━━━━━━━━━━━━━━━━━━\u001b[0m\u001b[37m\u001b[0m \u001b[1m12s\u001b[0m 32ms/step - acc: 0.9657 - loss: 0.1025 - val_acc: 0.9302 - val_loss: 0.1996\n",
            "Epoch 8/30\n",
            "\u001b[1m375/375\u001b[0m \u001b[32m━━━━━━━━━━━━━━━━━━━━\u001b[0m\u001b[37m\u001b[0m \u001b[1m21s\u001b[0m 32ms/step - acc: 0.9677 - loss: 0.0988 - val_acc: 0.9302 - val_loss: 0.2000\n",
            "Epoch 9/30\n",
            "\u001b[1m375/375\u001b[0m \u001b[32m━━━━━━━━━━━━━━━━━━━━\u001b[0m\u001b[37m\u001b[0m \u001b[1m12s\u001b[0m 32ms/step - acc: 0.9692 - loss: 0.0955 - val_acc: 0.9303 - val_loss: 0.2005\n",
            "\u001b[1m78/78\u001b[0m \u001b[32m━━━━━━━━━━━━━━━━━━━━\u001b[0m\u001b[37m\u001b[0m \u001b[1m2s\u001b[0m 26ms/step - acc: 0.9219 - loss: 0.2137\n",
            "Test accuracy after fine-tuning all layers: 0.925\n"
          ]
        }
      ]
    },
    {
      "cell_type": "code",
      "source": [
        "# Enable training for deeper layers only (e.g., block4 and block5)\n",
        "for layer in model.layers:\n",
        "    if \"block4\" in layer.name or \"block5\" in layer.name:\n",
        "        layer.trainable = True\n",
        "    else:\n",
        "        layer.trainable = False\n",
        "\n",
        "# Display the model summary with trainable status\n",
        "model.summary(show_trainable=True, line_length=100)\n",
        "\n",
        "\n",
        "# Compile with a lower learning rate\n",
        "model.compile(\n",
        "    optimizer=keras.optimizers.Adam(learning_rate=1e-4),\n",
        "    loss=keras.losses.SparseCategoricalCrossentropy(),\n",
        "    metrics=[keras.metrics.SparseCategoricalAccuracy(name=\"acc\")]\n",
        ")\n",
        "\n",
        "# Set callback functions to early stop training and save the best model so far\n",
        "callbacks = [keras.callbacks.EarlyStopping(monitor='val_loss', patience=3, restore_best_weights=True)]\n",
        "\n",
        "# Train the model\n",
        "history = model.fit(\n",
        "    train_ds,\n",
        "    epochs=30,\n",
        "    validation_data=val_ds,\n",
        "    callbacks=callbacks\n",
        ")\n",
        "\n",
        "# Evaluate the model\n",
        "test_loss, test_acc = model.evaluate(test_ds)\n",
        "print(f\"Test accuracy after fine-tuning deeper layers: {test_acc:.3f}\")\n"
      ],
      "metadata": {
        "id": "ElcTNBdqQoGD",
        "colab": {
          "base_uri": "https://localhost:8080/",
          "height": 813
        },
        "outputId": "0fa50389-ba23-4a9f-d9cc-c45d0add153c"
      },
      "execution_count": null,
      "outputs": [
        {
          "output_type": "display_data",
          "data": {
            "text/plain": [
              "\u001b[1mModel: \"functional_8\"\u001b[0m\n"
            ],
            "text/html": [
              "<pre style=\"white-space:pre;overflow-x:auto;line-height:normal;font-family:Menlo,'DejaVu Sans Mono',consolas,'Courier New',monospace\"><span style=\"font-weight: bold\">Model: \"functional_8\"</span>\n",
              "</pre>\n"
            ]
          },
          "metadata": {}
        },
        {
          "output_type": "display_data",
          "data": {
            "text/plain": [
              "┏━━━━━━━━━━━━━━━━━━━━━━━━━━━━━━━━━━━━━━━┳━━━━━━━━━━━━━━━━━━━━━━━━━━━━━━━┳━━━━━━━━━━━━━━━━┳━━━━━━━━━┓\n",
              "┃\u001b[1m \u001b[0m\u001b[1mLayer (type)                         \u001b[0m\u001b[1m \u001b[0m┃\u001b[1m \u001b[0m\u001b[1mOutput Shape                 \u001b[0m\u001b[1m \u001b[0m┃\u001b[1m \u001b[0m\u001b[1m       Param #\u001b[0m\u001b[1m \u001b[0m┃\u001b[1m \u001b[0m\u001b[1mTraina…\u001b[0m\u001b[1m \u001b[0m┃\n",
              "┡━━━━━━━━━━━━━━━━━━━━━━━━━━━━━━━━━━━━━━━╇━━━━━━━━━━━━━━━━━━━━━━━━━━━━━━━╇━━━━━━━━━━━━━━━━╇━━━━━━━━━┩\n",
              "│ input_layer_17 (\u001b[38;5;33mInputLayer\u001b[0m)           │ (\u001b[38;5;45mNone\u001b[0m, \u001b[38;5;34m56\u001b[0m, \u001b[38;5;34m56\u001b[0m, \u001b[38;5;34m3\u001b[0m)             │              \u001b[38;5;34m0\u001b[0m │    \u001b[1m-\u001b[0m    │\n",
              "├───────────────────────────────────────┼───────────────────────────────┼────────────────┼─────────┤\n",
              "│ block1_conv1 (\u001b[38;5;33mConv2D\u001b[0m)                 │ (\u001b[38;5;45mNone\u001b[0m, \u001b[38;5;34m56\u001b[0m, \u001b[38;5;34m56\u001b[0m, \u001b[38;5;34m64\u001b[0m)            │          \u001b[38;5;34m1,792\u001b[0m │    \u001b[1;91mN\u001b[0m    │\n",
              "├───────────────────────────────────────┼───────────────────────────────┼────────────────┼─────────┤\n",
              "│ block1_conv2 (\u001b[38;5;33mConv2D\u001b[0m)                 │ (\u001b[38;5;45mNone\u001b[0m, \u001b[38;5;34m56\u001b[0m, \u001b[38;5;34m56\u001b[0m, \u001b[38;5;34m64\u001b[0m)            │         \u001b[38;5;34m36,928\u001b[0m │    \u001b[1;91mN\u001b[0m    │\n",
              "├───────────────────────────────────────┼───────────────────────────────┼────────────────┼─────────┤\n",
              "│ block1_pool (\u001b[38;5;33mMaxPooling2D\u001b[0m)            │ (\u001b[38;5;45mNone\u001b[0m, \u001b[38;5;34m28\u001b[0m, \u001b[38;5;34m28\u001b[0m, \u001b[38;5;34m64\u001b[0m)            │              \u001b[38;5;34m0\u001b[0m │    \u001b[1m-\u001b[0m    │\n",
              "├───────────────────────────────────────┼───────────────────────────────┼────────────────┼─────────┤\n",
              "│ block2_conv1 (\u001b[38;5;33mConv2D\u001b[0m)                 │ (\u001b[38;5;45mNone\u001b[0m, \u001b[38;5;34m28\u001b[0m, \u001b[38;5;34m28\u001b[0m, \u001b[38;5;34m128\u001b[0m)           │         \u001b[38;5;34m73,856\u001b[0m │    \u001b[1;91mN\u001b[0m    │\n",
              "├───────────────────────────────────────┼───────────────────────────────┼────────────────┼─────────┤\n",
              "│ block2_conv2 (\u001b[38;5;33mConv2D\u001b[0m)                 │ (\u001b[38;5;45mNone\u001b[0m, \u001b[38;5;34m28\u001b[0m, \u001b[38;5;34m28\u001b[0m, \u001b[38;5;34m128\u001b[0m)           │        \u001b[38;5;34m147,584\u001b[0m │    \u001b[1;91mN\u001b[0m    │\n",
              "├───────────────────────────────────────┼───────────────────────────────┼────────────────┼─────────┤\n",
              "│ block2_pool (\u001b[38;5;33mMaxPooling2D\u001b[0m)            │ (\u001b[38;5;45mNone\u001b[0m, \u001b[38;5;34m14\u001b[0m, \u001b[38;5;34m14\u001b[0m, \u001b[38;5;34m128\u001b[0m)           │              \u001b[38;5;34m0\u001b[0m │    \u001b[1m-\u001b[0m    │\n",
              "├───────────────────────────────────────┼───────────────────────────────┼────────────────┼─────────┤\n",
              "│ block3_conv1 (\u001b[38;5;33mConv2D\u001b[0m)                 │ (\u001b[38;5;45mNone\u001b[0m, \u001b[38;5;34m14\u001b[0m, \u001b[38;5;34m14\u001b[0m, \u001b[38;5;34m256\u001b[0m)           │        \u001b[38;5;34m295,168\u001b[0m │    \u001b[1;91mN\u001b[0m    │\n",
              "├───────────────────────────────────────┼───────────────────────────────┼────────────────┼─────────┤\n",
              "│ block3_conv2 (\u001b[38;5;33mConv2D\u001b[0m)                 │ (\u001b[38;5;45mNone\u001b[0m, \u001b[38;5;34m14\u001b[0m, \u001b[38;5;34m14\u001b[0m, \u001b[38;5;34m256\u001b[0m)           │        \u001b[38;5;34m590,080\u001b[0m │    \u001b[1;91mN\u001b[0m    │\n",
              "├───────────────────────────────────────┼───────────────────────────────┼────────────────┼─────────┤\n",
              "│ block3_conv3 (\u001b[38;5;33mConv2D\u001b[0m)                 │ (\u001b[38;5;45mNone\u001b[0m, \u001b[38;5;34m14\u001b[0m, \u001b[38;5;34m14\u001b[0m, \u001b[38;5;34m256\u001b[0m)           │        \u001b[38;5;34m590,080\u001b[0m │    \u001b[1;91mN\u001b[0m    │\n",
              "├───────────────────────────────────────┼───────────────────────────────┼────────────────┼─────────┤\n",
              "│ block3_pool (\u001b[38;5;33mMaxPooling2D\u001b[0m)            │ (\u001b[38;5;45mNone\u001b[0m, \u001b[38;5;34m7\u001b[0m, \u001b[38;5;34m7\u001b[0m, \u001b[38;5;34m256\u001b[0m)             │              \u001b[38;5;34m0\u001b[0m │    \u001b[1m-\u001b[0m    │\n",
              "├───────────────────────────────────────┼───────────────────────────────┼────────────────┼─────────┤\n",
              "│ batch_normalization_52                │ (\u001b[38;5;45mNone\u001b[0m, \u001b[38;5;34m7\u001b[0m, \u001b[38;5;34m7\u001b[0m, \u001b[38;5;34m256\u001b[0m)             │          \u001b[38;5;34m1,024\u001b[0m │    \u001b[1;91mN\u001b[0m    │\n",
              "│ (\u001b[38;5;33mBatchNormalization\u001b[0m)                  │                               │                │         │\n",
              "├───────────────────────────────────────┼───────────────────────────────┼────────────────┼─────────┤\n",
              "│ flatten_8 (\u001b[38;5;33mFlatten\u001b[0m)                   │ (\u001b[38;5;45mNone\u001b[0m, \u001b[38;5;34m12544\u001b[0m)                 │              \u001b[38;5;34m0\u001b[0m │    \u001b[1m-\u001b[0m    │\n",
              "├───────────────────────────────────────┼───────────────────────────────┼────────────────┼─────────┤\n",
              "│ dense_14 (\u001b[38;5;33mDense\u001b[0m)                      │ (\u001b[38;5;45mNone\u001b[0m, \u001b[38;5;34m10\u001b[0m)                    │        \u001b[38;5;34m125,450\u001b[0m │    \u001b[1;91mN\u001b[0m    │\n",
              "└───────────────────────────────────────┴───────────────────────────────┴────────────────┴─────────┘\n"
            ],
            "text/html": [
              "<pre style=\"white-space:pre;overflow-x:auto;line-height:normal;font-family:Menlo,'DejaVu Sans Mono',consolas,'Courier New',monospace\">┏━━━━━━━━━━━━━━━━━━━━━━━━━━━━━━━━━━━━━━━┳━━━━━━━━━━━━━━━━━━━━━━━━━━━━━━━┳━━━━━━━━━━━━━━━━┳━━━━━━━━━┓\n",
              "┃<span style=\"font-weight: bold\"> Layer (type)                          </span>┃<span style=\"font-weight: bold\"> Output Shape                  </span>┃<span style=\"font-weight: bold\">        Param # </span>┃<span style=\"font-weight: bold\"> Traina… </span>┃\n",
              "┡━━━━━━━━━━━━━━━━━━━━━━━━━━━━━━━━━━━━━━━╇━━━━━━━━━━━━━━━━━━━━━━━━━━━━━━━╇━━━━━━━━━━━━━━━━╇━━━━━━━━━┩\n",
              "│ input_layer_17 (<span style=\"color: #0087ff; text-decoration-color: #0087ff\">InputLayer</span>)           │ (<span style=\"color: #00d7ff; text-decoration-color: #00d7ff\">None</span>, <span style=\"color: #00af00; text-decoration-color: #00af00\">56</span>, <span style=\"color: #00af00; text-decoration-color: #00af00\">56</span>, <span style=\"color: #00af00; text-decoration-color: #00af00\">3</span>)             │              <span style=\"color: #00af00; text-decoration-color: #00af00\">0</span> │    <span style=\"font-weight: bold\">-</span>    │\n",
              "├───────────────────────────────────────┼───────────────────────────────┼────────────────┼─────────┤\n",
              "│ block1_conv1 (<span style=\"color: #0087ff; text-decoration-color: #0087ff\">Conv2D</span>)                 │ (<span style=\"color: #00d7ff; text-decoration-color: #00d7ff\">None</span>, <span style=\"color: #00af00; text-decoration-color: #00af00\">56</span>, <span style=\"color: #00af00; text-decoration-color: #00af00\">56</span>, <span style=\"color: #00af00; text-decoration-color: #00af00\">64</span>)            │          <span style=\"color: #00af00; text-decoration-color: #00af00\">1,792</span> │    <span style=\"color: #ff0000; text-decoration-color: #ff0000; font-weight: bold\">N</span>    │\n",
              "├───────────────────────────────────────┼───────────────────────────────┼────────────────┼─────────┤\n",
              "│ block1_conv2 (<span style=\"color: #0087ff; text-decoration-color: #0087ff\">Conv2D</span>)                 │ (<span style=\"color: #00d7ff; text-decoration-color: #00d7ff\">None</span>, <span style=\"color: #00af00; text-decoration-color: #00af00\">56</span>, <span style=\"color: #00af00; text-decoration-color: #00af00\">56</span>, <span style=\"color: #00af00; text-decoration-color: #00af00\">64</span>)            │         <span style=\"color: #00af00; text-decoration-color: #00af00\">36,928</span> │    <span style=\"color: #ff0000; text-decoration-color: #ff0000; font-weight: bold\">N</span>    │\n",
              "├───────────────────────────────────────┼───────────────────────────────┼────────────────┼─────────┤\n",
              "│ block1_pool (<span style=\"color: #0087ff; text-decoration-color: #0087ff\">MaxPooling2D</span>)            │ (<span style=\"color: #00d7ff; text-decoration-color: #00d7ff\">None</span>, <span style=\"color: #00af00; text-decoration-color: #00af00\">28</span>, <span style=\"color: #00af00; text-decoration-color: #00af00\">28</span>, <span style=\"color: #00af00; text-decoration-color: #00af00\">64</span>)            │              <span style=\"color: #00af00; text-decoration-color: #00af00\">0</span> │    <span style=\"font-weight: bold\">-</span>    │\n",
              "├───────────────────────────────────────┼───────────────────────────────┼────────────────┼─────────┤\n",
              "│ block2_conv1 (<span style=\"color: #0087ff; text-decoration-color: #0087ff\">Conv2D</span>)                 │ (<span style=\"color: #00d7ff; text-decoration-color: #00d7ff\">None</span>, <span style=\"color: #00af00; text-decoration-color: #00af00\">28</span>, <span style=\"color: #00af00; text-decoration-color: #00af00\">28</span>, <span style=\"color: #00af00; text-decoration-color: #00af00\">128</span>)           │         <span style=\"color: #00af00; text-decoration-color: #00af00\">73,856</span> │    <span style=\"color: #ff0000; text-decoration-color: #ff0000; font-weight: bold\">N</span>    │\n",
              "├───────────────────────────────────────┼───────────────────────────────┼────────────────┼─────────┤\n",
              "│ block2_conv2 (<span style=\"color: #0087ff; text-decoration-color: #0087ff\">Conv2D</span>)                 │ (<span style=\"color: #00d7ff; text-decoration-color: #00d7ff\">None</span>, <span style=\"color: #00af00; text-decoration-color: #00af00\">28</span>, <span style=\"color: #00af00; text-decoration-color: #00af00\">28</span>, <span style=\"color: #00af00; text-decoration-color: #00af00\">128</span>)           │        <span style=\"color: #00af00; text-decoration-color: #00af00\">147,584</span> │    <span style=\"color: #ff0000; text-decoration-color: #ff0000; font-weight: bold\">N</span>    │\n",
              "├───────────────────────────────────────┼───────────────────────────────┼────────────────┼─────────┤\n",
              "│ block2_pool (<span style=\"color: #0087ff; text-decoration-color: #0087ff\">MaxPooling2D</span>)            │ (<span style=\"color: #00d7ff; text-decoration-color: #00d7ff\">None</span>, <span style=\"color: #00af00; text-decoration-color: #00af00\">14</span>, <span style=\"color: #00af00; text-decoration-color: #00af00\">14</span>, <span style=\"color: #00af00; text-decoration-color: #00af00\">128</span>)           │              <span style=\"color: #00af00; text-decoration-color: #00af00\">0</span> │    <span style=\"font-weight: bold\">-</span>    │\n",
              "├───────────────────────────────────────┼───────────────────────────────┼────────────────┼─────────┤\n",
              "│ block3_conv1 (<span style=\"color: #0087ff; text-decoration-color: #0087ff\">Conv2D</span>)                 │ (<span style=\"color: #00d7ff; text-decoration-color: #00d7ff\">None</span>, <span style=\"color: #00af00; text-decoration-color: #00af00\">14</span>, <span style=\"color: #00af00; text-decoration-color: #00af00\">14</span>, <span style=\"color: #00af00; text-decoration-color: #00af00\">256</span>)           │        <span style=\"color: #00af00; text-decoration-color: #00af00\">295,168</span> │    <span style=\"color: #ff0000; text-decoration-color: #ff0000; font-weight: bold\">N</span>    │\n",
              "├───────────────────────────────────────┼───────────────────────────────┼────────────────┼─────────┤\n",
              "│ block3_conv2 (<span style=\"color: #0087ff; text-decoration-color: #0087ff\">Conv2D</span>)                 │ (<span style=\"color: #00d7ff; text-decoration-color: #00d7ff\">None</span>, <span style=\"color: #00af00; text-decoration-color: #00af00\">14</span>, <span style=\"color: #00af00; text-decoration-color: #00af00\">14</span>, <span style=\"color: #00af00; text-decoration-color: #00af00\">256</span>)           │        <span style=\"color: #00af00; text-decoration-color: #00af00\">590,080</span> │    <span style=\"color: #ff0000; text-decoration-color: #ff0000; font-weight: bold\">N</span>    │\n",
              "├───────────────────────────────────────┼───────────────────────────────┼────────────────┼─────────┤\n",
              "│ block3_conv3 (<span style=\"color: #0087ff; text-decoration-color: #0087ff\">Conv2D</span>)                 │ (<span style=\"color: #00d7ff; text-decoration-color: #00d7ff\">None</span>, <span style=\"color: #00af00; text-decoration-color: #00af00\">14</span>, <span style=\"color: #00af00; text-decoration-color: #00af00\">14</span>, <span style=\"color: #00af00; text-decoration-color: #00af00\">256</span>)           │        <span style=\"color: #00af00; text-decoration-color: #00af00\">590,080</span> │    <span style=\"color: #ff0000; text-decoration-color: #ff0000; font-weight: bold\">N</span>    │\n",
              "├───────────────────────────────────────┼───────────────────────────────┼────────────────┼─────────┤\n",
              "│ block3_pool (<span style=\"color: #0087ff; text-decoration-color: #0087ff\">MaxPooling2D</span>)            │ (<span style=\"color: #00d7ff; text-decoration-color: #00d7ff\">None</span>, <span style=\"color: #00af00; text-decoration-color: #00af00\">7</span>, <span style=\"color: #00af00; text-decoration-color: #00af00\">7</span>, <span style=\"color: #00af00; text-decoration-color: #00af00\">256</span>)             │              <span style=\"color: #00af00; text-decoration-color: #00af00\">0</span> │    <span style=\"font-weight: bold\">-</span>    │\n",
              "├───────────────────────────────────────┼───────────────────────────────┼────────────────┼─────────┤\n",
              "│ batch_normalization_52                │ (<span style=\"color: #00d7ff; text-decoration-color: #00d7ff\">None</span>, <span style=\"color: #00af00; text-decoration-color: #00af00\">7</span>, <span style=\"color: #00af00; text-decoration-color: #00af00\">7</span>, <span style=\"color: #00af00; text-decoration-color: #00af00\">256</span>)             │          <span style=\"color: #00af00; text-decoration-color: #00af00\">1,024</span> │    <span style=\"color: #ff0000; text-decoration-color: #ff0000; font-weight: bold\">N</span>    │\n",
              "│ (<span style=\"color: #0087ff; text-decoration-color: #0087ff\">BatchNormalization</span>)                  │                               │                │         │\n",
              "├───────────────────────────────────────┼───────────────────────────────┼────────────────┼─────────┤\n",
              "│ flatten_8 (<span style=\"color: #0087ff; text-decoration-color: #0087ff\">Flatten</span>)                   │ (<span style=\"color: #00d7ff; text-decoration-color: #00d7ff\">None</span>, <span style=\"color: #00af00; text-decoration-color: #00af00\">12544</span>)                 │              <span style=\"color: #00af00; text-decoration-color: #00af00\">0</span> │    <span style=\"font-weight: bold\">-</span>    │\n",
              "├───────────────────────────────────────┼───────────────────────────────┼────────────────┼─────────┤\n",
              "│ dense_14 (<span style=\"color: #0087ff; text-decoration-color: #0087ff\">Dense</span>)                      │ (<span style=\"color: #00d7ff; text-decoration-color: #00d7ff\">None</span>, <span style=\"color: #00af00; text-decoration-color: #00af00\">10</span>)                    │        <span style=\"color: #00af00; text-decoration-color: #00af00\">125,450</span> │    <span style=\"color: #ff0000; text-decoration-color: #ff0000; font-weight: bold\">N</span>    │\n",
              "└───────────────────────────────────────┴───────────────────────────────┴────────────────┴─────────┘\n",
              "</pre>\n"
            ]
          },
          "metadata": {}
        },
        {
          "output_type": "display_data",
          "data": {
            "text/plain": [
              "\u001b[1m Total params: \u001b[0m\u001b[38;5;34m2,113,888\u001b[0m (8.06 MB)\n"
            ],
            "text/html": [
              "<pre style=\"white-space:pre;overflow-x:auto;line-height:normal;font-family:Menlo,'DejaVu Sans Mono',consolas,'Courier New',monospace\"><span style=\"font-weight: bold\"> Total params: </span><span style=\"color: #00af00; text-decoration-color: #00af00\">2,113,888</span> (8.06 MB)\n",
              "</pre>\n"
            ]
          },
          "metadata": {}
        },
        {
          "output_type": "display_data",
          "data": {
            "text/plain": [
              "\u001b[1m Trainable params: \u001b[0m\u001b[38;5;34m0\u001b[0m (0.00 B)\n"
            ],
            "text/html": [
              "<pre style=\"white-space:pre;overflow-x:auto;line-height:normal;font-family:Menlo,'DejaVu Sans Mono',consolas,'Courier New',monospace\"><span style=\"font-weight: bold\"> Trainable params: </span><span style=\"color: #00af00; text-decoration-color: #00af00\">0</span> (0.00 B)\n",
              "</pre>\n"
            ]
          },
          "metadata": {}
        },
        {
          "output_type": "display_data",
          "data": {
            "text/plain": [
              "\u001b[1m Non-trainable params: \u001b[0m\u001b[38;5;34m1,861,962\u001b[0m (7.10 MB)\n"
            ],
            "text/html": [
              "<pre style=\"white-space:pre;overflow-x:auto;line-height:normal;font-family:Menlo,'DejaVu Sans Mono',consolas,'Courier New',monospace\"><span style=\"font-weight: bold\"> Non-trainable params: </span><span style=\"color: #00af00; text-decoration-color: #00af00\">1,861,962</span> (7.10 MB)\n",
              "</pre>\n"
            ]
          },
          "metadata": {}
        },
        {
          "output_type": "display_data",
          "data": {
            "text/plain": [
              "\u001b[1m Optimizer params: \u001b[0m\u001b[38;5;34m251,926\u001b[0m (984.09 KB)\n"
            ],
            "text/html": [
              "<pre style=\"white-space:pre;overflow-x:auto;line-height:normal;font-family:Menlo,'DejaVu Sans Mono',consolas,'Courier New',monospace\"><span style=\"font-weight: bold\"> Optimizer params: </span><span style=\"color: #00af00; text-decoration-color: #00af00\">251,926</span> (984.09 KB)\n",
              "</pre>\n"
            ]
          },
          "metadata": {}
        },
        {
          "output_type": "stream",
          "name": "stdout",
          "text": [
            "Epoch 1/30\n"
          ]
        },
        {
          "output_type": "stream",
          "name": "stderr",
          "text": [
            "/usr/local/lib/python3.10/dist-packages/keras/src/backend/tensorflow/trainer.py:75: UserWarning: The model does not have any trainable weights.\n",
            "  warnings.warn(\"The model does not have any trainable weights.\")\n"
          ]
        },
        {
          "output_type": "stream",
          "name": "stdout",
          "text": [
            "\u001b[1m375/375\u001b[0m \u001b[32m━━━━━━━━━━━━━━━━━━━━\u001b[0m\u001b[37m\u001b[0m \u001b[1m15s\u001b[0m 40ms/step - acc: 0.9601 - loss: 0.1117 - val_acc: 0.9305 - val_loss: 0.1994\n",
            "Epoch 2/30\n",
            "\u001b[1m375/375\u001b[0m \u001b[32m━━━━━━━━━━━━━━━━━━━━\u001b[0m\u001b[37m\u001b[0m \u001b[1m12s\u001b[0m 33ms/step - acc: 0.9601 - loss: 0.1117 - val_acc: 0.9305 - val_loss: 0.1994\n",
            "Epoch 3/30\n",
            "\u001b[1m375/375\u001b[0m \u001b[32m━━━━━━━━━━━━━━━━━━━━\u001b[0m\u001b[37m\u001b[0m \u001b[1m20s\u001b[0m 31ms/step - acc: 0.9601 - loss: 0.1117 - val_acc: 0.9305 - val_loss: 0.1994\n",
            "Epoch 4/30\n",
            "\u001b[1m375/375\u001b[0m \u001b[32m━━━━━━━━━━━━━━━━━━━━\u001b[0m\u001b[37m\u001b[0m \u001b[1m12s\u001b[0m 33ms/step - acc: 0.9601 - loss: 0.1117 - val_acc: 0.9305 - val_loss: 0.1994\n",
            "\u001b[1m78/78\u001b[0m \u001b[32m━━━━━━━━━━━━━━━━━━━━\u001b[0m\u001b[37m\u001b[0m \u001b[1m2s\u001b[0m 25ms/step - acc: 0.9219 - loss: 0.2137\n",
            "Test accuracy after fine-tuning deeper layers: 0.925\n"
          ]
        }
      ]
    },
    {
      "cell_type": "markdown",
      "source": [
        "Selective Fine-Tuning is Sufficient:\n",
        "For Fashion MNIST, fine-tuning block3_pool achieves the same performance as before, with fewer epochs and reduced computational cost.\n"
      ],
      "metadata": {
        "id": "N4QU9OITVUX0"
      }
    },
    {
      "cell_type": "markdown",
      "source": [
        "# Del X (VG uppgift)"
      ],
      "metadata": {
        "id": "c2X1v8CpF_NP"
      }
    },
    {
      "cell_type": "markdown",
      "source": [
        "För denna deluppgift ska du ersätta VGG16 med Xception https://keras.io/api/applications/xception/ som bas för överförd inlärning och utvärdera den resulterande modellen på vårt Fashion-MNIST problem. Notera att Xception har en annan storlek som minsta möjliga storlek för inbilderna. Då modellen har 126 lager så kommer vi bara använda en del av alla dess lager på våra små bilder. Välj ett lämplig antal lager av Xceptionmodellen och motivera varför du inte använder fler. Utvärdera Xception och jämför med när du använde VGG16."
      ],
      "metadata": {
        "id": "yUal8LVXGE0_"
      }
    },
    {
      "cell_type": "markdown",
      "source": [
        "input_shape: optional shape tuple, only to be specified if include_top is False (otherwise the input shape has to be (299, 299, 3). It should have exactly 3 inputs channels, and width and height should be no smaller than 71. E.g. (150, 150, 3) would be one valid value."
      ],
      "metadata": {
        "id": "c084jkT_TsUq"
      }
    },
    {
      "cell_type": "code",
      "source": [
        "def ds_img_transform(images, labels):\n",
        "    # Resize images to (71, 71, 3)\n",
        "    images = tf.image.grayscale_to_rgb(images)\n",
        "    images_resized = tf.image.resize(images, [71, 71])  # Resize to 71x71\n",
        "    return images_resized, labels\n",
        "\n",
        "batch_size = 128\n"
      ],
      "metadata": {
        "id": "0TebSBkeWiK7"
      },
      "execution_count": null,
      "outputs": []
    },
    {
      "cell_type": "code",
      "source": [
        "train_ds,val_ds = keras.utils.split_dataset((train_images0, train_labels0), right_size=0.2)\n",
        "test_ds = tf.data.Dataset.from_tensor_slices((test_images, test_labels))\n",
        "\n",
        "train_ds = (train_ds.map(ds_img_transform, num_parallel_calls=tf.data.AUTOTUNE)\n",
        "                    .batch(batch_size=batch_size)\n",
        "                    .prefetch(tf.data.AUTOTUNE))\n",
        "\n",
        "val_ds = (val_ds.map(ds_img_transform, num_parallel_calls=tf.data.AUTOTUNE)\n",
        "                  .batch(batch_size=batch_size)\n",
        "                  .prefetch(tf.data.AUTOTUNE))\n",
        "\n",
        "test_ds = (test_ds.map(ds_img_transform, num_parallel_calls=tf.data.AUTOTUNE)\n",
        "                   .batch(batch_size=batch_size)\n",
        "                   .prefetch(tf.data.AUTOTUNE))\n"
      ],
      "metadata": {
        "id": "iUvwXgvLWlHf"
      },
      "execution_count": null,
      "outputs": []
    },
    {
      "cell_type": "code",
      "source": [
        "from tensorflow.keras.applications import Xception\n",
        "\n",
        "# Set input shape to match Xception's minimum requirement\n",
        "input_shape = (71, 71, 3)\n",
        "\n",
        "# Load the Xception model without top layers\n",
        "xception_base = Xception(\n",
        "    weights='imagenet',  # Pre-trained on ImageNet\n",
        "    include_top=False,   # Exclude the fully connected layers\n",
        "    input_shape=input_shape\n",
        ")\n",
        "\n",
        "# Freeze all layers in the base model\n",
        "xception_base.trainable = False\n",
        "\n",
        "# Display model summary for reference\n",
        "xception_base.summary(show_trainable=True, line_length=100)\n"
      ],
      "metadata": {
        "id": "gIAIge5RTV-N",
        "colab": {
          "base_uri": "https://localhost:8080/",
          "height": 1000
        },
        "outputId": "2b1dea46-9cc3-444a-e168-6c5e5c893929"
      },
      "execution_count": null,
      "outputs": [
        {
          "output_type": "display_data",
          "data": {
            "text/plain": [
              "\u001b[1mModel: \"xception\"\u001b[0m\n"
            ],
            "text/html": [
              "<pre style=\"white-space:pre;overflow-x:auto;line-height:normal;font-family:Menlo,'DejaVu Sans Mono',consolas,'Courier New',monospace\"><span style=\"font-weight: bold\">Model: \"xception\"</span>\n",
              "</pre>\n"
            ]
          },
          "metadata": {}
        },
        {
          "output_type": "display_data",
          "data": {
            "text/plain": [
              "┏━━━━━━━━━━━━━━━━━━━━━━━━━━┳━━━━━━━━━━━━━━━━━━━━━━┳━━━━━━━━━━━━━━━┳━━━━━━━━━━━━━━━━━━━━━━┳━━━━━━━━━┓\n",
              "┃\u001b[1m \u001b[0m\u001b[1mLayer (type)            \u001b[0m\u001b[1m \u001b[0m┃\u001b[1m \u001b[0m\u001b[1mOutput Shape        \u001b[0m\u001b[1m \u001b[0m┃\u001b[1m \u001b[0m\u001b[1m      Param #\u001b[0m\u001b[1m \u001b[0m┃\u001b[1m \u001b[0m\u001b[1mConnected to        \u001b[0m\u001b[1m \u001b[0m┃\u001b[1m \u001b[0m\u001b[1mTraina…\u001b[0m\u001b[1m \u001b[0m┃\n",
              "┡━━━━━━━━━━━━━━━━━━━━━━━━━━╇━━━━━━━━━━━━━━━━━━━━━━╇━━━━━━━━━━━━━━━╇━━━━━━━━━━━━━━━━━━━━━━╇━━━━━━━━━┩\n",
              "│ input_layer_18           │ (\u001b[38;5;45mNone\u001b[0m, \u001b[38;5;34m71\u001b[0m, \u001b[38;5;34m71\u001b[0m, \u001b[38;5;34m3\u001b[0m)    │             \u001b[38;5;34m0\u001b[0m │ -                    │    \u001b[1m-\u001b[0m    │\n",
              "│ (\u001b[38;5;33mInputLayer\u001b[0m)             │                      │               │                      │         │\n",
              "├──────────────────────────┼──────────────────────┼───────────────┼──────────────────────┼─────────┤\n",
              "│ block1_conv1 (\u001b[38;5;33mConv2D\u001b[0m)    │ (\u001b[38;5;45mNone\u001b[0m, \u001b[38;5;34m35\u001b[0m, \u001b[38;5;34m35\u001b[0m, \u001b[38;5;34m32\u001b[0m)   │           \u001b[38;5;34m864\u001b[0m │ input_layer_18[\u001b[38;5;34m0\u001b[0m][\u001b[38;5;34m0\u001b[0m] │    \u001b[1;91mN\u001b[0m    │\n",
              "├──────────────────────────┼──────────────────────┼───────────────┼──────────────────────┼─────────┤\n",
              "│ block1_conv1_bn          │ (\u001b[38;5;45mNone\u001b[0m, \u001b[38;5;34m35\u001b[0m, \u001b[38;5;34m35\u001b[0m, \u001b[38;5;34m32\u001b[0m)   │           \u001b[38;5;34m128\u001b[0m │ block1_conv1[\u001b[38;5;34m0\u001b[0m][\u001b[38;5;34m0\u001b[0m]   │    \u001b[1;91mN\u001b[0m    │\n",
              "│ (\u001b[38;5;33mBatchNormalization\u001b[0m)     │                      │               │                      │         │\n",
              "├──────────────────────────┼──────────────────────┼───────────────┼──────────────────────┼─────────┤\n",
              "│ block1_conv1_act         │ (\u001b[38;5;45mNone\u001b[0m, \u001b[38;5;34m35\u001b[0m, \u001b[38;5;34m35\u001b[0m, \u001b[38;5;34m32\u001b[0m)   │             \u001b[38;5;34m0\u001b[0m │ block1_conv1_bn[\u001b[38;5;34m0\u001b[0m][\u001b[38;5;34m…\u001b[0m │    \u001b[1m-\u001b[0m    │\n",
              "│ (\u001b[38;5;33mActivation\u001b[0m)             │                      │               │                      │         │\n",
              "├──────────────────────────┼──────────────────────┼───────────────┼──────────────────────┼─────────┤\n",
              "│ block1_conv2 (\u001b[38;5;33mConv2D\u001b[0m)    │ (\u001b[38;5;45mNone\u001b[0m, \u001b[38;5;34m33\u001b[0m, \u001b[38;5;34m33\u001b[0m, \u001b[38;5;34m64\u001b[0m)   │        \u001b[38;5;34m18,432\u001b[0m │ block1_conv1_act[\u001b[38;5;34m0\u001b[0m]… │    \u001b[1;91mN\u001b[0m    │\n",
              "├──────────────────────────┼──────────────────────┼───────────────┼──────────────────────┼─────────┤\n",
              "│ block1_conv2_bn          │ (\u001b[38;5;45mNone\u001b[0m, \u001b[38;5;34m33\u001b[0m, \u001b[38;5;34m33\u001b[0m, \u001b[38;5;34m64\u001b[0m)   │           \u001b[38;5;34m256\u001b[0m │ block1_conv2[\u001b[38;5;34m0\u001b[0m][\u001b[38;5;34m0\u001b[0m]   │    \u001b[1;91mN\u001b[0m    │\n",
              "│ (\u001b[38;5;33mBatchNormalization\u001b[0m)     │                      │               │                      │         │\n",
              "├──────────────────────────┼──────────────────────┼───────────────┼──────────────────────┼─────────┤\n",
              "│ block1_conv2_act         │ (\u001b[38;5;45mNone\u001b[0m, \u001b[38;5;34m33\u001b[0m, \u001b[38;5;34m33\u001b[0m, \u001b[38;5;34m64\u001b[0m)   │             \u001b[38;5;34m0\u001b[0m │ block1_conv2_bn[\u001b[38;5;34m0\u001b[0m][\u001b[38;5;34m…\u001b[0m │    \u001b[1m-\u001b[0m    │\n",
              "│ (\u001b[38;5;33mActivation\u001b[0m)             │                      │               │                      │         │\n",
              "├──────────────────────────┼──────────────────────┼───────────────┼──────────────────────┼─────────┤\n",
              "│ block2_sepconv1          │ (\u001b[38;5;45mNone\u001b[0m, \u001b[38;5;34m33\u001b[0m, \u001b[38;5;34m33\u001b[0m, \u001b[38;5;34m128\u001b[0m)  │         \u001b[38;5;34m8,768\u001b[0m │ block1_conv2_act[\u001b[38;5;34m0\u001b[0m]… │    \u001b[1;91mN\u001b[0m    │\n",
              "│ (\u001b[38;5;33mSeparableConv2D\u001b[0m)        │                      │               │                      │         │\n",
              "├──────────────────────────┼──────────────────────┼───────────────┼──────────────────────┼─────────┤\n",
              "│ block2_sepconv1_bn       │ (\u001b[38;5;45mNone\u001b[0m, \u001b[38;5;34m33\u001b[0m, \u001b[38;5;34m33\u001b[0m, \u001b[38;5;34m128\u001b[0m)  │           \u001b[38;5;34m512\u001b[0m │ block2_sepconv1[\u001b[38;5;34m0\u001b[0m][\u001b[38;5;34m…\u001b[0m │    \u001b[1;91mN\u001b[0m    │\n",
              "│ (\u001b[38;5;33mBatchNormalization\u001b[0m)     │                      │               │                      │         │\n",
              "├──────────────────────────┼──────────────────────┼───────────────┼──────────────────────┼─────────┤\n",
              "│ block2_sepconv2_act      │ (\u001b[38;5;45mNone\u001b[0m, \u001b[38;5;34m33\u001b[0m, \u001b[38;5;34m33\u001b[0m, \u001b[38;5;34m128\u001b[0m)  │             \u001b[38;5;34m0\u001b[0m │ block2_sepconv1_bn[\u001b[38;5;34m…\u001b[0m │    \u001b[1m-\u001b[0m    │\n",
              "│ (\u001b[38;5;33mActivation\u001b[0m)             │                      │               │                      │         │\n",
              "├──────────────────────────┼──────────────────────┼───────────────┼──────────────────────┼─────────┤\n",
              "│ block2_sepconv2          │ (\u001b[38;5;45mNone\u001b[0m, \u001b[38;5;34m33\u001b[0m, \u001b[38;5;34m33\u001b[0m, \u001b[38;5;34m128\u001b[0m)  │        \u001b[38;5;34m17,536\u001b[0m │ block2_sepconv2_act… │    \u001b[1;91mN\u001b[0m    │\n",
              "│ (\u001b[38;5;33mSeparableConv2D\u001b[0m)        │                      │               │                      │         │\n",
              "├──────────────────────────┼──────────────────────┼───────────────┼──────────────────────┼─────────┤\n",
              "│ block2_sepconv2_bn       │ (\u001b[38;5;45mNone\u001b[0m, \u001b[38;5;34m33\u001b[0m, \u001b[38;5;34m33\u001b[0m, \u001b[38;5;34m128\u001b[0m)  │           \u001b[38;5;34m512\u001b[0m │ block2_sepconv2[\u001b[38;5;34m0\u001b[0m][\u001b[38;5;34m…\u001b[0m │    \u001b[1;91mN\u001b[0m    │\n",
              "│ (\u001b[38;5;33mBatchNormalization\u001b[0m)     │                      │               │                      │         │\n",
              "├──────────────────────────┼──────────────────────┼───────────────┼──────────────────────┼─────────┤\n",
              "│ conv2d_44 (\u001b[38;5;33mConv2D\u001b[0m)       │ (\u001b[38;5;45mNone\u001b[0m, \u001b[38;5;34m17\u001b[0m, \u001b[38;5;34m17\u001b[0m, \u001b[38;5;34m128\u001b[0m)  │         \u001b[38;5;34m8,192\u001b[0m │ block1_conv2_act[\u001b[38;5;34m0\u001b[0m]… │    \u001b[1;91mN\u001b[0m    │\n",
              "├──────────────────────────┼──────────────────────┼───────────────┼──────────────────────┼─────────┤\n",
              "│ block2_pool              │ (\u001b[38;5;45mNone\u001b[0m, \u001b[38;5;34m17\u001b[0m, \u001b[38;5;34m17\u001b[0m, \u001b[38;5;34m128\u001b[0m)  │             \u001b[38;5;34m0\u001b[0m │ block2_sepconv2_bn[\u001b[38;5;34m…\u001b[0m │    \u001b[1m-\u001b[0m    │\n",
              "│ (\u001b[38;5;33mMaxPooling2D\u001b[0m)           │                      │               │                      │         │\n",
              "├──────────────────────────┼──────────────────────┼───────────────┼──────────────────────┼─────────┤\n",
              "│ batch_normalization_53   │ (\u001b[38;5;45mNone\u001b[0m, \u001b[38;5;34m17\u001b[0m, \u001b[38;5;34m17\u001b[0m, \u001b[38;5;34m128\u001b[0m)  │           \u001b[38;5;34m512\u001b[0m │ conv2d_44[\u001b[38;5;34m0\u001b[0m][\u001b[38;5;34m0\u001b[0m]      │    \u001b[1;91mN\u001b[0m    │\n",
              "│ (\u001b[38;5;33mBatchNormalization\u001b[0m)     │                      │               │                      │         │\n",
              "├──────────────────────────┼──────────────────────┼───────────────┼──────────────────────┼─────────┤\n",
              "│ add_132 (\u001b[38;5;33mAdd\u001b[0m)            │ (\u001b[38;5;45mNone\u001b[0m, \u001b[38;5;34m17\u001b[0m, \u001b[38;5;34m17\u001b[0m, \u001b[38;5;34m128\u001b[0m)  │             \u001b[38;5;34m0\u001b[0m │ block2_pool[\u001b[38;5;34m0\u001b[0m][\u001b[38;5;34m0\u001b[0m],   │    \u001b[1m-\u001b[0m    │\n",
              "│                          │                      │               │ batch_normalization… │         │\n",
              "├──────────────────────────┼──────────────────────┼───────────────┼──────────────────────┼─────────┤\n",
              "│ block3_sepconv1_act      │ (\u001b[38;5;45mNone\u001b[0m, \u001b[38;5;34m17\u001b[0m, \u001b[38;5;34m17\u001b[0m, \u001b[38;5;34m128\u001b[0m)  │             \u001b[38;5;34m0\u001b[0m │ add_132[\u001b[38;5;34m0\u001b[0m][\u001b[38;5;34m0\u001b[0m]        │    \u001b[1m-\u001b[0m    │\n",
              "│ (\u001b[38;5;33mActivation\u001b[0m)             │                      │               │                      │         │\n",
              "├──────────────────────────┼──────────────────────┼───────────────┼──────────────────────┼─────────┤\n",
              "│ block3_sepconv1          │ (\u001b[38;5;45mNone\u001b[0m, \u001b[38;5;34m17\u001b[0m, \u001b[38;5;34m17\u001b[0m, \u001b[38;5;34m256\u001b[0m)  │        \u001b[38;5;34m33,920\u001b[0m │ block3_sepconv1_act… │    \u001b[1;91mN\u001b[0m    │\n",
              "│ (\u001b[38;5;33mSeparableConv2D\u001b[0m)        │                      │               │                      │         │\n",
              "├──────────────────────────┼──────────────────────┼───────────────┼──────────────────────┼─────────┤\n",
              "│ block3_sepconv1_bn       │ (\u001b[38;5;45mNone\u001b[0m, \u001b[38;5;34m17\u001b[0m, \u001b[38;5;34m17\u001b[0m, \u001b[38;5;34m256\u001b[0m)  │         \u001b[38;5;34m1,024\u001b[0m │ block3_sepconv1[\u001b[38;5;34m0\u001b[0m][\u001b[38;5;34m…\u001b[0m │    \u001b[1;91mN\u001b[0m    │\n",
              "│ (\u001b[38;5;33mBatchNormalization\u001b[0m)     │                      │               │                      │         │\n",
              "├──────────────────────────┼──────────────────────┼───────────────┼──────────────────────┼─────────┤\n",
              "│ block3_sepconv2_act      │ (\u001b[38;5;45mNone\u001b[0m, \u001b[38;5;34m17\u001b[0m, \u001b[38;5;34m17\u001b[0m, \u001b[38;5;34m256\u001b[0m)  │             \u001b[38;5;34m0\u001b[0m │ block3_sepconv1_bn[\u001b[38;5;34m…\u001b[0m │    \u001b[1m-\u001b[0m    │\n",
              "│ (\u001b[38;5;33mActivation\u001b[0m)             │                      │               │                      │         │\n",
              "├──────────────────────────┼──────────────────────┼───────────────┼──────────────────────┼─────────┤\n",
              "│ block3_sepconv2          │ (\u001b[38;5;45mNone\u001b[0m, \u001b[38;5;34m17\u001b[0m, \u001b[38;5;34m17\u001b[0m, \u001b[38;5;34m256\u001b[0m)  │        \u001b[38;5;34m67,840\u001b[0m │ block3_sepconv2_act… │    \u001b[1;91mN\u001b[0m    │\n",
              "│ (\u001b[38;5;33mSeparableConv2D\u001b[0m)        │                      │               │                      │         │\n",
              "├──────────────────────────┼──────────────────────┼───────────────┼──────────────────────┼─────────┤\n",
              "│ block3_sepconv2_bn       │ (\u001b[38;5;45mNone\u001b[0m, \u001b[38;5;34m17\u001b[0m, \u001b[38;5;34m17\u001b[0m, \u001b[38;5;34m256\u001b[0m)  │         \u001b[38;5;34m1,024\u001b[0m │ block3_sepconv2[\u001b[38;5;34m0\u001b[0m][\u001b[38;5;34m…\u001b[0m │    \u001b[1;91mN\u001b[0m    │\n",
              "│ (\u001b[38;5;33mBatchNormalization\u001b[0m)     │                      │               │                      │         │\n",
              "├──────────────────────────┼──────────────────────┼───────────────┼──────────────────────┼─────────┤\n",
              "│ conv2d_45 (\u001b[38;5;33mConv2D\u001b[0m)       │ (\u001b[38;5;45mNone\u001b[0m, \u001b[38;5;34m9\u001b[0m, \u001b[38;5;34m9\u001b[0m, \u001b[38;5;34m256\u001b[0m)    │        \u001b[38;5;34m32,768\u001b[0m │ add_132[\u001b[38;5;34m0\u001b[0m][\u001b[38;5;34m0\u001b[0m]        │    \u001b[1;91mN\u001b[0m    │\n",
              "├──────────────────────────┼──────────────────────┼───────────────┼──────────────────────┼─────────┤\n",
              "│ block3_pool              │ (\u001b[38;5;45mNone\u001b[0m, \u001b[38;5;34m9\u001b[0m, \u001b[38;5;34m9\u001b[0m, \u001b[38;5;34m256\u001b[0m)    │             \u001b[38;5;34m0\u001b[0m │ block3_sepconv2_bn[\u001b[38;5;34m…\u001b[0m │    \u001b[1m-\u001b[0m    │\n",
              "│ (\u001b[38;5;33mMaxPooling2D\u001b[0m)           │                      │               │                      │         │\n",
              "├──────────────────────────┼──────────────────────┼───────────────┼──────────────────────┼─────────┤\n",
              "│ batch_normalization_54   │ (\u001b[38;5;45mNone\u001b[0m, \u001b[38;5;34m9\u001b[0m, \u001b[38;5;34m9\u001b[0m, \u001b[38;5;34m256\u001b[0m)    │         \u001b[38;5;34m1,024\u001b[0m │ conv2d_45[\u001b[38;5;34m0\u001b[0m][\u001b[38;5;34m0\u001b[0m]      │    \u001b[1;91mN\u001b[0m    │\n",
              "│ (\u001b[38;5;33mBatchNormalization\u001b[0m)     │                      │               │                      │         │\n",
              "├──────────────────────────┼──────────────────────┼───────────────┼──────────────────────┼─────────┤\n",
              "│ add_133 (\u001b[38;5;33mAdd\u001b[0m)            │ (\u001b[38;5;45mNone\u001b[0m, \u001b[38;5;34m9\u001b[0m, \u001b[38;5;34m9\u001b[0m, \u001b[38;5;34m256\u001b[0m)    │             \u001b[38;5;34m0\u001b[0m │ block3_pool[\u001b[38;5;34m0\u001b[0m][\u001b[38;5;34m0\u001b[0m],   │    \u001b[1m-\u001b[0m    │\n",
              "│                          │                      │               │ batch_normalization… │         │\n",
              "├──────────────────────────┼──────────────────────┼───────────────┼──────────────────────┼─────────┤\n",
              "│ block4_sepconv1_act      │ (\u001b[38;5;45mNone\u001b[0m, \u001b[38;5;34m9\u001b[0m, \u001b[38;5;34m9\u001b[0m, \u001b[38;5;34m256\u001b[0m)    │             \u001b[38;5;34m0\u001b[0m │ add_133[\u001b[38;5;34m0\u001b[0m][\u001b[38;5;34m0\u001b[0m]        │    \u001b[1m-\u001b[0m    │\n",
              "│ (\u001b[38;5;33mActivation\u001b[0m)             │                      │               │                      │         │\n",
              "├──────────────────────────┼──────────────────────┼───────────────┼──────────────────────┼─────────┤\n",
              "│ block4_sepconv1          │ (\u001b[38;5;45mNone\u001b[0m, \u001b[38;5;34m9\u001b[0m, \u001b[38;5;34m9\u001b[0m, \u001b[38;5;34m728\u001b[0m)    │       \u001b[38;5;34m188,672\u001b[0m │ block4_sepconv1_act… │    \u001b[1;91mN\u001b[0m    │\n",
              "│ (\u001b[38;5;33mSeparableConv2D\u001b[0m)        │                      │               │                      │         │\n",
              "├──────────────────────────┼──────────────────────┼───────────────┼──────────────────────┼─────────┤\n",
              "│ block4_sepconv1_bn       │ (\u001b[38;5;45mNone\u001b[0m, \u001b[38;5;34m9\u001b[0m, \u001b[38;5;34m9\u001b[0m, \u001b[38;5;34m728\u001b[0m)    │         \u001b[38;5;34m2,912\u001b[0m │ block4_sepconv1[\u001b[38;5;34m0\u001b[0m][\u001b[38;5;34m…\u001b[0m │    \u001b[1;91mN\u001b[0m    │\n",
              "│ (\u001b[38;5;33mBatchNormalization\u001b[0m)     │                      │               │                      │         │\n",
              "├──────────────────────────┼──────────────────────┼───────────────┼──────────────────────┼─────────┤\n",
              "│ block4_sepconv2_act      │ (\u001b[38;5;45mNone\u001b[0m, \u001b[38;5;34m9\u001b[0m, \u001b[38;5;34m9\u001b[0m, \u001b[38;5;34m728\u001b[0m)    │             \u001b[38;5;34m0\u001b[0m │ block4_sepconv1_bn[\u001b[38;5;34m…\u001b[0m │    \u001b[1m-\u001b[0m    │\n",
              "│ (\u001b[38;5;33mActivation\u001b[0m)             │                      │               │                      │         │\n",
              "├──────────────────────────┼──────────────────────┼───────────────┼──────────────────────┼─────────┤\n",
              "│ block4_sepconv2          │ (\u001b[38;5;45mNone\u001b[0m, \u001b[38;5;34m9\u001b[0m, \u001b[38;5;34m9\u001b[0m, \u001b[38;5;34m728\u001b[0m)    │       \u001b[38;5;34m536,536\u001b[0m │ block4_sepconv2_act… │    \u001b[1;91mN\u001b[0m    │\n",
              "│ (\u001b[38;5;33mSeparableConv2D\u001b[0m)        │                      │               │                      │         │\n",
              "├──────────────────────────┼──────────────────────┼───────────────┼──────────────────────┼─────────┤\n",
              "│ block4_sepconv2_bn       │ (\u001b[38;5;45mNone\u001b[0m, \u001b[38;5;34m9\u001b[0m, \u001b[38;5;34m9\u001b[0m, \u001b[38;5;34m728\u001b[0m)    │         \u001b[38;5;34m2,912\u001b[0m │ block4_sepconv2[\u001b[38;5;34m0\u001b[0m][\u001b[38;5;34m…\u001b[0m │    \u001b[1;91mN\u001b[0m    │\n",
              "│ (\u001b[38;5;33mBatchNormalization\u001b[0m)     │                      │               │                      │         │\n",
              "├──────────────────────────┼──────────────────────┼───────────────┼──────────────────────┼─────────┤\n",
              "│ conv2d_46 (\u001b[38;5;33mConv2D\u001b[0m)       │ (\u001b[38;5;45mNone\u001b[0m, \u001b[38;5;34m5\u001b[0m, \u001b[38;5;34m5\u001b[0m, \u001b[38;5;34m728\u001b[0m)    │       \u001b[38;5;34m186,368\u001b[0m │ add_133[\u001b[38;5;34m0\u001b[0m][\u001b[38;5;34m0\u001b[0m]        │    \u001b[1;91mN\u001b[0m    │\n",
              "├──────────────────────────┼──────────────────────┼───────────────┼──────────────────────┼─────────┤\n",
              "│ block4_pool              │ (\u001b[38;5;45mNone\u001b[0m, \u001b[38;5;34m5\u001b[0m, \u001b[38;5;34m5\u001b[0m, \u001b[38;5;34m728\u001b[0m)    │             \u001b[38;5;34m0\u001b[0m │ block4_sepconv2_bn[\u001b[38;5;34m…\u001b[0m │    \u001b[1m-\u001b[0m    │\n",
              "│ (\u001b[38;5;33mMaxPooling2D\u001b[0m)           │                      │               │                      │         │\n",
              "├──────────────────────────┼──────────────────────┼───────────────┼──────────────────────┼─────────┤\n",
              "│ batch_normalization_55   │ (\u001b[38;5;45mNone\u001b[0m, \u001b[38;5;34m5\u001b[0m, \u001b[38;5;34m5\u001b[0m, \u001b[38;5;34m728\u001b[0m)    │         \u001b[38;5;34m2,912\u001b[0m │ conv2d_46[\u001b[38;5;34m0\u001b[0m][\u001b[38;5;34m0\u001b[0m]      │    \u001b[1;91mN\u001b[0m    │\n",
              "│ (\u001b[38;5;33mBatchNormalization\u001b[0m)     │                      │               │                      │         │\n",
              "├──────────────────────────┼──────────────────────┼───────────────┼──────────────────────┼─────────┤\n",
              "│ add_134 (\u001b[38;5;33mAdd\u001b[0m)            │ (\u001b[38;5;45mNone\u001b[0m, \u001b[38;5;34m5\u001b[0m, \u001b[38;5;34m5\u001b[0m, \u001b[38;5;34m728\u001b[0m)    │             \u001b[38;5;34m0\u001b[0m │ block4_pool[\u001b[38;5;34m0\u001b[0m][\u001b[38;5;34m0\u001b[0m],   │    \u001b[1m-\u001b[0m    │\n",
              "│                          │                      │               │ batch_normalization… │         │\n",
              "├──────────────────────────┼──────────────────────┼───────────────┼──────────────────────┼─────────┤\n",
              "│ block5_sepconv1_act      │ (\u001b[38;5;45mNone\u001b[0m, \u001b[38;5;34m5\u001b[0m, \u001b[38;5;34m5\u001b[0m, \u001b[38;5;34m728\u001b[0m)    │             \u001b[38;5;34m0\u001b[0m │ add_134[\u001b[38;5;34m0\u001b[0m][\u001b[38;5;34m0\u001b[0m]        │    \u001b[1m-\u001b[0m    │\n",
              "│ (\u001b[38;5;33mActivation\u001b[0m)             │                      │               │                      │         │\n",
              "├──────────────────────────┼──────────────────────┼───────────────┼──────────────────────┼─────────┤\n",
              "│ block5_sepconv1          │ (\u001b[38;5;45mNone\u001b[0m, \u001b[38;5;34m5\u001b[0m, \u001b[38;5;34m5\u001b[0m, \u001b[38;5;34m728\u001b[0m)    │       \u001b[38;5;34m536,536\u001b[0m │ block5_sepconv1_act… │    \u001b[1;91mN\u001b[0m    │\n",
              "│ (\u001b[38;5;33mSeparableConv2D\u001b[0m)        │                      │               │                      │         │\n",
              "├──────────────────────────┼──────────────────────┼───────────────┼──────────────────────┼─────────┤\n",
              "│ block5_sepconv1_bn       │ (\u001b[38;5;45mNone\u001b[0m, \u001b[38;5;34m5\u001b[0m, \u001b[38;5;34m5\u001b[0m, \u001b[38;5;34m728\u001b[0m)    │         \u001b[38;5;34m2,912\u001b[0m │ block5_sepconv1[\u001b[38;5;34m0\u001b[0m][\u001b[38;5;34m…\u001b[0m │    \u001b[1;91mN\u001b[0m    │\n",
              "│ (\u001b[38;5;33mBatchNormalization\u001b[0m)     │                      │               │                      │         │\n",
              "├──────────────────────────┼──────────────────────┼───────────────┼──────────────────────┼─────────┤\n",
              "│ block5_sepconv2_act      │ (\u001b[38;5;45mNone\u001b[0m, \u001b[38;5;34m5\u001b[0m, \u001b[38;5;34m5\u001b[0m, \u001b[38;5;34m728\u001b[0m)    │             \u001b[38;5;34m0\u001b[0m │ block5_sepconv1_bn[\u001b[38;5;34m…\u001b[0m │    \u001b[1m-\u001b[0m    │\n",
              "│ (\u001b[38;5;33mActivation\u001b[0m)             │                      │               │                      │         │\n",
              "├──────────────────────────┼──────────────────────┼───────────────┼──────────────────────┼─────────┤\n",
              "│ block5_sepconv2          │ (\u001b[38;5;45mNone\u001b[0m, \u001b[38;5;34m5\u001b[0m, \u001b[38;5;34m5\u001b[0m, \u001b[38;5;34m728\u001b[0m)    │       \u001b[38;5;34m536,536\u001b[0m │ block5_sepconv2_act… │    \u001b[1;91mN\u001b[0m    │\n",
              "│ (\u001b[38;5;33mSeparableConv2D\u001b[0m)        │                      │               │                      │         │\n",
              "├──────────────────────────┼──────────────────────┼───────────────┼──────────────────────┼─────────┤\n",
              "│ block5_sepconv2_bn       │ (\u001b[38;5;45mNone\u001b[0m, \u001b[38;5;34m5\u001b[0m, \u001b[38;5;34m5\u001b[0m, \u001b[38;5;34m728\u001b[0m)    │         \u001b[38;5;34m2,912\u001b[0m │ block5_sepconv2[\u001b[38;5;34m0\u001b[0m][\u001b[38;5;34m…\u001b[0m │    \u001b[1;91mN\u001b[0m    │\n",
              "│ (\u001b[38;5;33mBatchNormalization\u001b[0m)     │                      │               │                      │         │\n",
              "├──────────────────────────┼──────────────────────┼───────────────┼──────────────────────┼─────────┤\n",
              "│ block5_sepconv3_act      │ (\u001b[38;5;45mNone\u001b[0m, \u001b[38;5;34m5\u001b[0m, \u001b[38;5;34m5\u001b[0m, \u001b[38;5;34m728\u001b[0m)    │             \u001b[38;5;34m0\u001b[0m │ block5_sepconv2_bn[\u001b[38;5;34m…\u001b[0m │    \u001b[1m-\u001b[0m    │\n",
              "│ (\u001b[38;5;33mActivation\u001b[0m)             │                      │               │                      │         │\n",
              "├──────────────────────────┼──────────────────────┼───────────────┼──────────────────────┼─────────┤\n",
              "│ block5_sepconv3          │ (\u001b[38;5;45mNone\u001b[0m, \u001b[38;5;34m5\u001b[0m, \u001b[38;5;34m5\u001b[0m, \u001b[38;5;34m728\u001b[0m)    │       \u001b[38;5;34m536,536\u001b[0m │ block5_sepconv3_act… │    \u001b[1;91mN\u001b[0m    │\n",
              "│ (\u001b[38;5;33mSeparableConv2D\u001b[0m)        │                      │               │                      │         │\n",
              "├──────────────────────────┼──────────────────────┼───────────────┼──────────────────────┼─────────┤\n",
              "│ block5_sepconv3_bn       │ (\u001b[38;5;45mNone\u001b[0m, \u001b[38;5;34m5\u001b[0m, \u001b[38;5;34m5\u001b[0m, \u001b[38;5;34m728\u001b[0m)    │         \u001b[38;5;34m2,912\u001b[0m │ block5_sepconv3[\u001b[38;5;34m0\u001b[0m][\u001b[38;5;34m…\u001b[0m │    \u001b[1;91mN\u001b[0m    │\n",
              "│ (\u001b[38;5;33mBatchNormalization\u001b[0m)     │                      │               │                      │         │\n",
              "├──────────────────────────┼──────────────────────┼───────────────┼──────────────────────┼─────────┤\n",
              "│ add_135 (\u001b[38;5;33mAdd\u001b[0m)            │ (\u001b[38;5;45mNone\u001b[0m, \u001b[38;5;34m5\u001b[0m, \u001b[38;5;34m5\u001b[0m, \u001b[38;5;34m728\u001b[0m)    │             \u001b[38;5;34m0\u001b[0m │ block5_sepconv3_bn[\u001b[38;5;34m…\u001b[0m │    \u001b[1m-\u001b[0m    │\n",
              "│                          │                      │               │ add_134[\u001b[38;5;34m0\u001b[0m][\u001b[38;5;34m0\u001b[0m]        │         │\n",
              "├──────────────────────────┼──────────────────────┼───────────────┼──────────────────────┼─────────┤\n",
              "│ block6_sepconv1_act      │ (\u001b[38;5;45mNone\u001b[0m, \u001b[38;5;34m5\u001b[0m, \u001b[38;5;34m5\u001b[0m, \u001b[38;5;34m728\u001b[0m)    │             \u001b[38;5;34m0\u001b[0m │ add_135[\u001b[38;5;34m0\u001b[0m][\u001b[38;5;34m0\u001b[0m]        │    \u001b[1m-\u001b[0m    │\n",
              "│ (\u001b[38;5;33mActivation\u001b[0m)             │                      │               │                      │         │\n",
              "├──────────────────────────┼──────────────────────┼───────────────┼──────────────────────┼─────────┤\n",
              "│ block6_sepconv1          │ (\u001b[38;5;45mNone\u001b[0m, \u001b[38;5;34m5\u001b[0m, \u001b[38;5;34m5\u001b[0m, \u001b[38;5;34m728\u001b[0m)    │       \u001b[38;5;34m536,536\u001b[0m │ block6_sepconv1_act… │    \u001b[1;91mN\u001b[0m    │\n",
              "│ (\u001b[38;5;33mSeparableConv2D\u001b[0m)        │                      │               │                      │         │\n",
              "├──────────────────────────┼──────────────────────┼───────────────┼──────────────────────┼─────────┤\n",
              "│ block6_sepconv1_bn       │ (\u001b[38;5;45mNone\u001b[0m, \u001b[38;5;34m5\u001b[0m, \u001b[38;5;34m5\u001b[0m, \u001b[38;5;34m728\u001b[0m)    │         \u001b[38;5;34m2,912\u001b[0m │ block6_sepconv1[\u001b[38;5;34m0\u001b[0m][\u001b[38;5;34m…\u001b[0m │    \u001b[1;91mN\u001b[0m    │\n",
              "│ (\u001b[38;5;33mBatchNormalization\u001b[0m)     │                      │               │                      │         │\n",
              "├──────────────────────────┼──────────────────────┼───────────────┼──────────────────────┼─────────┤\n",
              "│ block6_sepconv2_act      │ (\u001b[38;5;45mNone\u001b[0m, \u001b[38;5;34m5\u001b[0m, \u001b[38;5;34m5\u001b[0m, \u001b[38;5;34m728\u001b[0m)    │             \u001b[38;5;34m0\u001b[0m │ block6_sepconv1_bn[\u001b[38;5;34m…\u001b[0m │    \u001b[1m-\u001b[0m    │\n",
              "│ (\u001b[38;5;33mActivation\u001b[0m)             │                      │               │                      │         │\n",
              "├──────────────────────────┼──────────────────────┼───────────────┼──────────────────────┼─────────┤\n",
              "│ block6_sepconv2          │ (\u001b[38;5;45mNone\u001b[0m, \u001b[38;5;34m5\u001b[0m, \u001b[38;5;34m5\u001b[0m, \u001b[38;5;34m728\u001b[0m)    │       \u001b[38;5;34m536,536\u001b[0m │ block6_sepconv2_act… │    \u001b[1;91mN\u001b[0m    │\n",
              "│ (\u001b[38;5;33mSeparableConv2D\u001b[0m)        │                      │               │                      │         │\n",
              "├──────────────────────────┼──────────────────────┼───────────────┼──────────────────────┼─────────┤\n",
              "│ block6_sepconv2_bn       │ (\u001b[38;5;45mNone\u001b[0m, \u001b[38;5;34m5\u001b[0m, \u001b[38;5;34m5\u001b[0m, \u001b[38;5;34m728\u001b[0m)    │         \u001b[38;5;34m2,912\u001b[0m │ block6_sepconv2[\u001b[38;5;34m0\u001b[0m][\u001b[38;5;34m…\u001b[0m │    \u001b[1;91mN\u001b[0m    │\n",
              "│ (\u001b[38;5;33mBatchNormalization\u001b[0m)     │                      │               │                      │         │\n",
              "├──────────────────────────┼──────────────────────┼───────────────┼──────────────────────┼─────────┤\n",
              "│ block6_sepconv3_act      │ (\u001b[38;5;45mNone\u001b[0m, \u001b[38;5;34m5\u001b[0m, \u001b[38;5;34m5\u001b[0m, \u001b[38;5;34m728\u001b[0m)    │             \u001b[38;5;34m0\u001b[0m │ block6_sepconv2_bn[\u001b[38;5;34m…\u001b[0m │    \u001b[1m-\u001b[0m    │\n",
              "│ (\u001b[38;5;33mActivation\u001b[0m)             │                      │               │                      │         │\n",
              "├──────────────────────────┼──────────────────────┼───────────────┼──────────────────────┼─────────┤\n",
              "│ block6_sepconv3          │ (\u001b[38;5;45mNone\u001b[0m, \u001b[38;5;34m5\u001b[0m, \u001b[38;5;34m5\u001b[0m, \u001b[38;5;34m728\u001b[0m)    │       \u001b[38;5;34m536,536\u001b[0m │ block6_sepconv3_act… │    \u001b[1;91mN\u001b[0m    │\n",
              "│ (\u001b[38;5;33mSeparableConv2D\u001b[0m)        │                      │               │                      │         │\n",
              "├──────────────────────────┼──────────────────────┼───────────────┼──────────────────────┼─────────┤\n",
              "│ block6_sepconv3_bn       │ (\u001b[38;5;45mNone\u001b[0m, \u001b[38;5;34m5\u001b[0m, \u001b[38;5;34m5\u001b[0m, \u001b[38;5;34m728\u001b[0m)    │         \u001b[38;5;34m2,912\u001b[0m │ block6_sepconv3[\u001b[38;5;34m0\u001b[0m][\u001b[38;5;34m…\u001b[0m │    \u001b[1;91mN\u001b[0m    │\n",
              "│ (\u001b[38;5;33mBatchNormalization\u001b[0m)     │                      │               │                      │         │\n",
              "├──────────────────────────┼──────────────────────┼───────────────┼──────────────────────┼─────────┤\n",
              "│ add_136 (\u001b[38;5;33mAdd\u001b[0m)            │ (\u001b[38;5;45mNone\u001b[0m, \u001b[38;5;34m5\u001b[0m, \u001b[38;5;34m5\u001b[0m, \u001b[38;5;34m728\u001b[0m)    │             \u001b[38;5;34m0\u001b[0m │ block6_sepconv3_bn[\u001b[38;5;34m…\u001b[0m │    \u001b[1m-\u001b[0m    │\n",
              "│                          │                      │               │ add_135[\u001b[38;5;34m0\u001b[0m][\u001b[38;5;34m0\u001b[0m]        │         │\n",
              "├──────────────────────────┼──────────────────────┼───────────────┼──────────────────────┼─────────┤\n",
              "│ block7_sepconv1_act      │ (\u001b[38;5;45mNone\u001b[0m, \u001b[38;5;34m5\u001b[0m, \u001b[38;5;34m5\u001b[0m, \u001b[38;5;34m728\u001b[0m)    │             \u001b[38;5;34m0\u001b[0m │ add_136[\u001b[38;5;34m0\u001b[0m][\u001b[38;5;34m0\u001b[0m]        │    \u001b[1m-\u001b[0m    │\n",
              "│ (\u001b[38;5;33mActivation\u001b[0m)             │                      │               │                      │         │\n",
              "├──────────────────────────┼──────────────────────┼───────────────┼──────────────────────┼─────────┤\n",
              "│ block7_sepconv1          │ (\u001b[38;5;45mNone\u001b[0m, \u001b[38;5;34m5\u001b[0m, \u001b[38;5;34m5\u001b[0m, \u001b[38;5;34m728\u001b[0m)    │       \u001b[38;5;34m536,536\u001b[0m │ block7_sepconv1_act… │    \u001b[1;91mN\u001b[0m    │\n",
              "│ (\u001b[38;5;33mSeparableConv2D\u001b[0m)        │                      │               │                      │         │\n",
              "├──────────────────────────┼──────────────────────┼───────────────┼──────────────────────┼─────────┤\n",
              "│ block7_sepconv1_bn       │ (\u001b[38;5;45mNone\u001b[0m, \u001b[38;5;34m5\u001b[0m, \u001b[38;5;34m5\u001b[0m, \u001b[38;5;34m728\u001b[0m)    │         \u001b[38;5;34m2,912\u001b[0m │ block7_sepconv1[\u001b[38;5;34m0\u001b[0m][\u001b[38;5;34m…\u001b[0m │    \u001b[1;91mN\u001b[0m    │\n",
              "│ (\u001b[38;5;33mBatchNormalization\u001b[0m)     │                      │               │                      │         │\n",
              "├──────────────────────────┼──────────────────────┼───────────────┼──────────────────────┼─────────┤\n",
              "│ block7_sepconv2_act      │ (\u001b[38;5;45mNone\u001b[0m, \u001b[38;5;34m5\u001b[0m, \u001b[38;5;34m5\u001b[0m, \u001b[38;5;34m728\u001b[0m)    │             \u001b[38;5;34m0\u001b[0m │ block7_sepconv1_bn[\u001b[38;5;34m…\u001b[0m │    \u001b[1m-\u001b[0m    │\n",
              "│ (\u001b[38;5;33mActivation\u001b[0m)             │                      │               │                      │         │\n",
              "├──────────────────────────┼──────────────────────┼───────────────┼──────────────────────┼─────────┤\n",
              "│ block7_sepconv2          │ (\u001b[38;5;45mNone\u001b[0m, \u001b[38;5;34m5\u001b[0m, \u001b[38;5;34m5\u001b[0m, \u001b[38;5;34m728\u001b[0m)    │       \u001b[38;5;34m536,536\u001b[0m │ block7_sepconv2_act… │    \u001b[1;91mN\u001b[0m    │\n",
              "│ (\u001b[38;5;33mSeparableConv2D\u001b[0m)        │                      │               │                      │         │\n",
              "├──────────────────────────┼──────────────────────┼───────────────┼──────────────────────┼─────────┤\n",
              "│ block7_sepconv2_bn       │ (\u001b[38;5;45mNone\u001b[0m, \u001b[38;5;34m5\u001b[0m, \u001b[38;5;34m5\u001b[0m, \u001b[38;5;34m728\u001b[0m)    │         \u001b[38;5;34m2,912\u001b[0m │ block7_sepconv2[\u001b[38;5;34m0\u001b[0m][\u001b[38;5;34m…\u001b[0m │    \u001b[1;91mN\u001b[0m    │\n",
              "│ (\u001b[38;5;33mBatchNormalization\u001b[0m)     │                      │               │                      │         │\n",
              "├──────────────────────────┼──────────────────────┼───────────────┼──────────────────────┼─────────┤\n",
              "│ block7_sepconv3_act      │ (\u001b[38;5;45mNone\u001b[0m, \u001b[38;5;34m5\u001b[0m, \u001b[38;5;34m5\u001b[0m, \u001b[38;5;34m728\u001b[0m)    │             \u001b[38;5;34m0\u001b[0m │ block7_sepconv2_bn[\u001b[38;5;34m…\u001b[0m │    \u001b[1m-\u001b[0m    │\n",
              "│ (\u001b[38;5;33mActivation\u001b[0m)             │                      │               │                      │         │\n",
              "├──────────────────────────┼──────────────────────┼───────────────┼──────────────────────┼─────────┤\n",
              "│ block7_sepconv3          │ (\u001b[38;5;45mNone\u001b[0m, \u001b[38;5;34m5\u001b[0m, \u001b[38;5;34m5\u001b[0m, \u001b[38;5;34m728\u001b[0m)    │       \u001b[38;5;34m536,536\u001b[0m │ block7_sepconv3_act… │    \u001b[1;91mN\u001b[0m    │\n",
              "│ (\u001b[38;5;33mSeparableConv2D\u001b[0m)        │                      │               │                      │         │\n",
              "├──────────────────────────┼──────────────────────┼───────────────┼──────────────────────┼─────────┤\n",
              "│ block7_sepconv3_bn       │ (\u001b[38;5;45mNone\u001b[0m, \u001b[38;5;34m5\u001b[0m, \u001b[38;5;34m5\u001b[0m, \u001b[38;5;34m728\u001b[0m)    │         \u001b[38;5;34m2,912\u001b[0m │ block7_sepconv3[\u001b[38;5;34m0\u001b[0m][\u001b[38;5;34m…\u001b[0m │    \u001b[1;91mN\u001b[0m    │\n",
              "│ (\u001b[38;5;33mBatchNormalization\u001b[0m)     │                      │               │                      │         │\n",
              "├──────────────────────────┼──────────────────────┼───────────────┼──────────────────────┼─────────┤\n",
              "│ add_137 (\u001b[38;5;33mAdd\u001b[0m)            │ (\u001b[38;5;45mNone\u001b[0m, \u001b[38;5;34m5\u001b[0m, \u001b[38;5;34m5\u001b[0m, \u001b[38;5;34m728\u001b[0m)    │             \u001b[38;5;34m0\u001b[0m │ block7_sepconv3_bn[\u001b[38;5;34m…\u001b[0m │    \u001b[1m-\u001b[0m    │\n",
              "│                          │                      │               │ add_136[\u001b[38;5;34m0\u001b[0m][\u001b[38;5;34m0\u001b[0m]        │         │\n",
              "├──────────────────────────┼──────────────────────┼───────────────┼──────────────────────┼─────────┤\n",
              "│ block8_sepconv1_act      │ (\u001b[38;5;45mNone\u001b[0m, \u001b[38;5;34m5\u001b[0m, \u001b[38;5;34m5\u001b[0m, \u001b[38;5;34m728\u001b[0m)    │             \u001b[38;5;34m0\u001b[0m │ add_137[\u001b[38;5;34m0\u001b[0m][\u001b[38;5;34m0\u001b[0m]        │    \u001b[1m-\u001b[0m    │\n",
              "│ (\u001b[38;5;33mActivation\u001b[0m)             │                      │               │                      │         │\n",
              "├──────────────────────────┼──────────────────────┼───────────────┼──────────────────────┼─────────┤\n",
              "│ block8_sepconv1          │ (\u001b[38;5;45mNone\u001b[0m, \u001b[38;5;34m5\u001b[0m, \u001b[38;5;34m5\u001b[0m, \u001b[38;5;34m728\u001b[0m)    │       \u001b[38;5;34m536,536\u001b[0m │ block8_sepconv1_act… │    \u001b[1;91mN\u001b[0m    │\n",
              "│ (\u001b[38;5;33mSeparableConv2D\u001b[0m)        │                      │               │                      │         │\n",
              "├──────────────────────────┼──────────────────────┼───────────────┼──────────────────────┼─────────┤\n",
              "│ block8_sepconv1_bn       │ (\u001b[38;5;45mNone\u001b[0m, \u001b[38;5;34m5\u001b[0m, \u001b[38;5;34m5\u001b[0m, \u001b[38;5;34m728\u001b[0m)    │         \u001b[38;5;34m2,912\u001b[0m │ block8_sepconv1[\u001b[38;5;34m0\u001b[0m][\u001b[38;5;34m…\u001b[0m │    \u001b[1;91mN\u001b[0m    │\n",
              "│ (\u001b[38;5;33mBatchNormalization\u001b[0m)     │                      │               │                      │         │\n",
              "├──────────────────────────┼──────────────────────┼───────────────┼──────────────────────┼─────────┤\n",
              "│ block8_sepconv2_act      │ (\u001b[38;5;45mNone\u001b[0m, \u001b[38;5;34m5\u001b[0m, \u001b[38;5;34m5\u001b[0m, \u001b[38;5;34m728\u001b[0m)    │             \u001b[38;5;34m0\u001b[0m │ block8_sepconv1_bn[\u001b[38;5;34m…\u001b[0m │    \u001b[1m-\u001b[0m    │\n",
              "│ (\u001b[38;5;33mActivation\u001b[0m)             │                      │               │                      │         │\n",
              "├──────────────────────────┼──────────────────────┼───────────────┼──────────────────────┼─────────┤\n",
              "│ block8_sepconv2          │ (\u001b[38;5;45mNone\u001b[0m, \u001b[38;5;34m5\u001b[0m, \u001b[38;5;34m5\u001b[0m, \u001b[38;5;34m728\u001b[0m)    │       \u001b[38;5;34m536,536\u001b[0m │ block8_sepconv2_act… │    \u001b[1;91mN\u001b[0m    │\n",
              "│ (\u001b[38;5;33mSeparableConv2D\u001b[0m)        │                      │               │                      │         │\n",
              "├──────────────────────────┼──────────────────────┼───────────────┼──────────────────────┼─────────┤\n",
              "│ block8_sepconv2_bn       │ (\u001b[38;5;45mNone\u001b[0m, \u001b[38;5;34m5\u001b[0m, \u001b[38;5;34m5\u001b[0m, \u001b[38;5;34m728\u001b[0m)    │         \u001b[38;5;34m2,912\u001b[0m │ block8_sepconv2[\u001b[38;5;34m0\u001b[0m][\u001b[38;5;34m…\u001b[0m │    \u001b[1;91mN\u001b[0m    │\n",
              "│ (\u001b[38;5;33mBatchNormalization\u001b[0m)     │                      │               │                      │         │\n",
              "├──────────────────────────┼──────────────────────┼───────────────┼──────────────────────┼─────────┤\n",
              "│ block8_sepconv3_act      │ (\u001b[38;5;45mNone\u001b[0m, \u001b[38;5;34m5\u001b[0m, \u001b[38;5;34m5\u001b[0m, \u001b[38;5;34m728\u001b[0m)    │             \u001b[38;5;34m0\u001b[0m │ block8_sepconv2_bn[\u001b[38;5;34m…\u001b[0m │    \u001b[1m-\u001b[0m    │\n",
              "│ (\u001b[38;5;33mActivation\u001b[0m)             │                      │               │                      │         │\n",
              "├──────────────────────────┼──────────────────────┼───────────────┼──────────────────────┼─────────┤\n",
              "│ block8_sepconv3          │ (\u001b[38;5;45mNone\u001b[0m, \u001b[38;5;34m5\u001b[0m, \u001b[38;5;34m5\u001b[0m, \u001b[38;5;34m728\u001b[0m)    │       \u001b[38;5;34m536,536\u001b[0m │ block8_sepconv3_act… │    \u001b[1;91mN\u001b[0m    │\n",
              "│ (\u001b[38;5;33mSeparableConv2D\u001b[0m)        │                      │               │                      │         │\n",
              "├──────────────────────────┼──────────────────────┼───────────────┼──────────────────────┼─────────┤\n",
              "│ block8_sepconv3_bn       │ (\u001b[38;5;45mNone\u001b[0m, \u001b[38;5;34m5\u001b[0m, \u001b[38;5;34m5\u001b[0m, \u001b[38;5;34m728\u001b[0m)    │         \u001b[38;5;34m2,912\u001b[0m │ block8_sepconv3[\u001b[38;5;34m0\u001b[0m][\u001b[38;5;34m…\u001b[0m │    \u001b[1;91mN\u001b[0m    │\n",
              "│ (\u001b[38;5;33mBatchNormalization\u001b[0m)     │                      │               │                      │         │\n",
              "├──────────────────────────┼──────────────────────┼───────────────┼──────────────────────┼─────────┤\n",
              "│ add_138 (\u001b[38;5;33mAdd\u001b[0m)            │ (\u001b[38;5;45mNone\u001b[0m, \u001b[38;5;34m5\u001b[0m, \u001b[38;5;34m5\u001b[0m, \u001b[38;5;34m728\u001b[0m)    │             \u001b[38;5;34m0\u001b[0m │ block8_sepconv3_bn[\u001b[38;5;34m…\u001b[0m │    \u001b[1m-\u001b[0m    │\n",
              "│                          │                      │               │ add_137[\u001b[38;5;34m0\u001b[0m][\u001b[38;5;34m0\u001b[0m]        │         │\n",
              "├──────────────────────────┼──────────────────────┼───────────────┼──────────────────────┼─────────┤\n",
              "│ block9_sepconv1_act      │ (\u001b[38;5;45mNone\u001b[0m, \u001b[38;5;34m5\u001b[0m, \u001b[38;5;34m5\u001b[0m, \u001b[38;5;34m728\u001b[0m)    │             \u001b[38;5;34m0\u001b[0m │ add_138[\u001b[38;5;34m0\u001b[0m][\u001b[38;5;34m0\u001b[0m]        │    \u001b[1m-\u001b[0m    │\n",
              "│ (\u001b[38;5;33mActivation\u001b[0m)             │                      │               │                      │         │\n",
              "├──────────────────────────┼──────────────────────┼───────────────┼──────────────────────┼─────────┤\n",
              "│ block9_sepconv1          │ (\u001b[38;5;45mNone\u001b[0m, \u001b[38;5;34m5\u001b[0m, \u001b[38;5;34m5\u001b[0m, \u001b[38;5;34m728\u001b[0m)    │       \u001b[38;5;34m536,536\u001b[0m │ block9_sepconv1_act… │    \u001b[1;91mN\u001b[0m    │\n",
              "│ (\u001b[38;5;33mSeparableConv2D\u001b[0m)        │                      │               │                      │         │\n",
              "├──────────────────────────┼──────────────────────┼───────────────┼──────────────────────┼─────────┤\n",
              "│ block9_sepconv1_bn       │ (\u001b[38;5;45mNone\u001b[0m, \u001b[38;5;34m5\u001b[0m, \u001b[38;5;34m5\u001b[0m, \u001b[38;5;34m728\u001b[0m)    │         \u001b[38;5;34m2,912\u001b[0m │ block9_sepconv1[\u001b[38;5;34m0\u001b[0m][\u001b[38;5;34m…\u001b[0m │    \u001b[1;91mN\u001b[0m    │\n",
              "│ (\u001b[38;5;33mBatchNormalization\u001b[0m)     │                      │               │                      │         │\n",
              "├──────────────────────────┼──────────────────────┼───────────────┼──────────────────────┼─────────┤\n",
              "│ block9_sepconv2_act      │ (\u001b[38;5;45mNone\u001b[0m, \u001b[38;5;34m5\u001b[0m, \u001b[38;5;34m5\u001b[0m, \u001b[38;5;34m728\u001b[0m)    │             \u001b[38;5;34m0\u001b[0m │ block9_sepconv1_bn[\u001b[38;5;34m…\u001b[0m │    \u001b[1m-\u001b[0m    │\n",
              "│ (\u001b[38;5;33mActivation\u001b[0m)             │                      │               │                      │         │\n",
              "├──────────────────────────┼──────────────────────┼───────────────┼──────────────────────┼─────────┤\n",
              "│ block9_sepconv2          │ (\u001b[38;5;45mNone\u001b[0m, \u001b[38;5;34m5\u001b[0m, \u001b[38;5;34m5\u001b[0m, \u001b[38;5;34m728\u001b[0m)    │       \u001b[38;5;34m536,536\u001b[0m │ block9_sepconv2_act… │    \u001b[1;91mN\u001b[0m    │\n",
              "│ (\u001b[38;5;33mSeparableConv2D\u001b[0m)        │                      │               │                      │         │\n",
              "├──────────────────────────┼──────────────────────┼───────────────┼──────────────────────┼─────────┤\n",
              "│ block9_sepconv2_bn       │ (\u001b[38;5;45mNone\u001b[0m, \u001b[38;5;34m5\u001b[0m, \u001b[38;5;34m5\u001b[0m, \u001b[38;5;34m728\u001b[0m)    │         \u001b[38;5;34m2,912\u001b[0m │ block9_sepconv2[\u001b[38;5;34m0\u001b[0m][\u001b[38;5;34m…\u001b[0m │    \u001b[1;91mN\u001b[0m    │\n",
              "│ (\u001b[38;5;33mBatchNormalization\u001b[0m)     │                      │               │                      │         │\n",
              "├──────────────────────────┼──────────────────────┼───────────────┼──────────────────────┼─────────┤\n",
              "│ block9_sepconv3_act      │ (\u001b[38;5;45mNone\u001b[0m, \u001b[38;5;34m5\u001b[0m, \u001b[38;5;34m5\u001b[0m, \u001b[38;5;34m728\u001b[0m)    │             \u001b[38;5;34m0\u001b[0m │ block9_sepconv2_bn[\u001b[38;5;34m…\u001b[0m │    \u001b[1m-\u001b[0m    │\n",
              "│ (\u001b[38;5;33mActivation\u001b[0m)             │                      │               │                      │         │\n",
              "├──────────────────────────┼──────────────────────┼───────────────┼──────────────────────┼─────────┤\n",
              "│ block9_sepconv3          │ (\u001b[38;5;45mNone\u001b[0m, \u001b[38;5;34m5\u001b[0m, \u001b[38;5;34m5\u001b[0m, \u001b[38;5;34m728\u001b[0m)    │       \u001b[38;5;34m536,536\u001b[0m │ block9_sepconv3_act… │    \u001b[1;91mN\u001b[0m    │\n",
              "│ (\u001b[38;5;33mSeparableConv2D\u001b[0m)        │                      │               │                      │         │\n",
              "├──────────────────────────┼──────────────────────┼───────────────┼──────────────────────┼─────────┤\n",
              "│ block9_sepconv3_bn       │ (\u001b[38;5;45mNone\u001b[0m, \u001b[38;5;34m5\u001b[0m, \u001b[38;5;34m5\u001b[0m, \u001b[38;5;34m728\u001b[0m)    │         \u001b[38;5;34m2,912\u001b[0m │ block9_sepconv3[\u001b[38;5;34m0\u001b[0m][\u001b[38;5;34m…\u001b[0m │    \u001b[1;91mN\u001b[0m    │\n",
              "│ (\u001b[38;5;33mBatchNormalization\u001b[0m)     │                      │               │                      │         │\n",
              "├──────────────────────────┼──────────────────────┼───────────────┼──────────────────────┼─────────┤\n",
              "│ add_139 (\u001b[38;5;33mAdd\u001b[0m)            │ (\u001b[38;5;45mNone\u001b[0m, \u001b[38;5;34m5\u001b[0m, \u001b[38;5;34m5\u001b[0m, \u001b[38;5;34m728\u001b[0m)    │             \u001b[38;5;34m0\u001b[0m │ block9_sepconv3_bn[\u001b[38;5;34m…\u001b[0m │    \u001b[1m-\u001b[0m    │\n",
              "│                          │                      │               │ add_138[\u001b[38;5;34m0\u001b[0m][\u001b[38;5;34m0\u001b[0m]        │         │\n",
              "├──────────────────────────┼──────────────────────┼───────────────┼──────────────────────┼─────────┤\n",
              "│ block10_sepconv1_act     │ (\u001b[38;5;45mNone\u001b[0m, \u001b[38;5;34m5\u001b[0m, \u001b[38;5;34m5\u001b[0m, \u001b[38;5;34m728\u001b[0m)    │             \u001b[38;5;34m0\u001b[0m │ add_139[\u001b[38;5;34m0\u001b[0m][\u001b[38;5;34m0\u001b[0m]        │    \u001b[1m-\u001b[0m    │\n",
              "│ (\u001b[38;5;33mActivation\u001b[0m)             │                      │               │                      │         │\n",
              "├──────────────────────────┼──────────────────────┼───────────────┼──────────────────────┼─────────┤\n",
              "│ block10_sepconv1         │ (\u001b[38;5;45mNone\u001b[0m, \u001b[38;5;34m5\u001b[0m, \u001b[38;5;34m5\u001b[0m, \u001b[38;5;34m728\u001b[0m)    │       \u001b[38;5;34m536,536\u001b[0m │ block10_sepconv1_ac… │    \u001b[1;91mN\u001b[0m    │\n",
              "│ (\u001b[38;5;33mSeparableConv2D\u001b[0m)        │                      │               │                      │         │\n",
              "├──────────────────────────┼──────────────────────┼───────────────┼──────────────────────┼─────────┤\n",
              "│ block10_sepconv1_bn      │ (\u001b[38;5;45mNone\u001b[0m, \u001b[38;5;34m5\u001b[0m, \u001b[38;5;34m5\u001b[0m, \u001b[38;5;34m728\u001b[0m)    │         \u001b[38;5;34m2,912\u001b[0m │ block10_sepconv1[\u001b[38;5;34m0\u001b[0m]… │    \u001b[1;91mN\u001b[0m    │\n",
              "│ (\u001b[38;5;33mBatchNormalization\u001b[0m)     │                      │               │                      │         │\n",
              "├──────────────────────────┼──────────────────────┼───────────────┼──────────────────────┼─────────┤\n",
              "│ block10_sepconv2_act     │ (\u001b[38;5;45mNone\u001b[0m, \u001b[38;5;34m5\u001b[0m, \u001b[38;5;34m5\u001b[0m, \u001b[38;5;34m728\u001b[0m)    │             \u001b[38;5;34m0\u001b[0m │ block10_sepconv1_bn… │    \u001b[1m-\u001b[0m    │\n",
              "│ (\u001b[38;5;33mActivation\u001b[0m)             │                      │               │                      │         │\n",
              "├──────────────────────────┼──────────────────────┼───────────────┼──────────────────────┼─────────┤\n",
              "│ block10_sepconv2         │ (\u001b[38;5;45mNone\u001b[0m, \u001b[38;5;34m5\u001b[0m, \u001b[38;5;34m5\u001b[0m, \u001b[38;5;34m728\u001b[0m)    │       \u001b[38;5;34m536,536\u001b[0m │ block10_sepconv2_ac… │    \u001b[1;91mN\u001b[0m    │\n",
              "│ (\u001b[38;5;33mSeparableConv2D\u001b[0m)        │                      │               │                      │         │\n",
              "├──────────────────────────┼──────────────────────┼───────────────┼──────────────────────┼─────────┤\n",
              "│ block10_sepconv2_bn      │ (\u001b[38;5;45mNone\u001b[0m, \u001b[38;5;34m5\u001b[0m, \u001b[38;5;34m5\u001b[0m, \u001b[38;5;34m728\u001b[0m)    │         \u001b[38;5;34m2,912\u001b[0m │ block10_sepconv2[\u001b[38;5;34m0\u001b[0m]… │    \u001b[1;91mN\u001b[0m    │\n",
              "│ (\u001b[38;5;33mBatchNormalization\u001b[0m)     │                      │               │                      │         │\n",
              "├──────────────────────────┼──────────────────────┼───────────────┼──────────────────────┼─────────┤\n",
              "│ block10_sepconv3_act     │ (\u001b[38;5;45mNone\u001b[0m, \u001b[38;5;34m5\u001b[0m, \u001b[38;5;34m5\u001b[0m, \u001b[38;5;34m728\u001b[0m)    │             \u001b[38;5;34m0\u001b[0m │ block10_sepconv2_bn… │    \u001b[1m-\u001b[0m    │\n",
              "│ (\u001b[38;5;33mActivation\u001b[0m)             │                      │               │                      │         │\n",
              "├──────────────────────────┼──────────────────────┼───────────────┼──────────────────────┼─────────┤\n",
              "│ block10_sepconv3         │ (\u001b[38;5;45mNone\u001b[0m, \u001b[38;5;34m5\u001b[0m, \u001b[38;5;34m5\u001b[0m, \u001b[38;5;34m728\u001b[0m)    │       \u001b[38;5;34m536,536\u001b[0m │ block10_sepconv3_ac… │    \u001b[1;91mN\u001b[0m    │\n",
              "│ (\u001b[38;5;33mSeparableConv2D\u001b[0m)        │                      │               │                      │         │\n",
              "├──────────────────────────┼──────────────────────┼───────────────┼──────────────────────┼─────────┤\n",
              "│ block10_sepconv3_bn      │ (\u001b[38;5;45mNone\u001b[0m, \u001b[38;5;34m5\u001b[0m, \u001b[38;5;34m5\u001b[0m, \u001b[38;5;34m728\u001b[0m)    │         \u001b[38;5;34m2,912\u001b[0m │ block10_sepconv3[\u001b[38;5;34m0\u001b[0m]… │    \u001b[1;91mN\u001b[0m    │\n",
              "│ (\u001b[38;5;33mBatchNormalization\u001b[0m)     │                      │               │                      │         │\n",
              "├──────────────────────────┼──────────────────────┼───────────────┼──────────────────────┼─────────┤\n",
              "│ add_140 (\u001b[38;5;33mAdd\u001b[0m)            │ (\u001b[38;5;45mNone\u001b[0m, \u001b[38;5;34m5\u001b[0m, \u001b[38;5;34m5\u001b[0m, \u001b[38;5;34m728\u001b[0m)    │             \u001b[38;5;34m0\u001b[0m │ block10_sepconv3_bn… │    \u001b[1m-\u001b[0m    │\n",
              "│                          │                      │               │ add_139[\u001b[38;5;34m0\u001b[0m][\u001b[38;5;34m0\u001b[0m]        │         │\n",
              "├──────────────────────────┼──────────────────────┼───────────────┼──────────────────────┼─────────┤\n",
              "│ block11_sepconv1_act     │ (\u001b[38;5;45mNone\u001b[0m, \u001b[38;5;34m5\u001b[0m, \u001b[38;5;34m5\u001b[0m, \u001b[38;5;34m728\u001b[0m)    │             \u001b[38;5;34m0\u001b[0m │ add_140[\u001b[38;5;34m0\u001b[0m][\u001b[38;5;34m0\u001b[0m]        │    \u001b[1m-\u001b[0m    │\n",
              "│ (\u001b[38;5;33mActivation\u001b[0m)             │                      │               │                      │         │\n",
              "├──────────────────────────┼──────────────────────┼───────────────┼──────────────────────┼─────────┤\n",
              "│ block11_sepconv1         │ (\u001b[38;5;45mNone\u001b[0m, \u001b[38;5;34m5\u001b[0m, \u001b[38;5;34m5\u001b[0m, \u001b[38;5;34m728\u001b[0m)    │       \u001b[38;5;34m536,536\u001b[0m │ block11_sepconv1_ac… │    \u001b[1;91mN\u001b[0m    │\n",
              "│ (\u001b[38;5;33mSeparableConv2D\u001b[0m)        │                      │               │                      │         │\n",
              "├──────────────────────────┼──────────────────────┼───────────────┼──────────────────────┼─────────┤\n",
              "│ block11_sepconv1_bn      │ (\u001b[38;5;45mNone\u001b[0m, \u001b[38;5;34m5\u001b[0m, \u001b[38;5;34m5\u001b[0m, \u001b[38;5;34m728\u001b[0m)    │         \u001b[38;5;34m2,912\u001b[0m │ block11_sepconv1[\u001b[38;5;34m0\u001b[0m]… │    \u001b[1;91mN\u001b[0m    │\n",
              "│ (\u001b[38;5;33mBatchNormalization\u001b[0m)     │                      │               │                      │         │\n",
              "├──────────────────────────┼──────────────────────┼───────────────┼──────────────────────┼─────────┤\n",
              "│ block11_sepconv2_act     │ (\u001b[38;5;45mNone\u001b[0m, \u001b[38;5;34m5\u001b[0m, \u001b[38;5;34m5\u001b[0m, \u001b[38;5;34m728\u001b[0m)    │             \u001b[38;5;34m0\u001b[0m │ block11_sepconv1_bn… │    \u001b[1m-\u001b[0m    │\n",
              "│ (\u001b[38;5;33mActivation\u001b[0m)             │                      │               │                      │         │\n",
              "├──────────────────────────┼──────────────────────┼───────────────┼──────────────────────┼─────────┤\n",
              "│ block11_sepconv2         │ (\u001b[38;5;45mNone\u001b[0m, \u001b[38;5;34m5\u001b[0m, \u001b[38;5;34m5\u001b[0m, \u001b[38;5;34m728\u001b[0m)    │       \u001b[38;5;34m536,536\u001b[0m │ block11_sepconv2_ac… │    \u001b[1;91mN\u001b[0m    │\n",
              "│ (\u001b[38;5;33mSeparableConv2D\u001b[0m)        │                      │               │                      │         │\n",
              "├──────────────────────────┼──────────────────────┼───────────────┼──────────────────────┼─────────┤\n",
              "│ block11_sepconv2_bn      │ (\u001b[38;5;45mNone\u001b[0m, \u001b[38;5;34m5\u001b[0m, \u001b[38;5;34m5\u001b[0m, \u001b[38;5;34m728\u001b[0m)    │         \u001b[38;5;34m2,912\u001b[0m │ block11_sepconv2[\u001b[38;5;34m0\u001b[0m]… │    \u001b[1;91mN\u001b[0m    │\n",
              "│ (\u001b[38;5;33mBatchNormalization\u001b[0m)     │                      │               │                      │         │\n",
              "├──────────────────────────┼──────────────────────┼───────────────┼──────────────────────┼─────────┤\n",
              "│ block11_sepconv3_act     │ (\u001b[38;5;45mNone\u001b[0m, \u001b[38;5;34m5\u001b[0m, \u001b[38;5;34m5\u001b[0m, \u001b[38;5;34m728\u001b[0m)    │             \u001b[38;5;34m0\u001b[0m │ block11_sepconv2_bn… │    \u001b[1m-\u001b[0m    │\n",
              "│ (\u001b[38;5;33mActivation\u001b[0m)             │                      │               │                      │         │\n",
              "├──────────────────────────┼──────────────────────┼───────────────┼──────────────────────┼─────────┤\n",
              "│ block11_sepconv3         │ (\u001b[38;5;45mNone\u001b[0m, \u001b[38;5;34m5\u001b[0m, \u001b[38;5;34m5\u001b[0m, \u001b[38;5;34m728\u001b[0m)    │       \u001b[38;5;34m536,536\u001b[0m │ block11_sepconv3_ac… │    \u001b[1;91mN\u001b[0m    │\n",
              "│ (\u001b[38;5;33mSeparableConv2D\u001b[0m)        │                      │               │                      │         │\n",
              "├──────────────────────────┼──────────────────────┼───────────────┼──────────────────────┼─────────┤\n",
              "│ block11_sepconv3_bn      │ (\u001b[38;5;45mNone\u001b[0m, \u001b[38;5;34m5\u001b[0m, \u001b[38;5;34m5\u001b[0m, \u001b[38;5;34m728\u001b[0m)    │         \u001b[38;5;34m2,912\u001b[0m │ block11_sepconv3[\u001b[38;5;34m0\u001b[0m]… │    \u001b[1;91mN\u001b[0m    │\n",
              "│ (\u001b[38;5;33mBatchNormalization\u001b[0m)     │                      │               │                      │         │\n",
              "├──────────────────────────┼──────────────────────┼───────────────┼──────────────────────┼─────────┤\n",
              "│ add_141 (\u001b[38;5;33mAdd\u001b[0m)            │ (\u001b[38;5;45mNone\u001b[0m, \u001b[38;5;34m5\u001b[0m, \u001b[38;5;34m5\u001b[0m, \u001b[38;5;34m728\u001b[0m)    │             \u001b[38;5;34m0\u001b[0m │ block11_sepconv3_bn… │    \u001b[1m-\u001b[0m    │\n",
              "│                          │                      │               │ add_140[\u001b[38;5;34m0\u001b[0m][\u001b[38;5;34m0\u001b[0m]        │         │\n",
              "├──────────────────────────┼──────────────────────┼───────────────┼──────────────────────┼─────────┤\n",
              "│ block12_sepconv1_act     │ (\u001b[38;5;45mNone\u001b[0m, \u001b[38;5;34m5\u001b[0m, \u001b[38;5;34m5\u001b[0m, \u001b[38;5;34m728\u001b[0m)    │             \u001b[38;5;34m0\u001b[0m │ add_141[\u001b[38;5;34m0\u001b[0m][\u001b[38;5;34m0\u001b[0m]        │    \u001b[1m-\u001b[0m    │\n",
              "│ (\u001b[38;5;33mActivation\u001b[0m)             │                      │               │                      │         │\n",
              "├──────────────────────────┼──────────────────────┼───────────────┼──────────────────────┼─────────┤\n",
              "│ block12_sepconv1         │ (\u001b[38;5;45mNone\u001b[0m, \u001b[38;5;34m5\u001b[0m, \u001b[38;5;34m5\u001b[0m, \u001b[38;5;34m728\u001b[0m)    │       \u001b[38;5;34m536,536\u001b[0m │ block12_sepconv1_ac… │    \u001b[1;91mN\u001b[0m    │\n",
              "│ (\u001b[38;5;33mSeparableConv2D\u001b[0m)        │                      │               │                      │         │\n",
              "├──────────────────────────┼──────────────────────┼───────────────┼──────────────────────┼─────────┤\n",
              "│ block12_sepconv1_bn      │ (\u001b[38;5;45mNone\u001b[0m, \u001b[38;5;34m5\u001b[0m, \u001b[38;5;34m5\u001b[0m, \u001b[38;5;34m728\u001b[0m)    │         \u001b[38;5;34m2,912\u001b[0m │ block12_sepconv1[\u001b[38;5;34m0\u001b[0m]… │    \u001b[1;91mN\u001b[0m    │\n",
              "│ (\u001b[38;5;33mBatchNormalization\u001b[0m)     │                      │               │                      │         │\n",
              "├──────────────────────────┼──────────────────────┼───────────────┼──────────────────────┼─────────┤\n",
              "│ block12_sepconv2_act     │ (\u001b[38;5;45mNone\u001b[0m, \u001b[38;5;34m5\u001b[0m, \u001b[38;5;34m5\u001b[0m, \u001b[38;5;34m728\u001b[0m)    │             \u001b[38;5;34m0\u001b[0m │ block12_sepconv1_bn… │    \u001b[1m-\u001b[0m    │\n",
              "│ (\u001b[38;5;33mActivation\u001b[0m)             │                      │               │                      │         │\n",
              "├──────────────────────────┼──────────────────────┼───────────────┼──────────────────────┼─────────┤\n",
              "│ block12_sepconv2         │ (\u001b[38;5;45mNone\u001b[0m, \u001b[38;5;34m5\u001b[0m, \u001b[38;5;34m5\u001b[0m, \u001b[38;5;34m728\u001b[0m)    │       \u001b[38;5;34m536,536\u001b[0m │ block12_sepconv2_ac… │    \u001b[1;91mN\u001b[0m    │\n",
              "│ (\u001b[38;5;33mSeparableConv2D\u001b[0m)        │                      │               │                      │         │\n",
              "├──────────────────────────┼──────────────────────┼───────────────┼──────────────────────┼─────────┤\n",
              "│ block12_sepconv2_bn      │ (\u001b[38;5;45mNone\u001b[0m, \u001b[38;5;34m5\u001b[0m, \u001b[38;5;34m5\u001b[0m, \u001b[38;5;34m728\u001b[0m)    │         \u001b[38;5;34m2,912\u001b[0m │ block12_sepconv2[\u001b[38;5;34m0\u001b[0m]… │    \u001b[1;91mN\u001b[0m    │\n",
              "│ (\u001b[38;5;33mBatchNormalization\u001b[0m)     │                      │               │                      │         │\n",
              "├──────────────────────────┼──────────────────────┼───────────────┼──────────────────────┼─────────┤\n",
              "│ block12_sepconv3_act     │ (\u001b[38;5;45mNone\u001b[0m, \u001b[38;5;34m5\u001b[0m, \u001b[38;5;34m5\u001b[0m, \u001b[38;5;34m728\u001b[0m)    │             \u001b[38;5;34m0\u001b[0m │ block12_sepconv2_bn… │    \u001b[1m-\u001b[0m    │\n",
              "│ (\u001b[38;5;33mActivation\u001b[0m)             │                      │               │                      │         │\n",
              "├──────────────────────────┼──────────────────────┼───────────────┼──────────────────────┼─────────┤\n",
              "│ block12_sepconv3         │ (\u001b[38;5;45mNone\u001b[0m, \u001b[38;5;34m5\u001b[0m, \u001b[38;5;34m5\u001b[0m, \u001b[38;5;34m728\u001b[0m)    │       \u001b[38;5;34m536,536\u001b[0m │ block12_sepconv3_ac… │    \u001b[1;91mN\u001b[0m    │\n",
              "│ (\u001b[38;5;33mSeparableConv2D\u001b[0m)        │                      │               │                      │         │\n",
              "├──────────────────────────┼──────────────────────┼───────────────┼──────────────────────┼─────────┤\n",
              "│ block12_sepconv3_bn      │ (\u001b[38;5;45mNone\u001b[0m, \u001b[38;5;34m5\u001b[0m, \u001b[38;5;34m5\u001b[0m, \u001b[38;5;34m728\u001b[0m)    │         \u001b[38;5;34m2,912\u001b[0m │ block12_sepconv3[\u001b[38;5;34m0\u001b[0m]… │    \u001b[1;91mN\u001b[0m    │\n",
              "│ (\u001b[38;5;33mBatchNormalization\u001b[0m)     │                      │               │                      │         │\n",
              "├──────────────────────────┼──────────────────────┼───────────────┼──────────────────────┼─────────┤\n",
              "│ add_142 (\u001b[38;5;33mAdd\u001b[0m)            │ (\u001b[38;5;45mNone\u001b[0m, \u001b[38;5;34m5\u001b[0m, \u001b[38;5;34m5\u001b[0m, \u001b[38;5;34m728\u001b[0m)    │             \u001b[38;5;34m0\u001b[0m │ block12_sepconv3_bn… │    \u001b[1m-\u001b[0m    │\n",
              "│                          │                      │               │ add_141[\u001b[38;5;34m0\u001b[0m][\u001b[38;5;34m0\u001b[0m]        │         │\n",
              "├──────────────────────────┼──────────────────────┼───────────────┼──────────────────────┼─────────┤\n",
              "│ block13_sepconv1_act     │ (\u001b[38;5;45mNone\u001b[0m, \u001b[38;5;34m5\u001b[0m, \u001b[38;5;34m5\u001b[0m, \u001b[38;5;34m728\u001b[0m)    │             \u001b[38;5;34m0\u001b[0m │ add_142[\u001b[38;5;34m0\u001b[0m][\u001b[38;5;34m0\u001b[0m]        │    \u001b[1m-\u001b[0m    │\n",
              "│ (\u001b[38;5;33mActivation\u001b[0m)             │                      │               │                      │         │\n",
              "├──────────────────────────┼──────────────────────┼───────────────┼──────────────────────┼─────────┤\n",
              "│ block13_sepconv1         │ (\u001b[38;5;45mNone\u001b[0m, \u001b[38;5;34m5\u001b[0m, \u001b[38;5;34m5\u001b[0m, \u001b[38;5;34m728\u001b[0m)    │       \u001b[38;5;34m536,536\u001b[0m │ block13_sepconv1_ac… │    \u001b[1;91mN\u001b[0m    │\n",
              "│ (\u001b[38;5;33mSeparableConv2D\u001b[0m)        │                      │               │                      │         │\n",
              "├──────────────────────────┼──────────────────────┼───────────────┼──────────────────────┼─────────┤\n",
              "│ block13_sepconv1_bn      │ (\u001b[38;5;45mNone\u001b[0m, \u001b[38;5;34m5\u001b[0m, \u001b[38;5;34m5\u001b[0m, \u001b[38;5;34m728\u001b[0m)    │         \u001b[38;5;34m2,912\u001b[0m │ block13_sepconv1[\u001b[38;5;34m0\u001b[0m]… │    \u001b[1;91mN\u001b[0m    │\n",
              "│ (\u001b[38;5;33mBatchNormalization\u001b[0m)     │                      │               │                      │         │\n",
              "├──────────────────────────┼──────────────────────┼───────────────┼──────────────────────┼─────────┤\n",
              "│ block13_sepconv2_act     │ (\u001b[38;5;45mNone\u001b[0m, \u001b[38;5;34m5\u001b[0m, \u001b[38;5;34m5\u001b[0m, \u001b[38;5;34m728\u001b[0m)    │             \u001b[38;5;34m0\u001b[0m │ block13_sepconv1_bn… │    \u001b[1m-\u001b[0m    │\n",
              "│ (\u001b[38;5;33mActivation\u001b[0m)             │                      │               │                      │         │\n",
              "├──────────────────────────┼──────────────────────┼───────────────┼──────────────────────┼─────────┤\n",
              "│ block13_sepconv2         │ (\u001b[38;5;45mNone\u001b[0m, \u001b[38;5;34m5\u001b[0m, \u001b[38;5;34m5\u001b[0m, \u001b[38;5;34m1024\u001b[0m)   │       \u001b[38;5;34m752,024\u001b[0m │ block13_sepconv2_ac… │    \u001b[1;91mN\u001b[0m    │\n",
              "│ (\u001b[38;5;33mSeparableConv2D\u001b[0m)        │                      │               │                      │         │\n",
              "├──────────────────────────┼──────────────────────┼───────────────┼──────────────────────┼─────────┤\n",
              "│ block13_sepconv2_bn      │ (\u001b[38;5;45mNone\u001b[0m, \u001b[38;5;34m5\u001b[0m, \u001b[38;5;34m5\u001b[0m, \u001b[38;5;34m1024\u001b[0m)   │         \u001b[38;5;34m4,096\u001b[0m │ block13_sepconv2[\u001b[38;5;34m0\u001b[0m]… │    \u001b[1;91mN\u001b[0m    │\n",
              "│ (\u001b[38;5;33mBatchNormalization\u001b[0m)     │                      │               │                      │         │\n",
              "├──────────────────────────┼──────────────────────┼───────────────┼──────────────────────┼─────────┤\n",
              "│ conv2d_47 (\u001b[38;5;33mConv2D\u001b[0m)       │ (\u001b[38;5;45mNone\u001b[0m, \u001b[38;5;34m3\u001b[0m, \u001b[38;5;34m3\u001b[0m, \u001b[38;5;34m1024\u001b[0m)   │       \u001b[38;5;34m745,472\u001b[0m │ add_142[\u001b[38;5;34m0\u001b[0m][\u001b[38;5;34m0\u001b[0m]        │    \u001b[1;91mN\u001b[0m    │\n",
              "├──────────────────────────┼──────────────────────┼───────────────┼──────────────────────┼─────────┤\n",
              "│ block13_pool             │ (\u001b[38;5;45mNone\u001b[0m, \u001b[38;5;34m3\u001b[0m, \u001b[38;5;34m3\u001b[0m, \u001b[38;5;34m1024\u001b[0m)   │             \u001b[38;5;34m0\u001b[0m │ block13_sepconv2_bn… │    \u001b[1m-\u001b[0m    │\n",
              "│ (\u001b[38;5;33mMaxPooling2D\u001b[0m)           │                      │               │                      │         │\n",
              "├──────────────────────────┼──────────────────────┼───────────────┼──────────────────────┼─────────┤\n",
              "│ batch_normalization_56   │ (\u001b[38;5;45mNone\u001b[0m, \u001b[38;5;34m3\u001b[0m, \u001b[38;5;34m3\u001b[0m, \u001b[38;5;34m1024\u001b[0m)   │         \u001b[38;5;34m4,096\u001b[0m │ conv2d_47[\u001b[38;5;34m0\u001b[0m][\u001b[38;5;34m0\u001b[0m]      │    \u001b[1;91mN\u001b[0m    │\n",
              "│ (\u001b[38;5;33mBatchNormalization\u001b[0m)     │                      │               │                      │         │\n",
              "├──────────────────────────┼──────────────────────┼───────────────┼──────────────────────┼─────────┤\n",
              "│ add_143 (\u001b[38;5;33mAdd\u001b[0m)            │ (\u001b[38;5;45mNone\u001b[0m, \u001b[38;5;34m3\u001b[0m, \u001b[38;5;34m3\u001b[0m, \u001b[38;5;34m1024\u001b[0m)   │             \u001b[38;5;34m0\u001b[0m │ block13_pool[\u001b[38;5;34m0\u001b[0m][\u001b[38;5;34m0\u001b[0m],  │    \u001b[1m-\u001b[0m    │\n",
              "│                          │                      │               │ batch_normalization… │         │\n",
              "├──────────────────────────┼──────────────────────┼───────────────┼──────────────────────┼─────────┤\n",
              "│ block14_sepconv1         │ (\u001b[38;5;45mNone\u001b[0m, \u001b[38;5;34m3\u001b[0m, \u001b[38;5;34m3\u001b[0m, \u001b[38;5;34m1536\u001b[0m)   │     \u001b[38;5;34m1,582,080\u001b[0m │ add_143[\u001b[38;5;34m0\u001b[0m][\u001b[38;5;34m0\u001b[0m]        │    \u001b[1;91mN\u001b[0m    │\n",
              "│ (\u001b[38;5;33mSeparableConv2D\u001b[0m)        │                      │               │                      │         │\n",
              "├──────────────────────────┼──────────────────────┼───────────────┼──────────────────────┼─────────┤\n",
              "│ block14_sepconv1_bn      │ (\u001b[38;5;45mNone\u001b[0m, \u001b[38;5;34m3\u001b[0m, \u001b[38;5;34m3\u001b[0m, \u001b[38;5;34m1536\u001b[0m)   │         \u001b[38;5;34m6,144\u001b[0m │ block14_sepconv1[\u001b[38;5;34m0\u001b[0m]… │    \u001b[1;91mN\u001b[0m    │\n",
              "│ (\u001b[38;5;33mBatchNormalization\u001b[0m)     │                      │               │                      │         │\n",
              "├──────────────────────────┼──────────────────────┼───────────────┼──────────────────────┼─────────┤\n",
              "│ block14_sepconv1_act     │ (\u001b[38;5;45mNone\u001b[0m, \u001b[38;5;34m3\u001b[0m, \u001b[38;5;34m3\u001b[0m, \u001b[38;5;34m1536\u001b[0m)   │             \u001b[38;5;34m0\u001b[0m │ block14_sepconv1_bn… │    \u001b[1m-\u001b[0m    │\n",
              "│ (\u001b[38;5;33mActivation\u001b[0m)             │                      │               │                      │         │\n",
              "├──────────────────────────┼──────────────────────┼───────────────┼──────────────────────┼─────────┤\n",
              "│ block14_sepconv2         │ (\u001b[38;5;45mNone\u001b[0m, \u001b[38;5;34m3\u001b[0m, \u001b[38;5;34m3\u001b[0m, \u001b[38;5;34m2048\u001b[0m)   │     \u001b[38;5;34m3,159,552\u001b[0m │ block14_sepconv1_ac… │    \u001b[1;91mN\u001b[0m    │\n",
              "│ (\u001b[38;5;33mSeparableConv2D\u001b[0m)        │                      │               │                      │         │\n",
              "├──────────────────────────┼──────────────────────┼───────────────┼──────────────────────┼─────────┤\n",
              "│ block14_sepconv2_bn      │ (\u001b[38;5;45mNone\u001b[0m, \u001b[38;5;34m3\u001b[0m, \u001b[38;5;34m3\u001b[0m, \u001b[38;5;34m2048\u001b[0m)   │         \u001b[38;5;34m8,192\u001b[0m │ block14_sepconv2[\u001b[38;5;34m0\u001b[0m]… │    \u001b[1;91mN\u001b[0m    │\n",
              "│ (\u001b[38;5;33mBatchNormalization\u001b[0m)     │                      │               │                      │         │\n",
              "├──────────────────────────┼──────────────────────┼───────────────┼──────────────────────┼─────────┤\n",
              "│ block14_sepconv2_act     │ (\u001b[38;5;45mNone\u001b[0m, \u001b[38;5;34m3\u001b[0m, \u001b[38;5;34m3\u001b[0m, \u001b[38;5;34m2048\u001b[0m)   │             \u001b[38;5;34m0\u001b[0m │ block14_sepconv2_bn… │    \u001b[1m-\u001b[0m    │\n",
              "│ (\u001b[38;5;33mActivation\u001b[0m)             │                      │               │                      │         │\n",
              "└──────────────────────────┴──────────────────────┴───────────────┴──────────────────────┴─────────┘\n"
            ],
            "text/html": [
              "<pre style=\"white-space:pre;overflow-x:auto;line-height:normal;font-family:Menlo,'DejaVu Sans Mono',consolas,'Courier New',monospace\">┏━━━━━━━━━━━━━━━━━━━━━━━━━━┳━━━━━━━━━━━━━━━━━━━━━━┳━━━━━━━━━━━━━━━┳━━━━━━━━━━━━━━━━━━━━━━┳━━━━━━━━━┓\n",
              "┃<span style=\"font-weight: bold\"> Layer (type)             </span>┃<span style=\"font-weight: bold\"> Output Shape         </span>┃<span style=\"font-weight: bold\">       Param # </span>┃<span style=\"font-weight: bold\"> Connected to         </span>┃<span style=\"font-weight: bold\"> Traina… </span>┃\n",
              "┡━━━━━━━━━━━━━━━━━━━━━━━━━━╇━━━━━━━━━━━━━━━━━━━━━━╇━━━━━━━━━━━━━━━╇━━━━━━━━━━━━━━━━━━━━━━╇━━━━━━━━━┩\n",
              "│ input_layer_18           │ (<span style=\"color: #00d7ff; text-decoration-color: #00d7ff\">None</span>, <span style=\"color: #00af00; text-decoration-color: #00af00\">71</span>, <span style=\"color: #00af00; text-decoration-color: #00af00\">71</span>, <span style=\"color: #00af00; text-decoration-color: #00af00\">3</span>)    │             <span style=\"color: #00af00; text-decoration-color: #00af00\">0</span> │ -                    │    <span style=\"font-weight: bold\">-</span>    │\n",
              "│ (<span style=\"color: #0087ff; text-decoration-color: #0087ff\">InputLayer</span>)             │                      │               │                      │         │\n",
              "├──────────────────────────┼──────────────────────┼───────────────┼──────────────────────┼─────────┤\n",
              "│ block1_conv1 (<span style=\"color: #0087ff; text-decoration-color: #0087ff\">Conv2D</span>)    │ (<span style=\"color: #00d7ff; text-decoration-color: #00d7ff\">None</span>, <span style=\"color: #00af00; text-decoration-color: #00af00\">35</span>, <span style=\"color: #00af00; text-decoration-color: #00af00\">35</span>, <span style=\"color: #00af00; text-decoration-color: #00af00\">32</span>)   │           <span style=\"color: #00af00; text-decoration-color: #00af00\">864</span> │ input_layer_18[<span style=\"color: #00af00; text-decoration-color: #00af00\">0</span>][<span style=\"color: #00af00; text-decoration-color: #00af00\">0</span>] │    <span style=\"color: #ff0000; text-decoration-color: #ff0000; font-weight: bold\">N</span>    │\n",
              "├──────────────────────────┼──────────────────────┼───────────────┼──────────────────────┼─────────┤\n",
              "│ block1_conv1_bn          │ (<span style=\"color: #00d7ff; text-decoration-color: #00d7ff\">None</span>, <span style=\"color: #00af00; text-decoration-color: #00af00\">35</span>, <span style=\"color: #00af00; text-decoration-color: #00af00\">35</span>, <span style=\"color: #00af00; text-decoration-color: #00af00\">32</span>)   │           <span style=\"color: #00af00; text-decoration-color: #00af00\">128</span> │ block1_conv1[<span style=\"color: #00af00; text-decoration-color: #00af00\">0</span>][<span style=\"color: #00af00; text-decoration-color: #00af00\">0</span>]   │    <span style=\"color: #ff0000; text-decoration-color: #ff0000; font-weight: bold\">N</span>    │\n",
              "│ (<span style=\"color: #0087ff; text-decoration-color: #0087ff\">BatchNormalization</span>)     │                      │               │                      │         │\n",
              "├──────────────────────────┼──────────────────────┼───────────────┼──────────────────────┼─────────┤\n",
              "│ block1_conv1_act         │ (<span style=\"color: #00d7ff; text-decoration-color: #00d7ff\">None</span>, <span style=\"color: #00af00; text-decoration-color: #00af00\">35</span>, <span style=\"color: #00af00; text-decoration-color: #00af00\">35</span>, <span style=\"color: #00af00; text-decoration-color: #00af00\">32</span>)   │             <span style=\"color: #00af00; text-decoration-color: #00af00\">0</span> │ block1_conv1_bn[<span style=\"color: #00af00; text-decoration-color: #00af00\">0</span>][<span style=\"color: #00af00; text-decoration-color: #00af00\">…</span> │    <span style=\"font-weight: bold\">-</span>    │\n",
              "│ (<span style=\"color: #0087ff; text-decoration-color: #0087ff\">Activation</span>)             │                      │               │                      │         │\n",
              "├──────────────────────────┼──────────────────────┼───────────────┼──────────────────────┼─────────┤\n",
              "│ block1_conv2 (<span style=\"color: #0087ff; text-decoration-color: #0087ff\">Conv2D</span>)    │ (<span style=\"color: #00d7ff; text-decoration-color: #00d7ff\">None</span>, <span style=\"color: #00af00; text-decoration-color: #00af00\">33</span>, <span style=\"color: #00af00; text-decoration-color: #00af00\">33</span>, <span style=\"color: #00af00; text-decoration-color: #00af00\">64</span>)   │        <span style=\"color: #00af00; text-decoration-color: #00af00\">18,432</span> │ block1_conv1_act[<span style=\"color: #00af00; text-decoration-color: #00af00\">0</span>]… │    <span style=\"color: #ff0000; text-decoration-color: #ff0000; font-weight: bold\">N</span>    │\n",
              "├──────────────────────────┼──────────────────────┼───────────────┼──────────────────────┼─────────┤\n",
              "│ block1_conv2_bn          │ (<span style=\"color: #00d7ff; text-decoration-color: #00d7ff\">None</span>, <span style=\"color: #00af00; text-decoration-color: #00af00\">33</span>, <span style=\"color: #00af00; text-decoration-color: #00af00\">33</span>, <span style=\"color: #00af00; text-decoration-color: #00af00\">64</span>)   │           <span style=\"color: #00af00; text-decoration-color: #00af00\">256</span> │ block1_conv2[<span style=\"color: #00af00; text-decoration-color: #00af00\">0</span>][<span style=\"color: #00af00; text-decoration-color: #00af00\">0</span>]   │    <span style=\"color: #ff0000; text-decoration-color: #ff0000; font-weight: bold\">N</span>    │\n",
              "│ (<span style=\"color: #0087ff; text-decoration-color: #0087ff\">BatchNormalization</span>)     │                      │               │                      │         │\n",
              "├──────────────────────────┼──────────────────────┼───────────────┼──────────────────────┼─────────┤\n",
              "│ block1_conv2_act         │ (<span style=\"color: #00d7ff; text-decoration-color: #00d7ff\">None</span>, <span style=\"color: #00af00; text-decoration-color: #00af00\">33</span>, <span style=\"color: #00af00; text-decoration-color: #00af00\">33</span>, <span style=\"color: #00af00; text-decoration-color: #00af00\">64</span>)   │             <span style=\"color: #00af00; text-decoration-color: #00af00\">0</span> │ block1_conv2_bn[<span style=\"color: #00af00; text-decoration-color: #00af00\">0</span>][<span style=\"color: #00af00; text-decoration-color: #00af00\">…</span> │    <span style=\"font-weight: bold\">-</span>    │\n",
              "│ (<span style=\"color: #0087ff; text-decoration-color: #0087ff\">Activation</span>)             │                      │               │                      │         │\n",
              "├──────────────────────────┼──────────────────────┼───────────────┼──────────────────────┼─────────┤\n",
              "│ block2_sepconv1          │ (<span style=\"color: #00d7ff; text-decoration-color: #00d7ff\">None</span>, <span style=\"color: #00af00; text-decoration-color: #00af00\">33</span>, <span style=\"color: #00af00; text-decoration-color: #00af00\">33</span>, <span style=\"color: #00af00; text-decoration-color: #00af00\">128</span>)  │         <span style=\"color: #00af00; text-decoration-color: #00af00\">8,768</span> │ block1_conv2_act[<span style=\"color: #00af00; text-decoration-color: #00af00\">0</span>]… │    <span style=\"color: #ff0000; text-decoration-color: #ff0000; font-weight: bold\">N</span>    │\n",
              "│ (<span style=\"color: #0087ff; text-decoration-color: #0087ff\">SeparableConv2D</span>)        │                      │               │                      │         │\n",
              "├──────────────────────────┼──────────────────────┼───────────────┼──────────────────────┼─────────┤\n",
              "│ block2_sepconv1_bn       │ (<span style=\"color: #00d7ff; text-decoration-color: #00d7ff\">None</span>, <span style=\"color: #00af00; text-decoration-color: #00af00\">33</span>, <span style=\"color: #00af00; text-decoration-color: #00af00\">33</span>, <span style=\"color: #00af00; text-decoration-color: #00af00\">128</span>)  │           <span style=\"color: #00af00; text-decoration-color: #00af00\">512</span> │ block2_sepconv1[<span style=\"color: #00af00; text-decoration-color: #00af00\">0</span>][<span style=\"color: #00af00; text-decoration-color: #00af00\">…</span> │    <span style=\"color: #ff0000; text-decoration-color: #ff0000; font-weight: bold\">N</span>    │\n",
              "│ (<span style=\"color: #0087ff; text-decoration-color: #0087ff\">BatchNormalization</span>)     │                      │               │                      │         │\n",
              "├──────────────────────────┼──────────────────────┼───────────────┼──────────────────────┼─────────┤\n",
              "│ block2_sepconv2_act      │ (<span style=\"color: #00d7ff; text-decoration-color: #00d7ff\">None</span>, <span style=\"color: #00af00; text-decoration-color: #00af00\">33</span>, <span style=\"color: #00af00; text-decoration-color: #00af00\">33</span>, <span style=\"color: #00af00; text-decoration-color: #00af00\">128</span>)  │             <span style=\"color: #00af00; text-decoration-color: #00af00\">0</span> │ block2_sepconv1_bn[<span style=\"color: #00af00; text-decoration-color: #00af00\">…</span> │    <span style=\"font-weight: bold\">-</span>    │\n",
              "│ (<span style=\"color: #0087ff; text-decoration-color: #0087ff\">Activation</span>)             │                      │               │                      │         │\n",
              "├──────────────────────────┼──────────────────────┼───────────────┼──────────────────────┼─────────┤\n",
              "│ block2_sepconv2          │ (<span style=\"color: #00d7ff; text-decoration-color: #00d7ff\">None</span>, <span style=\"color: #00af00; text-decoration-color: #00af00\">33</span>, <span style=\"color: #00af00; text-decoration-color: #00af00\">33</span>, <span style=\"color: #00af00; text-decoration-color: #00af00\">128</span>)  │        <span style=\"color: #00af00; text-decoration-color: #00af00\">17,536</span> │ block2_sepconv2_act… │    <span style=\"color: #ff0000; text-decoration-color: #ff0000; font-weight: bold\">N</span>    │\n",
              "│ (<span style=\"color: #0087ff; text-decoration-color: #0087ff\">SeparableConv2D</span>)        │                      │               │                      │         │\n",
              "├──────────────────────────┼──────────────────────┼───────────────┼──────────────────────┼─────────┤\n",
              "│ block2_sepconv2_bn       │ (<span style=\"color: #00d7ff; text-decoration-color: #00d7ff\">None</span>, <span style=\"color: #00af00; text-decoration-color: #00af00\">33</span>, <span style=\"color: #00af00; text-decoration-color: #00af00\">33</span>, <span style=\"color: #00af00; text-decoration-color: #00af00\">128</span>)  │           <span style=\"color: #00af00; text-decoration-color: #00af00\">512</span> │ block2_sepconv2[<span style=\"color: #00af00; text-decoration-color: #00af00\">0</span>][<span style=\"color: #00af00; text-decoration-color: #00af00\">…</span> │    <span style=\"color: #ff0000; text-decoration-color: #ff0000; font-weight: bold\">N</span>    │\n",
              "│ (<span style=\"color: #0087ff; text-decoration-color: #0087ff\">BatchNormalization</span>)     │                      │               │                      │         │\n",
              "├──────────────────────────┼──────────────────────┼───────────────┼──────────────────────┼─────────┤\n",
              "│ conv2d_44 (<span style=\"color: #0087ff; text-decoration-color: #0087ff\">Conv2D</span>)       │ (<span style=\"color: #00d7ff; text-decoration-color: #00d7ff\">None</span>, <span style=\"color: #00af00; text-decoration-color: #00af00\">17</span>, <span style=\"color: #00af00; text-decoration-color: #00af00\">17</span>, <span style=\"color: #00af00; text-decoration-color: #00af00\">128</span>)  │         <span style=\"color: #00af00; text-decoration-color: #00af00\">8,192</span> │ block1_conv2_act[<span style=\"color: #00af00; text-decoration-color: #00af00\">0</span>]… │    <span style=\"color: #ff0000; text-decoration-color: #ff0000; font-weight: bold\">N</span>    │\n",
              "├──────────────────────────┼──────────────────────┼───────────────┼──────────────────────┼─────────┤\n",
              "│ block2_pool              │ (<span style=\"color: #00d7ff; text-decoration-color: #00d7ff\">None</span>, <span style=\"color: #00af00; text-decoration-color: #00af00\">17</span>, <span style=\"color: #00af00; text-decoration-color: #00af00\">17</span>, <span style=\"color: #00af00; text-decoration-color: #00af00\">128</span>)  │             <span style=\"color: #00af00; text-decoration-color: #00af00\">0</span> │ block2_sepconv2_bn[<span style=\"color: #00af00; text-decoration-color: #00af00\">…</span> │    <span style=\"font-weight: bold\">-</span>    │\n",
              "│ (<span style=\"color: #0087ff; text-decoration-color: #0087ff\">MaxPooling2D</span>)           │                      │               │                      │         │\n",
              "├──────────────────────────┼──────────────────────┼───────────────┼──────────────────────┼─────────┤\n",
              "│ batch_normalization_53   │ (<span style=\"color: #00d7ff; text-decoration-color: #00d7ff\">None</span>, <span style=\"color: #00af00; text-decoration-color: #00af00\">17</span>, <span style=\"color: #00af00; text-decoration-color: #00af00\">17</span>, <span style=\"color: #00af00; text-decoration-color: #00af00\">128</span>)  │           <span style=\"color: #00af00; text-decoration-color: #00af00\">512</span> │ conv2d_44[<span style=\"color: #00af00; text-decoration-color: #00af00\">0</span>][<span style=\"color: #00af00; text-decoration-color: #00af00\">0</span>]      │    <span style=\"color: #ff0000; text-decoration-color: #ff0000; font-weight: bold\">N</span>    │\n",
              "│ (<span style=\"color: #0087ff; text-decoration-color: #0087ff\">BatchNormalization</span>)     │                      │               │                      │         │\n",
              "├──────────────────────────┼──────────────────────┼───────────────┼──────────────────────┼─────────┤\n",
              "│ add_132 (<span style=\"color: #0087ff; text-decoration-color: #0087ff\">Add</span>)            │ (<span style=\"color: #00d7ff; text-decoration-color: #00d7ff\">None</span>, <span style=\"color: #00af00; text-decoration-color: #00af00\">17</span>, <span style=\"color: #00af00; text-decoration-color: #00af00\">17</span>, <span style=\"color: #00af00; text-decoration-color: #00af00\">128</span>)  │             <span style=\"color: #00af00; text-decoration-color: #00af00\">0</span> │ block2_pool[<span style=\"color: #00af00; text-decoration-color: #00af00\">0</span>][<span style=\"color: #00af00; text-decoration-color: #00af00\">0</span>],   │    <span style=\"font-weight: bold\">-</span>    │\n",
              "│                          │                      │               │ batch_normalization… │         │\n",
              "├──────────────────────────┼──────────────────────┼───────────────┼──────────────────────┼─────────┤\n",
              "│ block3_sepconv1_act      │ (<span style=\"color: #00d7ff; text-decoration-color: #00d7ff\">None</span>, <span style=\"color: #00af00; text-decoration-color: #00af00\">17</span>, <span style=\"color: #00af00; text-decoration-color: #00af00\">17</span>, <span style=\"color: #00af00; text-decoration-color: #00af00\">128</span>)  │             <span style=\"color: #00af00; text-decoration-color: #00af00\">0</span> │ add_132[<span style=\"color: #00af00; text-decoration-color: #00af00\">0</span>][<span style=\"color: #00af00; text-decoration-color: #00af00\">0</span>]        │    <span style=\"font-weight: bold\">-</span>    │\n",
              "│ (<span style=\"color: #0087ff; text-decoration-color: #0087ff\">Activation</span>)             │                      │               │                      │         │\n",
              "├──────────────────────────┼──────────────────────┼───────────────┼──────────────────────┼─────────┤\n",
              "│ block3_sepconv1          │ (<span style=\"color: #00d7ff; text-decoration-color: #00d7ff\">None</span>, <span style=\"color: #00af00; text-decoration-color: #00af00\">17</span>, <span style=\"color: #00af00; text-decoration-color: #00af00\">17</span>, <span style=\"color: #00af00; text-decoration-color: #00af00\">256</span>)  │        <span style=\"color: #00af00; text-decoration-color: #00af00\">33,920</span> │ block3_sepconv1_act… │    <span style=\"color: #ff0000; text-decoration-color: #ff0000; font-weight: bold\">N</span>    │\n",
              "│ (<span style=\"color: #0087ff; text-decoration-color: #0087ff\">SeparableConv2D</span>)        │                      │               │                      │         │\n",
              "├──────────────────────────┼──────────────────────┼───────────────┼──────────────────────┼─────────┤\n",
              "│ block3_sepconv1_bn       │ (<span style=\"color: #00d7ff; text-decoration-color: #00d7ff\">None</span>, <span style=\"color: #00af00; text-decoration-color: #00af00\">17</span>, <span style=\"color: #00af00; text-decoration-color: #00af00\">17</span>, <span style=\"color: #00af00; text-decoration-color: #00af00\">256</span>)  │         <span style=\"color: #00af00; text-decoration-color: #00af00\">1,024</span> │ block3_sepconv1[<span style=\"color: #00af00; text-decoration-color: #00af00\">0</span>][<span style=\"color: #00af00; text-decoration-color: #00af00\">…</span> │    <span style=\"color: #ff0000; text-decoration-color: #ff0000; font-weight: bold\">N</span>    │\n",
              "│ (<span style=\"color: #0087ff; text-decoration-color: #0087ff\">BatchNormalization</span>)     │                      │               │                      │         │\n",
              "├──────────────────────────┼──────────────────────┼───────────────┼──────────────────────┼─────────┤\n",
              "│ block3_sepconv2_act      │ (<span style=\"color: #00d7ff; text-decoration-color: #00d7ff\">None</span>, <span style=\"color: #00af00; text-decoration-color: #00af00\">17</span>, <span style=\"color: #00af00; text-decoration-color: #00af00\">17</span>, <span style=\"color: #00af00; text-decoration-color: #00af00\">256</span>)  │             <span style=\"color: #00af00; text-decoration-color: #00af00\">0</span> │ block3_sepconv1_bn[<span style=\"color: #00af00; text-decoration-color: #00af00\">…</span> │    <span style=\"font-weight: bold\">-</span>    │\n",
              "│ (<span style=\"color: #0087ff; text-decoration-color: #0087ff\">Activation</span>)             │                      │               │                      │         │\n",
              "├──────────────────────────┼──────────────────────┼───────────────┼──────────────────────┼─────────┤\n",
              "│ block3_sepconv2          │ (<span style=\"color: #00d7ff; text-decoration-color: #00d7ff\">None</span>, <span style=\"color: #00af00; text-decoration-color: #00af00\">17</span>, <span style=\"color: #00af00; text-decoration-color: #00af00\">17</span>, <span style=\"color: #00af00; text-decoration-color: #00af00\">256</span>)  │        <span style=\"color: #00af00; text-decoration-color: #00af00\">67,840</span> │ block3_sepconv2_act… │    <span style=\"color: #ff0000; text-decoration-color: #ff0000; font-weight: bold\">N</span>    │\n",
              "│ (<span style=\"color: #0087ff; text-decoration-color: #0087ff\">SeparableConv2D</span>)        │                      │               │                      │         │\n",
              "├──────────────────────────┼──────────────────────┼───────────────┼──────────────────────┼─────────┤\n",
              "│ block3_sepconv2_bn       │ (<span style=\"color: #00d7ff; text-decoration-color: #00d7ff\">None</span>, <span style=\"color: #00af00; text-decoration-color: #00af00\">17</span>, <span style=\"color: #00af00; text-decoration-color: #00af00\">17</span>, <span style=\"color: #00af00; text-decoration-color: #00af00\">256</span>)  │         <span style=\"color: #00af00; text-decoration-color: #00af00\">1,024</span> │ block3_sepconv2[<span style=\"color: #00af00; text-decoration-color: #00af00\">0</span>][<span style=\"color: #00af00; text-decoration-color: #00af00\">…</span> │    <span style=\"color: #ff0000; text-decoration-color: #ff0000; font-weight: bold\">N</span>    │\n",
              "│ (<span style=\"color: #0087ff; text-decoration-color: #0087ff\">BatchNormalization</span>)     │                      │               │                      │         │\n",
              "├──────────────────────────┼──────────────────────┼───────────────┼──────────────────────┼─────────┤\n",
              "│ conv2d_45 (<span style=\"color: #0087ff; text-decoration-color: #0087ff\">Conv2D</span>)       │ (<span style=\"color: #00d7ff; text-decoration-color: #00d7ff\">None</span>, <span style=\"color: #00af00; text-decoration-color: #00af00\">9</span>, <span style=\"color: #00af00; text-decoration-color: #00af00\">9</span>, <span style=\"color: #00af00; text-decoration-color: #00af00\">256</span>)    │        <span style=\"color: #00af00; text-decoration-color: #00af00\">32,768</span> │ add_132[<span style=\"color: #00af00; text-decoration-color: #00af00\">0</span>][<span style=\"color: #00af00; text-decoration-color: #00af00\">0</span>]        │    <span style=\"color: #ff0000; text-decoration-color: #ff0000; font-weight: bold\">N</span>    │\n",
              "├──────────────────────────┼──────────────────────┼───────────────┼──────────────────────┼─────────┤\n",
              "│ block3_pool              │ (<span style=\"color: #00d7ff; text-decoration-color: #00d7ff\">None</span>, <span style=\"color: #00af00; text-decoration-color: #00af00\">9</span>, <span style=\"color: #00af00; text-decoration-color: #00af00\">9</span>, <span style=\"color: #00af00; text-decoration-color: #00af00\">256</span>)    │             <span style=\"color: #00af00; text-decoration-color: #00af00\">0</span> │ block3_sepconv2_bn[<span style=\"color: #00af00; text-decoration-color: #00af00\">…</span> │    <span style=\"font-weight: bold\">-</span>    │\n",
              "│ (<span style=\"color: #0087ff; text-decoration-color: #0087ff\">MaxPooling2D</span>)           │                      │               │                      │         │\n",
              "├──────────────────────────┼──────────────────────┼───────────────┼──────────────────────┼─────────┤\n",
              "│ batch_normalization_54   │ (<span style=\"color: #00d7ff; text-decoration-color: #00d7ff\">None</span>, <span style=\"color: #00af00; text-decoration-color: #00af00\">9</span>, <span style=\"color: #00af00; text-decoration-color: #00af00\">9</span>, <span style=\"color: #00af00; text-decoration-color: #00af00\">256</span>)    │         <span style=\"color: #00af00; text-decoration-color: #00af00\">1,024</span> │ conv2d_45[<span style=\"color: #00af00; text-decoration-color: #00af00\">0</span>][<span style=\"color: #00af00; text-decoration-color: #00af00\">0</span>]      │    <span style=\"color: #ff0000; text-decoration-color: #ff0000; font-weight: bold\">N</span>    │\n",
              "│ (<span style=\"color: #0087ff; text-decoration-color: #0087ff\">BatchNormalization</span>)     │                      │               │                      │         │\n",
              "├──────────────────────────┼──────────────────────┼───────────────┼──────────────────────┼─────────┤\n",
              "│ add_133 (<span style=\"color: #0087ff; text-decoration-color: #0087ff\">Add</span>)            │ (<span style=\"color: #00d7ff; text-decoration-color: #00d7ff\">None</span>, <span style=\"color: #00af00; text-decoration-color: #00af00\">9</span>, <span style=\"color: #00af00; text-decoration-color: #00af00\">9</span>, <span style=\"color: #00af00; text-decoration-color: #00af00\">256</span>)    │             <span style=\"color: #00af00; text-decoration-color: #00af00\">0</span> │ block3_pool[<span style=\"color: #00af00; text-decoration-color: #00af00\">0</span>][<span style=\"color: #00af00; text-decoration-color: #00af00\">0</span>],   │    <span style=\"font-weight: bold\">-</span>    │\n",
              "│                          │                      │               │ batch_normalization… │         │\n",
              "├──────────────────────────┼──────────────────────┼───────────────┼──────────────────────┼─────────┤\n",
              "│ block4_sepconv1_act      │ (<span style=\"color: #00d7ff; text-decoration-color: #00d7ff\">None</span>, <span style=\"color: #00af00; text-decoration-color: #00af00\">9</span>, <span style=\"color: #00af00; text-decoration-color: #00af00\">9</span>, <span style=\"color: #00af00; text-decoration-color: #00af00\">256</span>)    │             <span style=\"color: #00af00; text-decoration-color: #00af00\">0</span> │ add_133[<span style=\"color: #00af00; text-decoration-color: #00af00\">0</span>][<span style=\"color: #00af00; text-decoration-color: #00af00\">0</span>]        │    <span style=\"font-weight: bold\">-</span>    │\n",
              "│ (<span style=\"color: #0087ff; text-decoration-color: #0087ff\">Activation</span>)             │                      │               │                      │         │\n",
              "├──────────────────────────┼──────────────────────┼───────────────┼──────────────────────┼─────────┤\n",
              "│ block4_sepconv1          │ (<span style=\"color: #00d7ff; text-decoration-color: #00d7ff\">None</span>, <span style=\"color: #00af00; text-decoration-color: #00af00\">9</span>, <span style=\"color: #00af00; text-decoration-color: #00af00\">9</span>, <span style=\"color: #00af00; text-decoration-color: #00af00\">728</span>)    │       <span style=\"color: #00af00; text-decoration-color: #00af00\">188,672</span> │ block4_sepconv1_act… │    <span style=\"color: #ff0000; text-decoration-color: #ff0000; font-weight: bold\">N</span>    │\n",
              "│ (<span style=\"color: #0087ff; text-decoration-color: #0087ff\">SeparableConv2D</span>)        │                      │               │                      │         │\n",
              "├──────────────────────────┼──────────────────────┼───────────────┼──────────────────────┼─────────┤\n",
              "│ block4_sepconv1_bn       │ (<span style=\"color: #00d7ff; text-decoration-color: #00d7ff\">None</span>, <span style=\"color: #00af00; text-decoration-color: #00af00\">9</span>, <span style=\"color: #00af00; text-decoration-color: #00af00\">9</span>, <span style=\"color: #00af00; text-decoration-color: #00af00\">728</span>)    │         <span style=\"color: #00af00; text-decoration-color: #00af00\">2,912</span> │ block4_sepconv1[<span style=\"color: #00af00; text-decoration-color: #00af00\">0</span>][<span style=\"color: #00af00; text-decoration-color: #00af00\">…</span> │    <span style=\"color: #ff0000; text-decoration-color: #ff0000; font-weight: bold\">N</span>    │\n",
              "│ (<span style=\"color: #0087ff; text-decoration-color: #0087ff\">BatchNormalization</span>)     │                      │               │                      │         │\n",
              "├──────────────────────────┼──────────────────────┼───────────────┼──────────────────────┼─────────┤\n",
              "│ block4_sepconv2_act      │ (<span style=\"color: #00d7ff; text-decoration-color: #00d7ff\">None</span>, <span style=\"color: #00af00; text-decoration-color: #00af00\">9</span>, <span style=\"color: #00af00; text-decoration-color: #00af00\">9</span>, <span style=\"color: #00af00; text-decoration-color: #00af00\">728</span>)    │             <span style=\"color: #00af00; text-decoration-color: #00af00\">0</span> │ block4_sepconv1_bn[<span style=\"color: #00af00; text-decoration-color: #00af00\">…</span> │    <span style=\"font-weight: bold\">-</span>    │\n",
              "│ (<span style=\"color: #0087ff; text-decoration-color: #0087ff\">Activation</span>)             │                      │               │                      │         │\n",
              "├──────────────────────────┼──────────────────────┼───────────────┼──────────────────────┼─────────┤\n",
              "│ block4_sepconv2          │ (<span style=\"color: #00d7ff; text-decoration-color: #00d7ff\">None</span>, <span style=\"color: #00af00; text-decoration-color: #00af00\">9</span>, <span style=\"color: #00af00; text-decoration-color: #00af00\">9</span>, <span style=\"color: #00af00; text-decoration-color: #00af00\">728</span>)    │       <span style=\"color: #00af00; text-decoration-color: #00af00\">536,536</span> │ block4_sepconv2_act… │    <span style=\"color: #ff0000; text-decoration-color: #ff0000; font-weight: bold\">N</span>    │\n",
              "│ (<span style=\"color: #0087ff; text-decoration-color: #0087ff\">SeparableConv2D</span>)        │                      │               │                      │         │\n",
              "├──────────────────────────┼──────────────────────┼───────────────┼──────────────────────┼─────────┤\n",
              "│ block4_sepconv2_bn       │ (<span style=\"color: #00d7ff; text-decoration-color: #00d7ff\">None</span>, <span style=\"color: #00af00; text-decoration-color: #00af00\">9</span>, <span style=\"color: #00af00; text-decoration-color: #00af00\">9</span>, <span style=\"color: #00af00; text-decoration-color: #00af00\">728</span>)    │         <span style=\"color: #00af00; text-decoration-color: #00af00\">2,912</span> │ block4_sepconv2[<span style=\"color: #00af00; text-decoration-color: #00af00\">0</span>][<span style=\"color: #00af00; text-decoration-color: #00af00\">…</span> │    <span style=\"color: #ff0000; text-decoration-color: #ff0000; font-weight: bold\">N</span>    │\n",
              "│ (<span style=\"color: #0087ff; text-decoration-color: #0087ff\">BatchNormalization</span>)     │                      │               │                      │         │\n",
              "├──────────────────────────┼──────────────────────┼───────────────┼──────────────────────┼─────────┤\n",
              "│ conv2d_46 (<span style=\"color: #0087ff; text-decoration-color: #0087ff\">Conv2D</span>)       │ (<span style=\"color: #00d7ff; text-decoration-color: #00d7ff\">None</span>, <span style=\"color: #00af00; text-decoration-color: #00af00\">5</span>, <span style=\"color: #00af00; text-decoration-color: #00af00\">5</span>, <span style=\"color: #00af00; text-decoration-color: #00af00\">728</span>)    │       <span style=\"color: #00af00; text-decoration-color: #00af00\">186,368</span> │ add_133[<span style=\"color: #00af00; text-decoration-color: #00af00\">0</span>][<span style=\"color: #00af00; text-decoration-color: #00af00\">0</span>]        │    <span style=\"color: #ff0000; text-decoration-color: #ff0000; font-weight: bold\">N</span>    │\n",
              "├──────────────────────────┼──────────────────────┼───────────────┼──────────────────────┼─────────┤\n",
              "│ block4_pool              │ (<span style=\"color: #00d7ff; text-decoration-color: #00d7ff\">None</span>, <span style=\"color: #00af00; text-decoration-color: #00af00\">5</span>, <span style=\"color: #00af00; text-decoration-color: #00af00\">5</span>, <span style=\"color: #00af00; text-decoration-color: #00af00\">728</span>)    │             <span style=\"color: #00af00; text-decoration-color: #00af00\">0</span> │ block4_sepconv2_bn[<span style=\"color: #00af00; text-decoration-color: #00af00\">…</span> │    <span style=\"font-weight: bold\">-</span>    │\n",
              "│ (<span style=\"color: #0087ff; text-decoration-color: #0087ff\">MaxPooling2D</span>)           │                      │               │                      │         │\n",
              "├──────────────────────────┼──────────────────────┼───────────────┼──────────────────────┼─────────┤\n",
              "│ batch_normalization_55   │ (<span style=\"color: #00d7ff; text-decoration-color: #00d7ff\">None</span>, <span style=\"color: #00af00; text-decoration-color: #00af00\">5</span>, <span style=\"color: #00af00; text-decoration-color: #00af00\">5</span>, <span style=\"color: #00af00; text-decoration-color: #00af00\">728</span>)    │         <span style=\"color: #00af00; text-decoration-color: #00af00\">2,912</span> │ conv2d_46[<span style=\"color: #00af00; text-decoration-color: #00af00\">0</span>][<span style=\"color: #00af00; text-decoration-color: #00af00\">0</span>]      │    <span style=\"color: #ff0000; text-decoration-color: #ff0000; font-weight: bold\">N</span>    │\n",
              "│ (<span style=\"color: #0087ff; text-decoration-color: #0087ff\">BatchNormalization</span>)     │                      │               │                      │         │\n",
              "├──────────────────────────┼──────────────────────┼───────────────┼──────────────────────┼─────────┤\n",
              "│ add_134 (<span style=\"color: #0087ff; text-decoration-color: #0087ff\">Add</span>)            │ (<span style=\"color: #00d7ff; text-decoration-color: #00d7ff\">None</span>, <span style=\"color: #00af00; text-decoration-color: #00af00\">5</span>, <span style=\"color: #00af00; text-decoration-color: #00af00\">5</span>, <span style=\"color: #00af00; text-decoration-color: #00af00\">728</span>)    │             <span style=\"color: #00af00; text-decoration-color: #00af00\">0</span> │ block4_pool[<span style=\"color: #00af00; text-decoration-color: #00af00\">0</span>][<span style=\"color: #00af00; text-decoration-color: #00af00\">0</span>],   │    <span style=\"font-weight: bold\">-</span>    │\n",
              "│                          │                      │               │ batch_normalization… │         │\n",
              "├──────────────────────────┼──────────────────────┼───────────────┼──────────────────────┼─────────┤\n",
              "│ block5_sepconv1_act      │ (<span style=\"color: #00d7ff; text-decoration-color: #00d7ff\">None</span>, <span style=\"color: #00af00; text-decoration-color: #00af00\">5</span>, <span style=\"color: #00af00; text-decoration-color: #00af00\">5</span>, <span style=\"color: #00af00; text-decoration-color: #00af00\">728</span>)    │             <span style=\"color: #00af00; text-decoration-color: #00af00\">0</span> │ add_134[<span style=\"color: #00af00; text-decoration-color: #00af00\">0</span>][<span style=\"color: #00af00; text-decoration-color: #00af00\">0</span>]        │    <span style=\"font-weight: bold\">-</span>    │\n",
              "│ (<span style=\"color: #0087ff; text-decoration-color: #0087ff\">Activation</span>)             │                      │               │                      │         │\n",
              "├──────────────────────────┼──────────────────────┼───────────────┼──────────────────────┼─────────┤\n",
              "│ block5_sepconv1          │ (<span style=\"color: #00d7ff; text-decoration-color: #00d7ff\">None</span>, <span style=\"color: #00af00; text-decoration-color: #00af00\">5</span>, <span style=\"color: #00af00; text-decoration-color: #00af00\">5</span>, <span style=\"color: #00af00; text-decoration-color: #00af00\">728</span>)    │       <span style=\"color: #00af00; text-decoration-color: #00af00\">536,536</span> │ block5_sepconv1_act… │    <span style=\"color: #ff0000; text-decoration-color: #ff0000; font-weight: bold\">N</span>    │\n",
              "│ (<span style=\"color: #0087ff; text-decoration-color: #0087ff\">SeparableConv2D</span>)        │                      │               │                      │         │\n",
              "├──────────────────────────┼──────────────────────┼───────────────┼──────────────────────┼─────────┤\n",
              "│ block5_sepconv1_bn       │ (<span style=\"color: #00d7ff; text-decoration-color: #00d7ff\">None</span>, <span style=\"color: #00af00; text-decoration-color: #00af00\">5</span>, <span style=\"color: #00af00; text-decoration-color: #00af00\">5</span>, <span style=\"color: #00af00; text-decoration-color: #00af00\">728</span>)    │         <span style=\"color: #00af00; text-decoration-color: #00af00\">2,912</span> │ block5_sepconv1[<span style=\"color: #00af00; text-decoration-color: #00af00\">0</span>][<span style=\"color: #00af00; text-decoration-color: #00af00\">…</span> │    <span style=\"color: #ff0000; text-decoration-color: #ff0000; font-weight: bold\">N</span>    │\n",
              "│ (<span style=\"color: #0087ff; text-decoration-color: #0087ff\">BatchNormalization</span>)     │                      │               │                      │         │\n",
              "├──────────────────────────┼──────────────────────┼───────────────┼──────────────────────┼─────────┤\n",
              "│ block5_sepconv2_act      │ (<span style=\"color: #00d7ff; text-decoration-color: #00d7ff\">None</span>, <span style=\"color: #00af00; text-decoration-color: #00af00\">5</span>, <span style=\"color: #00af00; text-decoration-color: #00af00\">5</span>, <span style=\"color: #00af00; text-decoration-color: #00af00\">728</span>)    │             <span style=\"color: #00af00; text-decoration-color: #00af00\">0</span> │ block5_sepconv1_bn[<span style=\"color: #00af00; text-decoration-color: #00af00\">…</span> │    <span style=\"font-weight: bold\">-</span>    │\n",
              "│ (<span style=\"color: #0087ff; text-decoration-color: #0087ff\">Activation</span>)             │                      │               │                      │         │\n",
              "├──────────────────────────┼──────────────────────┼───────────────┼──────────────────────┼─────────┤\n",
              "│ block5_sepconv2          │ (<span style=\"color: #00d7ff; text-decoration-color: #00d7ff\">None</span>, <span style=\"color: #00af00; text-decoration-color: #00af00\">5</span>, <span style=\"color: #00af00; text-decoration-color: #00af00\">5</span>, <span style=\"color: #00af00; text-decoration-color: #00af00\">728</span>)    │       <span style=\"color: #00af00; text-decoration-color: #00af00\">536,536</span> │ block5_sepconv2_act… │    <span style=\"color: #ff0000; text-decoration-color: #ff0000; font-weight: bold\">N</span>    │\n",
              "│ (<span style=\"color: #0087ff; text-decoration-color: #0087ff\">SeparableConv2D</span>)        │                      │               │                      │         │\n",
              "├──────────────────────────┼──────────────────────┼───────────────┼──────────────────────┼─────────┤\n",
              "│ block5_sepconv2_bn       │ (<span style=\"color: #00d7ff; text-decoration-color: #00d7ff\">None</span>, <span style=\"color: #00af00; text-decoration-color: #00af00\">5</span>, <span style=\"color: #00af00; text-decoration-color: #00af00\">5</span>, <span style=\"color: #00af00; text-decoration-color: #00af00\">728</span>)    │         <span style=\"color: #00af00; text-decoration-color: #00af00\">2,912</span> │ block5_sepconv2[<span style=\"color: #00af00; text-decoration-color: #00af00\">0</span>][<span style=\"color: #00af00; text-decoration-color: #00af00\">…</span> │    <span style=\"color: #ff0000; text-decoration-color: #ff0000; font-weight: bold\">N</span>    │\n",
              "│ (<span style=\"color: #0087ff; text-decoration-color: #0087ff\">BatchNormalization</span>)     │                      │               │                      │         │\n",
              "├──────────────────────────┼──────────────────────┼───────────────┼──────────────────────┼─────────┤\n",
              "│ block5_sepconv3_act      │ (<span style=\"color: #00d7ff; text-decoration-color: #00d7ff\">None</span>, <span style=\"color: #00af00; text-decoration-color: #00af00\">5</span>, <span style=\"color: #00af00; text-decoration-color: #00af00\">5</span>, <span style=\"color: #00af00; text-decoration-color: #00af00\">728</span>)    │             <span style=\"color: #00af00; text-decoration-color: #00af00\">0</span> │ block5_sepconv2_bn[<span style=\"color: #00af00; text-decoration-color: #00af00\">…</span> │    <span style=\"font-weight: bold\">-</span>    │\n",
              "│ (<span style=\"color: #0087ff; text-decoration-color: #0087ff\">Activation</span>)             │                      │               │                      │         │\n",
              "├──────────────────────────┼──────────────────────┼───────────────┼──────────────────────┼─────────┤\n",
              "│ block5_sepconv3          │ (<span style=\"color: #00d7ff; text-decoration-color: #00d7ff\">None</span>, <span style=\"color: #00af00; text-decoration-color: #00af00\">5</span>, <span style=\"color: #00af00; text-decoration-color: #00af00\">5</span>, <span style=\"color: #00af00; text-decoration-color: #00af00\">728</span>)    │       <span style=\"color: #00af00; text-decoration-color: #00af00\">536,536</span> │ block5_sepconv3_act… │    <span style=\"color: #ff0000; text-decoration-color: #ff0000; font-weight: bold\">N</span>    │\n",
              "│ (<span style=\"color: #0087ff; text-decoration-color: #0087ff\">SeparableConv2D</span>)        │                      │               │                      │         │\n",
              "├──────────────────────────┼──────────────────────┼───────────────┼──────────────────────┼─────────┤\n",
              "│ block5_sepconv3_bn       │ (<span style=\"color: #00d7ff; text-decoration-color: #00d7ff\">None</span>, <span style=\"color: #00af00; text-decoration-color: #00af00\">5</span>, <span style=\"color: #00af00; text-decoration-color: #00af00\">5</span>, <span style=\"color: #00af00; text-decoration-color: #00af00\">728</span>)    │         <span style=\"color: #00af00; text-decoration-color: #00af00\">2,912</span> │ block5_sepconv3[<span style=\"color: #00af00; text-decoration-color: #00af00\">0</span>][<span style=\"color: #00af00; text-decoration-color: #00af00\">…</span> │    <span style=\"color: #ff0000; text-decoration-color: #ff0000; font-weight: bold\">N</span>    │\n",
              "│ (<span style=\"color: #0087ff; text-decoration-color: #0087ff\">BatchNormalization</span>)     │                      │               │                      │         │\n",
              "├──────────────────────────┼──────────────────────┼───────────────┼──────────────────────┼─────────┤\n",
              "│ add_135 (<span style=\"color: #0087ff; text-decoration-color: #0087ff\">Add</span>)            │ (<span style=\"color: #00d7ff; text-decoration-color: #00d7ff\">None</span>, <span style=\"color: #00af00; text-decoration-color: #00af00\">5</span>, <span style=\"color: #00af00; text-decoration-color: #00af00\">5</span>, <span style=\"color: #00af00; text-decoration-color: #00af00\">728</span>)    │             <span style=\"color: #00af00; text-decoration-color: #00af00\">0</span> │ block5_sepconv3_bn[<span style=\"color: #00af00; text-decoration-color: #00af00\">…</span> │    <span style=\"font-weight: bold\">-</span>    │\n",
              "│                          │                      │               │ add_134[<span style=\"color: #00af00; text-decoration-color: #00af00\">0</span>][<span style=\"color: #00af00; text-decoration-color: #00af00\">0</span>]        │         │\n",
              "├──────────────────────────┼──────────────────────┼───────────────┼──────────────────────┼─────────┤\n",
              "│ block6_sepconv1_act      │ (<span style=\"color: #00d7ff; text-decoration-color: #00d7ff\">None</span>, <span style=\"color: #00af00; text-decoration-color: #00af00\">5</span>, <span style=\"color: #00af00; text-decoration-color: #00af00\">5</span>, <span style=\"color: #00af00; text-decoration-color: #00af00\">728</span>)    │             <span style=\"color: #00af00; text-decoration-color: #00af00\">0</span> │ add_135[<span style=\"color: #00af00; text-decoration-color: #00af00\">0</span>][<span style=\"color: #00af00; text-decoration-color: #00af00\">0</span>]        │    <span style=\"font-weight: bold\">-</span>    │\n",
              "│ (<span style=\"color: #0087ff; text-decoration-color: #0087ff\">Activation</span>)             │                      │               │                      │         │\n",
              "├──────────────────────────┼──────────────────────┼───────────────┼──────────────────────┼─────────┤\n",
              "│ block6_sepconv1          │ (<span style=\"color: #00d7ff; text-decoration-color: #00d7ff\">None</span>, <span style=\"color: #00af00; text-decoration-color: #00af00\">5</span>, <span style=\"color: #00af00; text-decoration-color: #00af00\">5</span>, <span style=\"color: #00af00; text-decoration-color: #00af00\">728</span>)    │       <span style=\"color: #00af00; text-decoration-color: #00af00\">536,536</span> │ block6_sepconv1_act… │    <span style=\"color: #ff0000; text-decoration-color: #ff0000; font-weight: bold\">N</span>    │\n",
              "│ (<span style=\"color: #0087ff; text-decoration-color: #0087ff\">SeparableConv2D</span>)        │                      │               │                      │         │\n",
              "├──────────────────────────┼──────────────────────┼───────────────┼──────────────────────┼─────────┤\n",
              "│ block6_sepconv1_bn       │ (<span style=\"color: #00d7ff; text-decoration-color: #00d7ff\">None</span>, <span style=\"color: #00af00; text-decoration-color: #00af00\">5</span>, <span style=\"color: #00af00; text-decoration-color: #00af00\">5</span>, <span style=\"color: #00af00; text-decoration-color: #00af00\">728</span>)    │         <span style=\"color: #00af00; text-decoration-color: #00af00\">2,912</span> │ block6_sepconv1[<span style=\"color: #00af00; text-decoration-color: #00af00\">0</span>][<span style=\"color: #00af00; text-decoration-color: #00af00\">…</span> │    <span style=\"color: #ff0000; text-decoration-color: #ff0000; font-weight: bold\">N</span>    │\n",
              "│ (<span style=\"color: #0087ff; text-decoration-color: #0087ff\">BatchNormalization</span>)     │                      │               │                      │         │\n",
              "├──────────────────────────┼──────────────────────┼───────────────┼──────────────────────┼─────────┤\n",
              "│ block6_sepconv2_act      │ (<span style=\"color: #00d7ff; text-decoration-color: #00d7ff\">None</span>, <span style=\"color: #00af00; text-decoration-color: #00af00\">5</span>, <span style=\"color: #00af00; text-decoration-color: #00af00\">5</span>, <span style=\"color: #00af00; text-decoration-color: #00af00\">728</span>)    │             <span style=\"color: #00af00; text-decoration-color: #00af00\">0</span> │ block6_sepconv1_bn[<span style=\"color: #00af00; text-decoration-color: #00af00\">…</span> │    <span style=\"font-weight: bold\">-</span>    │\n",
              "│ (<span style=\"color: #0087ff; text-decoration-color: #0087ff\">Activation</span>)             │                      │               │                      │         │\n",
              "├──────────────────────────┼──────────────────────┼───────────────┼──────────────────────┼─────────┤\n",
              "│ block6_sepconv2          │ (<span style=\"color: #00d7ff; text-decoration-color: #00d7ff\">None</span>, <span style=\"color: #00af00; text-decoration-color: #00af00\">5</span>, <span style=\"color: #00af00; text-decoration-color: #00af00\">5</span>, <span style=\"color: #00af00; text-decoration-color: #00af00\">728</span>)    │       <span style=\"color: #00af00; text-decoration-color: #00af00\">536,536</span> │ block6_sepconv2_act… │    <span style=\"color: #ff0000; text-decoration-color: #ff0000; font-weight: bold\">N</span>    │\n",
              "│ (<span style=\"color: #0087ff; text-decoration-color: #0087ff\">SeparableConv2D</span>)        │                      │               │                      │         │\n",
              "├──────────────────────────┼──────────────────────┼───────────────┼──────────────────────┼─────────┤\n",
              "│ block6_sepconv2_bn       │ (<span style=\"color: #00d7ff; text-decoration-color: #00d7ff\">None</span>, <span style=\"color: #00af00; text-decoration-color: #00af00\">5</span>, <span style=\"color: #00af00; text-decoration-color: #00af00\">5</span>, <span style=\"color: #00af00; text-decoration-color: #00af00\">728</span>)    │         <span style=\"color: #00af00; text-decoration-color: #00af00\">2,912</span> │ block6_sepconv2[<span style=\"color: #00af00; text-decoration-color: #00af00\">0</span>][<span style=\"color: #00af00; text-decoration-color: #00af00\">…</span> │    <span style=\"color: #ff0000; text-decoration-color: #ff0000; font-weight: bold\">N</span>    │\n",
              "│ (<span style=\"color: #0087ff; text-decoration-color: #0087ff\">BatchNormalization</span>)     │                      │               │                      │         │\n",
              "├──────────────────────────┼──────────────────────┼───────────────┼──────────────────────┼─────────┤\n",
              "│ block6_sepconv3_act      │ (<span style=\"color: #00d7ff; text-decoration-color: #00d7ff\">None</span>, <span style=\"color: #00af00; text-decoration-color: #00af00\">5</span>, <span style=\"color: #00af00; text-decoration-color: #00af00\">5</span>, <span style=\"color: #00af00; text-decoration-color: #00af00\">728</span>)    │             <span style=\"color: #00af00; text-decoration-color: #00af00\">0</span> │ block6_sepconv2_bn[<span style=\"color: #00af00; text-decoration-color: #00af00\">…</span> │    <span style=\"font-weight: bold\">-</span>    │\n",
              "│ (<span style=\"color: #0087ff; text-decoration-color: #0087ff\">Activation</span>)             │                      │               │                      │         │\n",
              "├──────────────────────────┼──────────────────────┼───────────────┼──────────────────────┼─────────┤\n",
              "│ block6_sepconv3          │ (<span style=\"color: #00d7ff; text-decoration-color: #00d7ff\">None</span>, <span style=\"color: #00af00; text-decoration-color: #00af00\">5</span>, <span style=\"color: #00af00; text-decoration-color: #00af00\">5</span>, <span style=\"color: #00af00; text-decoration-color: #00af00\">728</span>)    │       <span style=\"color: #00af00; text-decoration-color: #00af00\">536,536</span> │ block6_sepconv3_act… │    <span style=\"color: #ff0000; text-decoration-color: #ff0000; font-weight: bold\">N</span>    │\n",
              "│ (<span style=\"color: #0087ff; text-decoration-color: #0087ff\">SeparableConv2D</span>)        │                      │               │                      │         │\n",
              "├──────────────────────────┼──────────────────────┼───────────────┼──────────────────────┼─────────┤\n",
              "│ block6_sepconv3_bn       │ (<span style=\"color: #00d7ff; text-decoration-color: #00d7ff\">None</span>, <span style=\"color: #00af00; text-decoration-color: #00af00\">5</span>, <span style=\"color: #00af00; text-decoration-color: #00af00\">5</span>, <span style=\"color: #00af00; text-decoration-color: #00af00\">728</span>)    │         <span style=\"color: #00af00; text-decoration-color: #00af00\">2,912</span> │ block6_sepconv3[<span style=\"color: #00af00; text-decoration-color: #00af00\">0</span>][<span style=\"color: #00af00; text-decoration-color: #00af00\">…</span> │    <span style=\"color: #ff0000; text-decoration-color: #ff0000; font-weight: bold\">N</span>    │\n",
              "│ (<span style=\"color: #0087ff; text-decoration-color: #0087ff\">BatchNormalization</span>)     │                      │               │                      │         │\n",
              "├──────────────────────────┼──────────────────────┼───────────────┼──────────────────────┼─────────┤\n",
              "│ add_136 (<span style=\"color: #0087ff; text-decoration-color: #0087ff\">Add</span>)            │ (<span style=\"color: #00d7ff; text-decoration-color: #00d7ff\">None</span>, <span style=\"color: #00af00; text-decoration-color: #00af00\">5</span>, <span style=\"color: #00af00; text-decoration-color: #00af00\">5</span>, <span style=\"color: #00af00; text-decoration-color: #00af00\">728</span>)    │             <span style=\"color: #00af00; text-decoration-color: #00af00\">0</span> │ block6_sepconv3_bn[<span style=\"color: #00af00; text-decoration-color: #00af00\">…</span> │    <span style=\"font-weight: bold\">-</span>    │\n",
              "│                          │                      │               │ add_135[<span style=\"color: #00af00; text-decoration-color: #00af00\">0</span>][<span style=\"color: #00af00; text-decoration-color: #00af00\">0</span>]        │         │\n",
              "├──────────────────────────┼──────────────────────┼───────────────┼──────────────────────┼─────────┤\n",
              "│ block7_sepconv1_act      │ (<span style=\"color: #00d7ff; text-decoration-color: #00d7ff\">None</span>, <span style=\"color: #00af00; text-decoration-color: #00af00\">5</span>, <span style=\"color: #00af00; text-decoration-color: #00af00\">5</span>, <span style=\"color: #00af00; text-decoration-color: #00af00\">728</span>)    │             <span style=\"color: #00af00; text-decoration-color: #00af00\">0</span> │ add_136[<span style=\"color: #00af00; text-decoration-color: #00af00\">0</span>][<span style=\"color: #00af00; text-decoration-color: #00af00\">0</span>]        │    <span style=\"font-weight: bold\">-</span>    │\n",
              "│ (<span style=\"color: #0087ff; text-decoration-color: #0087ff\">Activation</span>)             │                      │               │                      │         │\n",
              "├──────────────────────────┼──────────────────────┼───────────────┼──────────────────────┼─────────┤\n",
              "│ block7_sepconv1          │ (<span style=\"color: #00d7ff; text-decoration-color: #00d7ff\">None</span>, <span style=\"color: #00af00; text-decoration-color: #00af00\">5</span>, <span style=\"color: #00af00; text-decoration-color: #00af00\">5</span>, <span style=\"color: #00af00; text-decoration-color: #00af00\">728</span>)    │       <span style=\"color: #00af00; text-decoration-color: #00af00\">536,536</span> │ block7_sepconv1_act… │    <span style=\"color: #ff0000; text-decoration-color: #ff0000; font-weight: bold\">N</span>    │\n",
              "│ (<span style=\"color: #0087ff; text-decoration-color: #0087ff\">SeparableConv2D</span>)        │                      │               │                      │         │\n",
              "├──────────────────────────┼──────────────────────┼───────────────┼──────────────────────┼─────────┤\n",
              "│ block7_sepconv1_bn       │ (<span style=\"color: #00d7ff; text-decoration-color: #00d7ff\">None</span>, <span style=\"color: #00af00; text-decoration-color: #00af00\">5</span>, <span style=\"color: #00af00; text-decoration-color: #00af00\">5</span>, <span style=\"color: #00af00; text-decoration-color: #00af00\">728</span>)    │         <span style=\"color: #00af00; text-decoration-color: #00af00\">2,912</span> │ block7_sepconv1[<span style=\"color: #00af00; text-decoration-color: #00af00\">0</span>][<span style=\"color: #00af00; text-decoration-color: #00af00\">…</span> │    <span style=\"color: #ff0000; text-decoration-color: #ff0000; font-weight: bold\">N</span>    │\n",
              "│ (<span style=\"color: #0087ff; text-decoration-color: #0087ff\">BatchNormalization</span>)     │                      │               │                      │         │\n",
              "├──────────────────────────┼──────────────────────┼───────────────┼──────────────────────┼─────────┤\n",
              "│ block7_sepconv2_act      │ (<span style=\"color: #00d7ff; text-decoration-color: #00d7ff\">None</span>, <span style=\"color: #00af00; text-decoration-color: #00af00\">5</span>, <span style=\"color: #00af00; text-decoration-color: #00af00\">5</span>, <span style=\"color: #00af00; text-decoration-color: #00af00\">728</span>)    │             <span style=\"color: #00af00; text-decoration-color: #00af00\">0</span> │ block7_sepconv1_bn[<span style=\"color: #00af00; text-decoration-color: #00af00\">…</span> │    <span style=\"font-weight: bold\">-</span>    │\n",
              "│ (<span style=\"color: #0087ff; text-decoration-color: #0087ff\">Activation</span>)             │                      │               │                      │         │\n",
              "├──────────────────────────┼──────────────────────┼───────────────┼──────────────────────┼─────────┤\n",
              "│ block7_sepconv2          │ (<span style=\"color: #00d7ff; text-decoration-color: #00d7ff\">None</span>, <span style=\"color: #00af00; text-decoration-color: #00af00\">5</span>, <span style=\"color: #00af00; text-decoration-color: #00af00\">5</span>, <span style=\"color: #00af00; text-decoration-color: #00af00\">728</span>)    │       <span style=\"color: #00af00; text-decoration-color: #00af00\">536,536</span> │ block7_sepconv2_act… │    <span style=\"color: #ff0000; text-decoration-color: #ff0000; font-weight: bold\">N</span>    │\n",
              "│ (<span style=\"color: #0087ff; text-decoration-color: #0087ff\">SeparableConv2D</span>)        │                      │               │                      │         │\n",
              "├──────────────────────────┼──────────────────────┼───────────────┼──────────────────────┼─────────┤\n",
              "│ block7_sepconv2_bn       │ (<span style=\"color: #00d7ff; text-decoration-color: #00d7ff\">None</span>, <span style=\"color: #00af00; text-decoration-color: #00af00\">5</span>, <span style=\"color: #00af00; text-decoration-color: #00af00\">5</span>, <span style=\"color: #00af00; text-decoration-color: #00af00\">728</span>)    │         <span style=\"color: #00af00; text-decoration-color: #00af00\">2,912</span> │ block7_sepconv2[<span style=\"color: #00af00; text-decoration-color: #00af00\">0</span>][<span style=\"color: #00af00; text-decoration-color: #00af00\">…</span> │    <span style=\"color: #ff0000; text-decoration-color: #ff0000; font-weight: bold\">N</span>    │\n",
              "│ (<span style=\"color: #0087ff; text-decoration-color: #0087ff\">BatchNormalization</span>)     │                      │               │                      │         │\n",
              "├──────────────────────────┼──────────────────────┼───────────────┼──────────────────────┼─────────┤\n",
              "│ block7_sepconv3_act      │ (<span style=\"color: #00d7ff; text-decoration-color: #00d7ff\">None</span>, <span style=\"color: #00af00; text-decoration-color: #00af00\">5</span>, <span style=\"color: #00af00; text-decoration-color: #00af00\">5</span>, <span style=\"color: #00af00; text-decoration-color: #00af00\">728</span>)    │             <span style=\"color: #00af00; text-decoration-color: #00af00\">0</span> │ block7_sepconv2_bn[<span style=\"color: #00af00; text-decoration-color: #00af00\">…</span> │    <span style=\"font-weight: bold\">-</span>    │\n",
              "│ (<span style=\"color: #0087ff; text-decoration-color: #0087ff\">Activation</span>)             │                      │               │                      │         │\n",
              "├──────────────────────────┼──────────────────────┼───────────────┼──────────────────────┼─────────┤\n",
              "│ block7_sepconv3          │ (<span style=\"color: #00d7ff; text-decoration-color: #00d7ff\">None</span>, <span style=\"color: #00af00; text-decoration-color: #00af00\">5</span>, <span style=\"color: #00af00; text-decoration-color: #00af00\">5</span>, <span style=\"color: #00af00; text-decoration-color: #00af00\">728</span>)    │       <span style=\"color: #00af00; text-decoration-color: #00af00\">536,536</span> │ block7_sepconv3_act… │    <span style=\"color: #ff0000; text-decoration-color: #ff0000; font-weight: bold\">N</span>    │\n",
              "│ (<span style=\"color: #0087ff; text-decoration-color: #0087ff\">SeparableConv2D</span>)        │                      │               │                      │         │\n",
              "├──────────────────────────┼──────────────────────┼───────────────┼──────────────────────┼─────────┤\n",
              "│ block7_sepconv3_bn       │ (<span style=\"color: #00d7ff; text-decoration-color: #00d7ff\">None</span>, <span style=\"color: #00af00; text-decoration-color: #00af00\">5</span>, <span style=\"color: #00af00; text-decoration-color: #00af00\">5</span>, <span style=\"color: #00af00; text-decoration-color: #00af00\">728</span>)    │         <span style=\"color: #00af00; text-decoration-color: #00af00\">2,912</span> │ block7_sepconv3[<span style=\"color: #00af00; text-decoration-color: #00af00\">0</span>][<span style=\"color: #00af00; text-decoration-color: #00af00\">…</span> │    <span style=\"color: #ff0000; text-decoration-color: #ff0000; font-weight: bold\">N</span>    │\n",
              "│ (<span style=\"color: #0087ff; text-decoration-color: #0087ff\">BatchNormalization</span>)     │                      │               │                      │         │\n",
              "├──────────────────────────┼──────────────────────┼───────────────┼──────────────────────┼─────────┤\n",
              "│ add_137 (<span style=\"color: #0087ff; text-decoration-color: #0087ff\">Add</span>)            │ (<span style=\"color: #00d7ff; text-decoration-color: #00d7ff\">None</span>, <span style=\"color: #00af00; text-decoration-color: #00af00\">5</span>, <span style=\"color: #00af00; text-decoration-color: #00af00\">5</span>, <span style=\"color: #00af00; text-decoration-color: #00af00\">728</span>)    │             <span style=\"color: #00af00; text-decoration-color: #00af00\">0</span> │ block7_sepconv3_bn[<span style=\"color: #00af00; text-decoration-color: #00af00\">…</span> │    <span style=\"font-weight: bold\">-</span>    │\n",
              "│                          │                      │               │ add_136[<span style=\"color: #00af00; text-decoration-color: #00af00\">0</span>][<span style=\"color: #00af00; text-decoration-color: #00af00\">0</span>]        │         │\n",
              "├──────────────────────────┼──────────────────────┼───────────────┼──────────────────────┼─────────┤\n",
              "│ block8_sepconv1_act      │ (<span style=\"color: #00d7ff; text-decoration-color: #00d7ff\">None</span>, <span style=\"color: #00af00; text-decoration-color: #00af00\">5</span>, <span style=\"color: #00af00; text-decoration-color: #00af00\">5</span>, <span style=\"color: #00af00; text-decoration-color: #00af00\">728</span>)    │             <span style=\"color: #00af00; text-decoration-color: #00af00\">0</span> │ add_137[<span style=\"color: #00af00; text-decoration-color: #00af00\">0</span>][<span style=\"color: #00af00; text-decoration-color: #00af00\">0</span>]        │    <span style=\"font-weight: bold\">-</span>    │\n",
              "│ (<span style=\"color: #0087ff; text-decoration-color: #0087ff\">Activation</span>)             │                      │               │                      │         │\n",
              "├──────────────────────────┼──────────────────────┼───────────────┼──────────────────────┼─────────┤\n",
              "│ block8_sepconv1          │ (<span style=\"color: #00d7ff; text-decoration-color: #00d7ff\">None</span>, <span style=\"color: #00af00; text-decoration-color: #00af00\">5</span>, <span style=\"color: #00af00; text-decoration-color: #00af00\">5</span>, <span style=\"color: #00af00; text-decoration-color: #00af00\">728</span>)    │       <span style=\"color: #00af00; text-decoration-color: #00af00\">536,536</span> │ block8_sepconv1_act… │    <span style=\"color: #ff0000; text-decoration-color: #ff0000; font-weight: bold\">N</span>    │\n",
              "│ (<span style=\"color: #0087ff; text-decoration-color: #0087ff\">SeparableConv2D</span>)        │                      │               │                      │         │\n",
              "├──────────────────────────┼──────────────────────┼───────────────┼──────────────────────┼─────────┤\n",
              "│ block8_sepconv1_bn       │ (<span style=\"color: #00d7ff; text-decoration-color: #00d7ff\">None</span>, <span style=\"color: #00af00; text-decoration-color: #00af00\">5</span>, <span style=\"color: #00af00; text-decoration-color: #00af00\">5</span>, <span style=\"color: #00af00; text-decoration-color: #00af00\">728</span>)    │         <span style=\"color: #00af00; text-decoration-color: #00af00\">2,912</span> │ block8_sepconv1[<span style=\"color: #00af00; text-decoration-color: #00af00\">0</span>][<span style=\"color: #00af00; text-decoration-color: #00af00\">…</span> │    <span style=\"color: #ff0000; text-decoration-color: #ff0000; font-weight: bold\">N</span>    │\n",
              "│ (<span style=\"color: #0087ff; text-decoration-color: #0087ff\">BatchNormalization</span>)     │                      │               │                      │         │\n",
              "├──────────────────────────┼──────────────────────┼───────────────┼──────────────────────┼─────────┤\n",
              "│ block8_sepconv2_act      │ (<span style=\"color: #00d7ff; text-decoration-color: #00d7ff\">None</span>, <span style=\"color: #00af00; text-decoration-color: #00af00\">5</span>, <span style=\"color: #00af00; text-decoration-color: #00af00\">5</span>, <span style=\"color: #00af00; text-decoration-color: #00af00\">728</span>)    │             <span style=\"color: #00af00; text-decoration-color: #00af00\">0</span> │ block8_sepconv1_bn[<span style=\"color: #00af00; text-decoration-color: #00af00\">…</span> │    <span style=\"font-weight: bold\">-</span>    │\n",
              "│ (<span style=\"color: #0087ff; text-decoration-color: #0087ff\">Activation</span>)             │                      │               │                      │         │\n",
              "├──────────────────────────┼──────────────────────┼───────────────┼──────────────────────┼─────────┤\n",
              "│ block8_sepconv2          │ (<span style=\"color: #00d7ff; text-decoration-color: #00d7ff\">None</span>, <span style=\"color: #00af00; text-decoration-color: #00af00\">5</span>, <span style=\"color: #00af00; text-decoration-color: #00af00\">5</span>, <span style=\"color: #00af00; text-decoration-color: #00af00\">728</span>)    │       <span style=\"color: #00af00; text-decoration-color: #00af00\">536,536</span> │ block8_sepconv2_act… │    <span style=\"color: #ff0000; text-decoration-color: #ff0000; font-weight: bold\">N</span>    │\n",
              "│ (<span style=\"color: #0087ff; text-decoration-color: #0087ff\">SeparableConv2D</span>)        │                      │               │                      │         │\n",
              "├──────────────────────────┼──────────────────────┼───────────────┼──────────────────────┼─────────┤\n",
              "│ block8_sepconv2_bn       │ (<span style=\"color: #00d7ff; text-decoration-color: #00d7ff\">None</span>, <span style=\"color: #00af00; text-decoration-color: #00af00\">5</span>, <span style=\"color: #00af00; text-decoration-color: #00af00\">5</span>, <span style=\"color: #00af00; text-decoration-color: #00af00\">728</span>)    │         <span style=\"color: #00af00; text-decoration-color: #00af00\">2,912</span> │ block8_sepconv2[<span style=\"color: #00af00; text-decoration-color: #00af00\">0</span>][<span style=\"color: #00af00; text-decoration-color: #00af00\">…</span> │    <span style=\"color: #ff0000; text-decoration-color: #ff0000; font-weight: bold\">N</span>    │\n",
              "│ (<span style=\"color: #0087ff; text-decoration-color: #0087ff\">BatchNormalization</span>)     │                      │               │                      │         │\n",
              "├──────────────────────────┼──────────────────────┼───────────────┼──────────────────────┼─────────┤\n",
              "│ block8_sepconv3_act      │ (<span style=\"color: #00d7ff; text-decoration-color: #00d7ff\">None</span>, <span style=\"color: #00af00; text-decoration-color: #00af00\">5</span>, <span style=\"color: #00af00; text-decoration-color: #00af00\">5</span>, <span style=\"color: #00af00; text-decoration-color: #00af00\">728</span>)    │             <span style=\"color: #00af00; text-decoration-color: #00af00\">0</span> │ block8_sepconv2_bn[<span style=\"color: #00af00; text-decoration-color: #00af00\">…</span> │    <span style=\"font-weight: bold\">-</span>    │\n",
              "│ (<span style=\"color: #0087ff; text-decoration-color: #0087ff\">Activation</span>)             │                      │               │                      │         │\n",
              "├──────────────────────────┼──────────────────────┼───────────────┼──────────────────────┼─────────┤\n",
              "│ block8_sepconv3          │ (<span style=\"color: #00d7ff; text-decoration-color: #00d7ff\">None</span>, <span style=\"color: #00af00; text-decoration-color: #00af00\">5</span>, <span style=\"color: #00af00; text-decoration-color: #00af00\">5</span>, <span style=\"color: #00af00; text-decoration-color: #00af00\">728</span>)    │       <span style=\"color: #00af00; text-decoration-color: #00af00\">536,536</span> │ block8_sepconv3_act… │    <span style=\"color: #ff0000; text-decoration-color: #ff0000; font-weight: bold\">N</span>    │\n",
              "│ (<span style=\"color: #0087ff; text-decoration-color: #0087ff\">SeparableConv2D</span>)        │                      │               │                      │         │\n",
              "├──────────────────────────┼──────────────────────┼───────────────┼──────────────────────┼─────────┤\n",
              "│ block8_sepconv3_bn       │ (<span style=\"color: #00d7ff; text-decoration-color: #00d7ff\">None</span>, <span style=\"color: #00af00; text-decoration-color: #00af00\">5</span>, <span style=\"color: #00af00; text-decoration-color: #00af00\">5</span>, <span style=\"color: #00af00; text-decoration-color: #00af00\">728</span>)    │         <span style=\"color: #00af00; text-decoration-color: #00af00\">2,912</span> │ block8_sepconv3[<span style=\"color: #00af00; text-decoration-color: #00af00\">0</span>][<span style=\"color: #00af00; text-decoration-color: #00af00\">…</span> │    <span style=\"color: #ff0000; text-decoration-color: #ff0000; font-weight: bold\">N</span>    │\n",
              "│ (<span style=\"color: #0087ff; text-decoration-color: #0087ff\">BatchNormalization</span>)     │                      │               │                      │         │\n",
              "├──────────────────────────┼──────────────────────┼───────────────┼──────────────────────┼─────────┤\n",
              "│ add_138 (<span style=\"color: #0087ff; text-decoration-color: #0087ff\">Add</span>)            │ (<span style=\"color: #00d7ff; text-decoration-color: #00d7ff\">None</span>, <span style=\"color: #00af00; text-decoration-color: #00af00\">5</span>, <span style=\"color: #00af00; text-decoration-color: #00af00\">5</span>, <span style=\"color: #00af00; text-decoration-color: #00af00\">728</span>)    │             <span style=\"color: #00af00; text-decoration-color: #00af00\">0</span> │ block8_sepconv3_bn[<span style=\"color: #00af00; text-decoration-color: #00af00\">…</span> │    <span style=\"font-weight: bold\">-</span>    │\n",
              "│                          │                      │               │ add_137[<span style=\"color: #00af00; text-decoration-color: #00af00\">0</span>][<span style=\"color: #00af00; text-decoration-color: #00af00\">0</span>]        │         │\n",
              "├──────────────────────────┼──────────────────────┼───────────────┼──────────────────────┼─────────┤\n",
              "│ block9_sepconv1_act      │ (<span style=\"color: #00d7ff; text-decoration-color: #00d7ff\">None</span>, <span style=\"color: #00af00; text-decoration-color: #00af00\">5</span>, <span style=\"color: #00af00; text-decoration-color: #00af00\">5</span>, <span style=\"color: #00af00; text-decoration-color: #00af00\">728</span>)    │             <span style=\"color: #00af00; text-decoration-color: #00af00\">0</span> │ add_138[<span style=\"color: #00af00; text-decoration-color: #00af00\">0</span>][<span style=\"color: #00af00; text-decoration-color: #00af00\">0</span>]        │    <span style=\"font-weight: bold\">-</span>    │\n",
              "│ (<span style=\"color: #0087ff; text-decoration-color: #0087ff\">Activation</span>)             │                      │               │                      │         │\n",
              "├──────────────────────────┼──────────────────────┼───────────────┼──────────────────────┼─────────┤\n",
              "│ block9_sepconv1          │ (<span style=\"color: #00d7ff; text-decoration-color: #00d7ff\">None</span>, <span style=\"color: #00af00; text-decoration-color: #00af00\">5</span>, <span style=\"color: #00af00; text-decoration-color: #00af00\">5</span>, <span style=\"color: #00af00; text-decoration-color: #00af00\">728</span>)    │       <span style=\"color: #00af00; text-decoration-color: #00af00\">536,536</span> │ block9_sepconv1_act… │    <span style=\"color: #ff0000; text-decoration-color: #ff0000; font-weight: bold\">N</span>    │\n",
              "│ (<span style=\"color: #0087ff; text-decoration-color: #0087ff\">SeparableConv2D</span>)        │                      │               │                      │         │\n",
              "├──────────────────────────┼──────────────────────┼───────────────┼──────────────────────┼─────────┤\n",
              "│ block9_sepconv1_bn       │ (<span style=\"color: #00d7ff; text-decoration-color: #00d7ff\">None</span>, <span style=\"color: #00af00; text-decoration-color: #00af00\">5</span>, <span style=\"color: #00af00; text-decoration-color: #00af00\">5</span>, <span style=\"color: #00af00; text-decoration-color: #00af00\">728</span>)    │         <span style=\"color: #00af00; text-decoration-color: #00af00\">2,912</span> │ block9_sepconv1[<span style=\"color: #00af00; text-decoration-color: #00af00\">0</span>][<span style=\"color: #00af00; text-decoration-color: #00af00\">…</span> │    <span style=\"color: #ff0000; text-decoration-color: #ff0000; font-weight: bold\">N</span>    │\n",
              "│ (<span style=\"color: #0087ff; text-decoration-color: #0087ff\">BatchNormalization</span>)     │                      │               │                      │         │\n",
              "├──────────────────────────┼──────────────────────┼───────────────┼──────────────────────┼─────────┤\n",
              "│ block9_sepconv2_act      │ (<span style=\"color: #00d7ff; text-decoration-color: #00d7ff\">None</span>, <span style=\"color: #00af00; text-decoration-color: #00af00\">5</span>, <span style=\"color: #00af00; text-decoration-color: #00af00\">5</span>, <span style=\"color: #00af00; text-decoration-color: #00af00\">728</span>)    │             <span style=\"color: #00af00; text-decoration-color: #00af00\">0</span> │ block9_sepconv1_bn[<span style=\"color: #00af00; text-decoration-color: #00af00\">…</span> │    <span style=\"font-weight: bold\">-</span>    │\n",
              "│ (<span style=\"color: #0087ff; text-decoration-color: #0087ff\">Activation</span>)             │                      │               │                      │         │\n",
              "├──────────────────────────┼──────────────────────┼───────────────┼──────────────────────┼─────────┤\n",
              "│ block9_sepconv2          │ (<span style=\"color: #00d7ff; text-decoration-color: #00d7ff\">None</span>, <span style=\"color: #00af00; text-decoration-color: #00af00\">5</span>, <span style=\"color: #00af00; text-decoration-color: #00af00\">5</span>, <span style=\"color: #00af00; text-decoration-color: #00af00\">728</span>)    │       <span style=\"color: #00af00; text-decoration-color: #00af00\">536,536</span> │ block9_sepconv2_act… │    <span style=\"color: #ff0000; text-decoration-color: #ff0000; font-weight: bold\">N</span>    │\n",
              "│ (<span style=\"color: #0087ff; text-decoration-color: #0087ff\">SeparableConv2D</span>)        │                      │               │                      │         │\n",
              "├──────────────────────────┼──────────────────────┼───────────────┼──────────────────────┼─────────┤\n",
              "│ block9_sepconv2_bn       │ (<span style=\"color: #00d7ff; text-decoration-color: #00d7ff\">None</span>, <span style=\"color: #00af00; text-decoration-color: #00af00\">5</span>, <span style=\"color: #00af00; text-decoration-color: #00af00\">5</span>, <span style=\"color: #00af00; text-decoration-color: #00af00\">728</span>)    │         <span style=\"color: #00af00; text-decoration-color: #00af00\">2,912</span> │ block9_sepconv2[<span style=\"color: #00af00; text-decoration-color: #00af00\">0</span>][<span style=\"color: #00af00; text-decoration-color: #00af00\">…</span> │    <span style=\"color: #ff0000; text-decoration-color: #ff0000; font-weight: bold\">N</span>    │\n",
              "│ (<span style=\"color: #0087ff; text-decoration-color: #0087ff\">BatchNormalization</span>)     │                      │               │                      │         │\n",
              "├──────────────────────────┼──────────────────────┼───────────────┼──────────────────────┼─────────┤\n",
              "│ block9_sepconv3_act      │ (<span style=\"color: #00d7ff; text-decoration-color: #00d7ff\">None</span>, <span style=\"color: #00af00; text-decoration-color: #00af00\">5</span>, <span style=\"color: #00af00; text-decoration-color: #00af00\">5</span>, <span style=\"color: #00af00; text-decoration-color: #00af00\">728</span>)    │             <span style=\"color: #00af00; text-decoration-color: #00af00\">0</span> │ block9_sepconv2_bn[<span style=\"color: #00af00; text-decoration-color: #00af00\">…</span> │    <span style=\"font-weight: bold\">-</span>    │\n",
              "│ (<span style=\"color: #0087ff; text-decoration-color: #0087ff\">Activation</span>)             │                      │               │                      │         │\n",
              "├──────────────────────────┼──────────────────────┼───────────────┼──────────────────────┼─────────┤\n",
              "│ block9_sepconv3          │ (<span style=\"color: #00d7ff; text-decoration-color: #00d7ff\">None</span>, <span style=\"color: #00af00; text-decoration-color: #00af00\">5</span>, <span style=\"color: #00af00; text-decoration-color: #00af00\">5</span>, <span style=\"color: #00af00; text-decoration-color: #00af00\">728</span>)    │       <span style=\"color: #00af00; text-decoration-color: #00af00\">536,536</span> │ block9_sepconv3_act… │    <span style=\"color: #ff0000; text-decoration-color: #ff0000; font-weight: bold\">N</span>    │\n",
              "│ (<span style=\"color: #0087ff; text-decoration-color: #0087ff\">SeparableConv2D</span>)        │                      │               │                      │         │\n",
              "├──────────────────────────┼──────────────────────┼───────────────┼──────────────────────┼─────────┤\n",
              "│ block9_sepconv3_bn       │ (<span style=\"color: #00d7ff; text-decoration-color: #00d7ff\">None</span>, <span style=\"color: #00af00; text-decoration-color: #00af00\">5</span>, <span style=\"color: #00af00; text-decoration-color: #00af00\">5</span>, <span style=\"color: #00af00; text-decoration-color: #00af00\">728</span>)    │         <span style=\"color: #00af00; text-decoration-color: #00af00\">2,912</span> │ block9_sepconv3[<span style=\"color: #00af00; text-decoration-color: #00af00\">0</span>][<span style=\"color: #00af00; text-decoration-color: #00af00\">…</span> │    <span style=\"color: #ff0000; text-decoration-color: #ff0000; font-weight: bold\">N</span>    │\n",
              "│ (<span style=\"color: #0087ff; text-decoration-color: #0087ff\">BatchNormalization</span>)     │                      │               │                      │         │\n",
              "├──────────────────────────┼──────────────────────┼───────────────┼──────────────────────┼─────────┤\n",
              "│ add_139 (<span style=\"color: #0087ff; text-decoration-color: #0087ff\">Add</span>)            │ (<span style=\"color: #00d7ff; text-decoration-color: #00d7ff\">None</span>, <span style=\"color: #00af00; text-decoration-color: #00af00\">5</span>, <span style=\"color: #00af00; text-decoration-color: #00af00\">5</span>, <span style=\"color: #00af00; text-decoration-color: #00af00\">728</span>)    │             <span style=\"color: #00af00; text-decoration-color: #00af00\">0</span> │ block9_sepconv3_bn[<span style=\"color: #00af00; text-decoration-color: #00af00\">…</span> │    <span style=\"font-weight: bold\">-</span>    │\n",
              "│                          │                      │               │ add_138[<span style=\"color: #00af00; text-decoration-color: #00af00\">0</span>][<span style=\"color: #00af00; text-decoration-color: #00af00\">0</span>]        │         │\n",
              "├──────────────────────────┼──────────────────────┼───────────────┼──────────────────────┼─────────┤\n",
              "│ block10_sepconv1_act     │ (<span style=\"color: #00d7ff; text-decoration-color: #00d7ff\">None</span>, <span style=\"color: #00af00; text-decoration-color: #00af00\">5</span>, <span style=\"color: #00af00; text-decoration-color: #00af00\">5</span>, <span style=\"color: #00af00; text-decoration-color: #00af00\">728</span>)    │             <span style=\"color: #00af00; text-decoration-color: #00af00\">0</span> │ add_139[<span style=\"color: #00af00; text-decoration-color: #00af00\">0</span>][<span style=\"color: #00af00; text-decoration-color: #00af00\">0</span>]        │    <span style=\"font-weight: bold\">-</span>    │\n",
              "│ (<span style=\"color: #0087ff; text-decoration-color: #0087ff\">Activation</span>)             │                      │               │                      │         │\n",
              "├──────────────────────────┼──────────────────────┼───────────────┼──────────────────────┼─────────┤\n",
              "│ block10_sepconv1         │ (<span style=\"color: #00d7ff; text-decoration-color: #00d7ff\">None</span>, <span style=\"color: #00af00; text-decoration-color: #00af00\">5</span>, <span style=\"color: #00af00; text-decoration-color: #00af00\">5</span>, <span style=\"color: #00af00; text-decoration-color: #00af00\">728</span>)    │       <span style=\"color: #00af00; text-decoration-color: #00af00\">536,536</span> │ block10_sepconv1_ac… │    <span style=\"color: #ff0000; text-decoration-color: #ff0000; font-weight: bold\">N</span>    │\n",
              "│ (<span style=\"color: #0087ff; text-decoration-color: #0087ff\">SeparableConv2D</span>)        │                      │               │                      │         │\n",
              "├──────────────────────────┼──────────────────────┼───────────────┼──────────────────────┼─────────┤\n",
              "│ block10_sepconv1_bn      │ (<span style=\"color: #00d7ff; text-decoration-color: #00d7ff\">None</span>, <span style=\"color: #00af00; text-decoration-color: #00af00\">5</span>, <span style=\"color: #00af00; text-decoration-color: #00af00\">5</span>, <span style=\"color: #00af00; text-decoration-color: #00af00\">728</span>)    │         <span style=\"color: #00af00; text-decoration-color: #00af00\">2,912</span> │ block10_sepconv1[<span style=\"color: #00af00; text-decoration-color: #00af00\">0</span>]… │    <span style=\"color: #ff0000; text-decoration-color: #ff0000; font-weight: bold\">N</span>    │\n",
              "│ (<span style=\"color: #0087ff; text-decoration-color: #0087ff\">BatchNormalization</span>)     │                      │               │                      │         │\n",
              "├──────────────────────────┼──────────────────────┼───────────────┼──────────────────────┼─────────┤\n",
              "│ block10_sepconv2_act     │ (<span style=\"color: #00d7ff; text-decoration-color: #00d7ff\">None</span>, <span style=\"color: #00af00; text-decoration-color: #00af00\">5</span>, <span style=\"color: #00af00; text-decoration-color: #00af00\">5</span>, <span style=\"color: #00af00; text-decoration-color: #00af00\">728</span>)    │             <span style=\"color: #00af00; text-decoration-color: #00af00\">0</span> │ block10_sepconv1_bn… │    <span style=\"font-weight: bold\">-</span>    │\n",
              "│ (<span style=\"color: #0087ff; text-decoration-color: #0087ff\">Activation</span>)             │                      │               │                      │         │\n",
              "├──────────────────────────┼──────────────────────┼───────────────┼──────────────────────┼─────────┤\n",
              "│ block10_sepconv2         │ (<span style=\"color: #00d7ff; text-decoration-color: #00d7ff\">None</span>, <span style=\"color: #00af00; text-decoration-color: #00af00\">5</span>, <span style=\"color: #00af00; text-decoration-color: #00af00\">5</span>, <span style=\"color: #00af00; text-decoration-color: #00af00\">728</span>)    │       <span style=\"color: #00af00; text-decoration-color: #00af00\">536,536</span> │ block10_sepconv2_ac… │    <span style=\"color: #ff0000; text-decoration-color: #ff0000; font-weight: bold\">N</span>    │\n",
              "│ (<span style=\"color: #0087ff; text-decoration-color: #0087ff\">SeparableConv2D</span>)        │                      │               │                      │         │\n",
              "├──────────────────────────┼──────────────────────┼───────────────┼──────────────────────┼─────────┤\n",
              "│ block10_sepconv2_bn      │ (<span style=\"color: #00d7ff; text-decoration-color: #00d7ff\">None</span>, <span style=\"color: #00af00; text-decoration-color: #00af00\">5</span>, <span style=\"color: #00af00; text-decoration-color: #00af00\">5</span>, <span style=\"color: #00af00; text-decoration-color: #00af00\">728</span>)    │         <span style=\"color: #00af00; text-decoration-color: #00af00\">2,912</span> │ block10_sepconv2[<span style=\"color: #00af00; text-decoration-color: #00af00\">0</span>]… │    <span style=\"color: #ff0000; text-decoration-color: #ff0000; font-weight: bold\">N</span>    │\n",
              "│ (<span style=\"color: #0087ff; text-decoration-color: #0087ff\">BatchNormalization</span>)     │                      │               │                      │         │\n",
              "├──────────────────────────┼──────────────────────┼───────────────┼──────────────────────┼─────────┤\n",
              "│ block10_sepconv3_act     │ (<span style=\"color: #00d7ff; text-decoration-color: #00d7ff\">None</span>, <span style=\"color: #00af00; text-decoration-color: #00af00\">5</span>, <span style=\"color: #00af00; text-decoration-color: #00af00\">5</span>, <span style=\"color: #00af00; text-decoration-color: #00af00\">728</span>)    │             <span style=\"color: #00af00; text-decoration-color: #00af00\">0</span> │ block10_sepconv2_bn… │    <span style=\"font-weight: bold\">-</span>    │\n",
              "│ (<span style=\"color: #0087ff; text-decoration-color: #0087ff\">Activation</span>)             │                      │               │                      │         │\n",
              "├──────────────────────────┼──────────────────────┼───────────────┼──────────────────────┼─────────┤\n",
              "│ block10_sepconv3         │ (<span style=\"color: #00d7ff; text-decoration-color: #00d7ff\">None</span>, <span style=\"color: #00af00; text-decoration-color: #00af00\">5</span>, <span style=\"color: #00af00; text-decoration-color: #00af00\">5</span>, <span style=\"color: #00af00; text-decoration-color: #00af00\">728</span>)    │       <span style=\"color: #00af00; text-decoration-color: #00af00\">536,536</span> │ block10_sepconv3_ac… │    <span style=\"color: #ff0000; text-decoration-color: #ff0000; font-weight: bold\">N</span>    │\n",
              "│ (<span style=\"color: #0087ff; text-decoration-color: #0087ff\">SeparableConv2D</span>)        │                      │               │                      │         │\n",
              "├──────────────────────────┼──────────────────────┼───────────────┼──────────────────────┼─────────┤\n",
              "│ block10_sepconv3_bn      │ (<span style=\"color: #00d7ff; text-decoration-color: #00d7ff\">None</span>, <span style=\"color: #00af00; text-decoration-color: #00af00\">5</span>, <span style=\"color: #00af00; text-decoration-color: #00af00\">5</span>, <span style=\"color: #00af00; text-decoration-color: #00af00\">728</span>)    │         <span style=\"color: #00af00; text-decoration-color: #00af00\">2,912</span> │ block10_sepconv3[<span style=\"color: #00af00; text-decoration-color: #00af00\">0</span>]… │    <span style=\"color: #ff0000; text-decoration-color: #ff0000; font-weight: bold\">N</span>    │\n",
              "│ (<span style=\"color: #0087ff; text-decoration-color: #0087ff\">BatchNormalization</span>)     │                      │               │                      │         │\n",
              "├──────────────────────────┼──────────────────────┼───────────────┼──────────────────────┼─────────┤\n",
              "│ add_140 (<span style=\"color: #0087ff; text-decoration-color: #0087ff\">Add</span>)            │ (<span style=\"color: #00d7ff; text-decoration-color: #00d7ff\">None</span>, <span style=\"color: #00af00; text-decoration-color: #00af00\">5</span>, <span style=\"color: #00af00; text-decoration-color: #00af00\">5</span>, <span style=\"color: #00af00; text-decoration-color: #00af00\">728</span>)    │             <span style=\"color: #00af00; text-decoration-color: #00af00\">0</span> │ block10_sepconv3_bn… │    <span style=\"font-weight: bold\">-</span>    │\n",
              "│                          │                      │               │ add_139[<span style=\"color: #00af00; text-decoration-color: #00af00\">0</span>][<span style=\"color: #00af00; text-decoration-color: #00af00\">0</span>]        │         │\n",
              "├──────────────────────────┼──────────────────────┼───────────────┼──────────────────────┼─────────┤\n",
              "│ block11_sepconv1_act     │ (<span style=\"color: #00d7ff; text-decoration-color: #00d7ff\">None</span>, <span style=\"color: #00af00; text-decoration-color: #00af00\">5</span>, <span style=\"color: #00af00; text-decoration-color: #00af00\">5</span>, <span style=\"color: #00af00; text-decoration-color: #00af00\">728</span>)    │             <span style=\"color: #00af00; text-decoration-color: #00af00\">0</span> │ add_140[<span style=\"color: #00af00; text-decoration-color: #00af00\">0</span>][<span style=\"color: #00af00; text-decoration-color: #00af00\">0</span>]        │    <span style=\"font-weight: bold\">-</span>    │\n",
              "│ (<span style=\"color: #0087ff; text-decoration-color: #0087ff\">Activation</span>)             │                      │               │                      │         │\n",
              "├──────────────────────────┼──────────────────────┼───────────────┼──────────────────────┼─────────┤\n",
              "│ block11_sepconv1         │ (<span style=\"color: #00d7ff; text-decoration-color: #00d7ff\">None</span>, <span style=\"color: #00af00; text-decoration-color: #00af00\">5</span>, <span style=\"color: #00af00; text-decoration-color: #00af00\">5</span>, <span style=\"color: #00af00; text-decoration-color: #00af00\">728</span>)    │       <span style=\"color: #00af00; text-decoration-color: #00af00\">536,536</span> │ block11_sepconv1_ac… │    <span style=\"color: #ff0000; text-decoration-color: #ff0000; font-weight: bold\">N</span>    │\n",
              "│ (<span style=\"color: #0087ff; text-decoration-color: #0087ff\">SeparableConv2D</span>)        │                      │               │                      │         │\n",
              "├──────────────────────────┼──────────────────────┼───────────────┼──────────────────────┼─────────┤\n",
              "│ block11_sepconv1_bn      │ (<span style=\"color: #00d7ff; text-decoration-color: #00d7ff\">None</span>, <span style=\"color: #00af00; text-decoration-color: #00af00\">5</span>, <span style=\"color: #00af00; text-decoration-color: #00af00\">5</span>, <span style=\"color: #00af00; text-decoration-color: #00af00\">728</span>)    │         <span style=\"color: #00af00; text-decoration-color: #00af00\">2,912</span> │ block11_sepconv1[<span style=\"color: #00af00; text-decoration-color: #00af00\">0</span>]… │    <span style=\"color: #ff0000; text-decoration-color: #ff0000; font-weight: bold\">N</span>    │\n",
              "│ (<span style=\"color: #0087ff; text-decoration-color: #0087ff\">BatchNormalization</span>)     │                      │               │                      │         │\n",
              "├──────────────────────────┼──────────────────────┼───────────────┼──────────────────────┼─────────┤\n",
              "│ block11_sepconv2_act     │ (<span style=\"color: #00d7ff; text-decoration-color: #00d7ff\">None</span>, <span style=\"color: #00af00; text-decoration-color: #00af00\">5</span>, <span style=\"color: #00af00; text-decoration-color: #00af00\">5</span>, <span style=\"color: #00af00; text-decoration-color: #00af00\">728</span>)    │             <span style=\"color: #00af00; text-decoration-color: #00af00\">0</span> │ block11_sepconv1_bn… │    <span style=\"font-weight: bold\">-</span>    │\n",
              "│ (<span style=\"color: #0087ff; text-decoration-color: #0087ff\">Activation</span>)             │                      │               │                      │         │\n",
              "├──────────────────────────┼──────────────────────┼───────────────┼──────────────────────┼─────────┤\n",
              "│ block11_sepconv2         │ (<span style=\"color: #00d7ff; text-decoration-color: #00d7ff\">None</span>, <span style=\"color: #00af00; text-decoration-color: #00af00\">5</span>, <span style=\"color: #00af00; text-decoration-color: #00af00\">5</span>, <span style=\"color: #00af00; text-decoration-color: #00af00\">728</span>)    │       <span style=\"color: #00af00; text-decoration-color: #00af00\">536,536</span> │ block11_sepconv2_ac… │    <span style=\"color: #ff0000; text-decoration-color: #ff0000; font-weight: bold\">N</span>    │\n",
              "│ (<span style=\"color: #0087ff; text-decoration-color: #0087ff\">SeparableConv2D</span>)        │                      │               │                      │         │\n",
              "├──────────────────────────┼──────────────────────┼───────────────┼──────────────────────┼─────────┤\n",
              "│ block11_sepconv2_bn      │ (<span style=\"color: #00d7ff; text-decoration-color: #00d7ff\">None</span>, <span style=\"color: #00af00; text-decoration-color: #00af00\">5</span>, <span style=\"color: #00af00; text-decoration-color: #00af00\">5</span>, <span style=\"color: #00af00; text-decoration-color: #00af00\">728</span>)    │         <span style=\"color: #00af00; text-decoration-color: #00af00\">2,912</span> │ block11_sepconv2[<span style=\"color: #00af00; text-decoration-color: #00af00\">0</span>]… │    <span style=\"color: #ff0000; text-decoration-color: #ff0000; font-weight: bold\">N</span>    │\n",
              "│ (<span style=\"color: #0087ff; text-decoration-color: #0087ff\">BatchNormalization</span>)     │                      │               │                      │         │\n",
              "├──────────────────────────┼──────────────────────┼───────────────┼──────────────────────┼─────────┤\n",
              "│ block11_sepconv3_act     │ (<span style=\"color: #00d7ff; text-decoration-color: #00d7ff\">None</span>, <span style=\"color: #00af00; text-decoration-color: #00af00\">5</span>, <span style=\"color: #00af00; text-decoration-color: #00af00\">5</span>, <span style=\"color: #00af00; text-decoration-color: #00af00\">728</span>)    │             <span style=\"color: #00af00; text-decoration-color: #00af00\">0</span> │ block11_sepconv2_bn… │    <span style=\"font-weight: bold\">-</span>    │\n",
              "│ (<span style=\"color: #0087ff; text-decoration-color: #0087ff\">Activation</span>)             │                      │               │                      │         │\n",
              "├──────────────────────────┼──────────────────────┼───────────────┼──────────────────────┼─────────┤\n",
              "│ block11_sepconv3         │ (<span style=\"color: #00d7ff; text-decoration-color: #00d7ff\">None</span>, <span style=\"color: #00af00; text-decoration-color: #00af00\">5</span>, <span style=\"color: #00af00; text-decoration-color: #00af00\">5</span>, <span style=\"color: #00af00; text-decoration-color: #00af00\">728</span>)    │       <span style=\"color: #00af00; text-decoration-color: #00af00\">536,536</span> │ block11_sepconv3_ac… │    <span style=\"color: #ff0000; text-decoration-color: #ff0000; font-weight: bold\">N</span>    │\n",
              "│ (<span style=\"color: #0087ff; text-decoration-color: #0087ff\">SeparableConv2D</span>)        │                      │               │                      │         │\n",
              "├──────────────────────────┼──────────────────────┼───────────────┼──────────────────────┼─────────┤\n",
              "│ block11_sepconv3_bn      │ (<span style=\"color: #00d7ff; text-decoration-color: #00d7ff\">None</span>, <span style=\"color: #00af00; text-decoration-color: #00af00\">5</span>, <span style=\"color: #00af00; text-decoration-color: #00af00\">5</span>, <span style=\"color: #00af00; text-decoration-color: #00af00\">728</span>)    │         <span style=\"color: #00af00; text-decoration-color: #00af00\">2,912</span> │ block11_sepconv3[<span style=\"color: #00af00; text-decoration-color: #00af00\">0</span>]… │    <span style=\"color: #ff0000; text-decoration-color: #ff0000; font-weight: bold\">N</span>    │\n",
              "│ (<span style=\"color: #0087ff; text-decoration-color: #0087ff\">BatchNormalization</span>)     │                      │               │                      │         │\n",
              "├──────────────────────────┼──────────────────────┼───────────────┼──────────────────────┼─────────┤\n",
              "│ add_141 (<span style=\"color: #0087ff; text-decoration-color: #0087ff\">Add</span>)            │ (<span style=\"color: #00d7ff; text-decoration-color: #00d7ff\">None</span>, <span style=\"color: #00af00; text-decoration-color: #00af00\">5</span>, <span style=\"color: #00af00; text-decoration-color: #00af00\">5</span>, <span style=\"color: #00af00; text-decoration-color: #00af00\">728</span>)    │             <span style=\"color: #00af00; text-decoration-color: #00af00\">0</span> │ block11_sepconv3_bn… │    <span style=\"font-weight: bold\">-</span>    │\n",
              "│                          │                      │               │ add_140[<span style=\"color: #00af00; text-decoration-color: #00af00\">0</span>][<span style=\"color: #00af00; text-decoration-color: #00af00\">0</span>]        │         │\n",
              "├──────────────────────────┼──────────────────────┼───────────────┼──────────────────────┼─────────┤\n",
              "│ block12_sepconv1_act     │ (<span style=\"color: #00d7ff; text-decoration-color: #00d7ff\">None</span>, <span style=\"color: #00af00; text-decoration-color: #00af00\">5</span>, <span style=\"color: #00af00; text-decoration-color: #00af00\">5</span>, <span style=\"color: #00af00; text-decoration-color: #00af00\">728</span>)    │             <span style=\"color: #00af00; text-decoration-color: #00af00\">0</span> │ add_141[<span style=\"color: #00af00; text-decoration-color: #00af00\">0</span>][<span style=\"color: #00af00; text-decoration-color: #00af00\">0</span>]        │    <span style=\"font-weight: bold\">-</span>    │\n",
              "│ (<span style=\"color: #0087ff; text-decoration-color: #0087ff\">Activation</span>)             │                      │               │                      │         │\n",
              "├──────────────────────────┼──────────────────────┼───────────────┼──────────────────────┼─────────┤\n",
              "│ block12_sepconv1         │ (<span style=\"color: #00d7ff; text-decoration-color: #00d7ff\">None</span>, <span style=\"color: #00af00; text-decoration-color: #00af00\">5</span>, <span style=\"color: #00af00; text-decoration-color: #00af00\">5</span>, <span style=\"color: #00af00; text-decoration-color: #00af00\">728</span>)    │       <span style=\"color: #00af00; text-decoration-color: #00af00\">536,536</span> │ block12_sepconv1_ac… │    <span style=\"color: #ff0000; text-decoration-color: #ff0000; font-weight: bold\">N</span>    │\n",
              "│ (<span style=\"color: #0087ff; text-decoration-color: #0087ff\">SeparableConv2D</span>)        │                      │               │                      │         │\n",
              "├──────────────────────────┼──────────────────────┼───────────────┼──────────────────────┼─────────┤\n",
              "│ block12_sepconv1_bn      │ (<span style=\"color: #00d7ff; text-decoration-color: #00d7ff\">None</span>, <span style=\"color: #00af00; text-decoration-color: #00af00\">5</span>, <span style=\"color: #00af00; text-decoration-color: #00af00\">5</span>, <span style=\"color: #00af00; text-decoration-color: #00af00\">728</span>)    │         <span style=\"color: #00af00; text-decoration-color: #00af00\">2,912</span> │ block12_sepconv1[<span style=\"color: #00af00; text-decoration-color: #00af00\">0</span>]… │    <span style=\"color: #ff0000; text-decoration-color: #ff0000; font-weight: bold\">N</span>    │\n",
              "│ (<span style=\"color: #0087ff; text-decoration-color: #0087ff\">BatchNormalization</span>)     │                      │               │                      │         │\n",
              "├──────────────────────────┼──────────────────────┼───────────────┼──────────────────────┼─────────┤\n",
              "│ block12_sepconv2_act     │ (<span style=\"color: #00d7ff; text-decoration-color: #00d7ff\">None</span>, <span style=\"color: #00af00; text-decoration-color: #00af00\">5</span>, <span style=\"color: #00af00; text-decoration-color: #00af00\">5</span>, <span style=\"color: #00af00; text-decoration-color: #00af00\">728</span>)    │             <span style=\"color: #00af00; text-decoration-color: #00af00\">0</span> │ block12_sepconv1_bn… │    <span style=\"font-weight: bold\">-</span>    │\n",
              "│ (<span style=\"color: #0087ff; text-decoration-color: #0087ff\">Activation</span>)             │                      │               │                      │         │\n",
              "├──────────────────────────┼──────────────────────┼───────────────┼──────────────────────┼─────────┤\n",
              "│ block12_sepconv2         │ (<span style=\"color: #00d7ff; text-decoration-color: #00d7ff\">None</span>, <span style=\"color: #00af00; text-decoration-color: #00af00\">5</span>, <span style=\"color: #00af00; text-decoration-color: #00af00\">5</span>, <span style=\"color: #00af00; text-decoration-color: #00af00\">728</span>)    │       <span style=\"color: #00af00; text-decoration-color: #00af00\">536,536</span> │ block12_sepconv2_ac… │    <span style=\"color: #ff0000; text-decoration-color: #ff0000; font-weight: bold\">N</span>    │\n",
              "│ (<span style=\"color: #0087ff; text-decoration-color: #0087ff\">SeparableConv2D</span>)        │                      │               │                      │         │\n",
              "├──────────────────────────┼──────────────────────┼───────────────┼──────────────────────┼─────────┤\n",
              "│ block12_sepconv2_bn      │ (<span style=\"color: #00d7ff; text-decoration-color: #00d7ff\">None</span>, <span style=\"color: #00af00; text-decoration-color: #00af00\">5</span>, <span style=\"color: #00af00; text-decoration-color: #00af00\">5</span>, <span style=\"color: #00af00; text-decoration-color: #00af00\">728</span>)    │         <span style=\"color: #00af00; text-decoration-color: #00af00\">2,912</span> │ block12_sepconv2[<span style=\"color: #00af00; text-decoration-color: #00af00\">0</span>]… │    <span style=\"color: #ff0000; text-decoration-color: #ff0000; font-weight: bold\">N</span>    │\n",
              "│ (<span style=\"color: #0087ff; text-decoration-color: #0087ff\">BatchNormalization</span>)     │                      │               │                      │         │\n",
              "├──────────────────────────┼──────────────────────┼───────────────┼──────────────────────┼─────────┤\n",
              "│ block12_sepconv3_act     │ (<span style=\"color: #00d7ff; text-decoration-color: #00d7ff\">None</span>, <span style=\"color: #00af00; text-decoration-color: #00af00\">5</span>, <span style=\"color: #00af00; text-decoration-color: #00af00\">5</span>, <span style=\"color: #00af00; text-decoration-color: #00af00\">728</span>)    │             <span style=\"color: #00af00; text-decoration-color: #00af00\">0</span> │ block12_sepconv2_bn… │    <span style=\"font-weight: bold\">-</span>    │\n",
              "│ (<span style=\"color: #0087ff; text-decoration-color: #0087ff\">Activation</span>)             │                      │               │                      │         │\n",
              "├──────────────────────────┼──────────────────────┼───────────────┼──────────────────────┼─────────┤\n",
              "│ block12_sepconv3         │ (<span style=\"color: #00d7ff; text-decoration-color: #00d7ff\">None</span>, <span style=\"color: #00af00; text-decoration-color: #00af00\">5</span>, <span style=\"color: #00af00; text-decoration-color: #00af00\">5</span>, <span style=\"color: #00af00; text-decoration-color: #00af00\">728</span>)    │       <span style=\"color: #00af00; text-decoration-color: #00af00\">536,536</span> │ block12_sepconv3_ac… │    <span style=\"color: #ff0000; text-decoration-color: #ff0000; font-weight: bold\">N</span>    │\n",
              "│ (<span style=\"color: #0087ff; text-decoration-color: #0087ff\">SeparableConv2D</span>)        │                      │               │                      │         │\n",
              "├──────────────────────────┼──────────────────────┼───────────────┼──────────────────────┼─────────┤\n",
              "│ block12_sepconv3_bn      │ (<span style=\"color: #00d7ff; text-decoration-color: #00d7ff\">None</span>, <span style=\"color: #00af00; text-decoration-color: #00af00\">5</span>, <span style=\"color: #00af00; text-decoration-color: #00af00\">5</span>, <span style=\"color: #00af00; text-decoration-color: #00af00\">728</span>)    │         <span style=\"color: #00af00; text-decoration-color: #00af00\">2,912</span> │ block12_sepconv3[<span style=\"color: #00af00; text-decoration-color: #00af00\">0</span>]… │    <span style=\"color: #ff0000; text-decoration-color: #ff0000; font-weight: bold\">N</span>    │\n",
              "│ (<span style=\"color: #0087ff; text-decoration-color: #0087ff\">BatchNormalization</span>)     │                      │               │                      │         │\n",
              "├──────────────────────────┼──────────────────────┼───────────────┼──────────────────────┼─────────┤\n",
              "│ add_142 (<span style=\"color: #0087ff; text-decoration-color: #0087ff\">Add</span>)            │ (<span style=\"color: #00d7ff; text-decoration-color: #00d7ff\">None</span>, <span style=\"color: #00af00; text-decoration-color: #00af00\">5</span>, <span style=\"color: #00af00; text-decoration-color: #00af00\">5</span>, <span style=\"color: #00af00; text-decoration-color: #00af00\">728</span>)    │             <span style=\"color: #00af00; text-decoration-color: #00af00\">0</span> │ block12_sepconv3_bn… │    <span style=\"font-weight: bold\">-</span>    │\n",
              "│                          │                      │               │ add_141[<span style=\"color: #00af00; text-decoration-color: #00af00\">0</span>][<span style=\"color: #00af00; text-decoration-color: #00af00\">0</span>]        │         │\n",
              "├──────────────────────────┼──────────────────────┼───────────────┼──────────────────────┼─────────┤\n",
              "│ block13_sepconv1_act     │ (<span style=\"color: #00d7ff; text-decoration-color: #00d7ff\">None</span>, <span style=\"color: #00af00; text-decoration-color: #00af00\">5</span>, <span style=\"color: #00af00; text-decoration-color: #00af00\">5</span>, <span style=\"color: #00af00; text-decoration-color: #00af00\">728</span>)    │             <span style=\"color: #00af00; text-decoration-color: #00af00\">0</span> │ add_142[<span style=\"color: #00af00; text-decoration-color: #00af00\">0</span>][<span style=\"color: #00af00; text-decoration-color: #00af00\">0</span>]        │    <span style=\"font-weight: bold\">-</span>    │\n",
              "│ (<span style=\"color: #0087ff; text-decoration-color: #0087ff\">Activation</span>)             │                      │               │                      │         │\n",
              "├──────────────────────────┼──────────────────────┼───────────────┼──────────────────────┼─────────┤\n",
              "│ block13_sepconv1         │ (<span style=\"color: #00d7ff; text-decoration-color: #00d7ff\">None</span>, <span style=\"color: #00af00; text-decoration-color: #00af00\">5</span>, <span style=\"color: #00af00; text-decoration-color: #00af00\">5</span>, <span style=\"color: #00af00; text-decoration-color: #00af00\">728</span>)    │       <span style=\"color: #00af00; text-decoration-color: #00af00\">536,536</span> │ block13_sepconv1_ac… │    <span style=\"color: #ff0000; text-decoration-color: #ff0000; font-weight: bold\">N</span>    │\n",
              "│ (<span style=\"color: #0087ff; text-decoration-color: #0087ff\">SeparableConv2D</span>)        │                      │               │                      │         │\n",
              "├──────────────────────────┼──────────────────────┼───────────────┼──────────────────────┼─────────┤\n",
              "│ block13_sepconv1_bn      │ (<span style=\"color: #00d7ff; text-decoration-color: #00d7ff\">None</span>, <span style=\"color: #00af00; text-decoration-color: #00af00\">5</span>, <span style=\"color: #00af00; text-decoration-color: #00af00\">5</span>, <span style=\"color: #00af00; text-decoration-color: #00af00\">728</span>)    │         <span style=\"color: #00af00; text-decoration-color: #00af00\">2,912</span> │ block13_sepconv1[<span style=\"color: #00af00; text-decoration-color: #00af00\">0</span>]… │    <span style=\"color: #ff0000; text-decoration-color: #ff0000; font-weight: bold\">N</span>    │\n",
              "│ (<span style=\"color: #0087ff; text-decoration-color: #0087ff\">BatchNormalization</span>)     │                      │               │                      │         │\n",
              "├──────────────────────────┼──────────────────────┼───────────────┼──────────────────────┼─────────┤\n",
              "│ block13_sepconv2_act     │ (<span style=\"color: #00d7ff; text-decoration-color: #00d7ff\">None</span>, <span style=\"color: #00af00; text-decoration-color: #00af00\">5</span>, <span style=\"color: #00af00; text-decoration-color: #00af00\">5</span>, <span style=\"color: #00af00; text-decoration-color: #00af00\">728</span>)    │             <span style=\"color: #00af00; text-decoration-color: #00af00\">0</span> │ block13_sepconv1_bn… │    <span style=\"font-weight: bold\">-</span>    │\n",
              "│ (<span style=\"color: #0087ff; text-decoration-color: #0087ff\">Activation</span>)             │                      │               │                      │         │\n",
              "├──────────────────────────┼──────────────────────┼───────────────┼──────────────────────┼─────────┤\n",
              "│ block13_sepconv2         │ (<span style=\"color: #00d7ff; text-decoration-color: #00d7ff\">None</span>, <span style=\"color: #00af00; text-decoration-color: #00af00\">5</span>, <span style=\"color: #00af00; text-decoration-color: #00af00\">5</span>, <span style=\"color: #00af00; text-decoration-color: #00af00\">1024</span>)   │       <span style=\"color: #00af00; text-decoration-color: #00af00\">752,024</span> │ block13_sepconv2_ac… │    <span style=\"color: #ff0000; text-decoration-color: #ff0000; font-weight: bold\">N</span>    │\n",
              "│ (<span style=\"color: #0087ff; text-decoration-color: #0087ff\">SeparableConv2D</span>)        │                      │               │                      │         │\n",
              "├──────────────────────────┼──────────────────────┼───────────────┼──────────────────────┼─────────┤\n",
              "│ block13_sepconv2_bn      │ (<span style=\"color: #00d7ff; text-decoration-color: #00d7ff\">None</span>, <span style=\"color: #00af00; text-decoration-color: #00af00\">5</span>, <span style=\"color: #00af00; text-decoration-color: #00af00\">5</span>, <span style=\"color: #00af00; text-decoration-color: #00af00\">1024</span>)   │         <span style=\"color: #00af00; text-decoration-color: #00af00\">4,096</span> │ block13_sepconv2[<span style=\"color: #00af00; text-decoration-color: #00af00\">0</span>]… │    <span style=\"color: #ff0000; text-decoration-color: #ff0000; font-weight: bold\">N</span>    │\n",
              "│ (<span style=\"color: #0087ff; text-decoration-color: #0087ff\">BatchNormalization</span>)     │                      │               │                      │         │\n",
              "├──────────────────────────┼──────────────────────┼───────────────┼──────────────────────┼─────────┤\n",
              "│ conv2d_47 (<span style=\"color: #0087ff; text-decoration-color: #0087ff\">Conv2D</span>)       │ (<span style=\"color: #00d7ff; text-decoration-color: #00d7ff\">None</span>, <span style=\"color: #00af00; text-decoration-color: #00af00\">3</span>, <span style=\"color: #00af00; text-decoration-color: #00af00\">3</span>, <span style=\"color: #00af00; text-decoration-color: #00af00\">1024</span>)   │       <span style=\"color: #00af00; text-decoration-color: #00af00\">745,472</span> │ add_142[<span style=\"color: #00af00; text-decoration-color: #00af00\">0</span>][<span style=\"color: #00af00; text-decoration-color: #00af00\">0</span>]        │    <span style=\"color: #ff0000; text-decoration-color: #ff0000; font-weight: bold\">N</span>    │\n",
              "├──────────────────────────┼──────────────────────┼───────────────┼──────────────────────┼─────────┤\n",
              "│ block13_pool             │ (<span style=\"color: #00d7ff; text-decoration-color: #00d7ff\">None</span>, <span style=\"color: #00af00; text-decoration-color: #00af00\">3</span>, <span style=\"color: #00af00; text-decoration-color: #00af00\">3</span>, <span style=\"color: #00af00; text-decoration-color: #00af00\">1024</span>)   │             <span style=\"color: #00af00; text-decoration-color: #00af00\">0</span> │ block13_sepconv2_bn… │    <span style=\"font-weight: bold\">-</span>    │\n",
              "│ (<span style=\"color: #0087ff; text-decoration-color: #0087ff\">MaxPooling2D</span>)           │                      │               │                      │         │\n",
              "├──────────────────────────┼──────────────────────┼───────────────┼──────────────────────┼─────────┤\n",
              "│ batch_normalization_56   │ (<span style=\"color: #00d7ff; text-decoration-color: #00d7ff\">None</span>, <span style=\"color: #00af00; text-decoration-color: #00af00\">3</span>, <span style=\"color: #00af00; text-decoration-color: #00af00\">3</span>, <span style=\"color: #00af00; text-decoration-color: #00af00\">1024</span>)   │         <span style=\"color: #00af00; text-decoration-color: #00af00\">4,096</span> │ conv2d_47[<span style=\"color: #00af00; text-decoration-color: #00af00\">0</span>][<span style=\"color: #00af00; text-decoration-color: #00af00\">0</span>]      │    <span style=\"color: #ff0000; text-decoration-color: #ff0000; font-weight: bold\">N</span>    │\n",
              "│ (<span style=\"color: #0087ff; text-decoration-color: #0087ff\">BatchNormalization</span>)     │                      │               │                      │         │\n",
              "├──────────────────────────┼──────────────────────┼───────────────┼──────────────────────┼─────────┤\n",
              "│ add_143 (<span style=\"color: #0087ff; text-decoration-color: #0087ff\">Add</span>)            │ (<span style=\"color: #00d7ff; text-decoration-color: #00d7ff\">None</span>, <span style=\"color: #00af00; text-decoration-color: #00af00\">3</span>, <span style=\"color: #00af00; text-decoration-color: #00af00\">3</span>, <span style=\"color: #00af00; text-decoration-color: #00af00\">1024</span>)   │             <span style=\"color: #00af00; text-decoration-color: #00af00\">0</span> │ block13_pool[<span style=\"color: #00af00; text-decoration-color: #00af00\">0</span>][<span style=\"color: #00af00; text-decoration-color: #00af00\">0</span>],  │    <span style=\"font-weight: bold\">-</span>    │\n",
              "│                          │                      │               │ batch_normalization… │         │\n",
              "├──────────────────────────┼──────────────────────┼───────────────┼──────────────────────┼─────────┤\n",
              "│ block14_sepconv1         │ (<span style=\"color: #00d7ff; text-decoration-color: #00d7ff\">None</span>, <span style=\"color: #00af00; text-decoration-color: #00af00\">3</span>, <span style=\"color: #00af00; text-decoration-color: #00af00\">3</span>, <span style=\"color: #00af00; text-decoration-color: #00af00\">1536</span>)   │     <span style=\"color: #00af00; text-decoration-color: #00af00\">1,582,080</span> │ add_143[<span style=\"color: #00af00; text-decoration-color: #00af00\">0</span>][<span style=\"color: #00af00; text-decoration-color: #00af00\">0</span>]        │    <span style=\"color: #ff0000; text-decoration-color: #ff0000; font-weight: bold\">N</span>    │\n",
              "│ (<span style=\"color: #0087ff; text-decoration-color: #0087ff\">SeparableConv2D</span>)        │                      │               │                      │         │\n",
              "├──────────────────────────┼──────────────────────┼───────────────┼──────────────────────┼─────────┤\n",
              "│ block14_sepconv1_bn      │ (<span style=\"color: #00d7ff; text-decoration-color: #00d7ff\">None</span>, <span style=\"color: #00af00; text-decoration-color: #00af00\">3</span>, <span style=\"color: #00af00; text-decoration-color: #00af00\">3</span>, <span style=\"color: #00af00; text-decoration-color: #00af00\">1536</span>)   │         <span style=\"color: #00af00; text-decoration-color: #00af00\">6,144</span> │ block14_sepconv1[<span style=\"color: #00af00; text-decoration-color: #00af00\">0</span>]… │    <span style=\"color: #ff0000; text-decoration-color: #ff0000; font-weight: bold\">N</span>    │\n",
              "│ (<span style=\"color: #0087ff; text-decoration-color: #0087ff\">BatchNormalization</span>)     │                      │               │                      │         │\n",
              "├──────────────────────────┼──────────────────────┼───────────────┼──────────────────────┼─────────┤\n",
              "│ block14_sepconv1_act     │ (<span style=\"color: #00d7ff; text-decoration-color: #00d7ff\">None</span>, <span style=\"color: #00af00; text-decoration-color: #00af00\">3</span>, <span style=\"color: #00af00; text-decoration-color: #00af00\">3</span>, <span style=\"color: #00af00; text-decoration-color: #00af00\">1536</span>)   │             <span style=\"color: #00af00; text-decoration-color: #00af00\">0</span> │ block14_sepconv1_bn… │    <span style=\"font-weight: bold\">-</span>    │\n",
              "│ (<span style=\"color: #0087ff; text-decoration-color: #0087ff\">Activation</span>)             │                      │               │                      │         │\n",
              "├──────────────────────────┼──────────────────────┼───────────────┼──────────────────────┼─────────┤\n",
              "│ block14_sepconv2         │ (<span style=\"color: #00d7ff; text-decoration-color: #00d7ff\">None</span>, <span style=\"color: #00af00; text-decoration-color: #00af00\">3</span>, <span style=\"color: #00af00; text-decoration-color: #00af00\">3</span>, <span style=\"color: #00af00; text-decoration-color: #00af00\">2048</span>)   │     <span style=\"color: #00af00; text-decoration-color: #00af00\">3,159,552</span> │ block14_sepconv1_ac… │    <span style=\"color: #ff0000; text-decoration-color: #ff0000; font-weight: bold\">N</span>    │\n",
              "│ (<span style=\"color: #0087ff; text-decoration-color: #0087ff\">SeparableConv2D</span>)        │                      │               │                      │         │\n",
              "├──────────────────────────┼──────────────────────┼───────────────┼──────────────────────┼─────────┤\n",
              "│ block14_sepconv2_bn      │ (<span style=\"color: #00d7ff; text-decoration-color: #00d7ff\">None</span>, <span style=\"color: #00af00; text-decoration-color: #00af00\">3</span>, <span style=\"color: #00af00; text-decoration-color: #00af00\">3</span>, <span style=\"color: #00af00; text-decoration-color: #00af00\">2048</span>)   │         <span style=\"color: #00af00; text-decoration-color: #00af00\">8,192</span> │ block14_sepconv2[<span style=\"color: #00af00; text-decoration-color: #00af00\">0</span>]… │    <span style=\"color: #ff0000; text-decoration-color: #ff0000; font-weight: bold\">N</span>    │\n",
              "│ (<span style=\"color: #0087ff; text-decoration-color: #0087ff\">BatchNormalization</span>)     │                      │               │                      │         │\n",
              "├──────────────────────────┼──────────────────────┼───────────────┼──────────────────────┼─────────┤\n",
              "│ block14_sepconv2_act     │ (<span style=\"color: #00d7ff; text-decoration-color: #00d7ff\">None</span>, <span style=\"color: #00af00; text-decoration-color: #00af00\">3</span>, <span style=\"color: #00af00; text-decoration-color: #00af00\">3</span>, <span style=\"color: #00af00; text-decoration-color: #00af00\">2048</span>)   │             <span style=\"color: #00af00; text-decoration-color: #00af00\">0</span> │ block14_sepconv2_bn… │    <span style=\"font-weight: bold\">-</span>    │\n",
              "│ (<span style=\"color: #0087ff; text-decoration-color: #0087ff\">Activation</span>)             │                      │               │                      │         │\n",
              "└──────────────────────────┴──────────────────────┴───────────────┴──────────────────────┴─────────┘\n",
              "</pre>\n"
            ]
          },
          "metadata": {}
        },
        {
          "output_type": "display_data",
          "data": {
            "text/plain": [
              "\u001b[1m Total params: \u001b[0m\u001b[38;5;34m20,861,480\u001b[0m (79.58 MB)\n"
            ],
            "text/html": [
              "<pre style=\"white-space:pre;overflow-x:auto;line-height:normal;font-family:Menlo,'DejaVu Sans Mono',consolas,'Courier New',monospace\"><span style=\"font-weight: bold\"> Total params: </span><span style=\"color: #00af00; text-decoration-color: #00af00\">20,861,480</span> (79.58 MB)\n",
              "</pre>\n"
            ]
          },
          "metadata": {}
        },
        {
          "output_type": "display_data",
          "data": {
            "text/plain": [
              "\u001b[1m Trainable params: \u001b[0m\u001b[38;5;34m0\u001b[0m (0.00 B)\n"
            ],
            "text/html": [
              "<pre style=\"white-space:pre;overflow-x:auto;line-height:normal;font-family:Menlo,'DejaVu Sans Mono',consolas,'Courier New',monospace\"><span style=\"font-weight: bold\"> Trainable params: </span><span style=\"color: #00af00; text-decoration-color: #00af00\">0</span> (0.00 B)\n",
              "</pre>\n"
            ]
          },
          "metadata": {}
        },
        {
          "output_type": "display_data",
          "data": {
            "text/plain": [
              "\u001b[1m Non-trainable params: \u001b[0m\u001b[38;5;34m20,861,480\u001b[0m (79.58 MB)\n"
            ],
            "text/html": [
              "<pre style=\"white-space:pre;overflow-x:auto;line-height:normal;font-family:Menlo,'DejaVu Sans Mono',consolas,'Courier New',monospace\"><span style=\"font-weight: bold\"> Non-trainable params: </span><span style=\"color: #00af00; text-decoration-color: #00af00\">20,861,480</span> (79.58 MB)\n",
              "</pre>\n"
            ]
          },
          "metadata": {}
        }
      ]
    },
    {
      "cell_type": "code",
      "source": [
        "from tensorflow.keras.models import Model\n",
        "from tensorflow.keras.layers import Flatten, Dense, BatchNormalization, Dropout\n",
        "\n",
        "# Get the output of the chosen layer\n",
        "x = xception_base.get_layer(\"block3_pool\").output\n",
        "\n",
        "# Add custom layers\n",
        "x = BatchNormalization()(x)\n",
        "x = Flatten()(x)\n",
        "x = Dense(128, activation='relu')(x)\n",
        "x = Dropout(0.5)(x)  # Add dropout for regularization\n",
        "x = Dense(10, activation='softmax')(x)  # Output layer for 10 classes\n",
        "\n",
        "# Create the final model\n",
        "model = Model(inputs=xception_base.input, outputs=x)\n",
        "\n",
        "# Compile the model\n",
        "model.compile(\n",
        "    optimizer=tf.keras.optimizers.Adam(learning_rate=1e-4),  # Small learning rate\n",
        "    loss=tf.keras.losses.SparseCategoricalCrossentropy(),\n",
        "    metrics=['accuracy']\n",
        ")\n",
        "\n",
        "# Show trainable summary\n",
        "model.summary(show_trainable=True)\n"
      ],
      "metadata": {
        "id": "FK06dud0UM19",
        "colab": {
          "base_uri": "https://localhost:8080/",
          "height": 1000
        },
        "outputId": "4311fa71-4e18-4503-e001-1e2fffe33054"
      },
      "execution_count": null,
      "outputs": [
        {
          "output_type": "display_data",
          "data": {
            "text/plain": [
              "\u001b[1mModel: \"functional_9\"\u001b[0m\n"
            ],
            "text/html": [
              "<pre style=\"white-space:pre;overflow-x:auto;line-height:normal;font-family:Menlo,'DejaVu Sans Mono',consolas,'Courier New',monospace\"><span style=\"font-weight: bold\">Model: \"functional_9\"</span>\n",
              "</pre>\n"
            ]
          },
          "metadata": {}
        },
        {
          "output_type": "display_data",
          "data": {
            "text/plain": [
              "┏━━━━━━━━━━━━━━━━━━━━━━━━┳━━━━━━━━━━━━━━━━━━━━━━┳━━━━━━━━━━━━━━┳━━━━━━━━━━━━━━━━━━━━━┳━━━━━━━━━┓\n",
              "┃\u001b[1m \u001b[0m\u001b[1mLayer (type)          \u001b[0m\u001b[1m \u001b[0m┃\u001b[1m \u001b[0m\u001b[1mOutput Shape        \u001b[0m\u001b[1m \u001b[0m┃\u001b[1m \u001b[0m\u001b[1m     Param #\u001b[0m\u001b[1m \u001b[0m┃\u001b[1m \u001b[0m\u001b[1mConnected to       \u001b[0m\u001b[1m \u001b[0m┃\u001b[1m \u001b[0m\u001b[1mTraina…\u001b[0m\u001b[1m \u001b[0m┃\n",
              "┡━━━━━━━━━━━━━━━━━━━━━━━━╇━━━━━━━━━━━━━━━━━━━━━━╇━━━━━━━━━━━━━━╇━━━━━━━━━━━━━━━━━━━━━╇━━━━━━━━━┩\n",
              "│ input_layer_18         │ (\u001b[38;5;45mNone\u001b[0m, \u001b[38;5;34m71\u001b[0m, \u001b[38;5;34m71\u001b[0m, \u001b[38;5;34m3\u001b[0m)    │            \u001b[38;5;34m0\u001b[0m │ -                   │    \u001b[1m-\u001b[0m    │\n",
              "│ (\u001b[38;5;33mInputLayer\u001b[0m)           │                      │              │                     │         │\n",
              "├────────────────────────┼──────────────────────┼──────────────┼─────────────────────┼─────────┤\n",
              "│ block1_conv1 (\u001b[38;5;33mConv2D\u001b[0m)  │ (\u001b[38;5;45mNone\u001b[0m, \u001b[38;5;34m35\u001b[0m, \u001b[38;5;34m35\u001b[0m, \u001b[38;5;34m32\u001b[0m)   │          \u001b[38;5;34m864\u001b[0m │ input_layer_18[\u001b[38;5;34m0\u001b[0m][\u001b[38;5;34m…\u001b[0m │    \u001b[1;91mN\u001b[0m    │\n",
              "├────────────────────────┼──────────────────────┼──────────────┼─────────────────────┼─────────┤\n",
              "│ block1_conv1_bn        │ (\u001b[38;5;45mNone\u001b[0m, \u001b[38;5;34m35\u001b[0m, \u001b[38;5;34m35\u001b[0m, \u001b[38;5;34m32\u001b[0m)   │          \u001b[38;5;34m128\u001b[0m │ block1_conv1[\u001b[38;5;34m0\u001b[0m][\u001b[38;5;34m0\u001b[0m]  │    \u001b[1;91mN\u001b[0m    │\n",
              "│ (\u001b[38;5;33mBatchNormalization\u001b[0m)   │                      │              │                     │         │\n",
              "├────────────────────────┼──────────────────────┼──────────────┼─────────────────────┼─────────┤\n",
              "│ block1_conv1_act       │ (\u001b[38;5;45mNone\u001b[0m, \u001b[38;5;34m35\u001b[0m, \u001b[38;5;34m35\u001b[0m, \u001b[38;5;34m32\u001b[0m)   │            \u001b[38;5;34m0\u001b[0m │ block1_conv1_bn[\u001b[38;5;34m0\u001b[0m]… │    \u001b[1m-\u001b[0m    │\n",
              "│ (\u001b[38;5;33mActivation\u001b[0m)           │                      │              │                     │         │\n",
              "├────────────────────────┼──────────────────────┼──────────────┼─────────────────────┼─────────┤\n",
              "│ block1_conv2 (\u001b[38;5;33mConv2D\u001b[0m)  │ (\u001b[38;5;45mNone\u001b[0m, \u001b[38;5;34m33\u001b[0m, \u001b[38;5;34m33\u001b[0m, \u001b[38;5;34m64\u001b[0m)   │       \u001b[38;5;34m18,432\u001b[0m │ block1_conv1_act[\u001b[38;5;34m0\u001b[0m… │    \u001b[1;91mN\u001b[0m    │\n",
              "├────────────────────────┼──────────────────────┼──────────────┼─────────────────────┼─────────┤\n",
              "│ block1_conv2_bn        │ (\u001b[38;5;45mNone\u001b[0m, \u001b[38;5;34m33\u001b[0m, \u001b[38;5;34m33\u001b[0m, \u001b[38;5;34m64\u001b[0m)   │          \u001b[38;5;34m256\u001b[0m │ block1_conv2[\u001b[38;5;34m0\u001b[0m][\u001b[38;5;34m0\u001b[0m]  │    \u001b[1;91mN\u001b[0m    │\n",
              "│ (\u001b[38;5;33mBatchNormalization\u001b[0m)   │                      │              │                     │         │\n",
              "├────────────────────────┼──────────────────────┼──────────────┼─────────────────────┼─────────┤\n",
              "│ block1_conv2_act       │ (\u001b[38;5;45mNone\u001b[0m, \u001b[38;5;34m33\u001b[0m, \u001b[38;5;34m33\u001b[0m, \u001b[38;5;34m64\u001b[0m)   │            \u001b[38;5;34m0\u001b[0m │ block1_conv2_bn[\u001b[38;5;34m0\u001b[0m]… │    \u001b[1m-\u001b[0m    │\n",
              "│ (\u001b[38;5;33mActivation\u001b[0m)           │                      │              │                     │         │\n",
              "├────────────────────────┼──────────────────────┼──────────────┼─────────────────────┼─────────┤\n",
              "│ block2_sepconv1        │ (\u001b[38;5;45mNone\u001b[0m, \u001b[38;5;34m33\u001b[0m, \u001b[38;5;34m33\u001b[0m, \u001b[38;5;34m128\u001b[0m)  │        \u001b[38;5;34m8,768\u001b[0m │ block1_conv2_act[\u001b[38;5;34m0\u001b[0m… │    \u001b[1;91mN\u001b[0m    │\n",
              "│ (\u001b[38;5;33mSeparableConv2D\u001b[0m)      │                      │              │                     │         │\n",
              "├────────────────────────┼──────────────────────┼──────────────┼─────────────────────┼─────────┤\n",
              "│ block2_sepconv1_bn     │ (\u001b[38;5;45mNone\u001b[0m, \u001b[38;5;34m33\u001b[0m, \u001b[38;5;34m33\u001b[0m, \u001b[38;5;34m128\u001b[0m)  │          \u001b[38;5;34m512\u001b[0m │ block2_sepconv1[\u001b[38;5;34m0\u001b[0m]… │    \u001b[1;91mN\u001b[0m    │\n",
              "│ (\u001b[38;5;33mBatchNormalization\u001b[0m)   │                      │              │                     │         │\n",
              "├────────────────────────┼──────────────────────┼──────────────┼─────────────────────┼─────────┤\n",
              "│ block2_sepconv2_act    │ (\u001b[38;5;45mNone\u001b[0m, \u001b[38;5;34m33\u001b[0m, \u001b[38;5;34m33\u001b[0m, \u001b[38;5;34m128\u001b[0m)  │            \u001b[38;5;34m0\u001b[0m │ block2_sepconv1_bn… │    \u001b[1m-\u001b[0m    │\n",
              "│ (\u001b[38;5;33mActivation\u001b[0m)           │                      │              │                     │         │\n",
              "├────────────────────────┼──────────────────────┼──────────────┼─────────────────────┼─────────┤\n",
              "│ block2_sepconv2        │ (\u001b[38;5;45mNone\u001b[0m, \u001b[38;5;34m33\u001b[0m, \u001b[38;5;34m33\u001b[0m, \u001b[38;5;34m128\u001b[0m)  │       \u001b[38;5;34m17,536\u001b[0m │ block2_sepconv2_ac… │    \u001b[1;91mN\u001b[0m    │\n",
              "│ (\u001b[38;5;33mSeparableConv2D\u001b[0m)      │                      │              │                     │         │\n",
              "├────────────────────────┼──────────────────────┼──────────────┼─────────────────────┼─────────┤\n",
              "│ block2_sepconv2_bn     │ (\u001b[38;5;45mNone\u001b[0m, \u001b[38;5;34m33\u001b[0m, \u001b[38;5;34m33\u001b[0m, \u001b[38;5;34m128\u001b[0m)  │          \u001b[38;5;34m512\u001b[0m │ block2_sepconv2[\u001b[38;5;34m0\u001b[0m]… │    \u001b[1;91mN\u001b[0m    │\n",
              "│ (\u001b[38;5;33mBatchNormalization\u001b[0m)   │                      │              │                     │         │\n",
              "├────────────────────────┼──────────────────────┼──────────────┼─────────────────────┼─────────┤\n",
              "│ conv2d_44 (\u001b[38;5;33mConv2D\u001b[0m)     │ (\u001b[38;5;45mNone\u001b[0m, \u001b[38;5;34m17\u001b[0m, \u001b[38;5;34m17\u001b[0m, \u001b[38;5;34m128\u001b[0m)  │        \u001b[38;5;34m8,192\u001b[0m │ block1_conv2_act[\u001b[38;5;34m0\u001b[0m… │    \u001b[1;91mN\u001b[0m    │\n",
              "├────────────────────────┼──────────────────────┼──────────────┼─────────────────────┼─────────┤\n",
              "│ block2_pool            │ (\u001b[38;5;45mNone\u001b[0m, \u001b[38;5;34m17\u001b[0m, \u001b[38;5;34m17\u001b[0m, \u001b[38;5;34m128\u001b[0m)  │            \u001b[38;5;34m0\u001b[0m │ block2_sepconv2_bn… │    \u001b[1m-\u001b[0m    │\n",
              "│ (\u001b[38;5;33mMaxPooling2D\u001b[0m)         │                      │              │                     │         │\n",
              "├────────────────────────┼──────────────────────┼──────────────┼─────────────────────┼─────────┤\n",
              "│ batch_normalization_53 │ (\u001b[38;5;45mNone\u001b[0m, \u001b[38;5;34m17\u001b[0m, \u001b[38;5;34m17\u001b[0m, \u001b[38;5;34m128\u001b[0m)  │          \u001b[38;5;34m512\u001b[0m │ conv2d_44[\u001b[38;5;34m0\u001b[0m][\u001b[38;5;34m0\u001b[0m]     │    \u001b[1;91mN\u001b[0m    │\n",
              "│ (\u001b[38;5;33mBatchNormalization\u001b[0m)   │                      │              │                     │         │\n",
              "├────────────────────────┼──────────────────────┼──────────────┼─────────────────────┼─────────┤\n",
              "│ add_132 (\u001b[38;5;33mAdd\u001b[0m)          │ (\u001b[38;5;45mNone\u001b[0m, \u001b[38;5;34m17\u001b[0m, \u001b[38;5;34m17\u001b[0m, \u001b[38;5;34m128\u001b[0m)  │            \u001b[38;5;34m0\u001b[0m │ block2_pool[\u001b[38;5;34m0\u001b[0m][\u001b[38;5;34m0\u001b[0m],  │    \u001b[1m-\u001b[0m    │\n",
              "│                        │                      │              │ batch_normalizatio… │         │\n",
              "├────────────────────────┼──────────────────────┼──────────────┼─────────────────────┼─────────┤\n",
              "│ block3_sepconv1_act    │ (\u001b[38;5;45mNone\u001b[0m, \u001b[38;5;34m17\u001b[0m, \u001b[38;5;34m17\u001b[0m, \u001b[38;5;34m128\u001b[0m)  │            \u001b[38;5;34m0\u001b[0m │ add_132[\u001b[38;5;34m0\u001b[0m][\u001b[38;5;34m0\u001b[0m]       │    \u001b[1m-\u001b[0m    │\n",
              "│ (\u001b[38;5;33mActivation\u001b[0m)           │                      │              │                     │         │\n",
              "├────────────────────────┼──────────────────────┼──────────────┼─────────────────────┼─────────┤\n",
              "│ block3_sepconv1        │ (\u001b[38;5;45mNone\u001b[0m, \u001b[38;5;34m17\u001b[0m, \u001b[38;5;34m17\u001b[0m, \u001b[38;5;34m256\u001b[0m)  │       \u001b[38;5;34m33,920\u001b[0m │ block3_sepconv1_ac… │    \u001b[1;91mN\u001b[0m    │\n",
              "│ (\u001b[38;5;33mSeparableConv2D\u001b[0m)      │                      │              │                     │         │\n",
              "├────────────────────────┼──────────────────────┼──────────────┼─────────────────────┼─────────┤\n",
              "│ block3_sepconv1_bn     │ (\u001b[38;5;45mNone\u001b[0m, \u001b[38;5;34m17\u001b[0m, \u001b[38;5;34m17\u001b[0m, \u001b[38;5;34m256\u001b[0m)  │        \u001b[38;5;34m1,024\u001b[0m │ block3_sepconv1[\u001b[38;5;34m0\u001b[0m]… │    \u001b[1;91mN\u001b[0m    │\n",
              "│ (\u001b[38;5;33mBatchNormalization\u001b[0m)   │                      │              │                     │         │\n",
              "├────────────────────────┼──────────────────────┼──────────────┼─────────────────────┼─────────┤\n",
              "│ block3_sepconv2_act    │ (\u001b[38;5;45mNone\u001b[0m, \u001b[38;5;34m17\u001b[0m, \u001b[38;5;34m17\u001b[0m, \u001b[38;5;34m256\u001b[0m)  │            \u001b[38;5;34m0\u001b[0m │ block3_sepconv1_bn… │    \u001b[1m-\u001b[0m    │\n",
              "│ (\u001b[38;5;33mActivation\u001b[0m)           │                      │              │                     │         │\n",
              "├────────────────────────┼──────────────────────┼──────────────┼─────────────────────┼─────────┤\n",
              "│ block3_sepconv2        │ (\u001b[38;5;45mNone\u001b[0m, \u001b[38;5;34m17\u001b[0m, \u001b[38;5;34m17\u001b[0m, \u001b[38;5;34m256\u001b[0m)  │       \u001b[38;5;34m67,840\u001b[0m │ block3_sepconv2_ac… │    \u001b[1;91mN\u001b[0m    │\n",
              "│ (\u001b[38;5;33mSeparableConv2D\u001b[0m)      │                      │              │                     │         │\n",
              "├────────────────────────┼──────────────────────┼──────────────┼─────────────────────┼─────────┤\n",
              "│ block3_sepconv2_bn     │ (\u001b[38;5;45mNone\u001b[0m, \u001b[38;5;34m17\u001b[0m, \u001b[38;5;34m17\u001b[0m, \u001b[38;5;34m256\u001b[0m)  │        \u001b[38;5;34m1,024\u001b[0m │ block3_sepconv2[\u001b[38;5;34m0\u001b[0m]… │    \u001b[1;91mN\u001b[0m    │\n",
              "│ (\u001b[38;5;33mBatchNormalization\u001b[0m)   │                      │              │                     │         │\n",
              "├────────────────────────┼──────────────────────┼──────────────┼─────────────────────┼─────────┤\n",
              "│ block3_pool            │ (\u001b[38;5;45mNone\u001b[0m, \u001b[38;5;34m9\u001b[0m, \u001b[38;5;34m9\u001b[0m, \u001b[38;5;34m256\u001b[0m)    │            \u001b[38;5;34m0\u001b[0m │ block3_sepconv2_bn… │    \u001b[1m-\u001b[0m    │\n",
              "│ (\u001b[38;5;33mMaxPooling2D\u001b[0m)         │                      │              │                     │         │\n",
              "├────────────────────────┼──────────────────────┼──────────────┼─────────────────────┼─────────┤\n",
              "│ batch_normalization_57 │ (\u001b[38;5;45mNone\u001b[0m, \u001b[38;5;34m9\u001b[0m, \u001b[38;5;34m9\u001b[0m, \u001b[38;5;34m256\u001b[0m)    │        \u001b[38;5;34m1,024\u001b[0m │ block3_pool[\u001b[38;5;34m0\u001b[0m][\u001b[38;5;34m0\u001b[0m]   │    \u001b[1;38;5;34mY\u001b[0m    │\n",
              "│ (\u001b[38;5;33mBatchNormalization\u001b[0m)   │                      │              │                     │         │\n",
              "├────────────────────────┼──────────────────────┼──────────────┼─────────────────────┼─────────┤\n",
              "│ flatten_9 (\u001b[38;5;33mFlatten\u001b[0m)    │ (\u001b[38;5;45mNone\u001b[0m, \u001b[38;5;34m20736\u001b[0m)        │            \u001b[38;5;34m0\u001b[0m │ batch_normalizatio… │    \u001b[1m-\u001b[0m    │\n",
              "├────────────────────────┼──────────────────────┼──────────────┼─────────────────────┼─────────┤\n",
              "│ dense_15 (\u001b[38;5;33mDense\u001b[0m)       │ (\u001b[38;5;45mNone\u001b[0m, \u001b[38;5;34m128\u001b[0m)          │    \u001b[38;5;34m2,654,336\u001b[0m │ flatten_9[\u001b[38;5;34m0\u001b[0m][\u001b[38;5;34m0\u001b[0m]     │    \u001b[1;38;5;34mY\u001b[0m    │\n",
              "├────────────────────────┼──────────────────────┼──────────────┼─────────────────────┼─────────┤\n",
              "│ dropout_6 (\u001b[38;5;33mDropout\u001b[0m)    │ (\u001b[38;5;45mNone\u001b[0m, \u001b[38;5;34m128\u001b[0m)          │            \u001b[38;5;34m0\u001b[0m │ dense_15[\u001b[38;5;34m0\u001b[0m][\u001b[38;5;34m0\u001b[0m]      │    \u001b[1m-\u001b[0m    │\n",
              "├────────────────────────┼──────────────────────┼──────────────┼─────────────────────┼─────────┤\n",
              "│ dense_16 (\u001b[38;5;33mDense\u001b[0m)       │ (\u001b[38;5;45mNone\u001b[0m, \u001b[38;5;34m10\u001b[0m)           │        \u001b[38;5;34m1,290\u001b[0m │ dropout_6[\u001b[38;5;34m0\u001b[0m][\u001b[38;5;34m0\u001b[0m]     │    \u001b[1;38;5;34mY\u001b[0m    │\n",
              "└────────────────────────┴──────────────────────┴──────────────┴─────────────────────┴─────────┘\n"
            ],
            "text/html": [
              "<pre style=\"white-space:pre;overflow-x:auto;line-height:normal;font-family:Menlo,'DejaVu Sans Mono',consolas,'Courier New',monospace\">┏━━━━━━━━━━━━━━━━━━━━━━━━┳━━━━━━━━━━━━━━━━━━━━━━┳━━━━━━━━━━━━━━┳━━━━━━━━━━━━━━━━━━━━━┳━━━━━━━━━┓\n",
              "┃<span style=\"font-weight: bold\"> Layer (type)           </span>┃<span style=\"font-weight: bold\"> Output Shape         </span>┃<span style=\"font-weight: bold\">      Param # </span>┃<span style=\"font-weight: bold\"> Connected to        </span>┃<span style=\"font-weight: bold\"> Traina… </span>┃\n",
              "┡━━━━━━━━━━━━━━━━━━━━━━━━╇━━━━━━━━━━━━━━━━━━━━━━╇━━━━━━━━━━━━━━╇━━━━━━━━━━━━━━━━━━━━━╇━━━━━━━━━┩\n",
              "│ input_layer_18         │ (<span style=\"color: #00d7ff; text-decoration-color: #00d7ff\">None</span>, <span style=\"color: #00af00; text-decoration-color: #00af00\">71</span>, <span style=\"color: #00af00; text-decoration-color: #00af00\">71</span>, <span style=\"color: #00af00; text-decoration-color: #00af00\">3</span>)    │            <span style=\"color: #00af00; text-decoration-color: #00af00\">0</span> │ -                   │    <span style=\"font-weight: bold\">-</span>    │\n",
              "│ (<span style=\"color: #0087ff; text-decoration-color: #0087ff\">InputLayer</span>)           │                      │              │                     │         │\n",
              "├────────────────────────┼──────────────────────┼──────────────┼─────────────────────┼─────────┤\n",
              "│ block1_conv1 (<span style=\"color: #0087ff; text-decoration-color: #0087ff\">Conv2D</span>)  │ (<span style=\"color: #00d7ff; text-decoration-color: #00d7ff\">None</span>, <span style=\"color: #00af00; text-decoration-color: #00af00\">35</span>, <span style=\"color: #00af00; text-decoration-color: #00af00\">35</span>, <span style=\"color: #00af00; text-decoration-color: #00af00\">32</span>)   │          <span style=\"color: #00af00; text-decoration-color: #00af00\">864</span> │ input_layer_18[<span style=\"color: #00af00; text-decoration-color: #00af00\">0</span>][<span style=\"color: #00af00; text-decoration-color: #00af00\">…</span> │    <span style=\"color: #ff0000; text-decoration-color: #ff0000; font-weight: bold\">N</span>    │\n",
              "├────────────────────────┼──────────────────────┼──────────────┼─────────────────────┼─────────┤\n",
              "│ block1_conv1_bn        │ (<span style=\"color: #00d7ff; text-decoration-color: #00d7ff\">None</span>, <span style=\"color: #00af00; text-decoration-color: #00af00\">35</span>, <span style=\"color: #00af00; text-decoration-color: #00af00\">35</span>, <span style=\"color: #00af00; text-decoration-color: #00af00\">32</span>)   │          <span style=\"color: #00af00; text-decoration-color: #00af00\">128</span> │ block1_conv1[<span style=\"color: #00af00; text-decoration-color: #00af00\">0</span>][<span style=\"color: #00af00; text-decoration-color: #00af00\">0</span>]  │    <span style=\"color: #ff0000; text-decoration-color: #ff0000; font-weight: bold\">N</span>    │\n",
              "│ (<span style=\"color: #0087ff; text-decoration-color: #0087ff\">BatchNormalization</span>)   │                      │              │                     │         │\n",
              "├────────────────────────┼──────────────────────┼──────────────┼─────────────────────┼─────────┤\n",
              "│ block1_conv1_act       │ (<span style=\"color: #00d7ff; text-decoration-color: #00d7ff\">None</span>, <span style=\"color: #00af00; text-decoration-color: #00af00\">35</span>, <span style=\"color: #00af00; text-decoration-color: #00af00\">35</span>, <span style=\"color: #00af00; text-decoration-color: #00af00\">32</span>)   │            <span style=\"color: #00af00; text-decoration-color: #00af00\">0</span> │ block1_conv1_bn[<span style=\"color: #00af00; text-decoration-color: #00af00\">0</span>]… │    <span style=\"font-weight: bold\">-</span>    │\n",
              "│ (<span style=\"color: #0087ff; text-decoration-color: #0087ff\">Activation</span>)           │                      │              │                     │         │\n",
              "├────────────────────────┼──────────────────────┼──────────────┼─────────────────────┼─────────┤\n",
              "│ block1_conv2 (<span style=\"color: #0087ff; text-decoration-color: #0087ff\">Conv2D</span>)  │ (<span style=\"color: #00d7ff; text-decoration-color: #00d7ff\">None</span>, <span style=\"color: #00af00; text-decoration-color: #00af00\">33</span>, <span style=\"color: #00af00; text-decoration-color: #00af00\">33</span>, <span style=\"color: #00af00; text-decoration-color: #00af00\">64</span>)   │       <span style=\"color: #00af00; text-decoration-color: #00af00\">18,432</span> │ block1_conv1_act[<span style=\"color: #00af00; text-decoration-color: #00af00\">0</span>… │    <span style=\"color: #ff0000; text-decoration-color: #ff0000; font-weight: bold\">N</span>    │\n",
              "├────────────────────────┼──────────────────────┼──────────────┼─────────────────────┼─────────┤\n",
              "│ block1_conv2_bn        │ (<span style=\"color: #00d7ff; text-decoration-color: #00d7ff\">None</span>, <span style=\"color: #00af00; text-decoration-color: #00af00\">33</span>, <span style=\"color: #00af00; text-decoration-color: #00af00\">33</span>, <span style=\"color: #00af00; text-decoration-color: #00af00\">64</span>)   │          <span style=\"color: #00af00; text-decoration-color: #00af00\">256</span> │ block1_conv2[<span style=\"color: #00af00; text-decoration-color: #00af00\">0</span>][<span style=\"color: #00af00; text-decoration-color: #00af00\">0</span>]  │    <span style=\"color: #ff0000; text-decoration-color: #ff0000; font-weight: bold\">N</span>    │\n",
              "│ (<span style=\"color: #0087ff; text-decoration-color: #0087ff\">BatchNormalization</span>)   │                      │              │                     │         │\n",
              "├────────────────────────┼──────────────────────┼──────────────┼─────────────────────┼─────────┤\n",
              "│ block1_conv2_act       │ (<span style=\"color: #00d7ff; text-decoration-color: #00d7ff\">None</span>, <span style=\"color: #00af00; text-decoration-color: #00af00\">33</span>, <span style=\"color: #00af00; text-decoration-color: #00af00\">33</span>, <span style=\"color: #00af00; text-decoration-color: #00af00\">64</span>)   │            <span style=\"color: #00af00; text-decoration-color: #00af00\">0</span> │ block1_conv2_bn[<span style=\"color: #00af00; text-decoration-color: #00af00\">0</span>]… │    <span style=\"font-weight: bold\">-</span>    │\n",
              "│ (<span style=\"color: #0087ff; text-decoration-color: #0087ff\">Activation</span>)           │                      │              │                     │         │\n",
              "├────────────────────────┼──────────────────────┼──────────────┼─────────────────────┼─────────┤\n",
              "│ block2_sepconv1        │ (<span style=\"color: #00d7ff; text-decoration-color: #00d7ff\">None</span>, <span style=\"color: #00af00; text-decoration-color: #00af00\">33</span>, <span style=\"color: #00af00; text-decoration-color: #00af00\">33</span>, <span style=\"color: #00af00; text-decoration-color: #00af00\">128</span>)  │        <span style=\"color: #00af00; text-decoration-color: #00af00\">8,768</span> │ block1_conv2_act[<span style=\"color: #00af00; text-decoration-color: #00af00\">0</span>… │    <span style=\"color: #ff0000; text-decoration-color: #ff0000; font-weight: bold\">N</span>    │\n",
              "│ (<span style=\"color: #0087ff; text-decoration-color: #0087ff\">SeparableConv2D</span>)      │                      │              │                     │         │\n",
              "├────────────────────────┼──────────────────────┼──────────────┼─────────────────────┼─────────┤\n",
              "│ block2_sepconv1_bn     │ (<span style=\"color: #00d7ff; text-decoration-color: #00d7ff\">None</span>, <span style=\"color: #00af00; text-decoration-color: #00af00\">33</span>, <span style=\"color: #00af00; text-decoration-color: #00af00\">33</span>, <span style=\"color: #00af00; text-decoration-color: #00af00\">128</span>)  │          <span style=\"color: #00af00; text-decoration-color: #00af00\">512</span> │ block2_sepconv1[<span style=\"color: #00af00; text-decoration-color: #00af00\">0</span>]… │    <span style=\"color: #ff0000; text-decoration-color: #ff0000; font-weight: bold\">N</span>    │\n",
              "│ (<span style=\"color: #0087ff; text-decoration-color: #0087ff\">BatchNormalization</span>)   │                      │              │                     │         │\n",
              "├────────────────────────┼──────────────────────┼──────────────┼─────────────────────┼─────────┤\n",
              "│ block2_sepconv2_act    │ (<span style=\"color: #00d7ff; text-decoration-color: #00d7ff\">None</span>, <span style=\"color: #00af00; text-decoration-color: #00af00\">33</span>, <span style=\"color: #00af00; text-decoration-color: #00af00\">33</span>, <span style=\"color: #00af00; text-decoration-color: #00af00\">128</span>)  │            <span style=\"color: #00af00; text-decoration-color: #00af00\">0</span> │ block2_sepconv1_bn… │    <span style=\"font-weight: bold\">-</span>    │\n",
              "│ (<span style=\"color: #0087ff; text-decoration-color: #0087ff\">Activation</span>)           │                      │              │                     │         │\n",
              "├────────────────────────┼──────────────────────┼──────────────┼─────────────────────┼─────────┤\n",
              "│ block2_sepconv2        │ (<span style=\"color: #00d7ff; text-decoration-color: #00d7ff\">None</span>, <span style=\"color: #00af00; text-decoration-color: #00af00\">33</span>, <span style=\"color: #00af00; text-decoration-color: #00af00\">33</span>, <span style=\"color: #00af00; text-decoration-color: #00af00\">128</span>)  │       <span style=\"color: #00af00; text-decoration-color: #00af00\">17,536</span> │ block2_sepconv2_ac… │    <span style=\"color: #ff0000; text-decoration-color: #ff0000; font-weight: bold\">N</span>    │\n",
              "│ (<span style=\"color: #0087ff; text-decoration-color: #0087ff\">SeparableConv2D</span>)      │                      │              │                     │         │\n",
              "├────────────────────────┼──────────────────────┼──────────────┼─────────────────────┼─────────┤\n",
              "│ block2_sepconv2_bn     │ (<span style=\"color: #00d7ff; text-decoration-color: #00d7ff\">None</span>, <span style=\"color: #00af00; text-decoration-color: #00af00\">33</span>, <span style=\"color: #00af00; text-decoration-color: #00af00\">33</span>, <span style=\"color: #00af00; text-decoration-color: #00af00\">128</span>)  │          <span style=\"color: #00af00; text-decoration-color: #00af00\">512</span> │ block2_sepconv2[<span style=\"color: #00af00; text-decoration-color: #00af00\">0</span>]… │    <span style=\"color: #ff0000; text-decoration-color: #ff0000; font-weight: bold\">N</span>    │\n",
              "│ (<span style=\"color: #0087ff; text-decoration-color: #0087ff\">BatchNormalization</span>)   │                      │              │                     │         │\n",
              "├────────────────────────┼──────────────────────┼──────────────┼─────────────────────┼─────────┤\n",
              "│ conv2d_44 (<span style=\"color: #0087ff; text-decoration-color: #0087ff\">Conv2D</span>)     │ (<span style=\"color: #00d7ff; text-decoration-color: #00d7ff\">None</span>, <span style=\"color: #00af00; text-decoration-color: #00af00\">17</span>, <span style=\"color: #00af00; text-decoration-color: #00af00\">17</span>, <span style=\"color: #00af00; text-decoration-color: #00af00\">128</span>)  │        <span style=\"color: #00af00; text-decoration-color: #00af00\">8,192</span> │ block1_conv2_act[<span style=\"color: #00af00; text-decoration-color: #00af00\">0</span>… │    <span style=\"color: #ff0000; text-decoration-color: #ff0000; font-weight: bold\">N</span>    │\n",
              "├────────────────────────┼──────────────────────┼──────────────┼─────────────────────┼─────────┤\n",
              "│ block2_pool            │ (<span style=\"color: #00d7ff; text-decoration-color: #00d7ff\">None</span>, <span style=\"color: #00af00; text-decoration-color: #00af00\">17</span>, <span style=\"color: #00af00; text-decoration-color: #00af00\">17</span>, <span style=\"color: #00af00; text-decoration-color: #00af00\">128</span>)  │            <span style=\"color: #00af00; text-decoration-color: #00af00\">0</span> │ block2_sepconv2_bn… │    <span style=\"font-weight: bold\">-</span>    │\n",
              "│ (<span style=\"color: #0087ff; text-decoration-color: #0087ff\">MaxPooling2D</span>)         │                      │              │                     │         │\n",
              "├────────────────────────┼──────────────────────┼──────────────┼─────────────────────┼─────────┤\n",
              "│ batch_normalization_53 │ (<span style=\"color: #00d7ff; text-decoration-color: #00d7ff\">None</span>, <span style=\"color: #00af00; text-decoration-color: #00af00\">17</span>, <span style=\"color: #00af00; text-decoration-color: #00af00\">17</span>, <span style=\"color: #00af00; text-decoration-color: #00af00\">128</span>)  │          <span style=\"color: #00af00; text-decoration-color: #00af00\">512</span> │ conv2d_44[<span style=\"color: #00af00; text-decoration-color: #00af00\">0</span>][<span style=\"color: #00af00; text-decoration-color: #00af00\">0</span>]     │    <span style=\"color: #ff0000; text-decoration-color: #ff0000; font-weight: bold\">N</span>    │\n",
              "│ (<span style=\"color: #0087ff; text-decoration-color: #0087ff\">BatchNormalization</span>)   │                      │              │                     │         │\n",
              "├────────────────────────┼──────────────────────┼──────────────┼─────────────────────┼─────────┤\n",
              "│ add_132 (<span style=\"color: #0087ff; text-decoration-color: #0087ff\">Add</span>)          │ (<span style=\"color: #00d7ff; text-decoration-color: #00d7ff\">None</span>, <span style=\"color: #00af00; text-decoration-color: #00af00\">17</span>, <span style=\"color: #00af00; text-decoration-color: #00af00\">17</span>, <span style=\"color: #00af00; text-decoration-color: #00af00\">128</span>)  │            <span style=\"color: #00af00; text-decoration-color: #00af00\">0</span> │ block2_pool[<span style=\"color: #00af00; text-decoration-color: #00af00\">0</span>][<span style=\"color: #00af00; text-decoration-color: #00af00\">0</span>],  │    <span style=\"font-weight: bold\">-</span>    │\n",
              "│                        │                      │              │ batch_normalizatio… │         │\n",
              "├────────────────────────┼──────────────────────┼──────────────┼─────────────────────┼─────────┤\n",
              "│ block3_sepconv1_act    │ (<span style=\"color: #00d7ff; text-decoration-color: #00d7ff\">None</span>, <span style=\"color: #00af00; text-decoration-color: #00af00\">17</span>, <span style=\"color: #00af00; text-decoration-color: #00af00\">17</span>, <span style=\"color: #00af00; text-decoration-color: #00af00\">128</span>)  │            <span style=\"color: #00af00; text-decoration-color: #00af00\">0</span> │ add_132[<span style=\"color: #00af00; text-decoration-color: #00af00\">0</span>][<span style=\"color: #00af00; text-decoration-color: #00af00\">0</span>]       │    <span style=\"font-weight: bold\">-</span>    │\n",
              "│ (<span style=\"color: #0087ff; text-decoration-color: #0087ff\">Activation</span>)           │                      │              │                     │         │\n",
              "├────────────────────────┼──────────────────────┼──────────────┼─────────────────────┼─────────┤\n",
              "│ block3_sepconv1        │ (<span style=\"color: #00d7ff; text-decoration-color: #00d7ff\">None</span>, <span style=\"color: #00af00; text-decoration-color: #00af00\">17</span>, <span style=\"color: #00af00; text-decoration-color: #00af00\">17</span>, <span style=\"color: #00af00; text-decoration-color: #00af00\">256</span>)  │       <span style=\"color: #00af00; text-decoration-color: #00af00\">33,920</span> │ block3_sepconv1_ac… │    <span style=\"color: #ff0000; text-decoration-color: #ff0000; font-weight: bold\">N</span>    │\n",
              "│ (<span style=\"color: #0087ff; text-decoration-color: #0087ff\">SeparableConv2D</span>)      │                      │              │                     │         │\n",
              "├────────────────────────┼──────────────────────┼──────────────┼─────────────────────┼─────────┤\n",
              "│ block3_sepconv1_bn     │ (<span style=\"color: #00d7ff; text-decoration-color: #00d7ff\">None</span>, <span style=\"color: #00af00; text-decoration-color: #00af00\">17</span>, <span style=\"color: #00af00; text-decoration-color: #00af00\">17</span>, <span style=\"color: #00af00; text-decoration-color: #00af00\">256</span>)  │        <span style=\"color: #00af00; text-decoration-color: #00af00\">1,024</span> │ block3_sepconv1[<span style=\"color: #00af00; text-decoration-color: #00af00\">0</span>]… │    <span style=\"color: #ff0000; text-decoration-color: #ff0000; font-weight: bold\">N</span>    │\n",
              "│ (<span style=\"color: #0087ff; text-decoration-color: #0087ff\">BatchNormalization</span>)   │                      │              │                     │         │\n",
              "├────────────────────────┼──────────────────────┼──────────────┼─────────────────────┼─────────┤\n",
              "│ block3_sepconv2_act    │ (<span style=\"color: #00d7ff; text-decoration-color: #00d7ff\">None</span>, <span style=\"color: #00af00; text-decoration-color: #00af00\">17</span>, <span style=\"color: #00af00; text-decoration-color: #00af00\">17</span>, <span style=\"color: #00af00; text-decoration-color: #00af00\">256</span>)  │            <span style=\"color: #00af00; text-decoration-color: #00af00\">0</span> │ block3_sepconv1_bn… │    <span style=\"font-weight: bold\">-</span>    │\n",
              "│ (<span style=\"color: #0087ff; text-decoration-color: #0087ff\">Activation</span>)           │                      │              │                     │         │\n",
              "├────────────────────────┼──────────────────────┼──────────────┼─────────────────────┼─────────┤\n",
              "│ block3_sepconv2        │ (<span style=\"color: #00d7ff; text-decoration-color: #00d7ff\">None</span>, <span style=\"color: #00af00; text-decoration-color: #00af00\">17</span>, <span style=\"color: #00af00; text-decoration-color: #00af00\">17</span>, <span style=\"color: #00af00; text-decoration-color: #00af00\">256</span>)  │       <span style=\"color: #00af00; text-decoration-color: #00af00\">67,840</span> │ block3_sepconv2_ac… │    <span style=\"color: #ff0000; text-decoration-color: #ff0000; font-weight: bold\">N</span>    │\n",
              "│ (<span style=\"color: #0087ff; text-decoration-color: #0087ff\">SeparableConv2D</span>)      │                      │              │                     │         │\n",
              "├────────────────────────┼──────────────────────┼──────────────┼─────────────────────┼─────────┤\n",
              "│ block3_sepconv2_bn     │ (<span style=\"color: #00d7ff; text-decoration-color: #00d7ff\">None</span>, <span style=\"color: #00af00; text-decoration-color: #00af00\">17</span>, <span style=\"color: #00af00; text-decoration-color: #00af00\">17</span>, <span style=\"color: #00af00; text-decoration-color: #00af00\">256</span>)  │        <span style=\"color: #00af00; text-decoration-color: #00af00\">1,024</span> │ block3_sepconv2[<span style=\"color: #00af00; text-decoration-color: #00af00\">0</span>]… │    <span style=\"color: #ff0000; text-decoration-color: #ff0000; font-weight: bold\">N</span>    │\n",
              "│ (<span style=\"color: #0087ff; text-decoration-color: #0087ff\">BatchNormalization</span>)   │                      │              │                     │         │\n",
              "├────────────────────────┼──────────────────────┼──────────────┼─────────────────────┼─────────┤\n",
              "│ block3_pool            │ (<span style=\"color: #00d7ff; text-decoration-color: #00d7ff\">None</span>, <span style=\"color: #00af00; text-decoration-color: #00af00\">9</span>, <span style=\"color: #00af00; text-decoration-color: #00af00\">9</span>, <span style=\"color: #00af00; text-decoration-color: #00af00\">256</span>)    │            <span style=\"color: #00af00; text-decoration-color: #00af00\">0</span> │ block3_sepconv2_bn… │    <span style=\"font-weight: bold\">-</span>    │\n",
              "│ (<span style=\"color: #0087ff; text-decoration-color: #0087ff\">MaxPooling2D</span>)         │                      │              │                     │         │\n",
              "├────────────────────────┼──────────────────────┼──────────────┼─────────────────────┼─────────┤\n",
              "│ batch_normalization_57 │ (<span style=\"color: #00d7ff; text-decoration-color: #00d7ff\">None</span>, <span style=\"color: #00af00; text-decoration-color: #00af00\">9</span>, <span style=\"color: #00af00; text-decoration-color: #00af00\">9</span>, <span style=\"color: #00af00; text-decoration-color: #00af00\">256</span>)    │        <span style=\"color: #00af00; text-decoration-color: #00af00\">1,024</span> │ block3_pool[<span style=\"color: #00af00; text-decoration-color: #00af00\">0</span>][<span style=\"color: #00af00; text-decoration-color: #00af00\">0</span>]   │    <span style=\"color: #00af00; text-decoration-color: #00af00; font-weight: bold\">Y</span>    │\n",
              "│ (<span style=\"color: #0087ff; text-decoration-color: #0087ff\">BatchNormalization</span>)   │                      │              │                     │         │\n",
              "├────────────────────────┼──────────────────────┼──────────────┼─────────────────────┼─────────┤\n",
              "│ flatten_9 (<span style=\"color: #0087ff; text-decoration-color: #0087ff\">Flatten</span>)    │ (<span style=\"color: #00d7ff; text-decoration-color: #00d7ff\">None</span>, <span style=\"color: #00af00; text-decoration-color: #00af00\">20736</span>)        │            <span style=\"color: #00af00; text-decoration-color: #00af00\">0</span> │ batch_normalizatio… │    <span style=\"font-weight: bold\">-</span>    │\n",
              "├────────────────────────┼──────────────────────┼──────────────┼─────────────────────┼─────────┤\n",
              "│ dense_15 (<span style=\"color: #0087ff; text-decoration-color: #0087ff\">Dense</span>)       │ (<span style=\"color: #00d7ff; text-decoration-color: #00d7ff\">None</span>, <span style=\"color: #00af00; text-decoration-color: #00af00\">128</span>)          │    <span style=\"color: #00af00; text-decoration-color: #00af00\">2,654,336</span> │ flatten_9[<span style=\"color: #00af00; text-decoration-color: #00af00\">0</span>][<span style=\"color: #00af00; text-decoration-color: #00af00\">0</span>]     │    <span style=\"color: #00af00; text-decoration-color: #00af00; font-weight: bold\">Y</span>    │\n",
              "├────────────────────────┼──────────────────────┼──────────────┼─────────────────────┼─────────┤\n",
              "│ dropout_6 (<span style=\"color: #0087ff; text-decoration-color: #0087ff\">Dropout</span>)    │ (<span style=\"color: #00d7ff; text-decoration-color: #00d7ff\">None</span>, <span style=\"color: #00af00; text-decoration-color: #00af00\">128</span>)          │            <span style=\"color: #00af00; text-decoration-color: #00af00\">0</span> │ dense_15[<span style=\"color: #00af00; text-decoration-color: #00af00\">0</span>][<span style=\"color: #00af00; text-decoration-color: #00af00\">0</span>]      │    <span style=\"font-weight: bold\">-</span>    │\n",
              "├────────────────────────┼──────────────────────┼──────────────┼─────────────────────┼─────────┤\n",
              "│ dense_16 (<span style=\"color: #0087ff; text-decoration-color: #0087ff\">Dense</span>)       │ (<span style=\"color: #00d7ff; text-decoration-color: #00d7ff\">None</span>, <span style=\"color: #00af00; text-decoration-color: #00af00\">10</span>)           │        <span style=\"color: #00af00; text-decoration-color: #00af00\">1,290</span> │ dropout_6[<span style=\"color: #00af00; text-decoration-color: #00af00\">0</span>][<span style=\"color: #00af00; text-decoration-color: #00af00\">0</span>]     │    <span style=\"color: #00af00; text-decoration-color: #00af00; font-weight: bold\">Y</span>    │\n",
              "└────────────────────────┴──────────────────────┴──────────────┴─────────────────────┴─────────┘\n",
              "</pre>\n"
            ]
          },
          "metadata": {}
        },
        {
          "output_type": "display_data",
          "data": {
            "text/plain": [
              "\u001b[1m Total params: \u001b[0m\u001b[38;5;34m2,816,170\u001b[0m (10.74 MB)\n"
            ],
            "text/html": [
              "<pre style=\"white-space:pre;overflow-x:auto;line-height:normal;font-family:Menlo,'DejaVu Sans Mono',consolas,'Courier New',monospace\"><span style=\"font-weight: bold\"> Total params: </span><span style=\"color: #00af00; text-decoration-color: #00af00\">2,816,170</span> (10.74 MB)\n",
              "</pre>\n"
            ]
          },
          "metadata": {}
        },
        {
          "output_type": "display_data",
          "data": {
            "text/plain": [
              "\u001b[1m Trainable params: \u001b[0m\u001b[38;5;34m2,656,138\u001b[0m (10.13 MB)\n"
            ],
            "text/html": [
              "<pre style=\"white-space:pre;overflow-x:auto;line-height:normal;font-family:Menlo,'DejaVu Sans Mono',consolas,'Courier New',monospace\"><span style=\"font-weight: bold\"> Trainable params: </span><span style=\"color: #00af00; text-decoration-color: #00af00\">2,656,138</span> (10.13 MB)\n",
              "</pre>\n"
            ]
          },
          "metadata": {}
        },
        {
          "output_type": "display_data",
          "data": {
            "text/plain": [
              "\u001b[1m Non-trainable params: \u001b[0m\u001b[38;5;34m160,032\u001b[0m (625.12 KB)\n"
            ],
            "text/html": [
              "<pre style=\"white-space:pre;overflow-x:auto;line-height:normal;font-family:Menlo,'DejaVu Sans Mono',consolas,'Courier New',monospace\"><span style=\"font-weight: bold\"> Non-trainable params: </span><span style=\"color: #00af00; text-decoration-color: #00af00\">160,032</span> (625.12 KB)\n",
              "</pre>\n"
            ]
          },
          "metadata": {}
        }
      ]
    },
    {
      "cell_type": "code",
      "source": [
        "callbacks = [tf.keras.callbacks.EarlyStopping(monitor='val_loss', patience=3, restore_best_weights=True)]\n",
        "\n",
        "# Train the model\n",
        "history = model.fit(\n",
        "    train_ds,  # Ensure images are resized to (71, 71)\n",
        "    epochs=30,\n",
        "    validation_data=val_ds,\n",
        "    callbacks=callbacks\n",
        ")\n",
        "\n",
        "# Evaluate on the test set\n",
        "test_loss, test_acc = model.evaluate(test_ds)\n",
        "print(f\"Test accuracy using Xception: {test_acc:.3f}\")\n"
      ],
      "metadata": {
        "id": "hG9fq7eDUatO",
        "colab": {
          "base_uri": "https://localhost:8080/"
        },
        "outputId": "57112429-983f-40f2-ba21-d09afd3d8b17"
      },
      "execution_count": null,
      "outputs": [
        {
          "output_type": "stream",
          "name": "stdout",
          "text": [
            "Epoch 1/30\n",
            "\u001b[1m375/375\u001b[0m \u001b[32m━━━━━━━━━━━━━━━━━━━━\u001b[0m\u001b[37m\u001b[0m \u001b[1m14s\u001b[0m 30ms/step - accuracy: 0.7951 - loss: 0.6149 - val_accuracy: 0.9148 - val_loss: 0.2362\n",
            "Epoch 2/30\n",
            "\u001b[1m375/375\u001b[0m \u001b[32m━━━━━━━━━━━━━━━━━━━━\u001b[0m\u001b[37m\u001b[0m \u001b[1m16s\u001b[0m 21ms/step - accuracy: 0.8960 - loss: 0.3000 - val_accuracy: 0.9261 - val_loss: 0.2105\n",
            "Epoch 3/30\n",
            "\u001b[1m375/375\u001b[0m \u001b[32m━━━━━━━━━━━━━━━━━━━━\u001b[0m\u001b[37m\u001b[0m \u001b[1m7s\u001b[0m 20ms/step - accuracy: 0.9101 - loss: 0.2602 - val_accuracy: 0.9268 - val_loss: 0.2053\n",
            "Epoch 4/30\n",
            "\u001b[1m375/375\u001b[0m \u001b[32m━━━━━━━━━━━━━━━━━━━━\u001b[0m\u001b[37m\u001b[0m \u001b[1m8s\u001b[0m 21ms/step - accuracy: 0.9197 - loss: 0.2280 - val_accuracy: 0.9250 - val_loss: 0.2097\n",
            "Epoch 5/30\n",
            "\u001b[1m375/375\u001b[0m \u001b[32m━━━━━━━━━━━━━━━━━━━━\u001b[0m\u001b[37m\u001b[0m \u001b[1m12s\u001b[0m 24ms/step - accuracy: 0.9225 - loss: 0.2145 - val_accuracy: 0.9334 - val_loss: 0.1909\n",
            "Epoch 6/30\n",
            "\u001b[1m375/375\u001b[0m \u001b[32m━━━━━━━━━━━━━━━━━━━━\u001b[0m\u001b[37m\u001b[0m \u001b[1m9s\u001b[0m 22ms/step - accuracy: 0.9280 - loss: 0.2013 - val_accuracy: 0.9361 - val_loss: 0.1811\n",
            "Epoch 7/30\n",
            "\u001b[1m375/375\u001b[0m \u001b[32m━━━━━━━━━━━━━━━━━━━━\u001b[0m\u001b[37m\u001b[0m \u001b[1m9s\u001b[0m 19ms/step - accuracy: 0.9326 - loss: 0.1848 - val_accuracy: 0.9352 - val_loss: 0.1850\n",
            "Epoch 8/30\n",
            "\u001b[1m375/375\u001b[0m \u001b[32m━━━━━━━━━━━━━━━━━━━━\u001b[0m\u001b[37m\u001b[0m \u001b[1m9s\u001b[0m 24ms/step - accuracy: 0.9354 - loss: 0.1717 - val_accuracy: 0.9377 - val_loss: 0.1806\n",
            "Epoch 9/30\n",
            "\u001b[1m375/375\u001b[0m \u001b[32m━━━━━━━━━━━━━━━━━━━━\u001b[0m\u001b[37m\u001b[0m \u001b[1m8s\u001b[0m 22ms/step - accuracy: 0.9377 - loss: 0.1668 - val_accuracy: 0.9369 - val_loss: 0.1798\n",
            "Epoch 10/30\n",
            "\u001b[1m375/375\u001b[0m \u001b[32m━━━━━━━━━━━━━━━━━━━━\u001b[0m\u001b[37m\u001b[0m \u001b[1m7s\u001b[0m 19ms/step - accuracy: 0.9441 - loss: 0.1523 - val_accuracy: 0.9362 - val_loss: 0.1918\n",
            "Epoch 11/30\n",
            "\u001b[1m375/375\u001b[0m \u001b[32m━━━━━━━━━━━━━━━━━━━━\u001b[0m\u001b[37m\u001b[0m \u001b[1m11s\u001b[0m 21ms/step - accuracy: 0.9459 - loss: 0.1462 - val_accuracy: 0.9381 - val_loss: 0.1841\n",
            "Epoch 12/30\n",
            "\u001b[1m375/375\u001b[0m \u001b[32m━━━━━━━━━━━━━━━━━━━━\u001b[0m\u001b[37m\u001b[0m \u001b[1m11s\u001b[0m 24ms/step - accuracy: 0.9471 - loss: 0.1411 - val_accuracy: 0.9373 - val_loss: 0.1913\n",
            "\u001b[1m79/79\u001b[0m \u001b[32m━━━━━━━━━━━━━━━━━━━━\u001b[0m\u001b[37m\u001b[0m \u001b[1m2s\u001b[0m 21ms/step - accuracy: 0.9344 - loss: 0.1960\n",
            "Test accuracy using Xception: 0.935\n"
          ]
        }
      ]
    },
    {
      "cell_type": "markdown",
      "source": [
        "# För Alla Delar\n",
        "Sammanställ dina resultat och gör en analys om hur de olika modellerna beter sig, speciellt mellan de modeller du har prövat i denna laboration, men även mot dina resultat i Laboration 1."
      ],
      "metadata": {
        "id": "vPrdahVPJyy8"
      }
    },
    {
      "cell_type": "markdown",
      "source": [
        "Using stopping layer *block3_pool* :\n",
        "\n",
        "| **Model**   | **Test Accuracy** | **Observations**                             |\n",
        "|-------------|-------------------|---------------------------------------------|\n",
        "| **VGG16**   | 92.4%             | Slightly lower accuracy; simpler architecture. |\n",
        "| **Xception**| 93.5%             | Higher accuracy; modern and efficient design. |\n",
        "\n",
        "---\n",
        "\n",
        "The results demonstrate that Xception's architecture is well-suited for transfer learning on Fashion-MNIST, achieving excellent accuracy with modest computational trade-offs. For tasks requiring high performance on small datasets, Xception proves to be a superior choice compared to older models like VGG16."
      ],
      "metadata": {
        "id": "vo2FpG5tcNzo"
      }
    }
  ]
}